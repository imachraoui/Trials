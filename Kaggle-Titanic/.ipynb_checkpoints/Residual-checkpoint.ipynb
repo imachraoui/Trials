{
 "cells": [
  {
   "cell_type": "code",
   "execution_count": null,
   "metadata": {
    "collapsed": true
   },
   "outputs": [],
   "source": [
    "from category_encoders.one_hot import OneHotEncoder\n",
    "enc = OneHotEncoder()\n",
    "enc.fit(pandas.DataFrame(data['Country']))\n",
    "enc.transform(pandas.DataFrame(data['Country']))"
   ]
  }
 ],
 "metadata": {
  "kernelspec": {
   "display_name": "Python 3",
   "language": "python",
   "name": "python3"
  },
  "language_info": {
   "codemirror_mode": {
    "name": "ipython",
    "version": 3
   },
   "file_extension": ".py",
   "mimetype": "text/x-python",
   "name": "python",
   "nbconvert_exporter": "python",
   "pygments_lexer": "ipython3",
   "version": "3.4.3"
  }
 },
 "nbformat": 4,
 "nbformat_minor": 0
}
