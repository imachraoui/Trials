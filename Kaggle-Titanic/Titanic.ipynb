{
 "cells": [
  {
   "cell_type": "markdown",
   "metadata": {},
   "source": [
    "# Titanic: Machine Learning from Disaster"
   ]
  },
  {
   "cell_type": "code",
   "execution_count": 34,
   "metadata": {
    "collapsed": false
   },
   "outputs": [],
   "source": [
    "import pandas \n",
    "import numpy as np\n",
    "import matplotlib.pyplot as plt\n",
    "from sklearn import neighbors\n",
    "from sklearn.linear_model import LogisticRegression\n",
    "from sklearn.ensemble import RandomForestClassifier\n",
    "from sklearn.cross_validation import cross_val_predict\n",
    "from sklearn.metrics import zero_one_loss\n",
    "from sklearn.metrics import f1_score\n",
    "from sklearn.metrics import confusion_matrix as cm\n",
    "from sklearn.cross_validation import train_test_split\n",
    "from sklearn.metrics import roc_curve, auc\n",
    "\n",
    "%matplotlib inline"
   ]
  },
  {
   "cell_type": "markdown",
   "metadata": {},
   "source": [
    "## Chargement des données à disposition (Training et Test)"
   ]
  },
  {
   "cell_type": "code",
   "execution_count": 35,
   "metadata": {
    "collapsed": true
   },
   "outputs": [],
   "source": [
    "PATH= 'xxx'\n",
    "\n",
    "# Chargement des données de training\n",
    "x_train= pandas.read_csv(PATH+'train.csv', header=0)  \n",
    "x_train[\"Sex\"] = x_train[\"Sex\"].astype(\"category\")\n",
    "x_train[\"Embarked\"] = x_train[\"Embarked\"].astype(\"category\")\n",
    "\n",
    "# Nous sommes en mode supervisé, donc on isole le vecteur \"target\"\n",
    "y_train = x_train[\"Survived\"]\n",
    "\n",
    "# Chargement des données de test\n",
    "x_test = pandas.read_csv(PATH+'test.csv', header=0)\n",
    "x_test[\"Sex\"] = x_test[\"Sex\"].astype(\"category\")\n",
    "x_test[\"Embarked\"] = x_test[\"Embarked\"].astype(\"category\")"
   ]
  },
  {
   "cell_type": "markdown",
   "metadata": {},
   "source": [
    "Tracer la distribution de la variable \"Survived\""
   ]
  },
  {
   "cell_type": "code",
   "execution_count": 36,
   "metadata": {
    "collapsed": false
   },
   "outputs": [
    {
     "data": {
      "text/plain": [
       "<matplotlib.text.Text at 0x95cf8>"
      ]
     },
     "execution_count": 36,
     "metadata": {},
     "output_type": "execute_result"
    },
    {
     "data": {
      "image/png": "[encoded data removed]",
      "text/plain": [
       "<matplotlib.figure.Figure at 0x6fba8>"
      ]
     },
     "metadata": {},
     "output_type": "display_data"
    }
   ],
   "source": [
    "plt.hist(y_train)\n",
    "plt.title(\"Distribution de y\", fontsize=20)"
   ]
  },
  {
   "cell_type": "markdown",
   "metadata": {},
   "source": [
    "Transformation des données catégorielles de chaînes de caractères en format numérique"
   ]
  },
  {
   "cell_type": "code",
   "execution_count": 37,
   "metadata": {
    "collapsed": false
   },
   "outputs": [],
   "source": [
    "x_train[\"Sex_num\"] = x_train[\"Sex\"].cat.codes\n",
    "x_train[\"Embarked_num\"] = x_train[\"Embarked\"].cat.codes"
   ]
  },
  {
   "cell_type": "code",
   "execution_count": 38,
   "metadata": {
    "collapsed": false
   },
   "outputs": [],
   "source": [
    "x_test[\"Sex_num\"] = x_test[\"Sex\"].cat.codes\n",
    "x_test[\"Embarked_num\"] = x_test[\"Embarked\"].cat.codes"
   ]
  },
  {
   "cell_type": "markdown",
   "metadata": {},
   "source": [
    "Vérification du nombre de données manquantes"
   ]
  },
  {
   "cell_type": "code",
   "execution_count": 39,
   "metadata": {
    "collapsed": false
   },
   "outputs": [
    {
     "name": "stdout",
     "output_type": "stream",
     "text": [
      "** Données de training : \n",
      " \n",
      "PassengerId       0\n",
      "Survived          0\n",
      "Pclass            0\n",
      "Name              0\n",
      "Sex               0\n",
      "Age             177\n",
      "SibSp             0\n",
      "Parch             0\n",
      "Ticket            0\n",
      "Fare              0\n",
      "Cabin           687\n",
      "Embarked          2\n",
      "Sex_num           0\n",
      "Embarked_num      0\n",
      "dtype: int64\n",
      "\n",
      "\n",
      "** Données de test : \n",
      "\n",
      "PassengerId       0\n",
      "Pclass            0\n",
      "Name              0\n",
      "Sex               0\n",
      "Age              86\n",
      "SibSp             0\n",
      "Parch             0\n",
      "Ticket            0\n",
      "Fare              1\n",
      "Cabin           327\n",
      "Embarked          0\n",
      "Sex_num           0\n",
      "Embarked_num      0\n",
      "dtype: int64\n"
     ]
    }
   ],
   "source": [
    "print(\"** Données de training : \\n \")\n",
    "print(x_train.isnull().sum(axis=0))\n",
    "\n",
    "print(\"\\n\")\n",
    "print(\"** Données de test : \\n\")\n",
    "print(x_test.isnull().sum(axis=0))"
   ]
  },
  {
   "cell_type": "markdown",
   "metadata": {},
   "source": [
    "Remplissage des valeurs manquantes pour la variable \"EMbarked_num\" par la valeur la plus représentée dans le jeu de données"
   ]
  },
  {
   "cell_type": "code",
   "execution_count": 40,
   "metadata": {
    "collapsed": false
   },
   "outputs": [],
   "source": [
    "x_train[\"Embarked_num\"] = x_train[\"Embarked_num\"].fillna(x_train.Embarked.mode())"
   ]
  },
  {
   "cell_type": "markdown",
   "metadata": {},
   "source": [
    "Calculer la moyenne de l'âge par sexe afin de remplir les valeurs manquantes"
   ]
  },
  {
   "cell_type": "code",
   "execution_count": 41,
   "metadata": {
    "collapsed": false
   },
   "outputs": [],
   "source": [
    "x_train[\"Age\"]= x_train.groupby(\"Sex\").Age.transform(lambda x: x.fillna(int(x.mean())))\n",
    "x_test[\"Age\"]= x_test.groupby(\"Sex\").Age.transform(lambda x: x.fillna(int(x.mean())))"
   ]
  },
  {
   "cell_type": "markdown",
   "metadata": {},
   "source": [
    "Suppression des colonnes cabine et ticket n'apportant pas davantage d'informations "
   ]
  },
  {
   "cell_type": "code",
   "execution_count": 42,
   "metadata": {
    "collapsed": false
   },
   "outputs": [],
   "source": [
    "x_train = x_train.drop([\"Ticket\",\"Cabin\",\"PassengerId\",\"Survived\",\"Name\"], axis=1)"
   ]
  },
  {
   "cell_type": "code",
   "execution_count": 43,
   "metadata": {
    "collapsed": false
   },
   "outputs": [],
   "source": [
    "x_train = x_train.drop([\"Sex\",\"Embarked\"], axis=1)"
   ]
  },
  {
   "cell_type": "code",
   "execution_count": 44,
   "metadata": {
    "collapsed": false
   },
   "outputs": [
    {
     "data": {
      "text/html": [
       "<div>\n",
       "<table border=\"1\" class=\"dataframe\">\n",
       "  <thead>\n",
       "    <tr style=\"text-align: right;\">\n",
       "      <th></th>\n",
       "      <th>Pclass</th>\n",
       "      <th>Age</th>\n",
       "      <th>SibSp</th>\n",
       "      <th>Parch</th>\n",
       "      <th>Fare</th>\n",
       "      <th>Sex_num</th>\n",
       "      <th>Embarked_num</th>\n",
       "    </tr>\n",
       "  </thead>\n",
       "  <tbody>\n",
       "    <tr>\n",
       "      <th>886</th>\n",
       "      <td>2</td>\n",
       "      <td>27</td>\n",
       "      <td>0</td>\n",
       "      <td>0</td>\n",
       "      <td>13.00</td>\n",
       "      <td>1</td>\n",
       "      <td>2</td>\n",
       "    </tr>\n",
       "    <tr>\n",
       "      <th>887</th>\n",
       "      <td>1</td>\n",
       "      <td>19</td>\n",
       "      <td>0</td>\n",
       "      <td>0</td>\n",
       "      <td>30.00</td>\n",
       "      <td>0</td>\n",
       "      <td>2</td>\n",
       "    </tr>\n",
       "    <tr>\n",
       "      <th>888</th>\n",
       "      <td>3</td>\n",
       "      <td>27</td>\n",
       "      <td>1</td>\n",
       "      <td>2</td>\n",
       "      <td>23.45</td>\n",
       "      <td>0</td>\n",
       "      <td>2</td>\n",
       "    </tr>\n",
       "    <tr>\n",
       "      <th>889</th>\n",
       "      <td>1</td>\n",
       "      <td>26</td>\n",
       "      <td>0</td>\n",
       "      <td>0</td>\n",
       "      <td>30.00</td>\n",
       "      <td>1</td>\n",
       "      <td>0</td>\n",
       "    </tr>\n",
       "    <tr>\n",
       "      <th>890</th>\n",
       "      <td>3</td>\n",
       "      <td>32</td>\n",
       "      <td>0</td>\n",
       "      <td>0</td>\n",
       "      <td>7.75</td>\n",
       "      <td>1</td>\n",
       "      <td>1</td>\n",
       "    </tr>\n",
       "  </tbody>\n",
       "</table>\n",
       "</div>"
      ],
      "text/plain": [
       "     Pclass  Age  SibSp  Parch   Fare  Sex_num  Embarked_num\n",
       "886       2   27      0      0  13.00        1             2\n",
       "887       1   19      0      0  30.00        0             2\n",
       "888       3   27      1      2  23.45        0             2\n",
       "889       1   26      0      0  30.00        1             0\n",
       "890       3   32      0      0   7.75        1             1"
      ]
     },
     "execution_count": 44,
     "metadata": {},
     "output_type": "execute_result"
    }
   ],
   "source": [
    "x_train.tail()"
   ]
  },
  {
   "cell_type": "code",
   "execution_count": 45,
   "metadata": {
    "collapsed": false
   },
   "outputs": [],
   "source": [
    "x_test['Fare'] = x_test.groupby(['Pclass','Embarked_num']).Fare.transform(lambda x: x.fillna(int(x.mean())))"
   ]
  },
  {
   "cell_type": "code",
   "execution_count": 46,
   "metadata": {
    "collapsed": true
   },
   "outputs": [],
   "source": [
    "x_test = x_test.drop([\"Ticket\",\"Cabin\",\"PassengerId\",\"Name\",\"Sex\",\"Embarked\"], axis=1)"
   ]
  },
  {
   "cell_type": "markdown",
   "metadata": {},
   "source": [
    "Séparation du dataset de training en 2 : un échantillon d'apprentissage et un échantillon de validation"
   ]
  },
  {
   "cell_type": "code",
   "execution_count": 48,
   "metadata": {
    "collapsed": false
   },
   "outputs": [],
   "source": [
    "x_train_1, x_val, y_train_1, y_val = train_test_split(x_train,y_train,test_size=0.3)"
   ]
  },
  {
   "cell_type": "markdown",
   "metadata": {},
   "source": [
    "Après avoir nettoyé les données, nous appliquons 3 algorithmes différents sur les données puis nous comparerons leurs performances à travers une courbe ROC."
   ]
  },
  {
   "cell_type": "markdown",
   "metadata": {},
   "source": [
    "### Algorithme 1 : Knn"
   ]
  },
  {
   "cell_type": "code",
   "execution_count": 47,
   "metadata": {
    "collapsed": true
   },
   "outputs": [],
   "source": [
    "# Définition d'une fonction de classification Knn permettant de sélectionner le meilleur k variant de 1 à 10.\n",
    "# Cette fonction retourne le paramètre k optimal basé sur le score (0/1 loss) calculé\n",
    "def knnClassifier(data,y):\n",
    "    predicted = pandas.DataFrame({})\n",
    "    scores = np.zeros((10,1))\n",
    "    f1scores = np.zeros((10,1))\n",
    "    clf = list()\n",
    "    for n_neighbors in range(1,11):\n",
    "        clf.append(None)\n",
    "        clf[n_neighbors - 1] = neighbors.KNeighborsClassifier(n_neighbors, weights=\"uniform\",metric=\"manhattan\",p=2)\n",
    "        predicted[n_neighbors -1] = cross_val_predict(clf[n_neighbors - 1], data,y, cv=5)\n",
    "        scores[n_neighbors - 1] = 1 - zero_one_loss(y,predicted[n_neighbors-1],normalize=True)\n",
    "    kmax = scores.argmax() \n",
    "    print(\"K choisi : \",kmax,\" pour le score (0/1 loss) : \", scores[kmax -1])\n",
    "    print(\"La matrice de confusion pour le meilleur k :\\n\",cm(y,predicted[kmax]))\n",
    "    return kmax"
   ]
  },
  {
   "cell_type": "code",
   "execution_count": 49,
   "metadata": {
    "collapsed": false
   },
   "outputs": [
    {
     "name": "stdout",
     "output_type": "stream",
     "text": [
      "K choisi :  6  pour le score (0/1 loss) :  [ 0.71910112]\n",
      "La matrice de confusion pour le meilleur k :\n",
      " [[305  73]\n",
      " [ 90 155]]\n"
     ]
    }
   ],
   "source": [
    "k_opt = knnClassifier(x_train_1,y_train_1)"
   ]
  },
  {
   "cell_type": "markdown",
   "metadata": {},
   "source": [
    "Calcul des probas de classification avec l'algorithme Knn avec le k optimal"
   ]
  },
  {
   "cell_type": "code",
   "execution_count": 50,
   "metadata": {
    "collapsed": false
   },
   "outputs": [],
   "source": [
    "clf_opt = neighbors.KNeighborsClassifier(k_opt, weights=\"uniform\",metric=\"manhattan\",p=2)\n",
    "clf_opt = clf_opt.fit(x_train_1,y_train_1)\n",
    "probas_knn = clf_opt.predict_proba(x_val)"
   ]
  },
  {
   "cell_type": "markdown",
   "metadata": {},
   "source": [
    "### Algorithme 2 : Régression Logistique"
   ]
  },
  {
   "cell_type": "code",
   "execution_count": 52,
   "metadata": {
    "collapsed": false
   },
   "outputs": [],
   "source": [
    "clf_rl = LogisticRegression()\n",
    "clf_rl = clf_rl.fit(x_train_1,y_train_1)"
   ]
  },
  {
   "cell_type": "code",
   "execution_count": 53,
   "metadata": {
    "collapsed": true
   },
   "outputs": [],
   "source": [
    "probas_rl = clf_rl.predict_proba(x_val)"
   ]
  },
  {
   "cell_type": "markdown",
   "metadata": {},
   "source": [
    "### Algorithme 3 : Random Forest"
   ]
  },
  {
   "cell_type": "code",
   "execution_count": 54,
   "metadata": {
    "collapsed": true
   },
   "outputs": [],
   "source": [
    "forest = RandomForestClassifier(n_estimators=1000)\n",
    "forest = forest.fit( x_train_1, y_train_1 )"
   ]
  },
  {
   "cell_type": "code",
   "execution_count": 55,
   "metadata": {
    "collapsed": true
   },
   "outputs": [],
   "source": [
    "probas_rf = forest.predict_proba(x_val)"
   ]
  },
  {
   "cell_type": "markdown",
   "metadata": {},
   "source": [
    "### Remarque :\n",
    "Il est possible d'améliorer les performances des 2 derniers algorithmes en faisant varier les paramètres avec un GridSearch qui permettra d'en sélectionner le meilleur"
   ]
  },
  {
   "cell_type": "markdown",
   "metadata": {},
   "source": [
    "### Comparaison des 3 modèles utilisés grâce aux courbes ROC"
   ]
  },
  {
   "cell_type": "code",
   "execution_count": 58,
   "metadata": {
    "collapsed": false
   },
   "outputs": [
    {
     "name": "stdout",
     "output_type": "stream",
     "text": [
      "AUC Knn : 0.749382\n",
      "AUC RL : 0.819166\n",
      "AUC RF : 0.835443\n"
     ]
    },
    {
     "data": {
      "image/png": "[encoded data removed]",
      "text/plain": [
       "<matplotlib.figure.Figure at 0x6c5d3c8>"
      ]
     },
     "metadata": {},
     "output_type": "display_data"
    }
   ],
   "source": [
    "# probas est une matrice de deux colonnes avec la probabilités d'appartenance à chaque classe\n",
    "fpr_knn, tpr_knn, thresholds_knn = roc_curve(y_val, probas_knn[:, 1])\n",
    "fpr_rl, tpr_rl, thresholds_rl = roc_curve(y_val, probas_rl[:, 1])\n",
    "fpr_rf, tpr_rf, thresholds_rf = roc_curve(y_val, probas_rf[:, 1])\n",
    "\n",
    "plt.plot(fpr_knn, tpr_knn, label='Knn')\n",
    "plt.plot(fpr_rl, tpr_rl, label='RL ')\n",
    "plt.plot(fpr_rf, tpr_rf, label='RF')\n",
    "plt.plot([0, 1], [0, 1], 'k--')\n",
    "plt.xlim([0.0, 1.0])\n",
    "plt.ylim([0.0, 1.0])\n",
    "plt.xlabel('False Positive Rate')\n",
    "plt.ylabel('True Positive Rate')\n",
    "plt.legend(loc=\"lower right\")\n",
    "\n",
    "roc_auc_knn = auc(fpr_knn, tpr_knn)\n",
    "print (\"AUC Knn : %f\" % roc_auc_knn)\n",
    "\n",
    "roc_auc_rl = auc(fpr_rl, tpr_rl)\n",
    "print (\"AUC RL : %f\" % roc_auc_rl)\n",
    "\n",
    "roc_auc_rf = auc(fpr_rf, tpr_rf)\n",
    "print (\"AUC RF : %f\" % roc_auc_rf)"
   ]
  },
  {
   "cell_type": "markdown",
   "metadata": {},
   "source": [
    "Prédiction de survie sur l'échantillon de test avec le meilleur des classificateurs qui est le Random Forest"
   ]
  },
  {
   "cell_type": "code",
   "execution_count": 57,
   "metadata": {
    "collapsed": false
   },
   "outputs": [],
   "source": [
    "y_test = forest.predict(x_test)"
   ]
  }
 ],
 "metadata": {
  "kernelspec": {
   "display_name": "Python 3",
   "language": "python",
   "name": "python3"
  },
  "language_info": {
   "codemirror_mode": {
    "name": "ipython",
    "version": 3
   },
   "file_extension": ".py",
   "mimetype": "text/x-python",
   "name": "python",
   "nbconvert_exporter": "python",
   "pygments_lexer": "ipython3",
   "version": "3.4.3"
  }
 },
 "nbformat": 4,
 "nbformat_minor": 0
}
