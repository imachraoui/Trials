{
 "cells": [
  {
   "cell_type": "code",
   "execution_count": 1,
   "metadata": {},
   "outputs": [
    {
     "name": "stderr",
     "output_type": "stream",
     "text": [
      "C:\\Anaconda3\\lib\\site-packages\\fuzzywuzzy\\fuzz.py:35: UserWarning: Using slow pure-python SequenceMatcher. Install python-Levenshtein to remove this warning\n",
      "  warnings.warn('Using slow pure-python SequenceMatcher. Install python-Levenshtein to remove this warning')\n"
     ]
    }
   ],
   "source": [
    "import pandas\n",
    "import numpy as np\n",
    "import re, os\n",
    "from nltk.tokenize import WordPunctTokenizer\n",
    "from nltk.tokenize import RegexpTokenizer\n",
    "from nltk.corpus import stopwords\n",
    "from nltk.stem import SnowballStemmer\n",
    "import unicodedata\n",
    "from nltk import pos_tag\n",
    "import matplotlib.pyplot as plt\n",
    "from sklearn.feature_selection import SelectKBest, chi2, SelectPercentile, f_classif\n",
    "from sklearn.cross_validation import train_test_split\n",
    "from string import ascii_lowercase as al\n",
    "from sklearn.naive_bayes import MultinomialNB\n",
    "from sklearn.cross_validation import cross_val_predict\n",
    "from sklearn.feature_extraction.text import TfidfVectorizer\n",
    "from sklearn.metrics import zero_one_loss,f1_score,jaccard_similarity_score\n",
    "from sklearn.pipeline import Pipeline\n",
    "from fuzzywuzzy import fuzz,process\n",
    "from sklearn.grid_search import GridSearchCV\n",
    "from sklearn import metrics\n",
    "from sklearn.linear_model import LogisticRegression\n",
    "from nltk.tag.stanford import StanfordPOSTagger\n",
    "import operator\n",
    "from gensim.models import Doc2Vec, Word2Vec\n",
    "from gensim.models.doc2vec import LabeledSentence\n",
    "from sklearn.decomposition import NMF, LatentDirichletAllocation, TruncatedSVD\n",
    "from sklearn.mixture import GMM,VBGMM\n",
    "from itertools import chain,combinations\n",
    "import treetaggerwrapper\n",
    "from scipy.sparse import csr_matrix\n",
    "\n",
    "%matplotlib inline\n",
    "\n",
    "PATH = 'C:/Users/MACH055/Documents/Data/'\n",
    "\n",
    "def load_data_xls(file_name,src,sheet_name,verbatim_column, target_columns, default_sentiment,ax, show_hist=False,\n",
    "                  path='C:/Users/MACH055/Documents/Data/'):\n",
    "    \n",
    "    data = pandas.read_excel(path+file_name,sheet_name=sheet_name)\n",
    "    \n",
    "    take_categories = ('categories' in target_columns)\n",
    "    take_sentiments = ('sentiments' in target_columns)\n",
    "    \n",
    "    \n",
    "    verbatims = data[verbatim_column]\n",
    "    src_col = pandas.Series(np.repeat(src,len(verbatims)))\n",
    "    \n",
    "    columns= {'verbatims':verbatims,'src':src_col}\n",
    "    \n",
    "    if take_categories:\n",
    "        y_cat = data[target_columns['categories']]\n",
    "        columns.update({'categories':y_cat})\n",
    "    if take_sentiments : \n",
    "        y_sa = data[target_columns['sentiments']].str.lower()\n",
    "        columns.update({'sentiments' :y_sa})\n",
    "    \n",
    "    # Charger les donnees dans un DataFrame\n",
    "    data_filtered = pandas.DataFrame(columns)\n",
    "    \n",
    "    # Supprimer les observations sans verbatims \n",
    "    verbatims_notnull = np.where(pandas.isnull(verbatims))\n",
    "    data_filtered = data_filtered.drop(verbatims_notnull[0])\n",
    "    data_filtered = data_filtered.reset_index(drop=True)\n",
    "    \n",
    "    # Si vide, remplir les targets de sentiments par la valeur par défaut\n",
    "    if take_sentiments:\n",
    "        data_filtered[\"sentiments\"][pandas.isnull(data_filtered[\"sentiments\"])] = default_sentiment\n",
    "    \n",
    "    # Afficher les histogrammes des categories et des sentiments\n",
    "    if show_hist :\n",
    "        ax[0].bar(range(len(data_filtered[\"categories\"].value_counts())),data_filtered[\"categories\"].value_counts(), \n",
    "                  orientation='vertical')\n",
    "        #ax[0].set_xticklabels(np.unique(data_filtered[\"categories\"]), rotation =\"vertical\")\n",
    "        \n",
    "        ax[1].bar(range(len(data_filtered[\"sentiments\"].value_counts())),data_filtered[\"sentiments\"].value_counts(), \n",
    "                  orientation='vertical',tick_label=data_filtered[\"sentiments\"].value_counts().index)\n",
    "        #ax[1].set_xticklabels(np.unique(data_filtered[\"sentiments\"]), rotation =\"vertical\",tick_label=data_filtered[\"categories\"].value_counts())\n",
    "    return data_filtered\n",
    "\n",
    "# Load all XLS files in a folder. It assumes that all the files are of the same format\n",
    "def load_xls_from_folder(path,src,sheet_name,verbatim_column, target_columns, default_sentiment,ax, show_hist=False):\n",
    "    \n",
    "    files_xls = os.listdir(path)\n",
    "    \n",
    "    result = pandas.DataFrame()\n",
    "    for f in files_xls:\n",
    "        data = load_data_xls(f,src,sheet_name,verbatim_column, target_columns, default_sentiment,ax=ax, show_hist=show_hist,\n",
    "                  path=path)\n",
    "        result = pandas.concat([result,data])\n",
    "    return result"
   ]
  },
  {
   "cell_type": "markdown",
   "metadata": {},
   "source": [
    "### ===========================  Chargement des données ========================================"
   ]
  },
  {
   "cell_type": "code",
   "execution_count": 2,
   "metadata": {},
   "outputs": [
    {
     "data": {
      "image/png": "[encoded data removed]",
      "text/plain": [
       "<matplotlib.figure.Figure at 0xbafd748>"
      ]
     },
     "metadata": {},
     "output_type": "display_data"
    }
   ],
   "source": [
    "\n",
    "fig, ax = plt.subplots(nrows=2, ncols=2)\n",
    "#fig.set_figwidth(100)\n",
    "#fig.set_figheight(50)\n",
    "fig.tight_layout()\n",
    "\n",
    "# Data1\n",
    "target_columns = {'sentiments':'3 - Satisfaction contact conseiller','categories':'Motif appel'}\n",
    "data1_data = load_data_xls('Compil Verbatims clients.xlsx','data1','Feuil1','Verbatims', target_columns, \n",
    "                         'indifférent', ax= ax[0], show_hist=True)\n",
    "\n",
    "# Oranged\n",
    "target_columns = {'sentiments':\"Q4_4 - Qualité de la solution proposée\",'categories':\"Q1 - Motif principal d’appel\"}\n",
    "oranged_data = load_data_xls('100pc_Open_ACH_2014 06.xlsx','oranged','Open Juin',\"QO6 - Verbatim sur l'appel\", target_columns, \n",
    "                            'indifférent', ax= ax[1],show_hist=True)\n",
    "\n",
    "# Toys\n",
    "toys_data = load_xls_from_folder('C:/Users/MACH055/Documents/Data/Toys/','toys','Feuil1',\"q8\", target_columns=[],\n",
    "                                 default_sentiment=None, ax= None,show_hist=False)"
   ]
  },
  {
   "cell_type": "code",
   "execution_count": 35,
   "metadata": {},
   "outputs": [],
   "source": [
    "def count_length(verbatim):\n",
    "    ver = remove_patterns(str(verbatim))\n",
    "    tokens = word_tokenizer.tokenize(ver)\n",
    "    return (len(tokens))\n",
    "\n",
    "lengths = toys_data[\"verbatims\"].apply(count_length)"
   ]
  },
  {
   "cell_type": "code",
   "execution_count": 37,
   "metadata": {},
   "outputs": [
    {
     "data": {
      "text/plain": [
       "17.15087320450553"
      ]
     },
     "execution_count": 37,
     "metadata": {},
     "output_type": "execute_result"
    }
   ],
   "source": [
    "np.mean(lengths)"
   ]
  },
  {
   "cell_type": "code",
   "execution_count": 3,
   "metadata": {},
   "outputs": [],
   "source": [
    "data1_data.ix[data1_data[\"sentiments\"]=='très satisfait',\"sentiments\"] = 'satisfait'\n",
    "data1_data.ix[data1_data[\"sentiments\"]=='pas du tout satisfait',\"sentiments\"] = 'insatisfait'"
   ]
  },
  {
   "cell_type": "code",
   "execution_count": 4,
   "metadata": {
    "collapsed": true
   },
   "outputs": [],
   "source": [
    "data1_data.ix[data1_data[\"sentiments\"]=='assez satisfait',\"sentiments\"] = 'satisfait'\n",
    "data1_data.ix[data1_data[\"sentiments\"]=='peu satisfait',\"sentiments\"] = 'insatisfait'"
   ]
  },
  {
   "cell_type": "code",
   "execution_count": 5,
   "metadata": {},
   "outputs": [],
   "source": [
    "data= pandas.concat([data1_data,oranged_data])\n",
    "data = data.reset_index(drop=True)"
   ]
  },
  {
   "cell_type": "code",
   "execution_count": 6,
   "metadata": {},
   "outputs": [],
   "source": [
    "# \"sources\" est une liste de valeurs des données sur lesquelles on va travailler\n",
    "# \"target\" prend 2 valeurs : \"sentiments\" ou \"categories\"\n",
    "def extract_verbatimsandtarget(data,sources , target=\"sentiments\"):\n",
    "    verbatims = data[\"verbatims\"][data[\"src\"].isin(sources)]\n",
    "    \n",
    "    y=None\n",
    "    # Rendre le vecteur resultat de type \"categorielle\" \n",
    "    if target != \"\" :\n",
    "        y = data[target][data[\"src\"].isin(sources)]\n",
    "        y = y.astype(\"category\", categories=np.unique(y), ordered=False)\n",
    "    return verbatims, y\n",
    "\n",
    "target = \"sentiments\"\n",
    "verbatims, y = extract_verbatimsandtarget(data,[\"data1\",\"oranged\"],target)\n",
    "\n",
    "verbatims_data1, y_data1 = extract_verbatimsandtarget(data,[\"data1\"],target)\n",
    "\n",
    "verbatims_oranged, y_oranged = extract_verbatimsandtarget(data,[\"oranged\"],target)\n",
    "\n",
    "verbatims_toys, y_toys = extract_verbatimsandtarget(toys_data,[\"toys\"],\"\")"
   ]
  },
  {
   "cell_type": "code",
   "execution_count": 7,
   "metadata": {},
   "outputs": [
    {
     "data": {
      "text/plain": [
       "<matplotlib.axes._subplots.AxesSubplot at 0xbafd630>"
      ]
     },
     "execution_count": 7,
     "metadata": {},
     "output_type": "execute_result"
    },
    {
     "data": {
      "image/png": "[encoded data removed]",
      "text/plain": [
       "<matplotlib.figure.Figure at 0xc193cf8>"
      ]
     },
     "metadata": {},
     "output_type": "display_data"
    }
   ],
   "source": [
    "(y.value_counts() / len(y)).plot(kind=\"bar\")"
   ]
  },
  {
   "cell_type": "markdown",
   "metadata": {},
   "source": [
    "Isoler les smileys et les hashtags"
   ]
  },
  {
   "cell_type": "code",
   "execution_count": 8,
   "metadata": {
    "collapsed": true
   },
   "outputs": [],
   "source": [
    "groups_to_keep =[r\"(?:\\#+[\\w_]+[\\w\\'_\\-]*[\\w_]+)\",# hash-tags\n",
    "                r\"\"\"\n",
    "    (?:\n",
    "      [<>]?\n",
    "      [:;=]                     # eyes\n",
    "      [\\-o\\*\\']?                 # optional nose\n",
    "      [\\)\\]\\(\\[dDpP/\\:\\}\\{@\\|\\\\] # mouth      \n",
    "      |\n",
    "      [\\)\\]\\(\\[dDpP/\\:\\}\\{@\\|\\\\] # mouth\n",
    "      [\\-o\\*\\']?                 # optional nose\n",
    "      [:;=]                     # eyes\n",
    "      [<>]?\n",
    "    )\"\"\" #smileys\n",
    "                ]\n",
    "\n",
    "regex_to_keep=  r'('+'|'.join(groups_to_keep)+')'"
   ]
  },
  {
   "cell_type": "code",
   "execution_count": 9,
   "metadata": {},
   "outputs": [],
   "source": [
    "verbatims_extra = verbatims.map(lambda verbatim: re.findall(regex_to_keep,str(verbatim)))"
   ]
  },
  {
   "cell_type": "code",
   "execution_count": 10,
   "metadata": {},
   "outputs": [
    {
     "data": {
      "text/plain": [
       "Series([], Name: verbatims, dtype: object)"
      ]
     },
     "execution_count": 10,
     "metadata": {},
     "output_type": "execute_result"
    }
   ],
   "source": [
    "verbatims_extra[pandas.isnull(verbatims_extra)]"
   ]
  },
  {
   "cell_type": "markdown",
   "metadata": {},
   "source": [
    "## ----------------------------------- Regroupement des motifs Data1 ----------------------------------------"
   ]
  },
  {
   "cell_type": "markdown",
   "metadata": {},
   "source": [
    "Isolation des motifs d'appel"
   ]
  },
  {
   "cell_type": "code",
   "execution_count": 2,
   "metadata": {
    "scrolled": true
   },
   "outputs": [],
   "source": [
    "motifs_appels_macro = y_cat_data1.copy(deep=True)\n",
    "motifs, nombre_motifs = np.unique(y_cat_data1,return_counts=True)\n",
    "sorted_motifs = motifs[np.argsort(-nombre_motifs)]"
   ]
  },
  {
   "cell_type": "markdown",
   "metadata": {},
   "source": [
    "Chargement du fichier regroupant les motifs d'appels macro"
   ]
  },
  {
   "cell_type": "code",
   "execution_count": 3,
   "metadata": {},
   "outputs": [],
   "source": [
    "xls_themes=pandas.ExcelFile(path+\"Motifs d'appels.xlsx\")\n",
    "# Feuille n°1\n",
    "themes_data1_1=xls_themes.parse('Demande')\n",
    "# Feuille n°2\n",
    "themes_data1_2=xls_themes.parse('Reclamation')"
   ]
  },
  {
   "cell_type": "code",
   "execution_count": 4,
   "metadata": {},
   "outputs": [],
   "source": [
    "themes_data1_1=themes_edf_1[pandas.notnull(themes_data1_1['Désignation'])]\n",
    "themes_data1_2=themes_edf_2[pandas.notnull(themes_data1_2['Désignation'])]\n",
    "\n",
    "# Regroupement des 2 feuilles Excel en un seul dataframe\n",
    "themes_data1 = pandas.concat([themes_data1_1,themes_data1_2],ignore_index=True)"
   ]
  },
  {
   "cell_type": "markdown",
   "metadata": {},
   "source": [
    "Logique floue avec un seuil de confiance de 90%\n",
    "\n",
    "Les motifs non reconnus (sous 90%) sont classés dans la catégorie \"Autres\""
   ]
  },
  {
   "cell_type": "code",
   "execution_count": 5,
   "metadata": {},
   "outputs": [],
   "source": [
    "mapping_motifs = pandas.DataFrame(np.transpose([motifs,motifs]),columns=['micro_src','micro_dest'])\n",
    "seuil_confiance = 90\n",
    "\n",
    "def fuzzy_logic(motif):\n",
    "    resultat = process.extractOne(motif, themes_data1[\"Désignation\"])\n",
    "    if resultat[1] > seuil_confiance :\n",
    "        return resultat[0]\n",
    "    else : \n",
    "        return np.nan\n",
    "\n",
    "def get_macro_category(micro):\n",
    "    if not pandas.isnull(micro) :\n",
    "        return themes_data1[\"Thème/Motif\"][themes_data1[\"Désignation\"]== micro].values[0]\n",
    "    else:\n",
    "        return 'Autres'\n",
    "    \n",
    "mapping_motifs['micro_dest'] = mapping_motifs['micro_dest'].map(fuzzy_logic)\n",
    "mapping_motifs['macro'] =  mapping_motifs['micro_dest'].copy(deep=True)\n",
    "\n",
    "mapping_motifs['macro'] = mapping_motifs['macro'].map(get_macro_category)"
   ]
  },
  {
   "cell_type": "markdown",
   "metadata": {},
   "source": [
    "Formattage des étiquettes macro "
   ]
  },
  {
   "cell_type": "code",
   "execution_count": 6,
   "metadata": {},
   "outputs": [],
   "source": [
    "y=motifs_appels_macro.map(lambda x:mapping_motifs['macro'][mapping_motifs['micro_src']==x].values[0] )"
   ]
  },
  {
   "cell_type": "code",
   "execution_count": 261,
   "metadata": {},
   "outputs": [
    {
     "data": {
      "text/plain": [
       "(array([ 4.,  1.,  2.,  1.,  0.,  1.,  1.,  0.,  1.,  1.]),\n",
       " array([  10. ,   63.9,  117.8,  171.7,  225.6,  279.5,  333.4,  387.3,\n",
       "         441.2,  495.1,  549. ]),\n",
       " <a list of 10 Patch objects>)"
      ]
     },
     "execution_count": 261,
     "metadata": {},
     "output_type": "execute_result"
    },
    {
     "data": {
      "image/png": "[encoded data removed]",
      "text/plain": [
       "<matplotlib.figure.Figure at 0xc091290>"
      ]
     },
     "metadata": {},
     "output_type": "display_data"
    }
   ],
   "source": [
    "a,b= np.unique(y,return_counts=True)\n",
    "plt.hist(b)"
   ]
  },
  {
   "cell_type": "markdown",
   "metadata": {},
   "source": [
    "## ========================================================================"
   ]
  },
  {
   "cell_type": "markdown",
   "metadata": {},
   "source": [
    "## Sélection des motifs d'appels les plus représentés"
   ]
  },
  {
   "cell_type": "code",
   "execution_count": 327,
   "metadata": {},
   "outputs": [
    {
     "name": "stdout",
     "output_type": "stream",
     "text": [
      "pourcentage de motifs gardés : 80.6282722513\n"
     ]
    },
    {
     "data": {
      "text/plain": [
       "(array([ 5.,  4.,  3.,  2.,  2.,  1.,  2.,  1.,  0.,  1.]),\n",
       " array([ 1.07329843,  1.95026178,  2.82722513,  3.70418848,  4.58115183,\n",
       "         5.45811518,  6.33507853,  7.21204188,  8.08900524,  8.96596859,\n",
       "         9.84293194]),\n",
       " <a list of 10 Patch objects>)"
      ]
     },
     "execution_count": 327,
     "metadata": {},
     "output_type": "execute_result"
    },
    {
     "data": {
      "image/png": "[encoded data removed]",
      "text/plain": [
       "<matplotlib.figure.Figure at 0xdf9c130>"
      ]
     },
     "metadata": {},
     "output_type": "display_data"
    }
   ],
   "source": [
    "nb_motifs_a_garder = 21\n",
    "\n",
    "percentage_categories = 100*np.cumsum(-np.sort(-nombre_motifs))/np.sum(nombre_motifs)\n",
    "percentage_categories_nocumsum = 100*(-np.sort(-nombre_motifs))/np.sum(nombre_motifs)\n",
    "plt.plot(percentage_categories[:nb_motifs_a_garder],'-o')\n",
    "plt.xticks(range(0,nb_motifs_a_garder),sorted_motifs[:nb_motifs_a_garder],rotation='vertical')\n",
    "print(\"pourcentage de motifs gardés :\",percentage_categories[nb_motifs_a_garder])\n",
    "plt.hist(percentage_categories_nocumsum[:nb_motifs_a_garder])"
   ]
  },
  {
   "cell_type": "markdown",
   "metadata": {},
   "source": [
    "Sélection des observations dont les motifs seront gardés"
   ]
  },
  {
   "cell_type": "code",
   "execution_count": 4,
   "metadata": {},
   "outputs": [],
   "source": [
    "verbatims_data1_filtered = verbatims_data1[motifs_appels.isin(sorted_motifs[:nb_motifs_a_garder])]\n",
    "motifs_appels_filtered = motifs_appels[motifs_appels.isin(sorted_motifs[:nb_motifs_a_garder])]\n",
    "\n",
    "# Copie dans une autre Series afin d'avoir de bons indexs\n",
    "verbatims_data1_final = pandas.Series(verbatims_data1_filtered,index=range(len(verbatims_data1_filtered)))\n",
    "motifs_appels_filtered = pandas.Series(motifs_appels_filtered,index=range(len(motifs_appels_filtered)))"
   ]
  },
  {
   "cell_type": "markdown",
   "metadata": {},
   "source": [
    "# =============================================================="
   ]
  },
  {
   "cell_type": "markdown",
   "metadata": {},
   "source": [
    "## Pre-processing du texte"
   ]
  },
  {
   "cell_type": "markdown",
   "metadata": {},
   "source": [
    "Initialisation des outils pour le pre-processing"
   ]
  },
  {
   "cell_type": "code",
   "execution_count": 11,
   "metadata": {},
   "outputs": [],
   "source": [
    "def remove_patterns(verbatim) :\n",
    "    if re.search(regex_to_delete, verbatim) :\n",
    "        return re.sub(regex_to_delete, \"\", verbatim) \n",
    "    return verbatim\n",
    "\n",
    "def no_accents(s):\n",
    "    s= unicodedata.normalize('NFD',s)\n",
    "    return str(s.encode('ascii','ignore'), 'utf-8')\n",
    "\n",
    "groups_to_delete = [r'<[^>]+>', # HTML tags\n",
    "    r'(?:@[\\w_]+)', # @-mentions\n",
    "    r'http[s]?://(?:[a-z]|[0-9]|[$-_@.&+]|[!*\\(\\),]|(?:%[0-9a-f][0-9a-f]))+', # URLs\n",
    "                    r'(?:(?:\\d+,?)+(?:\\.?\\d+)?)',# numbers\n",
    "                    r'([_\\-]+)' # underscores and dashes\n",
    "    ] \n",
    "\n",
    "                 \n",
    "regex_to_delete = r'('+'|'.join(groups_to_delete)+')'\n",
    "\n",
    "word_tokenizer = RegexpTokenizer('\\w+', gaps=False)\n",
    "\n",
    "frenchStemmer= SnowballStemmer('french', ignore_stopwords=True)\n",
    "\n",
    "stop_words_french = stopwords.words('french')\n",
    "stop_words_french_normalized =[no_accents(stop) for stop in stop_words_french]\n",
    "\n",
    "JAR_PATH = 'C:/Users/MACH055/Documents/code/stanford-postagger-full-2015-12-09/stanford-postagger.jar'\n",
    "French_MODEL_PATH = 'C:/Users/MACH055/Documents/code/stanford-postagger-full-2015-12-09/models/french.tagger'\n",
    "FrenchPostagger = StanfordPOSTagger(French_MODEL_PATH, JAR_PATH, encoding='utf8')\n",
    "\n",
    "french_tagger = treetaggerwrapper.TreeTagger(TAGLANG='fr')"
   ]
  },
  {
   "cell_type": "markdown",
   "metadata": {},
   "source": [
    "L'étape de preprocessing des verbatims comprend :\n",
    "* suppression des chiffres, balises html, émoticones et adresses URL\n",
    "* suppression des accents\n",
    "* suppression des stop words et des mots ne dépassant pas les 2 caractères\n",
    "* stemming"
   ]
  },
  {
   "cell_type": "code",
   "execution_count": 12,
   "metadata": {},
   "outputs": [],
   "source": [
    "def preprocess_data(data, cleaning=True, stemming=True, pos_tagging_lemmatization=False):\n",
    "    clean_verbatims = list()\n",
    "    pos_tagged = list()\n",
    "    \n",
    "    # POS-Tagging\n",
    "    #if pos_tagging :\n",
    "     #   sentences = [str(v).split() for v in data]\n",
    "    #  pos_tagged = FrenchPostagger.tag_sents(sentences)\n",
    "       \n",
    "    \n",
    "    for verbatim in data :\n",
    "        \n",
    "        # remove numbers, html ...\n",
    "        if cleaning :\n",
    "            verbatim_i = remove_patterns(str(verbatim))\n",
    "        \n",
    "        # POS-Tagging\n",
    "        if pos_tagging_lemmatization :\n",
    "            temp_pos = french_tagger.tag_text(verbatim_i)\n",
    "            tags = treetaggerwrapper.make_tags(temp_pos)\n",
    "            pos_tagged.append(tags)\n",
    "            \n",
    "            # Fonction permettant d'obtenir le lemme d'un objet Tag ou recuperer le mot si un objet NotTag\n",
    "            getlemma_pos = lambda x : operator.attrgetter('lemma')(x) if (\n",
    "                isinstance(x,treetaggerwrapper.Tag)) else operator.attrgetter('what')(x)\n",
    "            verbatim_i = ' '.join([getlemma_pos(tag) for tag in tags])\n",
    "            \n",
    "        # remove accents \n",
    "        tokens = word_tokenizer.tokenize(no_accents(verbatim_i))\n",
    "            \n",
    "        # remove stop words + to lower case + stemming\n",
    "        if stemming :\n",
    "            tokens_w_s = [frenchStemmer.stem(i.lower()) for i in tokens if (i not in stop_words_french_normalized) & (len(i)>2)]\n",
    "            \n",
    "        if pos_tagging_lemmatization :\n",
    "            tokens_w_s = [i for i in tokens if (i not in stop_words_french_normalized) & (len(i)>2)]\n",
    "            \n",
    "        # concat words\n",
    "        clean_verbatims.append(' '.join(tokens_w_s))\n",
    "        \n",
    "    return clean_verbatims, pos_tagged"
   ]
  },
  {
   "cell_type": "markdown",
   "metadata": {},
   "source": [
    "### Sentiment scoring"
   ]
  },
  {
   "cell_type": "markdown",
   "metadata": {},
   "source": [
    "Chargement du dictionnaire de correpondance Français - Princeton Wordnet"
   ]
  },
  {
   "cell_type": "code",
   "execution_count": 13,
   "metadata": {},
   "outputs": [],
   "source": [
    "PATH_WN = \"C:/Users/MACH055/Documents/code/\"\n",
    "\n",
    "def split_wn_code(wn_code):\n",
    "    return wn_code.split('-')\n",
    "\n",
    "converters = {\"wn_code\":split_wn_code}\n",
    "\n",
    "wn_fr_data = pandas.read_csv(PATH_WN+'wn-data-fra.tab',sep='\\t',usecols=[0,2,3],names=['wn_code','word','POS'],skiprows=1,converters=converters)\n",
    "\n",
    "wn_code = wn_fr_data['wn_code'].map(lambda x : operator.itemgetter(0)(x))\n",
    "pos = wn_fr_data['wn_code'].map(lambda x : operator.itemgetter(1)(x))\n",
    "wn_fr_data['wn_code'] = wn_code\n",
    "wn_fr_data['POS'] = pos"
   ]
  },
  {
   "cell_type": "markdown",
   "metadata": {},
   "source": [
    "Chargement du dictionnaire Sentiwordnet "
   ]
  },
  {
   "cell_type": "code",
   "execution_count": 14,
   "metadata": {},
   "outputs": [],
   "source": [
    "types = {'POS':object,'wn_code':object,'pos_score':float,'neg_score':float}\n",
    "senti_data = pandas.read_csv(PATH_WN+'SentiWordNet_3.0.0_20130122.txt',sep='\\t',usecols=[0,1,2,3],names=['POS','wn_code','pos_score','neg_score'],\n",
    "                             comment='#',skiprows=1, dtype=types)"
   ]
  },
  {
   "cell_type": "markdown",
   "metadata": {},
   "source": [
    "Jointure entre WOLF et SentiWordNet par le code wordnet"
   ]
  },
  {
   "cell_type": "code",
   "execution_count": 15,
   "metadata": {},
   "outputs": [],
   "source": [
    "sentiments_fr = pandas.merge(wn_fr_data, senti_data, how='inner',on=['POS','wn_code'])"
   ]
  },
  {
   "cell_type": "code",
   "execution_count": 16,
   "metadata": {},
   "outputs": [
    {
     "data": {
      "text/html": [
       "<div>\n",
       "<table border=\"1\" class=\"dataframe\">\n",
       "  <thead>\n",
       "    <tr style=\"text-align: right;\">\n",
       "      <th></th>\n",
       "      <th>wn_code</th>\n",
       "      <th>word</th>\n",
       "      <th>POS</th>\n",
       "      <th>pos_score</th>\n",
       "      <th>neg_score</th>\n",
       "    </tr>\n",
       "  </thead>\n",
       "  <tbody>\n",
       "    <tr>\n",
       "      <th>2849</th>\n",
       "      <td>00129527</td>\n",
       "      <td>attention</td>\n",
       "      <td>n</td>\n",
       "      <td>0.000</td>\n",
       "      <td>0.000</td>\n",
       "    </tr>\n",
       "    <tr>\n",
       "      <th>11164</th>\n",
       "      <td>00654885</td>\n",
       "      <td>attention</td>\n",
       "      <td>n</td>\n",
       "      <td>0.000</td>\n",
       "      <td>0.000</td>\n",
       "    </tr>\n",
       "    <tr>\n",
       "      <th>19631</th>\n",
       "      <td>01228645</td>\n",
       "      <td>attention</td>\n",
       "      <td>n</td>\n",
       "      <td>0.250</td>\n",
       "      <td>0.000</td>\n",
       "    </tr>\n",
       "    <tr>\n",
       "      <th>54030</th>\n",
       "      <td>05082790</td>\n",
       "      <td>attention</td>\n",
       "      <td>n</td>\n",
       "      <td>0.000</td>\n",
       "      <td>0.000</td>\n",
       "    </tr>\n",
       "    <tr>\n",
       "      <th>56380</th>\n",
       "      <td>05650579</td>\n",
       "      <td>attention</td>\n",
       "      <td>n</td>\n",
       "      <td>0.000</td>\n",
       "      <td>0.125</td>\n",
       "    </tr>\n",
       "    <tr>\n",
       "      <th>56649</th>\n",
       "      <td>05702275</td>\n",
       "      <td>attention</td>\n",
       "      <td>n</td>\n",
       "      <td>0.000</td>\n",
       "      <td>0.000</td>\n",
       "    </tr>\n",
       "    <tr>\n",
       "      <th>56650</th>\n",
       "      <td>05702726</td>\n",
       "      <td>attention</td>\n",
       "      <td>n</td>\n",
       "      <td>0.000</td>\n",
       "      <td>0.000</td>\n",
       "    </tr>\n",
       "    <tr>\n",
       "      <th>56657</th>\n",
       "      <td>05704096</td>\n",
       "      <td>attention</td>\n",
       "      <td>n</td>\n",
       "      <td>0.125</td>\n",
       "      <td>0.000</td>\n",
       "    </tr>\n",
       "    <tr>\n",
       "      <th>57439</th>\n",
       "      <td>05853636</td>\n",
       "      <td>attention</td>\n",
       "      <td>n</td>\n",
       "      <td>0.000</td>\n",
       "      <td>0.000</td>\n",
       "    </tr>\n",
       "  </tbody>\n",
       "</table>\n",
       "</div>"
      ],
      "text/plain": [
       "        wn_code       word POS  pos_score  neg_score\n",
       "2849   00129527  attention   n      0.000      0.000\n",
       "11164  00654885  attention   n      0.000      0.000\n",
       "19631  01228645  attention   n      0.250      0.000\n",
       "54030  05082790  attention   n      0.000      0.000\n",
       "56380  05650579  attention   n      0.000      0.125\n",
       "56649  05702275  attention   n      0.000      0.000\n",
       "56650  05702726  attention   n      0.000      0.000\n",
       "56657  05704096  attention   n      0.125      0.000\n",
       "57439  05853636  attention   n      0.000      0.000"
      ]
     },
     "execution_count": 16,
     "metadata": {},
     "output_type": "execute_result"
    }
   ],
   "source": [
    "sentiments_fr[sentiments_fr[\"word\"] == \"attention\"]"
   ]
  },
  {
   "cell_type": "markdown",
   "metadata": {},
   "source": [
    "Calcul de la positivité et de la négativité pour une phrase en sommant la positivité et la négativité moyenne de chaque terme composant la phrase"
   ]
  },
  {
   "cell_type": "code",
   "execution_count": 17,
   "metadata": {},
   "outputs": [],
   "source": [
    "# conditions : liste de tuples (lemme, POS)\n",
    "def extract_mean_pos_neg(conditions_sent):\n",
    "    mean_pos_sent, mean_neg_sent = 0, 0\n",
    "    if len(conditions_sent)>0 :\n",
    "        getword = operator.itemgetter(0)\n",
    "        words = list(map(getword,conditions_sent))\n",
    "        sentiments_filtered = sentiments_fr[sentiments_fr[\"word\"].isin(words)]\n",
    "        for condition in conditions_sent :\n",
    "            result = sentiments_filtered [(sentiments_filtered [\"word\"] == condition[0]) & \n",
    "                                          (sentiments_filtered[\"POS\"] == condition[1])]\n",
    "            \n",
    "            result_size = result.shape[0]\n",
    "            if result_size >0 :\n",
    "                mean_pos_sent = mean_pos_sent + (np.sum(result[\"pos_score\"]))/result_size \n",
    "                mean_neg_sent = mean_neg_sent + (np.sum(result[\"neg_score\"]))/result_size \n",
    "            \n",
    "    return mean_pos_sent, mean_neg_sent"
   ]
  },
  {
   "cell_type": "markdown",
   "metadata": {},
   "source": [
    "### ====> Pre-processing (Data1) <====="
   ]
  },
  {
   "cell_type": "code",
   "execution_count": 18,
   "metadata": {},
   "outputs": [],
   "source": [
    "preprocessed_data_data1, pos_tagged_data1 = preprocess_data(verbatims_data1, cleaning=True, stemming=True, pos_tagging_lemmatization=False)"
   ]
  },
  {
   "cell_type": "markdown",
   "metadata": {},
   "source": [
    "### ====> Pre-processing (Oranged) <====="
   ]
  },
  {
   "cell_type": "code",
   "execution_count": 19,
   "metadata": {},
   "outputs": [],
   "source": [
    "preprocessed_data_oranged, pos_tagged_oranged = preprocess_data(verbatims_oranged, cleaning=True, stemming=True, pos_tagging_lemmatization=False)"
   ]
  },
  {
   "cell_type": "markdown",
   "metadata": {},
   "source": [
    "### ====> Pre-processing (Oranged, Data1) <====="
   ]
  },
  {
   "cell_type": "code",
   "execution_count": 20,
   "metadata": {},
   "outputs": [],
   "source": [
    "preprocessed_data, pos_tagged = preprocess_data(verbatims, cleaning=True, stemming=True, pos_tagging_lemmatization=True)"
   ]
  },
  {
   "cell_type": "markdown",
   "metadata": {},
   "source": [
    "Calcul de la positivité et de la négativité de tous les verbatims "
   ]
  },
  {
   "cell_type": "code",
   "execution_count": 98,
   "metadata": {},
   "outputs": [],
   "source": [
    "def compute_pos_neg(pos_tagged):\n",
    "\n",
    "    mean_pos = list()\n",
    "    mean_neg = list()\n",
    "    getlemma_pos = lambda x : (operator.attrgetter('lemma')(x),str(operator.attrgetter('pos')(x)).lower()[0]) if (isinstance(x,treetaggerwrapper.Tag)) else ('','')    \n",
    "\n",
    "    for sent in pos_tagged :\n",
    "        conditions = list(map(getlemma_pos,sent))\n",
    "        mean_pos_i , mean_neg_i = extract_mean_pos_neg(conditions)\n",
    "\n",
    "        mean_pos.append(mean_pos_i)\n",
    "        mean_neg.append(mean_neg_i)\n",
    "\n",
    "    mean_pos = pandas.DataFrame(mean_pos)\n",
    "    mean_neg = pandas.DataFrame(mean_neg)\n",
    "    \n",
    "    return mean_pos, mean_neg"
   ]
  },
  {
   "cell_type": "markdown",
   "metadata": {},
   "source": [
    "###  ====> Pre-processing (Toys) <====="
   ]
  },
  {
   "cell_type": "code",
   "execution_count": 22,
   "metadata": {},
   "outputs": [],
   "source": [
    "preprocessed_data_toys, pos_tagged_toys = preprocess_data(toys_data['verbatims'], stemming=False, pos_tagging_lemmatization=True)"
   ]
  },
  {
   "cell_type": "markdown",
   "metadata": {},
   "source": [
    "## ========================================================================="
   ]
  },
  {
   "cell_type": "markdown",
   "metadata": {},
   "source": [
    "### Enlever les bigrammes lorsque les trigrammes existent"
   ]
  },
  {
   "cell_type": "code",
   "execution_count": 22,
   "metadata": {},
   "outputs": [],
   "source": [
    "def delete_bigram(bigram,trigram,list_bigrams):\n",
    "    return (bigram in list_bigrams)\n",
    "\n",
    "def remove_bigram_when_trigram(feature_names):\n",
    "    feature_names_reduced= list(feature_names)\n",
    "    number_of_words = {name :len(name.split()) for name in feature_names_reduced }\n",
    "\n",
    "    #Indexation des n-grams par son premier caractère et stockage dans un dictionnaire\n",
    "    dictionary= {char: list() for char in al}\n",
    "    for name in feature_names_reduced :\n",
    "        if(number_of_words[name]==2):\n",
    "            dictionary[name[0]].append(name) \n",
    "\n",
    "    for ngram in number_of_words:\n",
    "        if(number_of_words[ngram] == 3):\n",
    "            words = ngram.split()\n",
    "            firstchar_1 = words[0][0]\n",
    "            firstchar_2 = words[1][0]\n",
    "            bigram_left = words[0]+\" \"+words[1]\n",
    "            bigram_right = words[1]+\" \"+words[2]\n",
    "\n",
    "            # Verifier si le premier bigramme est present dans la liste des features, si oui le retirer \n",
    "            if(delete_bigram(bigram_left,ngram,dictionary[firstchar_1])) :\n",
    "                try:\n",
    "                    feature_names_reduced.remove(bigram_left)\n",
    "                except ValueError:\n",
    "                    pass  \n",
    "\n",
    "            # Verifier si le deuxieme bigramme est present dans la liste des features, si oui le retirer\n",
    "            if(delete_bigram(bigram_right,ngram,dictionary[firstchar_2])):\n",
    "                try:\n",
    "                    feature_names_reduced.remove(bigram_right)\n",
    "                except ValueError:\n",
    "                    pass  \n",
    "    return feature_names_reduced\n",
    "    # Récupération des indices des colonnes correspondant aux features sélectionnées\n",
    "    #feature_indexes = [tf.vocabulary_[feature] for feature in feature_names_reduced]   \n",
    "    \n",
    "    #return feature_indexes"
   ]
  },
  {
   "cell_type": "markdown",
   "metadata": {},
   "source": [
    "# ============================================================="
   ]
  },
  {
   "cell_type": "markdown",
   "metadata": {},
   "source": [
    "## Application du modèle"
   ]
  },
  {
   "cell_type": "markdown",
   "metadata": {},
   "source": [
    "### Définition des fonctions utilitaires"
   ]
  },
  {
   "cell_type": "code",
   "execution_count": 97,
   "metadata": {},
   "outputs": [],
   "source": [
    "# Le parametre \"scoring\" peut prendre une des valeurs de cette liste : \n",
    "\n",
    "# ['accuracy', 'adjusted_rand_score', 'average_precision', 'f1', 'f1_macro',\n",
    "#'f1_micro', 'f1_samples', 'f1_weighted', 'log_loss', 'mean_absolute_error', 'mean_squared_error', 'median_absolute_error',\n",
    "#'precision', 'precision_macro', 'precision_micro', 'precision_samples', 'precision_weighted', 'r2', 'recall', 'recall_macro',\n",
    "#'recall_micro', 'recall_samples', 'recall_weighted', 'roc_auc']\n",
    "\n",
    "def classify(classifier,preprocessed_data, y, params,with_grid_search,folds= 5,scoring='f1_weighted'):\n",
    "    \n",
    "    # Constitution des ensembles de training, validation et test\n",
    "    preprocessed_data_train, preprocessed_data_test, y_train, y_test = train_test_split(preprocessed_data,y,test_size=0.3)\n",
    "  \n",
    "    print(\"****** Training *******\")\n",
    "    print(\"Classifieur utilisé : \",parse_classifier(classifier))\n",
    "        \n",
    "    # AVEC GridSearch\n",
    "    if with_grid_search : \n",
    "        grid_search = GridSearchCV(classifier, param_grid=params, cv= folds, scoring = scoring)\n",
    "        grid_search.fit(preprocessed_data_train,list(y_train))\n",
    "        y_hat = grid_search.predict(preprocessed_data_test)\n",
    "        \n",
    "        \n",
    "        print(\"Best score: %0.3f\" % grid_search.best_score_)\n",
    "        print(\"Best parameters set:\")\n",
    "        best_parameters = grid_search.best_estimator_.get_params()\n",
    "        for param_name in sorted(params.keys()):\n",
    "            print(\"\\t%s: %r\" % (param_name, best_parameters[param_name])) \n",
    "    \n",
    "    # SANS GridSearch\n",
    "    else :\n",
    "        y_hat = cross_val_predict(classifier,preprocessed_data,y,cv=folds)\n",
    "        y_test = y\n",
    "        \n",
    "    compute_scores_test(y_test,y_hat,y)\n",
    "        \n",
    "def compute_scores_test(y_test,y_hat,y):\n",
    "    print(\"\\n ******* Test *******\")\n",
    "    result = pandas.DataFrame()\n",
    "    score_misclassification = zero_one_loss(y_test,y_hat,normalize=True)\n",
    "    print(\"Précision 0/1 loss:\" ,1 - score_misclassification)\n",
    "    print(\"Précision F1:\" , f1_score(y_test,y_hat,average='weighted',labels=np.unique(y)))\n",
    "    print(\"Hasard : \", 1/len(np.unique(y)))\n",
    "    \n",
    "def parse_classifier(classifier):\n",
    "    if  isinstance(classifier,Pipeline) : \n",
    "        return list(map(operator.itemgetter(1),classifier.steps))\n",
    "    else :\n",
    "        return classifier"
   ]
  },
  {
   "cell_type": "markdown",
   "metadata": {},
   "source": [
    "### Applications et tuning"
   ]
  },
  {
   "cell_type": "markdown",
   "metadata": {},
   "source": [
    "TF-IDF + Select K-Best + Naive Bayes (Gridsearch)"
   ]
  },
  {
   "cell_type": "code",
   "execution_count": 32,
   "metadata": {},
   "outputs": [],
   "source": [
    "ml_pipeline = Pipeline([\n",
    "        ('vectorization',TfidfVectorizer(analyzer='word', min_df = 0)),\n",
    "  ('feature_selection', SelectPercentile(percentile=90)),\n",
    "  ('classification', MultinomialNB())\n",
    "])\n",
    "\n",
    "params = dict(vectorization__ngram_range=[(1,1),(1,2),(1,3)],vectorization__sublinear_tf=[True,False],\n",
    "              feature_selection__score_func =[chi2,f_classif],feature_selection__percentile=[70,80,90,95,100],\n",
    "              classification__alpha=[.01,.05,.1,.2,.5,1,5])"
   ]
  },
  {
   "cell_type": "markdown",
   "metadata": {},
   "source": [
    "## Sentiments"
   ]
  },
  {
   "cell_type": "markdown",
   "metadata": {},
   "source": [
    "### Oranged  ==> Sentiments"
   ]
  },
  {
   "cell_type": "code",
   "execution_count": 89,
   "metadata": {},
   "outputs": [
    {
     "name": "stdout",
     "output_type": "stream",
     "text": [
      "****** Training *******\n",
      "Classifieur utilisé :  [TfidfVectorizer(analyzer='word', binary=False, decode_error='strict',\n",
      "        dtype=<class 'numpy.int64'>, encoding='utf-8', input='content',\n",
      "        lowercase=True, max_df=1.0, max_features=None, min_df=0,\n",
      "        ngram_range=(1, 1), norm='l2', preprocessor=None, smooth_idf=True,\n",
      "        stop_words=None, strip_accents=None, sublinear_tf=False,\n",
      "        token_pattern='(?u)\\\\b\\\\w\\\\w+\\\\b', tokenizer=None, use_idf=True,\n",
      "        vocabulary=None), SelectPercentile(percentile=90,\n",
      "         score_func=<function f_classif at 0x00000000099E4510>), MultinomialNB(alpha=1.0, class_prior=None, fit_prior=True)]\n",
      "Best score: 0.619\n",
      "Best parameters set:\n",
      "\tclassification__alpha: 0.2\n",
      "\tfeature_selection__percentile: 90\n",
      "\tfeature_selection__score_func: <function f_classif at 0x00000000099E4510>\n",
      "\tvectorization__ngram_range: (1, 1)\n",
      "\tvectorization__sublinear_tf: True\n",
      "\n",
      " ******* Test *******\n",
      "Précision 0/1 loss: 0.635491606715\n",
      "Précision F1: 0.57602679436\n",
      "Hasard :  0.3333333333333333\n"
     ]
    }
   ],
   "source": [
    "classify(ml_pipeline,preprocessed_data_oranged, y_oranged, params,with_grid_search=True,folds= 5, scoring='accuracy')"
   ]
  },
  {
   "cell_type": "markdown",
   "metadata": {},
   "source": [
    "### Data1  ==> Sentiments"
   ]
  },
  {
   "cell_type": "code",
   "execution_count": 90,
   "metadata": {},
   "outputs": [
    {
     "name": "stdout",
     "output_type": "stream",
     "text": [
      "****** Training *******\n",
      "Classifieur utilisé :  [TfidfVectorizer(analyzer='word', binary=False, decode_error='strict',\n",
      "        dtype=<class 'numpy.int64'>, encoding='utf-8', input='content',\n",
      "        lowercase=True, max_df=1.0, max_features=None, min_df=0,\n",
      "        ngram_range=(1, 1), norm='l2', preprocessor=None, smooth_idf=True,\n",
      "        stop_words=None, strip_accents=None, sublinear_tf=False,\n",
      "        token_pattern='(?u)\\\\b\\\\w\\\\w+\\\\b', tokenizer=None, use_idf=True,\n",
      "        vocabulary=None), SelectPercentile(percentile=90,\n",
      "         score_func=<function f_classif at 0x00000000099E4510>), MultinomialNB(alpha=1.0, class_prior=None, fit_prior=True)]\n",
      "Best score: 0.757\n",
      "Best parameters set:\n",
      "\tclassification__alpha: 0.2\n",
      "\tfeature_selection__percentile: 100\n",
      "\tfeature_selection__score_func: <function chi2 at 0x00000000099E4620>\n",
      "\tvectorization__ngram_range: (1, 1)\n",
      "\tvectorization__sublinear_tf: False\n",
      "\n",
      " ******* Test *******\n",
      "Précision 0/1 loss: 0.744769874477\n",
      "Précision F1: 0.706897559608\n",
      "Hasard :  0.3333333333333333\n"
     ]
    },
    {
     "name": "stderr",
     "output_type": "stream",
     "text": [
      "C:\\Anaconda3\\lib\\site-packages\\sklearn\\metrics\\classification.py:976: DeprecationWarning: From version 0.18, binary input will not be handled specially when using averaged precision/recall/F-score. Please use average='binary' to report only the positive class performance.\n",
      "  'positive class performance.', DeprecationWarning)\n",
      "C:\\Anaconda3\\lib\\site-packages\\sklearn\\metrics\\classification.py:1074: UndefinedMetricWarning: F-score is ill-defined and being set to 0.0 in labels with no predicted samples.\n",
      "  'precision', 'predicted', average, warn_for)\n",
      "C:\\Anaconda3\\lib\\site-packages\\sklearn\\metrics\\classification.py:1076: UndefinedMetricWarning: F-score is ill-defined and being set to 0.0 in labels with no true samples.\n",
      "  'recall', 'true', average, warn_for)\n"
     ]
    }
   ],
   "source": [
    "classify(ml_pipeline,preprocessed_data_data1, y_data1, params,with_grid_search=True,folds= 5, scoring='accuracy')"
   ]
  },
  {
   "cell_type": "markdown",
   "metadata": {},
   "source": [
    "### Oranged, Data1  ==> Sentiments"
   ]
  },
  {
   "cell_type": "code",
   "execution_count": 91,
   "metadata": {},
   "outputs": [
    {
     "name": "stdout",
     "output_type": "stream",
     "text": [
      "****** Training *******\n",
      "Classifieur utilisé :  [TfidfVectorizer(analyzer='word', binary=False, decode_error='strict',\n",
      "        dtype=<class 'numpy.int64'>, encoding='utf-8', input='content',\n",
      "        lowercase=True, max_df=1.0, max_features=None, min_df=0,\n",
      "        ngram_range=(1, 1), norm='l2', preprocessor=None, smooth_idf=True,\n",
      "        stop_words=None, strip_accents=None, sublinear_tf=False,\n",
      "        token_pattern='(?u)\\\\b\\\\w\\\\w+\\\\b', tokenizer=None, use_idf=True,\n",
      "        vocabulary=None), SelectPercentile(percentile=90,\n",
      "         score_func=<function f_classif at 0x00000000099E4510>), MultinomialNB(alpha=1.0, class_prior=None, fit_prior=True)]\n",
      "Best score: 0.693\n",
      "Best parameters set:\n",
      "\tclassification__alpha: 0.1\n",
      "\tfeature_selection__percentile: 100\n",
      "\tfeature_selection__score_func: <function chi2 at 0x00000000099E4620>\n",
      "\tvectorization__ngram_range: (1, 1)\n",
      "\tvectorization__sublinear_tf: False\n",
      "\n",
      " ******* Test *******\n",
      "Précision 0/1 loss: 0.710758377425\n",
      "Précision F1: 0.660053227877\n",
      "Hasard :  0.3333333333333333\n"
     ]
    }
   ],
   "source": [
    "classify(ml_pipeline,preprocessed_data, y, params,with_grid_search=True,folds= 5, scoring='accuracy')"
   ]
  },
  {
   "cell_type": "markdown",
   "metadata": {},
   "source": [
    "## Utilisation de la moyenne de sentiments "
   ]
  },
  {
   "cell_type": "code",
   "execution_count": 100,
   "metadata": {
    "collapsed": true
   },
   "outputs": [],
   "source": [
    "mean_pos, mean_neg = compute_pos_neg(pos_tagged)\n",
    "sentiments_num_hat = np.sign(mean_pos - mean_neg)"
   ]
  },
  {
   "cell_type": "code",
   "execution_count": 119,
   "metadata": {},
   "outputs": [],
   "source": [
    "def translate_to_sentiments(y):\n",
    "    target = pandas.Series(list(y))\n",
    "    target[target == 'satisfait'] = 1\n",
    "    target[target == 'insatisfait'] = -1\n",
    "    target[target == 'indifférent'] = 0\n",
    "    return target\n",
    "\n",
    "sentiments_num = translate_to_sentiments(y)"
   ]
  },
  {
   "cell_type": "code",
   "execution_count": 122,
   "metadata": {},
   "outputs": [
    {
     "data": {
      "text/plain": [
       "0.5387873974053482"
      ]
     },
     "execution_count": 122,
     "metadata": {},
     "output_type": "execute_result"
    }
   ],
   "source": [
    "np.sum(sentiments_hat[0]== sentiments_num)/len(y)"
   ]
  },
  {
   "cell_type": "markdown",
   "metadata": {},
   "source": [
    "## =================================\n",
    "## Utilisation de la moyenne de sentiments + Multinomial N.B."
   ]
  },
  {
   "cell_type": "code",
   "execution_count": 389,
   "metadata": {},
   "outputs": [],
   "source": [
    "ml_pipeline = Pipeline([\n",
    "        ('vectorization',TfidfVectorizer(analyzer='word', min_df = 0,ngram_range=(1,3),sublinear_tf=True)),\n",
    "  ('feature_selection', SelectKBest(score_func=chi2,k=10000))])\n",
    "\n",
    "                       \n",
    "X_new = ml_pipeline.fit_transform(preprocessed_data,y.cat.codes)\n"
   ]
  },
  {
   "cell_type": "code",
   "execution_count": 390,
   "metadata": {},
   "outputs": [],
   "source": [
    "classifier = MultinomialNB()\n",
    "y_hat = cross_val_predict(classifier,X_new,y.cat.codes)\n",
    "score_misclassification = zero_one_loss(y.cat.codes,y_hat,normalize=True)"
   ]
  },
  {
   "cell_type": "code",
   "execution_count": 391,
   "metadata": {},
   "outputs": [
    {
     "data": {
      "text/plain": [
       "0.66216574000529516"
      ]
     },
     "execution_count": 391,
     "metadata": {},
     "output_type": "execute_result"
    }
   ],
   "source": [
    "1 - score_misclassification"
   ]
  },
  {
   "cell_type": "code",
   "execution_count": 392,
   "metadata": {},
   "outputs": [],
   "source": [
    "y_hat = pandas.Series(y_hat)"
   ]
  },
  {
   "cell_type": "code",
   "execution_count": 395,
   "metadata": {},
   "outputs": [],
   "source": [
    "X_new_2 = pandas.concat([y_hat,pandas.DataFrame(mean_pos) , pandas.DataFrame(mean_neg)], axis=1)\n",
    "#X_new_2 = pandas.concat([pandas.DataFrame(mean_pos) , pandas.DataFrame(mean_neg)], axis=1)"
   ]
  },
  {
   "cell_type": "code",
   "execution_count": 396,
   "metadata": {},
   "outputs": [],
   "source": [
    "classifier2 = LogisticRegression()\n",
    "y_hat_2 = cross_val_predict(classifier2,X_new_2,y.cat.codes)\n",
    "score_misclassification = zero_one_loss(y.cat.codes,y_hat_2,normalize=True)"
   ]
  },
  {
   "cell_type": "code",
   "execution_count": 397,
   "metadata": {},
   "outputs": [
    {
     "name": "stdout",
     "output_type": "stream",
     "text": [
      "0.676462801165\n"
     ]
    }
   ],
   "source": [
    "print(1- score_misclassification)"
   ]
  },
  {
   "cell_type": "markdown",
   "metadata": {},
   "source": [
    "## ================================================"
   ]
  },
  {
   "cell_type": "markdown",
   "metadata": {},
   "source": [
    "## Categorisation du contenu"
   ]
  },
  {
   "cell_type": "code",
   "execution_count": 92,
   "metadata": {
    "collapsed": true
   },
   "outputs": [],
   "source": [
    "verbatims_data1, y_data1_cat = extract_verbatimsandtarget(data,[\"data1\"],\"categories\")\n",
    "verbatims_oranged, y_oranged_cat = extract_verbatimsandtarget(data,[\"oranged\"],\"categories\")"
   ]
  },
  {
   "cell_type": "markdown",
   "metadata": {},
   "source": [
    "## Data1 ==> Categorisation"
   ]
  },
  {
   "cell_type": "code",
   "execution_count": 126,
   "metadata": {},
   "outputs": [
    {
     "data": {
      "text/plain": [
       "98"
      ]
     },
     "execution_count": 126,
     "metadata": {},
     "output_type": "execute_result"
    }
   ],
   "source": [
    "len(np.unique(y_data1_cat))"
   ]
  },
  {
   "cell_type": "code",
   "execution_count": 1,
   "metadata": {},
   "outputs": [
    {
     "ename": "NameError",
     "evalue": "name 'classify' is not defined",
     "output_type": "error",
     "traceback": [
      "\u001b[1;31m---------------------------------------------------------------------------\u001b[0m",
      "\u001b[1;31mNameError\u001b[0m                                 Traceback (most recent call last)",
      "\u001b[1;32m<ipython-input-1-d06b03b4e6de>\u001b[0m in \u001b[0;36m<module>\u001b[1;34m\u001b[0m\n\u001b[1;32m----> 1\u001b[1;33m \u001b[0mclassify\u001b[0m\u001b[1;33m(\u001b[0m\u001b[0mml_pipeline\u001b[0m\u001b[1;33m,\u001b[0m\u001b[0mpreprocessed_data_data1\u001b[0m\u001b[1;33m,\u001b[0m \u001b[0my_data1_cat\u001b[0m\u001b[1;33m,\u001b[0m \u001b[0mparams\u001b[0m\u001b[1;33m,\u001b[0m\u001b[0mwith_grid_search\u001b[0m\u001b[1;33m=\u001b[0m\u001b[1;32mTrue\u001b[0m\u001b[1;33m,\u001b[0m\u001b[0mfolds\u001b[0m\u001b[1;33m=\u001b[0m \u001b[1;36m5\u001b[0m\u001b[1;33m)\u001b[0m\u001b[1;33m\u001b[0m\u001b[1;33m\u001b[0m\u001b[0m\n\u001b[0m",
      "\u001b[1;31mNameError\u001b[0m: name 'classify' is not defined"
     ]
    }
   ],
   "source": [
    "classify(ml_pipeline,preprocessed_data_data1, y_data1_cat, params,with_grid_search=True,folds= 5)"
   ]
  },
  {
   "cell_type": "markdown",
   "metadata": {},
   "source": [
    "## Orange ==> Categorisation"
   ]
  },
  {
   "cell_type": "code",
   "execution_count": 2,
   "metadata": {},
   "outputs": [
    {
     "ename": "NameError",
     "evalue": "name 'classify' is not defined",
     "output_type": "error",
     "traceback": [
      "\u001b[1;31m---------------------------------------------------------------------------\u001b[0m",
      "\u001b[1;31mNameError\u001b[0m                                 Traceback (most recent call last)",
      "\u001b[1;32m<ipython-input-2-897f0b97a969>\u001b[0m in \u001b[0;36m<module>\u001b[1;34m\u001b[0m\n\u001b[1;32m----> 1\u001b[1;33m \u001b[0mclassify\u001b[0m\u001b[1;33m(\u001b[0m\u001b[0mml_pipeline\u001b[0m\u001b[1;33m,\u001b[0m\u001b[0mpreprocessed_data_oranged\u001b[0m\u001b[1;33m,\u001b[0m \u001b[0my_oranged_cat\u001b[0m\u001b[1;33m,\u001b[0m \u001b[0mparams\u001b[0m\u001b[1;33m,\u001b[0m\u001b[0mwith_grid_search\u001b[0m\u001b[1;33m=\u001b[0m\u001b[1;32mTrue\u001b[0m\u001b[1;33m,\u001b[0m\u001b[0mfolds\u001b[0m\u001b[1;33m=\u001b[0m \u001b[1;36m5\u001b[0m\u001b[1;33m)\u001b[0m\u001b[1;33m\u001b[0m\u001b[1;33m\u001b[0m\u001b[0m\n\u001b[0m",
      "\u001b[1;31mNameError\u001b[0m: name 'classify' is not defined"
     ]
    }
   ],
   "source": [
    "classify(ml_pipeline,preprocessed_data_oranged, y_oranged_cat, params,with_grid_search=True,folds= 5)"
   ]
  },
  {
   "cell_type": "markdown",
   "metadata": {},
   "source": [
    "# Tuning "
   ]
  },
  {
   "cell_type": "code",
   "execution_count": 352,
   "metadata": {},
   "outputs": [
    {
     "name": "stdout",
     "output_type": "stream",
     "text": [
      "             precision    recall  f1-score   support\n",
      "\n",
      "    ACCUEIL       0.00      0.00      0.00        46\n",
      "     Autres       0.28      0.27      0.28       151\n",
      "CONSEIL ET SERVICE       0.00      0.00      0.00        51\n",
      "    CONTRAT       0.00      0.00      0.00        11\n",
      "FACTURATION       0.26      0.77      0.39       180\n",
      "MODIFICATION CONTRAT FOURNITURE       0.23      0.06      0.09        87\n",
      "QUALITE DE FOURNITURE & RESEAUX       0.00      0.00      0.00         6\n",
      "RECOUVREMENT       0.00      0.00      0.00         4\n",
      "RELATIONS AVEC LE DISTRIBUTEUR       0.00      0.00      0.00        33\n",
      "     RELEVE       0.00      0.00      0.00         1\n",
      "RESILIATION CONTRAT FOURNITURE       0.00      0.00      0.00        56\n",
      "SOUSCRIPTION CONTRAT FOURNITURE       0.12      0.02      0.04        91\n",
      "\n",
      "avg / total       0.17      0.26      0.17       717\n",
      "\n"
     ]
    },
    {
     "name": "stderr",
     "output_type": "stream",
     "text": [
      "C:\\Anaconda3\\lib\\site-packages\\sklearn\\metrics\\classification.py:1074: UndefinedMetricWarning: Precision and F-score are ill-defined and being set to 0.0 in labels with no predicted samples.\n",
      "  'precision', 'predicted', average, warn_for)\n"
     ]
    }
   ],
   "source": [
    "print(metrics.classification_report(y_test, y_hat))"
   ]
  },
  {
   "cell_type": "code",
   "execution_count": 18,
   "metadata": {},
   "outputs": [],
   "source": [
    "class SelectTrigram(SelectKBest):  \n",
    "\n",
    "    def __init__(self,feature_names,k='all'):\n",
    "        super(SelectTrigram, self).__init__( score_func=chi2,k=k)\n",
    "        self.feature_names = feature_names\n",
    "        \n",
    "    def transform(self, X):\n",
    "        X_r = super().transform(X)\n",
    "        feature_names_1 = [self.feature_names[i] for i in self.get_support(indices=True)]\n",
    "        idx = remove_bigram_when_trigram(feature_names_1)\n",
    "        return X[:,idx]"
   ]
  },
  {
   "cell_type": "code",
   "execution_count": 25,
   "metadata": {},
   "outputs": [],
   "source": [
    "tf = TfidfVectorizer(analyzer='word', ngram_range=(1,3), min_df = 0)\n",
    "\n",
    "tfidf_matrix_train =  tf.fit_transform(preprocessed_data_oranged)\n",
    "feature_names = tf.get_feature_names() "
   ]
  },
  {
   "cell_type": "code",
   "execution_count": 627,
   "metadata": {
    "collapsed": true
   },
   "outputs": [],
   "source": [
    "ml_pipeline_2 = Pipeline([\n",
    "  ('feature_selection', SelectTrigram(feature_names, k=10000)),\n",
    "  ('classification', MultinomialNB(alpha=.01))\n",
    "])"
   ]
  },
  {
   "cell_type": "markdown",
   "metadata": {},
   "source": [
    "## Doc2Vec"
   ]
  },
  {
   "cell_type": "code",
   "execution_count": 49,
   "metadata": {},
   "outputs": [],
   "source": [
    "sentences = []\n",
    "for item_no, line in enumerate(preprocessed_data):\n",
    "    sentences.append(LabeledSentence(line.split(), ['test'+str(item_no)]))"
   ]
  },
  {
   "cell_type": "code",
   "execution_count": 50,
   "metadata": {},
   "outputs": [],
   "source": [
    "# hs : hierarchichal sampling hs=1\n",
    "# negative : negative sampling (negative = 5)\n",
    "model = Doc2Vec(min_count=5, window=15,  sample=1e-4,workers=8, hs=1)\n",
    "model.build_vocab(sentences)"
   ]
  },
  {
   "cell_type": "code",
   "execution_count": 51,
   "metadata": {},
   "outputs": [
    {
     "data": {
      "text/plain": [
       "78539"
      ]
     },
     "execution_count": 51,
     "metadata": {},
     "output_type": "execute_result"
    }
   ],
   "source": [
    "#for epoch in range(10):\n",
    "model.train(sentences)"
   ]
  },
  {
   "cell_type": "code",
   "execution_count": 31,
   "metadata": {
    "collapsed": true
   },
   "outputs": [],
   "source": [
    "model.save('./vectorized.d2v')"
   ]
  },
  {
   "cell_type": "code",
   "execution_count": 32,
   "metadata": {},
   "outputs": [
    {
     "data": {
      "text/plain": [
       "<gensim.models.doc2vec.Doc2Vec at 0xe467e80>"
      ]
     },
     "execution_count": 32,
     "metadata": {},
     "output_type": "execute_result"
    }
   ],
   "source": [
    "model.load('./vectorized.d2v')"
   ]
  },
  {
   "cell_type": "code",
   "execution_count": 52,
   "metadata": {},
   "outputs": [],
   "source": [
    "docvec = pandas.DataFrame(model.docvecs.doctag_syn0)\n"
   ]
  },
  {
   "cell_type": "code",
   "execution_count": 40,
   "metadata": {},
   "outputs": [
    {
     "ename": "ValueError",
     "evalue": "This solver needs samples of at least 2 classes in the data, but the data contains only one class: 4",
     "output_type": "error",
     "traceback": [
      "\u001b[1;31m---------------------------------------------------------------------------\u001b[0m",
      "\u001b[1;31mValueError\u001b[0m                                Traceback (most recent call last)",
      "\u001b[1;32m<ipython-input-40-2135eb900bfa>\u001b[0m in \u001b[0;36m<module>\u001b[1;34m()\u001b[0m\n\u001b[0;32m      1\u001b[0m \u001b[0mclassifier\u001b[0m \u001b[1;33m=\u001b[0m \u001b[0mLogisticRegression\u001b[0m\u001b[1;33m(\u001b[0m\u001b[1;33m)\u001b[0m\u001b[1;33m\u001b[0m\u001b[0m\n\u001b[0;32m      2\u001b[0m \u001b[0mdocvec_train\u001b[0m\u001b[1;33m,\u001b[0m \u001b[0mdocvec_test\u001b[0m\u001b[1;33m,\u001b[0m \u001b[0my_train\u001b[0m\u001b[1;33m,\u001b[0m \u001b[0my_test\u001b[0m \u001b[1;33m=\u001b[0m \u001b[0mtrain_test_split\u001b[0m\u001b[1;33m(\u001b[0m\u001b[0mdocvec\u001b[0m\u001b[1;33m,\u001b[0m\u001b[0my\u001b[0m\u001b[1;33m,\u001b[0m\u001b[0mtest_size\u001b[0m\u001b[1;33m=\u001b[0m\u001b[1;36m0.3\u001b[0m\u001b[1;33m)\u001b[0m\u001b[1;33m\u001b[0m\u001b[0m\n\u001b[1;32m----> 3\u001b[1;33m \u001b[0mclassifier\u001b[0m\u001b[1;33m.\u001b[0m\u001b[0mfit\u001b[0m\u001b[1;33m(\u001b[0m\u001b[0mdocvec_train\u001b[0m\u001b[1;33m,\u001b[0m\u001b[0my_train\u001b[0m\u001b[1;33m)\u001b[0m\u001b[1;33m\u001b[0m\u001b[0m\n\u001b[0m\u001b[0;32m      4\u001b[0m \u001b[0my_hat_test\u001b[0m \u001b[1;33m=\u001b[0m \u001b[0mclassifier\u001b[0m\u001b[1;33m.\u001b[0m\u001b[0mpredict\u001b[0m\u001b[1;33m(\u001b[0m\u001b[0mdocvec_test\u001b[0m\u001b[1;33m)\u001b[0m\u001b[1;33m\u001b[0m\u001b[0m\n\u001b[0;32m      5\u001b[0m \u001b[0mscore_misclassification\u001b[0m \u001b[1;33m=\u001b[0m \u001b[0mzero_one_loss\u001b[0m\u001b[1;33m(\u001b[0m\u001b[0my_test\u001b[0m\u001b[1;33m,\u001b[0m\u001b[0my_hat_test\u001b[0m\u001b[1;33m,\u001b[0m\u001b[0mnormalize\u001b[0m\u001b[1;33m=\u001b[0m\u001b[1;32mTrue\u001b[0m\u001b[1;33m)\u001b[0m\u001b[1;33m\u001b[0m\u001b[0m\n",
      "\u001b[1;32mC:\\Anaconda3\\lib\\site-packages\\sklearn\\linear_model\\logistic.py\u001b[0m in \u001b[0;36mfit\u001b[1;34m(self, X, y, sample_weight)\u001b[0m\n\u001b[0;32m   1152\u001b[0m                 \u001b[0mX\u001b[0m\u001b[1;33m,\u001b[0m \u001b[0my\u001b[0m\u001b[1;33m,\u001b[0m \u001b[0mself\u001b[0m\u001b[1;33m.\u001b[0m\u001b[0mC\u001b[0m\u001b[1;33m,\u001b[0m \u001b[0mself\u001b[0m\u001b[1;33m.\u001b[0m\u001b[0mfit_intercept\u001b[0m\u001b[1;33m,\u001b[0m \u001b[0mself\u001b[0m\u001b[1;33m.\u001b[0m\u001b[0mintercept_scaling\u001b[0m\u001b[1;33m,\u001b[0m\u001b[1;33m\u001b[0m\u001b[0m\n\u001b[0;32m   1153\u001b[0m                 \u001b[0mself\u001b[0m\u001b[1;33m.\u001b[0m\u001b[0mclass_weight\u001b[0m\u001b[1;33m,\u001b[0m \u001b[0mself\u001b[0m\u001b[1;33m.\u001b[0m\u001b[0mpenalty\u001b[0m\u001b[1;33m,\u001b[0m \u001b[0mself\u001b[0m\u001b[1;33m.\u001b[0m\u001b[0mdual\u001b[0m\u001b[1;33m,\u001b[0m \u001b[0mself\u001b[0m\u001b[1;33m.\u001b[0m\u001b[0mverbose\u001b[0m\u001b[1;33m,\u001b[0m\u001b[1;33m\u001b[0m\u001b[0m\n\u001b[1;32m-> 1154\u001b[1;33m                 self.max_iter, self.tol, self.random_state)\n\u001b[0m\u001b[0;32m   1155\u001b[0m             \u001b[0mself\u001b[0m\u001b[1;33m.\u001b[0m\u001b[0mn_iter_\u001b[0m \u001b[1;33m=\u001b[0m \u001b[0mnp\u001b[0m\u001b[1;33m.\u001b[0m\u001b[0marray\u001b[0m\u001b[1;33m(\u001b[0m\u001b[1;33m[\u001b[0m\u001b[0mn_iter_\u001b[0m\u001b[1;33m]\u001b[0m\u001b[1;33m)\u001b[0m\u001b[1;33m\u001b[0m\u001b[0m\n\u001b[0;32m   1156\u001b[0m             \u001b[1;32mreturn\u001b[0m \u001b[0mself\u001b[0m\u001b[1;33m\u001b[0m\u001b[0m\n",
      "\u001b[1;32mC:\\Anaconda3\\lib\\site-packages\\sklearn\\svm\\base.py\u001b[0m in \u001b[0;36m_fit_liblinear\u001b[1;34m(X, y, C, fit_intercept, intercept_scaling, class_weight, penalty, dual, verbose, max_iter, tol, random_state, multi_class, loss, epsilon)\u001b[0m\n\u001b[0;32m    883\u001b[0m             raise ValueError(\"This solver needs samples of at least 2 classes\"\n\u001b[0;32m    884\u001b[0m                              \u001b[1;34m\" in the data, but the data contains only one\"\u001b[0m\u001b[1;33m\u001b[0m\u001b[0m\n\u001b[1;32m--> 885\u001b[1;33m                              \" class: %r\" % classes_[0])\n\u001b[0m\u001b[0;32m    886\u001b[0m \u001b[1;33m\u001b[0m\u001b[0m\n\u001b[0;32m    887\u001b[0m         \u001b[0mclass_weight_\u001b[0m \u001b[1;33m=\u001b[0m \u001b[0mcompute_class_weight\u001b[0m\u001b[1;33m(\u001b[0m\u001b[0mclass_weight\u001b[0m\u001b[1;33m,\u001b[0m \u001b[0mclasses_\u001b[0m\u001b[1;33m,\u001b[0m \u001b[0my\u001b[0m\u001b[1;33m)\u001b[0m\u001b[1;33m\u001b[0m\u001b[0m\n",
      "\u001b[1;31mValueError\u001b[0m: This solver needs samples of at least 2 classes in the data, but the data contains only one class: 4"
     ]
    }
   ],
   "source": [
    "classifier = LogisticRegression()\n",
    "docvec_train, docvec_test, y_train, y_test = train_test_split(docvec,y,test_size=0.3)\n",
    "classifier.fit(docvec_train,y_train)\n",
    "y_hat_test = classifier.predict(docvec_test)\n",
    "score_misclassification = zero_one_loss(y_test,y_hat_test,normalize=True)"
   ]
  },
  {
   "cell_type": "code",
   "execution_count": 143,
   "metadata": {},
   "outputs": [
    {
     "data": {
      "text/plain": [
       "0.34479717813051147"
      ]
     },
     "execution_count": 143,
     "metadata": {},
     "output_type": "execute_result"
    }
   ],
   "source": [
    "score_misclassification"
   ]
  },
  {
   "cell_type": "markdown",
   "metadata": {},
   "source": [
    "# ============================================================="
   ]
  },
  {
   "cell_type": "markdown",
   "metadata": {},
   "source": [
    "# Topic Modeling"
   ]
  },
  {
   "cell_type": "code",
   "execution_count": 21,
   "metadata": {},
   "outputs": [],
   "source": [
    "def guess_topic_from_top_words(topic_modeller, feature_names, n_top_words,num_topics,X,verbatims,num_verbatims):\n",
    "    print(\"H\",topic_modeller.components_.shape)\n",
    "    topics = {}\n",
    "    topic_features=[]\n",
    "    \n",
    "    for topic_idx, topic in enumerate(topic_modeller.components_):\n",
    "        print(\"Topic #%d:\" % topic_idx)\n",
    "        features = [feature_names[i] for i in topic.argsort()[:-n_top_words - 1:-1]]\n",
    "        topic_features.append(features)\n",
    "        print(\",\".join(features))\n",
    "        \n",
    "        verbatim_topic = X[:,topic_idx].argsort()\n",
    "        print(verbatims.iloc[verbatim_topic[:-num_verbatims-1:-1]])\n",
    "        intitule = input(\"Entrez l'intitulé du topic n°\"+str(topic_idx)+ \": \")\n",
    "        topics.update({topic_idx : intitule})\n",
    "    compute_coherence_scores(num_topics,topic_features)\n",
    "    return topics\n",
    "\n",
    "def compute_coherence_scores(num_topics, topic_features):\n",
    "    combins = list(combinations(range(num_topics),2))\n",
    "    print(combins)\n",
    "    jaccard_sim = [jaccard_similarity_score(topic_features[combination[0]], topic_features[combination[1]], normalize=False\n",
    "                                           ) for combination in combins]\n",
    "    print(jaccard_sim)\n",
    "    return jaccard_sim\n",
    "    \n",
    "def draw_verbatims_per_topics(verbatims_topics,title,ax):\n",
    "    ax.set_aspect('auto')\n",
    "    graph=pandas.Series(verbatims_topics).value_counts().plot(kind='bar',color=['b','r','g','y','maroon'],title=title,ax=ax)\n",
    "    graph.axes.set_ylabel('Nombre de verbatims')\n",
    "\n",
    "def extract_topics(chain, preprocessed_data,num_topics, num_top_words,verbatims,num_verbatims):\n",
    "    X = preprocessed_data\n",
    "    X = chain['vectorizer'].fit_transform(X)\n",
    "    X = chain['decomposition_model'].fit_transform(X)\n",
    "\n",
    "    print(\"W\",X.shape)\n",
    "    \n",
    "        \n",
    "    # X is the matrix W in : A = W*H (W is a matrix (n_documents, n_topics)), H is in the attribute components_\n",
    "    topics = guess_topic_from_top_words(chain['decomposition_model'],\n",
    "                                          chain['vectorizer'].get_feature_names(),num_top_words,num_topics,X,verbatims,num_verbatims)\n",
    "    verbatim_topic = [topics[x] for x in X.argmax(axis=1)]\n",
    "    return topics, verbatim_topic\n",
    "\n",
    "def extract_topics_by_sentiment(chain, preprocessed_data, y,num_topics, num_top_words,ax,verbatims,num_verbatims):\n",
    "    d = {'preprocessed_data': preprocessed_data, 'y': y}\n",
    "    #d = {'preprocessed_data': preprocessed_data}\n",
    "    data = pandas.DataFrame(data=d)\n",
    "    i=0\n",
    "    #for sentiment in np.unique(y):\n",
    "    #    topics, verbatim_topic= extract_topics(chain, data[data[\"y\"] == sentiment][\"preprocessed_data\"],\n",
    "    #                                           num_topics, num_top_words,verbatims[data[\"y\"] == sentiment])\n",
    "    #    draw_verbatims_per_topics(verbatim_topic,sentiment,ax[i])\n",
    "    #    i += 1\n",
    "    topics, verbatim_topic= extract_topics(chain, data[\"preprocessed_data\"], num_topics, num_top_words,verbatims,num_verbatims)\n",
    "    draw_verbatims_per_topics(verbatim_topic,'tout',ax.flatten()[i])\n",
    "    "
   ]
  },
  {
   "cell_type": "markdown",
   "metadata": {},
   "source": [
    "1) TF-IDF + NMF (Non-Negative Matrix Factorization)"
   ]
  },
  {
   "cell_type": "code",
   "execution_count": 156,
   "metadata": {
    "scrolled": true
   },
   "outputs": [
    {
     "name": "stdout",
     "output_type": "stream",
     "text": [
      "W (3777, 5)\n",
      "H (5, 25885)\n",
      "Topic #0:\n",
      "suivre satisfaire,satisfaire reponse,satisfaire ajouter,satisfaire instant,special suivre,satisfaire contact,reponse edf,contact conseiller,satisfaire demande,requete suivre\n",
      "376        \\n   rien je suis satisfait.\n",
      "784                  je suis satisfaite\n",
      "1730    rien de plus je suis satisfaite\n",
      "2952                 je suis satisfaite\n",
      "681                  je suis satisfaite\n",
      "Name: verbatims, dtype: object\n",
      "Entrez l'intitulé du topic n°0: satisfaction\n",
      "Topic #1:\n",
      "temps attente,reduire temps,attente conseiller,attente long,attente telephone,diminuer temps,attente joindre,attente minute,joindre conseiller,obtenir conseiller\n",
      "1913              le temps d'attente\n",
      "2118         trop de temps d'attente\n",
      "2013                 Temps d'attente\n",
      "693          Trop de temps d'attente\n",
      "2213    Réduire le temps d'attente ?\n",
      "Name: verbatims, dtype: object\n",
      "Entrez l'intitulé du topic n°1: attente\n",
      "Topic #2:\n",
      "rapide efficace,service rapide,clair rapide,conseiller rapide,efficace parfait,solution rapide,trouver solution,performant courtois,efficace performant,efficace probleme\n",
      "2486         Rapide et efficace.\n",
      "2678          Rapide et efficace\n",
      "3634          Rapide et efficace\n",
      "2483     Rapide. Efficace. Merci\n",
      "3405    Assez rapide et efficace\n",
      "Name: verbatims, dtype: object\n",
      "Entrez l'intitulé du topic n°2: efficacité\n",
      "Topic #3:\n",
      "delai attente,reduire delai,attente telephonique,attente long,raccourcir delai,attente conseiller,obtenir conseiller,diminuer delai,ameliorer delai,attente obtenir\n",
      "700                          délai d'attente\n",
      "2289              rèduire le délai d'attente\n",
      "1658              Réduire le délai d'attente\n",
      "634        reduire un peu le délai d'attente\n",
      "1988    Delai d'attente trop long 46 mn !!!!\n",
      "Name: verbatims, dtype: object\n",
      "Entrez l'intitulé du topic n°3: attente\n",
      "Topic #4:\n",
      "attente longue,longue conseiller,longue telephone,trouver attente,longue exasperant,longue comuniquer,comuniquer conseiller,proposition rappeler,telephone proposition,longue second\n",
      "3717         attente trop longue pour avoir un conseiller\n",
      "1128                Attente longue à avoir un conseiller.\n",
      "3164         attente trop longue pour avoir un conseiller\n",
      "968     L'attente est trop longue avant d'avoir un con...\n",
      "137     une attente moins longue pour avoir un conseil...\n",
      "Name: verbatims, dtype: object\n",
      "Entrez l'intitulé du topic n°4: attente\n",
      "[(0, 1), (0, 2), (0, 3), (0, 4), (1, 2), (1, 3), (1, 4), (2, 3), (2, 4), (3, 4)]\n",
      "[0, 0, 0, 0, 0, 1, 0, 0, 0, 0]\n"
     ]
    },
    {
     "data": {
      "image/png": "[encoded data removed]",
      "text/plain": [
       "<matplotlib.figure.Figure at 0x14f86fd0>"
      ]
     },
     "metadata": {},
     "output_type": "display_data"
    }
   ],
   "source": [
    "num_topics = 5\n",
    "num_top_words = 10\n",
    "num_verbatims = 5\n",
    "fig, ax = plt.subplots(nrows=1, ncols=4)\n",
    "fig.tight_layout() \n",
    "plt.subplots_adjust(wspace=1)\n",
    "\n",
    "chain = {\"vectorizer\" : TfidfVectorizer(analyzer='word', ngram_range=(2,2),sublinear_tf=True, min_df = 0),\n",
    "  \"decomposition_model\" : NMF(n_components=num_topics, init='nndsvd', random_state=1)}\n",
    "\n",
    "extract_topics_by_sentiment(chain,preprocessed_data,y,num_topics,num_top_words,ax,verbatims,num_verbatims)"
   ]
  },
  {
   "cell_type": "markdown",
   "metadata": {},
   "source": [
    "2) TF-IDF + LDA (Latent Dirichlet Allocation)"
   ]
  },
  {
   "cell_type": "code",
   "execution_count": 113,
   "metadata": {
    "scrolled": true
   },
   "outputs": [
    {
     "name": "stdout",
     "output_type": "stream",
     "text": [
      "W (48385, 5)\n",
      "H (5, 43283)\n",
      "Topic #0:\n",
      "caisse,attente,attente caisse,personnel,prix,produit,desagreable,magasin,personnel desagreable,jouet\n",
      "1536    LA DIRECTION EST DE MAUVAISE FOI SUITE A UN PR...\n",
      "1559    LA DIRECTION EST DE MAUVAISE FOI SUITE A UN PR...\n",
      "1536    LA DIRECTION EST DE MAUVAISE FOI SUITE A UN PR...\n",
      "1536    LA DIRECTION EST DE MAUVAISE FOI SUITE A UN PR...\n",
      "1536    LA DIRECTION EST DE MAUVAISE FOI SUITE A UN PR...\n",
      "Name: verbatims, dtype: object\n",
      "Entrez l'intitulé du topic n°0: a\n",
      "Topic #1:\n",
      "magasin,prix,produit,caisse,achat,mauvais,personnel,vendeur,enseigne,attente\n",
      "1350    pas de stock et trop d attente en caisse.1er a...\n",
      "1258    pas de stock et trop d attente en caisse.1er a...\n",
      "1258    pas de stock et trop d attente en caisse.1er a...\n",
      "1258    pas de stock et trop d attente en caisse.1er a...\n",
      "1258    pas de stock et trop d attente en caisse.1er a...\n",
      "Name: verbatims, dtype: object\n",
      "Entrez l'intitulé du topic n°1: a\n"
     ]
    },
    {
     "ename": "KeyboardInterrupt",
     "evalue": "",
     "output_type": "error",
     "traceback": [
      "\u001b[1;31m---------------------------------------------------------------------------\u001b[0m",
      "\u001b[1;31mKeyboardInterrupt\u001b[0m                         Traceback (most recent call last)",
      "\u001b[1;32mC:\\Anaconda3\\lib\\site-packages\\ipykernel\\kernelbase.py\u001b[0m in \u001b[0;36m_input_request\u001b[1;34m(self, prompt, ident, parent, password)\u001b[0m\n\u001b[0;32m    713\u001b[0m             \u001b[1;32mtry\u001b[0m\u001b[1;33m:\u001b[0m\u001b[1;33m\u001b[0m\u001b[0m\n\u001b[1;32m--> 714\u001b[1;33m                 \u001b[0mident\u001b[0m\u001b[1;33m,\u001b[0m \u001b[0mreply\u001b[0m \u001b[1;33m=\u001b[0m \u001b[0mself\u001b[0m\u001b[1;33m.\u001b[0m\u001b[0msession\u001b[0m\u001b[1;33m.\u001b[0m\u001b[0mrecv\u001b[0m\u001b[1;33m(\u001b[0m\u001b[0mself\u001b[0m\u001b[1;33m.\u001b[0m\u001b[0mstdin_socket\u001b[0m\u001b[1;33m,\u001b[0m \u001b[1;36m0\u001b[0m\u001b[1;33m)\u001b[0m\u001b[1;33m\u001b[0m\u001b[0m\n\u001b[0m\u001b[0;32m    715\u001b[0m             \u001b[1;32mexcept\u001b[0m \u001b[0mException\u001b[0m\u001b[1;33m:\u001b[0m\u001b[1;33m\u001b[0m\u001b[0m\n",
      "\u001b[1;32mC:\\Anaconda3\\lib\\site-packages\\jupyter_client\\session.py\u001b[0m in \u001b[0;36mrecv\u001b[1;34m(self, socket, mode, content, copy)\u001b[0m\n\u001b[0;32m    738\u001b[0m         \u001b[1;32mtry\u001b[0m\u001b[1;33m:\u001b[0m\u001b[1;33m\u001b[0m\u001b[0m\n\u001b[1;32m--> 739\u001b[1;33m             \u001b[0mmsg_list\u001b[0m \u001b[1;33m=\u001b[0m \u001b[0msocket\u001b[0m\u001b[1;33m.\u001b[0m\u001b[0mrecv_multipart\u001b[0m\u001b[1;33m(\u001b[0m\u001b[0mmode\u001b[0m\u001b[1;33m,\u001b[0m \u001b[0mcopy\u001b[0m\u001b[1;33m=\u001b[0m\u001b[0mcopy\u001b[0m\u001b[1;33m)\u001b[0m\u001b[1;33m\u001b[0m\u001b[0m\n\u001b[0m\u001b[0;32m    740\u001b[0m         \u001b[1;32mexcept\u001b[0m \u001b[0mzmq\u001b[0m\u001b[1;33m.\u001b[0m\u001b[0mZMQError\u001b[0m \u001b[1;32mas\u001b[0m \u001b[0me\u001b[0m\u001b[1;33m:\u001b[0m\u001b[1;33m\u001b[0m\u001b[0m\n",
      "\u001b[1;32mC:\\Anaconda3\\lib\\site-packages\\zmq\\sugar\\socket.py\u001b[0m in \u001b[0;36mrecv_multipart\u001b[1;34m(self, flags, copy, track)\u001b[0m\n\u001b[0;32m    357\u001b[0m         \"\"\"\n\u001b[1;32m--> 358\u001b[1;33m         \u001b[0mparts\u001b[0m \u001b[1;33m=\u001b[0m \u001b[1;33m[\u001b[0m\u001b[0mself\u001b[0m\u001b[1;33m.\u001b[0m\u001b[0mrecv\u001b[0m\u001b[1;33m(\u001b[0m\u001b[0mflags\u001b[0m\u001b[1;33m,\u001b[0m \u001b[0mcopy\u001b[0m\u001b[1;33m=\u001b[0m\u001b[0mcopy\u001b[0m\u001b[1;33m,\u001b[0m \u001b[0mtrack\u001b[0m\u001b[1;33m=\u001b[0m\u001b[0mtrack\u001b[0m\u001b[1;33m)\u001b[0m\u001b[1;33m]\u001b[0m\u001b[1;33m\u001b[0m\u001b[0m\n\u001b[0m\u001b[0;32m    359\u001b[0m         \u001b[1;31m# have first part already, only loop while more to receive\u001b[0m\u001b[1;33m\u001b[0m\u001b[1;33m\u001b[0m\u001b[0m\n",
      "\u001b[1;32mzmq/backend/cython/socket.pyx\u001b[0m in \u001b[0;36mzmq.backend.cython.socket.Socket.recv (zmq\\backend\\cython\\socket.c:6971)\u001b[1;34m()\u001b[0m\n",
      "\u001b[1;32mzmq/backend/cython/socket.pyx\u001b[0m in \u001b[0;36mzmq.backend.cython.socket.Socket.recv (zmq\\backend\\cython\\socket.c:6763)\u001b[1;34m()\u001b[0m\n",
      "\u001b[1;32mzmq/backend/cython/socket.pyx\u001b[0m in \u001b[0;36mzmq.backend.cython.socket._recv_copy (zmq\\backend\\cython\\socket.c:1931)\u001b[1;34m()\u001b[0m\n",
      "\u001b[1;32mC:\\Anaconda3\\lib\\site-packages\\zmq\\backend\\cython\\checkrc.pxd\u001b[0m in \u001b[0;36mzmq.backend.cython.checkrc._check_rc (zmq\\backend\\cython\\socket.c:7222)\u001b[1;34m()\u001b[0m\n",
      "\u001b[1;31mKeyboardInterrupt\u001b[0m: ",
      "\nDuring handling of the above exception, another exception occurred:\n",
      "\u001b[1;31mKeyboardInterrupt\u001b[0m                         Traceback (most recent call last)",
      "\u001b[1;32m<ipython-input-113-9d7bc0768e60>\u001b[0m in \u001b[0;36m<module>\u001b[1;34m()\u001b[0m\n\u001b[0;32m      5\u001b[0m   \"decomposition_model\" : lda}\n\u001b[0;32m      6\u001b[0m \u001b[1;33m\u001b[0m\u001b[0m\n\u001b[1;32m----> 7\u001b[1;33m \u001b[0mextract_topics_by_sentiment\u001b[0m\u001b[1;33m(\u001b[0m\u001b[0mchain\u001b[0m\u001b[1;33m,\u001b[0m\u001b[0mpreprocessed_data_toys\u001b[0m\u001b[1;33m,\u001b[0m\u001b[0my\u001b[0m\u001b[1;33m,\u001b[0m\u001b[0mnum_topics\u001b[0m\u001b[1;33m,\u001b[0m\u001b[0mnum_top_words\u001b[0m\u001b[1;33m,\u001b[0m\u001b[0max\u001b[0m\u001b[1;33m,\u001b[0m\u001b[0mverbatims_toys\u001b[0m\u001b[1;33m)\u001b[0m\u001b[1;33m\u001b[0m\u001b[0m\n\u001b[0m",
      "\u001b[1;32m<ipython-input-111-3d336b4fbd5c>\u001b[0m in \u001b[0;36mextract_topics_by_sentiment\u001b[1;34m(chain, preprocessed_data, y, num_topics, num_top_words, ax, verbatims)\u001b[0m\n\u001b[0;32m     52\u001b[0m     \u001b[1;31m#    draw_verbatims_per_topics(verbatim_topic,sentiment,ax[i])\u001b[0m\u001b[1;33m\u001b[0m\u001b[1;33m\u001b[0m\u001b[0m\n\u001b[0;32m     53\u001b[0m     \u001b[1;31m#    i += 1\u001b[0m\u001b[1;33m\u001b[0m\u001b[1;33m\u001b[0m\u001b[0m\n\u001b[1;32m---> 54\u001b[1;33m     \u001b[0mtopics\u001b[0m\u001b[1;33m,\u001b[0m \u001b[0mverbatim_topic\u001b[0m\u001b[1;33m=\u001b[0m \u001b[0mextract_topics\u001b[0m\u001b[1;33m(\u001b[0m\u001b[0mchain\u001b[0m\u001b[1;33m,\u001b[0m \u001b[0mdata\u001b[0m\u001b[1;33m[\u001b[0m\u001b[1;34m\"preprocessed_data\"\u001b[0m\u001b[1;33m]\u001b[0m\u001b[1;33m,\u001b[0m \u001b[0mnum_topics\u001b[0m\u001b[1;33m,\u001b[0m \u001b[0mnum_top_words\u001b[0m\u001b[1;33m,\u001b[0m\u001b[0mverbatims\u001b[0m\u001b[1;33m)\u001b[0m\u001b[1;33m\u001b[0m\u001b[0m\n\u001b[0m\u001b[0;32m     55\u001b[0m     \u001b[0mdraw_verbatims_per_topics\u001b[0m\u001b[1;33m(\u001b[0m\u001b[0mverbatim_topic\u001b[0m\u001b[1;33m,\u001b[0m\u001b[1;34m'tout'\u001b[0m\u001b[1;33m,\u001b[0m\u001b[0max\u001b[0m\u001b[1;33m[\u001b[0m\u001b[0mi\u001b[0m\u001b[1;33m]\u001b[0m\u001b[1;33m)\u001b[0m\u001b[1;33m\u001b[0m\u001b[0m\n",
      "\u001b[1;32m<ipython-input-111-3d336b4fbd5c>\u001b[0m in \u001b[0;36mextract_topics\u001b[1;34m(chain, preprocessed_data, num_topics, num_top_words, verbatims)\u001b[0m\n\u001b[0;32m     39\u001b[0m     \u001b[1;31m# X is the matrix W in : A = W*H (W is a matrix (n_documents, n_topics)), H is in the attribute components_\u001b[0m\u001b[1;33m\u001b[0m\u001b[1;33m\u001b[0m\u001b[0m\n\u001b[0;32m     40\u001b[0m     topics = guess_topic_from_top_words(chain['decomposition_model'],\n\u001b[1;32m---> 41\u001b[1;33m                                           chain['vectorizer'].get_feature_names(),num_top_words,num_topics,X,verbatims)\n\u001b[0m\u001b[0;32m     42\u001b[0m     \u001b[0mverbatim_topic\u001b[0m \u001b[1;33m=\u001b[0m \u001b[1;33m[\u001b[0m\u001b[0mtopics\u001b[0m\u001b[1;33m[\u001b[0m\u001b[0mx\u001b[0m\u001b[1;33m]\u001b[0m \u001b[1;32mfor\u001b[0m \u001b[0mx\u001b[0m \u001b[1;32min\u001b[0m \u001b[0mX\u001b[0m\u001b[1;33m.\u001b[0m\u001b[0margmax\u001b[0m\u001b[1;33m(\u001b[0m\u001b[0maxis\u001b[0m\u001b[1;33m=\u001b[0m\u001b[1;36m1\u001b[0m\u001b[1;33m)\u001b[0m\u001b[1;33m]\u001b[0m\u001b[1;33m\u001b[0m\u001b[0m\n\u001b[0;32m     43\u001b[0m     \u001b[1;32mreturn\u001b[0m \u001b[0mtopics\u001b[0m\u001b[1;33m,\u001b[0m \u001b[0mverbatim_topic\u001b[0m\u001b[1;33m\u001b[0m\u001b[0m\n",
      "\u001b[1;32m<ipython-input-111-3d336b4fbd5c>\u001b[0m in \u001b[0;36mguess_topic_from_top_words\u001b[1;34m(topic_modeller, feature_names, n_top_words, num_topics, X, verbatims)\u001b[0m\n\u001b[0;32m     12\u001b[0m         \u001b[0mverbatim_topic\u001b[0m \u001b[1;33m=\u001b[0m \u001b[0mX\u001b[0m\u001b[1;33m[\u001b[0m\u001b[1;33m:\u001b[0m\u001b[1;33m,\u001b[0m\u001b[0mtopic_idx\u001b[0m\u001b[1;33m]\u001b[0m\u001b[1;33m.\u001b[0m\u001b[0margsort\u001b[0m\u001b[1;33m(\u001b[0m\u001b[1;33m)\u001b[0m\u001b[1;33m\u001b[0m\u001b[0m\n\u001b[0;32m     13\u001b[0m         \u001b[0mprint\u001b[0m\u001b[1;33m(\u001b[0m\u001b[0mverbatims\u001b[0m\u001b[1;33m.\u001b[0m\u001b[0miloc\u001b[0m\u001b[1;33m[\u001b[0m\u001b[0mverbatim_topic\u001b[0m\u001b[1;33m[\u001b[0m\u001b[1;33m:\u001b[0m\u001b[1;33m-\u001b[0m\u001b[1;36m5\u001b[0m\u001b[1;33m-\u001b[0m\u001b[1;36m1\u001b[0m\u001b[1;33m:\u001b[0m\u001b[1;33m-\u001b[0m\u001b[1;36m1\u001b[0m\u001b[1;33m]\u001b[0m\u001b[1;33m]\u001b[0m\u001b[1;33m)\u001b[0m\u001b[1;33m\u001b[0m\u001b[0m\n\u001b[1;32m---> 14\u001b[1;33m         \u001b[0mintitule\u001b[0m \u001b[1;33m=\u001b[0m \u001b[0minput\u001b[0m\u001b[1;33m(\u001b[0m\u001b[1;34m\"Entrez l'intitulé du topic n°\"\u001b[0m\u001b[1;33m+\u001b[0m\u001b[0mstr\u001b[0m\u001b[1;33m(\u001b[0m\u001b[0mtopic_idx\u001b[0m\u001b[1;33m)\u001b[0m\u001b[1;33m+\u001b[0m \u001b[1;34m\": \"\u001b[0m\u001b[1;33m)\u001b[0m\u001b[1;33m\u001b[0m\u001b[0m\n\u001b[0m\u001b[0;32m     15\u001b[0m         \u001b[0mtopics\u001b[0m\u001b[1;33m.\u001b[0m\u001b[0mupdate\u001b[0m\u001b[1;33m(\u001b[0m\u001b[1;33m{\u001b[0m\u001b[0mtopic_idx\u001b[0m \u001b[1;33m:\u001b[0m \u001b[0mintitule\u001b[0m\u001b[1;33m}\u001b[0m\u001b[1;33m)\u001b[0m\u001b[1;33m\u001b[0m\u001b[0m\n\u001b[0;32m     16\u001b[0m     \u001b[0mcompute_coherence_scores\u001b[0m\u001b[1;33m(\u001b[0m\u001b[0mnum_topics\u001b[0m\u001b[1;33m,\u001b[0m\u001b[0mtopic_features\u001b[0m\u001b[1;33m)\u001b[0m\u001b[1;33m\u001b[0m\u001b[0m\n",
      "\u001b[1;32mC:\\Anaconda3\\lib\\site-packages\\ipykernel\\kernelbase.py\u001b[0m in \u001b[0;36mraw_input\u001b[1;34m(self, prompt)\u001b[0m\n\u001b[0;32m    687\u001b[0m             \u001b[0mself\u001b[0m\u001b[1;33m.\u001b[0m\u001b[0m_parent_ident\u001b[0m\u001b[1;33m,\u001b[0m\u001b[1;33m\u001b[0m\u001b[0m\n\u001b[0;32m    688\u001b[0m             \u001b[0mself\u001b[0m\u001b[1;33m.\u001b[0m\u001b[0m_parent_header\u001b[0m\u001b[1;33m,\u001b[0m\u001b[1;33m\u001b[0m\u001b[0m\n\u001b[1;32m--> 689\u001b[1;33m             \u001b[0mpassword\u001b[0m\u001b[1;33m=\u001b[0m\u001b[1;32mFalse\u001b[0m\u001b[1;33m,\u001b[0m\u001b[1;33m\u001b[0m\u001b[0m\n\u001b[0m\u001b[0;32m    690\u001b[0m         )\n\u001b[0;32m    691\u001b[0m \u001b[1;33m\u001b[0m\u001b[0m\n",
      "\u001b[1;32mC:\\Anaconda3\\lib\\site-packages\\ipykernel\\kernelbase.py\u001b[0m in \u001b[0;36m_input_request\u001b[1;34m(self, prompt, ident, parent, password)\u001b[0m\n\u001b[0;32m    717\u001b[0m             \u001b[1;32mexcept\u001b[0m \u001b[0mKeyboardInterrupt\u001b[0m\u001b[1;33m:\u001b[0m\u001b[1;33m\u001b[0m\u001b[0m\n\u001b[0;32m    718\u001b[0m                 \u001b[1;31m# re-raise KeyboardInterrupt, to truncate traceback\u001b[0m\u001b[1;33m\u001b[0m\u001b[1;33m\u001b[0m\u001b[0m\n\u001b[1;32m--> 719\u001b[1;33m                 \u001b[1;32mraise\u001b[0m \u001b[0mKeyboardInterrupt\u001b[0m\u001b[1;33m\u001b[0m\u001b[0m\n\u001b[0m\u001b[0;32m    720\u001b[0m             \u001b[1;32melse\u001b[0m\u001b[1;33m:\u001b[0m\u001b[1;33m\u001b[0m\u001b[0m\n\u001b[0;32m    721\u001b[0m                 \u001b[1;32mbreak\u001b[0m\u001b[1;33m\u001b[0m\u001b[0m\n",
      "\u001b[1;31mKeyboardInterrupt\u001b[0m: "
     ]
    }
   ],
   "source": [
    "lda = LatentDirichletAllocation(n_topics=num_topics, \n",
    "                                learning_method='batch', learning_offset=50.,\n",
    "                                random_state=0)\n",
    "chain = {\"vectorizer\" : TfidfVectorizer(analyzer='word', ngram_range=(1,3),sublinear_tf=True, min_df = 0),\n",
    "  \"decomposition_model\" : lda}\n",
    "\n",
    "extract_topics_by_sentiment(chain,preprocessed_data_toys,y,num_topics,num_top_words,ax,verbatims_toys)"
   ]
  },
  {
   "cell_type": "markdown",
   "metadata": {},
   "source": [
    "3) TF-IDF + PCA (TruncatedSVD)"
   ]
  },
  {
   "cell_type": "code",
   "execution_count": 166,
   "metadata": {},
   "outputs": [
    {
     "name": "stdout",
     "output_type": "stream",
     "text": [
      "Topic #0:\n",
      "trop,prix,trop attent,trop loin,loin,attent,attent caiss,trop attent caiss,caiss,elev\n",
      "Topic #1:\n",
      "prix,prix elev,elev,les prix,les,magasin,les prix elev,rapport,ailleur,elev rapport\n",
      "Topic #2:\n",
      "caiss,attent,attent caiss,trop attent,personnel,trop attent caiss,desagre,magasin,produit,longu\n",
      "Topic #3:\n",
      "prix,magasin,produit,prix ailleur,ailleur,desagre,accueil,les,les prix,prix magasin\n",
      "Topic #4:\n",
      "desagre,personnel,magasin,personnel desagre,accueil,produit,accueil desagre,pas,elev,prix elev\n",
      "Topic #5:\n",
      "desagre,personnel,personnel desagre,accueil,prix,accueil desagre,caissier desagre,attent caiss,caissier,attent\n",
      "Topic #6:\n",
      "loin,magasin,trop loin,loin domicil,domicil,trop loin domicil,magasin loin,jouet,magasin agreabl,rapport magasin\n",
      "Topic #7:\n",
      "choix,loin,pas,trop loin,pas choix,loin domicil,domicil,trop loin domicil,choix prix,pas agreabl\n",
      "Topic #8:\n",
      "produit,loin,ailleur,les,trop loin,les produit,desagre,les prix,trouv,trouv produit\n",
      "Topic #9:\n",
      "accueil,mauv accueil,mauv,accueil desagre,decu,personnel accueil,prix accueil,deplor,decu accueil,mensonger\n",
      "\n",
      "[ 0.01679858  0.01480432  0.00593511  0.00599954  0.00492058  0.00470979\n",
      "  0.00442612  0.00430295  0.00422036  0.0037163 ]\n"
     ]
    }
   ],
   "source": [
    "pca =TruncatedSVD(n_components=10)\n",
    "\n",
    "vectorizers = [TfidfVectorizer(analyzer='word', ngram_range=(1,3),sublinear_tf=True, min_df = 0,use_idf=True),\n",
    "  pca]\n",
    "extract_topics(vectorizers,preprocessed_data_toys,num_topics,num_top_words)\n",
    "print(pca.explained_variance_ratio_)"
   ]
  },
  {
   "cell_type": "markdown",
   "metadata": {},
   "source": [
    "## Topic Modeling : Utilisant Word2Vec (Clustering short texts)"
   ]
  },
  {
   "cell_type": "code",
   "execution_count": 42,
   "metadata": {},
   "outputs": [],
   "source": [
    "data_enlisted = list()\n",
    "for verbatim in preprocessed_data_toys:\n",
    "    data_enlisted.append(str(verbatim).split())"
   ]
  },
  {
   "cell_type": "code",
   "execution_count": 43,
   "metadata": {},
   "outputs": [
    {
     "data": {
      "text/plain": [
       "4128"
      ]
     },
     "execution_count": 43,
     "metadata": {},
     "output_type": "execute_result"
    }
   ],
   "source": [
    "import itertools \n",
    "len(np.unique(list(itertools.chain(*data_enlisted))))"
   ]
  },
  {
   "cell_type": "code",
   "execution_count": 120,
   "metadata": {},
   "outputs": [
    {
     "data": {
      "text/plain": [
       "48385"
      ]
     },
     "execution_count": 120,
     "metadata": {},
     "output_type": "execute_result"
    }
   ],
   "source": [
    "len(data_enlisted)"
   ]
  },
  {
   "cell_type": "code",
   "execution_count": 44,
   "metadata": {},
   "outputs": [],
   "source": [
    "# hs : hierarchichal sampling hs=1\n",
    "# negative : negative sampling (negative = 5)\n",
    "model = Word2Vec(min_count=1, window=3,  sample=1e-4,workers=8, sg=0, negative=5)\n",
    "model.build_vocab(data_enlisted)"
   ]
  },
  {
   "cell_type": "code",
   "execution_count": 45,
   "metadata": {},
   "outputs": [
    {
     "data": {
      "text/plain": [
       "775223"
      ]
     },
     "execution_count": 45,
     "metadata": {},
     "output_type": "execute_result"
    }
   ],
   "source": [
    "#for epoch in range(10):\n",
    "model.train(data_enlisted)"
   ]
  },
  {
   "cell_type": "code",
   "execution_count": 26,
   "metadata": {},
   "outputs": [
    {
     "data": {
      "text/plain": [
       "[('caisse', 0.9983683228492737),\n",
       " ('longue', 0.9979857206344604),\n",
       " ('ouvrir', 0.9978874921798706),\n",
       " ('interminable', 0.9977173805236816),\n",
       " ('ouvert', 0.9976296424865723),\n",
       " ('long', 0.9969397783279419),\n",
       " ('seul', 0.9969266057014465),\n",
       " ('queue', 0.9967086315155029),\n",
       " ('personnel', 0.9964598417282104),\n",
       " ('temps', 0.9964555501937866)]"
      ]
     },
     "execution_count": 26,
     "metadata": {},
     "output_type": "execute_result"
    }
   ],
   "source": [
    "model.most_similar('attente')"
   ]
  },
  {
   "cell_type": "code",
   "execution_count": 127,
   "metadata": {},
   "outputs": [],
   "source": [
    "docvec = pandas.DataFrame(model.syn0)\n"
   ]
  },
  {
   "cell_type": "code",
   "execution_count": 103,
   "metadata": {},
   "outputs": [
    {
     "ename": "AttributeError",
     "evalue": "'Word2Vec' object has no attribute 'syn1norm'",
     "output_type": "error",
     "traceback": [
      "\u001b[1;31m---------------------------------------------------------------------------\u001b[0m",
      "\u001b[1;31mAttributeError\u001b[0m                            Traceback (most recent call last)",
      "\u001b[1;32m<ipython-input-103-502c83cd980d>\u001b[0m in \u001b[0;36m<module>\u001b[1;34m()\u001b[0m\n\u001b[1;32m----> 1\u001b[1;33m \u001b[0mpandas\u001b[0m\u001b[1;33m.\u001b[0m\u001b[0mDataFrame\u001b[0m\u001b[1;33m(\u001b[0m\u001b[0mmodel\u001b[0m\u001b[1;33m.\u001b[0m\u001b[0msyn1norm\u001b[0m\u001b[1;33m)\u001b[0m\u001b[1;33m.\u001b[0m\u001b[0miloc\u001b[0m\u001b[1;33m[\u001b[0m\u001b[1;36m1\u001b[0m\u001b[1;33m,\u001b[0m\u001b[1;33m:\u001b[0m\u001b[1;33m]\u001b[0m\u001b[1;33m.\u001b[0m\u001b[0msort_values\u001b[0m\u001b[1;33m(\u001b[0m\u001b[1;33m)\u001b[0m\u001b[1;33m\u001b[0m\u001b[0m\n\u001b[0m",
      "\u001b[1;31mAttributeError\u001b[0m: 'Word2Vec' object has no attribute 'syn1norm'"
     ]
    }
   ],
   "source": [
    "pandas.DataFrame(model.s).iloc[1,:].sort_values()"
   ]
  },
  {
   "cell_type": "code",
   "execution_count": 116,
   "metadata": {},
   "outputs": [
    {
     "data": {
      "text/plain": [
       "'text'"
      ]
     },
     "execution_count": 116,
     "metadata": {},
     "output_type": "execute_result"
    }
   ],
   "source": [
    "model.index2word[60]"
   ]
  },
  {
   "cell_type": "code",
   "execution_count": 98,
   "metadata": {},
   "outputs": [
    {
     "data": {
      "text/plain": [
       "62   -0.272447\n",
       "27   -0.227708\n",
       "90   -0.219479\n",
       "46   -0.204137\n",
       "25   -0.193280\n",
       "33   -0.192067\n",
       "3    -0.183295\n",
       "36   -0.180912\n",
       "51   -0.179840\n",
       "2    -0.170874\n",
       "89   -0.167094\n",
       "76   -0.154824\n",
       "7    -0.129253\n",
       "5    -0.119520\n",
       "41   -0.113542\n",
       "38   -0.112234\n",
       "65   -0.104136\n",
       "4    -0.100975\n",
       "85   -0.095591\n",
       "35   -0.086529\n",
       "23   -0.084725\n",
       "44   -0.084581\n",
       "21   -0.082150\n",
       "69   -0.081649\n",
       "49   -0.077464\n",
       "71   -0.075470\n",
       "63   -0.070054\n",
       "37   -0.067074\n",
       "32   -0.062574\n",
       "48   -0.058179\n",
       "        ...   \n",
       "9     0.060226\n",
       "8     0.066306\n",
       "39    0.072970\n",
       "73    0.080188\n",
       "6     0.080338\n",
       "0     0.081068\n",
       "20    0.083765\n",
       "84    0.090938\n",
       "10    0.096742\n",
       "93    0.098390\n",
       "24    0.099080\n",
       "95    0.101921\n",
       "1     0.104841\n",
       "42    0.108646\n",
       "81    0.110456\n",
       "87    0.112593\n",
       "79    0.123598\n",
       "12    0.126274\n",
       "57    0.136953\n",
       "78    0.143556\n",
       "19    0.144581\n",
       "67    0.149826\n",
       "97    0.160861\n",
       "31    0.164573\n",
       "82    0.166587\n",
       "55    0.182832\n",
       "72    0.187106\n",
       "80    0.189574\n",
       "66    0.199015\n",
       "60    0.249484\n",
       "Name: 1, dtype: float32"
      ]
     },
     "execution_count": 98,
     "metadata": {},
     "output_type": "execute_result"
    }
   ],
   "source": [
    "docvec.iloc[1,:].sort_values()"
   ]
  },
  {
   "cell_type": "code",
   "execution_count": 93,
   "metadata": {},
   "outputs": [
    {
     "data": {
      "text/plain": [
       "(4995, 100)"
      ]
     },
     "execution_count": 93,
     "metadata": {},
     "output_type": "execute_result"
    }
   ],
   "source": [
    "docvec_1 = pandas.DataFrame(model.syn1)\n",
    "docvec_1.shape"
   ]
  },
  {
   "cell_type": "code",
   "execution_count": 53,
   "metadata": {},
   "outputs": [],
   "source": [
    "model_gmm = VBGMM(n_components=5,alpha=1)\n",
    "y = model_gmm.fit_predict(np.transpose(docvec))\n"
   ]
  },
  {
   "cell_type": "code",
   "execution_count": 103,
   "metadata": {},
   "outputs": [
    {
     "data": {
      "text/plain": [
       "[array([[  1.12498642e+03,  -1.83688875e-04,  -1.72574568e-04, ...,\n",
       "          -1.99015423e-04,  -1.52113430e-04,  -1.83207766e-04],\n",
       "        [ -1.83688875e-04,   1.12498642e+03,  -1.73192264e-04, ...,\n",
       "          -1.99613960e-04,  -1.52862780e-04,  -1.84610692e-04],\n",
       "        [ -1.72574568e-04,  -1.73192264e-04,   1.12498644e+03, ...,\n",
       "          -1.87578218e-04,  -1.43768257e-04,  -1.73185902e-04],\n",
       "        ..., \n",
       "        [ -1.99015423e-04,  -1.99613960e-04,  -1.87578218e-04, ...,\n",
       "           1.12498638e+03,  -1.65980122e-04,  -2.00343181e-04],\n",
       "        [ -1.52113430e-04,  -1.52862780e-04,  -1.43768257e-04, ...,\n",
       "          -1.65980122e-04,   1.12498647e+03,  -1.54548421e-04],\n",
       "        [ -1.83207766e-04,  -1.84610692e-04,  -1.73185902e-04, ...,\n",
       "          -2.00343181e-04,  -1.54548421e-04,   1.12498641e+03]]),\n",
       " array([[  1.12498642e+03,  -1.83688881e-04,  -1.72574564e-04, ...,\n",
       "          -1.99015417e-04,  -1.52113431e-04,  -1.83207765e-04],\n",
       "        [ -1.83688881e-04,   1.12498642e+03,  -1.73192265e-04, ...,\n",
       "          -1.99613957e-04,  -1.52862776e-04,  -1.84610690e-04],\n",
       "        [ -1.72574564e-04,  -1.73192265e-04,   1.12498644e+03, ...,\n",
       "          -1.87578219e-04,  -1.43768252e-04,  -1.73185900e-04],\n",
       "        ..., \n",
       "        [ -1.99015417e-04,  -1.99613957e-04,  -1.87578219e-04, ...,\n",
       "           1.12498638e+03,  -1.65980119e-04,  -2.00343181e-04],\n",
       "        [ -1.52113431e-04,  -1.52862776e-04,  -1.43768252e-04, ...,\n",
       "          -1.65980119e-04,   1.12498647e+03,  -1.54548421e-04],\n",
       "        [ -1.83207765e-04,  -1.84610690e-04,  -1.73185900e-04, ...,\n",
       "          -2.00343181e-04,  -1.54548421e-04,   1.12498641e+03]]),\n",
       " array([[  1.12498642e+03,  -1.83688876e-04,  -1.72574567e-04, ...,\n",
       "          -1.99015424e-04,  -1.52113430e-04,  -1.83207765e-04],\n",
       "        [ -1.83688876e-04,   1.12498642e+03,  -1.73192265e-04, ...,\n",
       "          -1.99613959e-04,  -1.52862779e-04,  -1.84610692e-04],\n",
       "        [ -1.72574567e-04,  -1.73192265e-04,   1.12498644e+03, ...,\n",
       "          -1.87578218e-04,  -1.43768257e-04,  -1.73185903e-04],\n",
       "        ..., \n",
       "        [ -1.99015424e-04,  -1.99613959e-04,  -1.87578218e-04, ...,\n",
       "           1.12498638e+03,  -1.65980121e-04,  -2.00343181e-04],\n",
       "        [ -1.52113430e-04,  -1.52862779e-04,  -1.43768257e-04, ...,\n",
       "          -1.65980121e-04,   1.12498647e+03,  -1.54548420e-04],\n",
       "        [ -1.83207765e-04,  -1.84610692e-04,  -1.73185903e-04, ...,\n",
       "          -2.00343181e-04,  -1.54548420e-04,   1.12498641e+03]]),\n",
       " array([[  1.12498642e+03,  -1.83688875e-04,  -1.72574566e-04, ...,\n",
       "          -1.99015423e-04,  -1.52113429e-04,  -1.83207764e-04],\n",
       "        [ -1.83688875e-04,   1.12498642e+03,  -1.73192264e-04, ...,\n",
       "          -1.99613960e-04,  -1.52862779e-04,  -1.84610691e-04],\n",
       "        [ -1.72574566e-04,  -1.73192264e-04,   1.12498644e+03, ...,\n",
       "          -1.87578216e-04,  -1.43768258e-04,  -1.73185905e-04],\n",
       "        ..., \n",
       "        [ -1.99015423e-04,  -1.99613960e-04,  -1.87578216e-04, ...,\n",
       "           1.12498638e+03,  -1.65980123e-04,  -2.00343181e-04],\n",
       "        [ -1.52113429e-04,  -1.52862779e-04,  -1.43768258e-04, ...,\n",
       "          -1.65980123e-04,   1.12498647e+03,  -1.54548423e-04],\n",
       "        [ -1.83207764e-04,  -1.84610691e-04,  -1.73185905e-04, ...,\n",
       "          -2.00343181e-04,  -1.54548423e-04,   1.12498641e+03]]),\n",
       " array([[  1.21176768e+01,  -1.01474298e-02,  -9.48391543e-03, ...,\n",
       "          -1.08099570e-02,  -7.55433465e-03,  -8.59279128e-03],\n",
       "        [ -1.01474298e-02,   1.21183008e+01,  -9.43607357e-03, ...,\n",
       "          -1.06413466e-02,  -7.67396244e-03,  -9.17095858e-03],\n",
       "        [ -9.48391543e-03,  -9.43607357e-03,   1.21195090e+01, ...,\n",
       "          -9.98736289e-03,  -7.31570996e-03,  -8.36193316e-03],\n",
       "        ..., \n",
       "        [ -1.08099570e-02,  -1.06413466e-02,  -9.98736289e-03, ...,\n",
       "           1.21171857e+01,  -8.47318381e-03,  -1.00234930e-02],\n",
       "        [ -7.55433465e-03,  -7.67396244e-03,  -7.31570996e-03, ...,\n",
       "          -8.47318381e-03,   1.21219510e+01,  -8.13629628e-03],\n",
       "        [ -8.59279128e-03,  -9.17095858e-03,  -8.36193316e-03, ...,\n",
       "          -1.00234930e-02,  -8.13629628e-03,   1.21176665e+01]]),\n",
       " array([[  1.12498642e+03,  -1.83688874e-04,  -1.72574567e-04, ...,\n",
       "          -1.99015423e-04,  -1.52113430e-04,  -1.83207766e-04],\n",
       "        [ -1.83688874e-04,   1.12498642e+03,  -1.73192265e-04, ...,\n",
       "          -1.99613959e-04,  -1.52862778e-04,  -1.84610693e-04],\n",
       "        [ -1.72574567e-04,  -1.73192265e-04,   1.12498644e+03, ...,\n",
       "          -1.87578218e-04,  -1.43768258e-04,  -1.73185904e-04],\n",
       "        ..., \n",
       "        [ -1.99015423e-04,  -1.99613959e-04,  -1.87578218e-04, ...,\n",
       "           1.12498638e+03,  -1.65980120e-04,  -2.00343180e-04],\n",
       "        [ -1.52113430e-04,  -1.52862778e-04,  -1.43768258e-04, ...,\n",
       "          -1.65980120e-04,   1.12498647e+03,  -1.54548419e-04],\n",
       "        [ -1.83207766e-04,  -1.84610693e-04,  -1.73185904e-04, ...,\n",
       "          -2.00343180e-04,  -1.54548419e-04,   1.12498641e+03]]),\n",
       " array([[  1.12498642e+03,  -1.83688876e-04,  -1.72574568e-04, ...,\n",
       "          -1.99015422e-04,  -1.52113429e-04,  -1.83207765e-04],\n",
       "        [ -1.83688876e-04,   1.12498642e+03,  -1.73192266e-04, ...,\n",
       "          -1.99613958e-04,  -1.52862776e-04,  -1.84610689e-04],\n",
       "        [ -1.72574568e-04,  -1.73192266e-04,   1.12498644e+03, ...,\n",
       "          -1.87578211e-04,  -1.43768253e-04,  -1.73185896e-04],\n",
       "        ..., \n",
       "        [ -1.99015422e-04,  -1.99613958e-04,  -1.87578211e-04, ...,\n",
       "           1.12498638e+03,  -1.65980128e-04,  -2.00343195e-04],\n",
       "        [ -1.52113429e-04,  -1.52862776e-04,  -1.43768253e-04, ...,\n",
       "          -1.65980128e-04,   1.12498647e+03,  -1.54548427e-04],\n",
       "        [ -1.83207765e-04,  -1.84610689e-04,  -1.73185896e-04, ...,\n",
       "          -2.00343195e-04,  -1.54548427e-04,   1.12498641e+03]]),\n",
       " array([[  1.12498642e+03,  -1.83688875e-04,  -1.72574567e-04, ...,\n",
       "          -1.99015422e-04,  -1.52113430e-04,  -1.83207765e-04],\n",
       "        [ -1.83688875e-04,   1.12498642e+03,  -1.73192265e-04, ...,\n",
       "          -1.99613960e-04,  -1.52862777e-04,  -1.84610692e-04],\n",
       "        [ -1.72574567e-04,  -1.73192265e-04,   1.12498644e+03, ...,\n",
       "          -1.87578218e-04,  -1.43768258e-04,  -1.73185902e-04],\n",
       "        ..., \n",
       "        [ -1.99015422e-04,  -1.99613960e-04,  -1.87578218e-04, ...,\n",
       "           1.12498638e+03,  -1.65980121e-04,  -2.00343181e-04],\n",
       "        [ -1.52113430e-04,  -1.52862777e-04,  -1.43768258e-04, ...,\n",
       "          -1.65980121e-04,   1.12498647e+03,  -1.54548422e-04],\n",
       "        [ -1.83207765e-04,  -1.84610692e-04,  -1.73185902e-04, ...,\n",
       "          -2.00343181e-04,  -1.54548422e-04,   1.12498641e+03]]),\n",
       " array([[  1.12498642e+03,  -1.83688877e-04,  -1.72574567e-04, ...,\n",
       "          -1.99015425e-04,  -1.52113430e-04,  -1.83207764e-04],\n",
       "        [ -1.83688877e-04,   1.12498642e+03,  -1.73192264e-04, ...,\n",
       "          -1.99613958e-04,  -1.52862778e-04,  -1.84610691e-04],\n",
       "        [ -1.72574567e-04,  -1.73192264e-04,   1.12498644e+03, ...,\n",
       "          -1.87578217e-04,  -1.43768259e-04,  -1.73185901e-04],\n",
       "        ..., \n",
       "        [ -1.99015425e-04,  -1.99613958e-04,  -1.87578217e-04, ...,\n",
       "           1.12498638e+03,  -1.65980121e-04,  -2.00343182e-04],\n",
       "        [ -1.52113430e-04,  -1.52862777e-04,  -1.43768259e-04, ...,\n",
       "          -1.65980121e-04,   1.12498647e+03,  -1.54548421e-04],\n",
       "        [ -1.83207764e-04,  -1.84610691e-04,  -1.73185901e-04, ...,\n",
       "          -2.00343182e-04,  -1.54548421e-04,   1.12498641e+03]]),\n",
       " array([[  1.12498642e+03,  -1.83688875e-04,  -1.72574567e-04, ...,\n",
       "          -1.99015423e-04,  -1.52113430e-04,  -1.83207765e-04],\n",
       "        [ -1.83688875e-04,   1.12498642e+03,  -1.73192265e-04, ...,\n",
       "          -1.99613964e-04,  -1.52862778e-04,  -1.84610691e-04],\n",
       "        [ -1.72574567e-04,  -1.73192265e-04,   1.12498644e+03, ...,\n",
       "          -1.87578218e-04,  -1.43768258e-04,  -1.73185903e-04],\n",
       "        ..., \n",
       "        [ -1.99015423e-04,  -1.99613964e-04,  -1.87578218e-04, ...,\n",
       "           1.12498638e+03,  -1.65980121e-04,  -2.00343179e-04],\n",
       "        [ -1.52113430e-04,  -1.52862778e-04,  -1.43768258e-04, ...,\n",
       "          -1.65980121e-04,   1.12498647e+03,  -1.54548421e-04],\n",
       "        [ -1.83207765e-04,  -1.84610691e-04,  -1.73185903e-04, ...,\n",
       "          -2.00343179e-04,  -1.54548421e-04,   1.12498641e+03]])]"
      ]
     },
     "execution_count": 103,
     "metadata": {},
     "output_type": "execute_result"
    }
   ],
   "source": [
    "model_gmm.precs_"
   ]
  },
  {
   "cell_type": "code",
   "execution_count": 54,
   "metadata": {},
   "outputs": [
    {
     "data": {
      "text/plain": [
       "array([1], dtype=int64)"
      ]
     },
     "execution_count": 54,
     "metadata": {},
     "output_type": "execute_result"
    }
   ],
   "source": [
    "np.unique(y)"
   ]
  },
  {
   "cell_type": "code",
   "execution_count": 65,
   "metadata": {},
   "outputs": [],
   "source": [
    "from sklearn.cluster import KMeans\n",
    "kmeans_clustering = KMeans( n_clusters = 10 )\n",
    "idx = kmeans_clustering.fit_predict( docvec )"
   ]
  },
  {
   "cell_type": "code",
   "execution_count": 66,
   "metadata": {},
   "outputs": [
    {
     "data": {
      "text/plain": [
       "array([0, 1, 2, 3, 4, 5, 6, 7, 8, 9])"
      ]
     },
     "execution_count": 66,
     "metadata": {},
     "output_type": "execute_result"
    }
   ],
   "source": [
    "np.unique(idx)"
   ]
  },
  {
   "cell_type": "code",
   "execution_count": 68,
   "metadata": {},
   "outputs": [
    {
     "name": "stdout",
     "output_type": "stream",
     "text": [
      "\n",
      "Cluster  0\n",
      "['passag', 'sav', 'actuel', 'proposit', 'desagre', 'espac', 'appart', 'resoudr', 'prix', 'resil', 'mai', 'souvent', 'quand', 'competent', 'bonjour', 'envoy', 'journe', 'impress', 'format', 'prestat', 'ouvertur', 'difficult', 'revoir', 'fidelit', 'surtout', 'regret', 'signal', 'pann', 'con', 'preven', 'iphon', 'clientel', 'mid', 'fais', 'deb', 'cherch', 'papi', 'retrait', 'aut', 'coupur', 'accept', 'prochain', 'allez', 'coupe', 'mont', 'ere', 'dernier', 'chiffr', 'obten', 'fournisseur', 'efficacit', 'erdf', 'recept', 'personnel', 'repond', 'enregistr', 'repondu', 'question', 'habit', 'cre', 'souc', 'dev', 'lettr', 'depuis', 'assur', 'electr', 'entend', 'prend', 'interlocuteur', 'qui', 'bon', 'ecout', 'aupr', 'matin', 'scandal', 'dam', 'consult', 'difficil', 'intervent', 'loin', 'droit', 'hauteur', 'incap', 'encore', 'apre', 'communiqu', 'joindr', 'sm', 'savoir', 'besoin', 'automat', 'elle', 'simpl', 'mensualis', 'realis', 'oper', 'suiv', 'agent', 'renouvel', 'recent', 'postal', 'direct', 'urgenc', 'cart', 'mal', 'concurrent', 'regularis', 'niveau', 'modifi', 'travail', 'est', 'rend', 'mesur', 'moment', 'vol', 'livebox', 'femm', 'possibilit', 'mes', 'excess', 'creneau', 'vi', 'lir', 'raccroch', 'eme', 'rdv', 'remis', 'qualit', 'plateform', 'echeanci', 'merci', 'sfr', 'tomb', 'essay', 'voulu', 'veux', 'sujet', 'frais', 'total', 'lund', 'courtois', 'march', 'livraison', 'connect', 'bref', 'remplac', 'depannag', 'chois', 'hont']\n",
      "\n",
      "Cluster  1\n",
      "['administr', 'informe', 'rectifi', 'mme', 'depend', 'gard', 'origin', 'concernant', 'arrier', 'retir', 'apprendr', 'acced', 'acceuil', 'commentair', 'dialogu', 'definit', 'connu', 'attendon', 'exprim', 'titulair', 'repetit', 'ras', 'machin', 'quas', 'embauch', 'decourag', 'nombr', 'reduct', 'ecrir', 'omis', 'figur', 'solution', 'concret', 'echat', 'simplifi', 'entier', 'grac', 'non', 'sinon', 'numeros', 'cop', 'estime', 'vers', 'imprim', 'fill', 'voix', 'aucun', 'intermin', 'moins', 'reduit', 'budget', 'calendri', 'racont', 'prec', 'bonsoir', 'empech', 'reproch', 'parven', 'diminu', 'affair', 'rentr', 'appreci', 'compet', 'duplicat', 'marr', 'expert', 'bug', 'pouss', 'joint', 'special', 'ferm', 'accessibl', 'enfant', 'surfactur', 'pose', 'perm', 'lament', 'amabilit', 'requet', 'disposit', 'promess', 'septembr', 'redir', 'moin', 'reconnu', 'convivial', 'hotess', 'mainten', 'disjoncteur', 'approch', 'clart', 'honteux', 'foi', 'maintenant', 'comprehensibl', 'reactif', 'appui', 'valabl', 'ensembl', 'ecourt', 'etabl', 'serviabl', 'desimlock', 'reactiv', 'manifest', 'caracter', 'gentil', 'bleu', 'succ', 'prevoir', 'arnaqu', 'rapel', 'debrouill', 'sui', 'convient', 'reactivit', 'bravo', 'ide', 'superieur', 'classiqu', 'repondent', 'usag', 'vaut', 'deux', 'vois', 'professionnal', 'term', 'impecc', 'main', 'orient', 'gentilless', 'engi', 'veil', 'ecran', 'toujours', 'intern', 'raccourc', 'entrain']\n",
      "\n",
      "Cluster  2\n",
      "['fin', 'jour', 'open', 'conseiller', 'lor', 'nouveau', 'puis', 'forf', 'contact', 'heur', 'portabl', 'prendr', 'derni', 'mail', 'repons', 'part', 'attent', 'dat', 'abon', 'propos', 'don', 'internet', 'envoi', 'rappel', 'voir', 'prelev', 'creus', 'compt', 'par', 'inform', 'chang', 'dis']\n",
      "\n",
      "Cluster  3\n",
      "['inutil', 'disponibilit', 'effort', 'alors', 'dep', 'acce', 'procedur', 'vos', 'transfert', 'reste', 'fauss', 'veut', 'abus', 'supplementair', 'forfait', 'recuper', 'respect', 'point', 'bancair', 'regul', 'vis', 'satisf', 'oblige', 'surpris', 'compris', 'allait', 'detaille', 'evalu', 'chat', 'facil', 'preuv', 'dommag', 'rectif', 'symp', 'trouve', 'plus', 'rem', 'comport', 'transmettr', 'dysfonction', 'tromp', 'mard', 'personne', 'depann', 'avoir', 'connaitr', 'habitud', 'ete', 'verr', 'typ', 'apprec', 'decev', 'cot', 'arrive', 'interess', 'connaiss', 'propr', 'presqu', 'manipul', 'meilleur', 'bouquet', 'gros', 'etrang', 'absenc', 'entendu', 'premier', 'ils', 'salut', 'grav', 'remarqu', 'regle', 'instant', 'deplor', 'souh', 'ru', 'soit', 'inquiet', 'mention', 'respons', 'interlocutric', 'verifi', 'parfait', 'assist', 'prefer', 'reag', 'justifi', 'ordin', 'compren', 'pos', 'nul', 'demarch', 'lorsque', 'tre', 'aimabl', 'demeur', 'imag', 'allais', 'patienc', 'debit', 'voil', 'objet', 'haut', 'desir', 'convers', 'recour', 'euro', 'systemat', 'charm', 'email', 'satisfait', 'achet', 'chain', 'souscrir', 'detail', 'cellec', 'agiss', 'net', 'interven', 'lie', 'felicit', 'reuss', 'sollicit', 'permettr', 'vendu', 'avantag', 'tot', 'recontact', 'dure', 'professionnel', 'plein', 'boit', 'visit', 'premi', 'corrig', 'prevenu', 'fil', 'electricien', 'travaill', 'apresmid', 'different', 'precis', 'entrepris', 'pag', 'mod', 'pareil', 'courriel', 'gentill', 'energ', 'sent', 'rout', 'raccord', 'samed', 'avert', 'froid', 'continu', 'agress', 'confianc', 'amelior', 'franch', 'agir', 'system', 'malgr', 'vit', 'entretien', 'avec', 'obtenu', 'prom', 'renseigne', 'sup', 'relanc', 'fraudul', 'rib', 'benefici', 'equip', 'envisag', 'penibl', 'satisfais', 'branch', 'serieux', 'dir', 'finalis', 'conso', 'prestatair', 'puisqu', 'comment', 'fall', 'compliqu', 'insist', 'entendr', 'maximum', 'quart', 'reflech', 'dedommag', 'standard', 'patient', 'recouvr', 'desagr', 'regard', 'musiqu', 'inaccept', 'remerci', 'opposit', 'tip', 'catastroph']\n",
      "\n",
      "Cluster  4\n",
      "['occup', 'heureux', 'dout', 'vien', 'faut', 'aid', 'samsung', 'agenc', 'precedent', 'anne', 'recevoir', 'fonction', 'enfin', 'une', 'but', 'attend', 'monsieur', 'profit', 'correspond', 'fourn', 'just', 'install', 'ouvr', 'arret', 'quitt', 'rest', 'inadmissibl', 'dej', 'box', 'evit', 'numero', 'second', 'lendemain', 'mecontent', 'accord', 'electricit', 'general', 'indiqu', 'augment', 'materiel', 'arriv', 'egal', 'esper', 'jam', 'annuel', 'consider', 'final', 'mensualit', 'log', 'ensuit', 'sit', 'venu', 'age', 'mauvais', 'rapid', 'ancien', 'dossi', 'exempl', 'confirm', 'argent', 'rapport', 'magasin', 'gratuit', 'gaz', 'ejp', 'questionnair', 'incident', 'person', 'aller', 'sort', 'pass', 'gest', 'permet', 'retourn', 'chequ', 'dois', 'boutiqu', 'cordial', 'horair', 'tarif', 'repris', 'retrouv', 'possibl', 'hav', 'sembl', 'moyen', 'trait', 'repondr', 'parl', 'refus', 'renseign', 'accueil', 'mais', 'pouvoir', 'mis', 'impossibilit', 'met', 'vrai', 'exist', 'index', 'tel', 'voul', 'rembours', 'raison', 'solut', 'recu', 'locatair', 'not', 'maison', 'bout', 'import']\n",
      "\n",
      "Cluster  5\n",
      "['comprend', 'juillet', 'du', 'global', 'touch', 'doubl', 'pert', 'peut', 'recommand', 'eventuel', 'europ', 'fass', 'relat', 'ajout', 'faill', 'enorm', 'sert', 'petit', 'plat', 'renvoi', 'correspondent', 'coler', 'futur', 'rapidit', 'capabl', 'ecoute', 'interet', 'compl', 'jai', 'guid', 'initial', 'kva', 'perdr', 'fac', 'affich', 'eleve', 'edit', 'financi', 'verif', 'repet', 'insupport', 'air', 'recapitul', 'lorsqu', 'avant', 'messager', 'car', 'identit', 'rassur', 'parf', 'madam', 'facture', 'certain', 'vid', 'fallut', 'fort', 'manqu', 'pet', 'rendr', 'tranch', 'vendred', 'urgent', 'execr', 'confus', 'connaissent', 'excellent', 'intermediair', 'tarifair', 'telecom', 'tent', 'cependant', 'ami', 'infos', 'rav', 'apporte', 'donne', 'decid', 'produit', 'court', 'kwh', 'remerc', 'vent', 'suivr', 'passe', 'preleve', 'tous', 'abandon', 'pol', 'galer', 'deconnect', 'reseau', 'impuls', 'convenu', 'tout', 'souscr', 'econom', 'exploit', 'organis', 'bla', 'possed', 'adapte', 'collabor', 'plusieurs', 'dizain', 'demande', 'deroul', 'minimum', 'tenu', 'compar', 'hiv', 'voi', 'supprim', 'envoye', 'retard', 'faux', 'celuic', 'traite', 'disent', 'evident', 'encaiss', 'principal', 'repondeur', 'exceptionnel', 'attribu', 'surpr', 'anormal', 'arrang', 'assum', 'ordre', 'contacte', 'pratiqu', 'pren', 'about', 'sympath', 'transfer', 'decis', 'roug', 'effect', 'ten', 'suffis', 'pourquoi', 'enerv', 'gagn', 'mauv', 'dirig', 'ayant', 'risqu', 'report', 'achat', 'chanc', 'posit', 'zero', 'pro', 'expos', 'distribu', 'mem', 'hesit', 'aven', 'trop', 'echeanc', 'content', 'decroch', 'bienvenu', 'mur', 'exact', 'clef', 'sans', 'commenc', 'renvoy', 'financier', 'satisfair', 'forc', 'rappele', 'apport', 'rien', 'apercu', 'mond', 'bien', 'puissanc', 'parfois', 'tempo', 'musical', 'fidel', 'auparav', 'conseille', 'propose', 'conven', 'logiqu', 'pdl', 'refair', 'provisoir', 'tax', 'anomal']\n",
      "\n",
      "Cluster  6\n",
      "['servic', 'dit', 'factur', 'demand', 'mois', 'appel']\n",
      "\n",
      "Cluster  7\n",
      "['franc', 'recherch', 'menac', 'serv', 'demenag', 'period', 'comprendr', 'aucune', 'insatisfact', 'sub', 'rejet', 'banqu', 'coordonne', 'dem', 'indisponibl', 'long', 'ecrit', 'clair', 'gross', 'comprehens', 'desol', 'command', 'autoris', 'port', 'ven', 'pourr', 'dispos', 'info', 'souscript', 'sait', 'gestion', 'dur', 'correct', 'cod', 'mot', 'reven', 'nuit', 'charg', 'boiti', 'locat', 'distanc', 'li', 'exterieur', 'chaud', 'concern', 'verit', 'facilit', 'eton', 'garant', 'octobr', 'elev', 'repar', 'fait', 'tombe', 'occas', 'fer', 'depass', 'condit', 'adapt', 'vocal', 'for', 'dans', 'etant', 'sach', 'decembr', 'minabl', 'appareil', 'etre', 'incompetent', 'prevu', 'appliqu', 'nez', 'bascul', 'pret', 'post', 'peutetr', 'docu', 'multipl', 'agreabl', 'decu', 'techniqu', 'effectu', 'demain', 'linky', 'soir', 'element', 'ger', 'remettr', 'cela', 'puiss', 'the', 'adsl', 'reel', 'control', 'dec', 'messag', 'informat', 'wif', 'mieux', 'apparent', 'resolu', 'faudr', 'mensuel', 'retour', 'action', 'manier', 'negat', 'pourt', 'secondair', 'tentat', 'proprietair', 'mar', 'resultat', 'temp', 'des', 'avanc', 'oui', 'essai', 'quelqu', 'voisin', 'plag', 'ouvert', 'vient', 'tchat', 'alle', 'hi', 'bas', 'complet', 'disponibl', 'laiss', 'agit', 'sais', 'devr', 'devoir', 'depart', 'consequent', 'baiss', 'tard', 'constat', 'calcul', 'annonc', 'chos', 'novembr', 'disqu', 'impos', 'malheur', 'genr', 'annul', 'lieu', 'noir', 'motif', 'limit', 'fre', 'decodeur', 'option', 'reduir', 'rajout', 'oubl', 'uniqu', 'comme', 'activ', 'immediat', 'resident', 'play', 'engag', 'ident', 'fevri', 'choix', 'cout', 'min', 'societ', 'rendu', 'revanch', 'form', 'inscrit', 'affirm', 'rencontr', 'aim', 'connexion', 'valid', 'satisfact', 'defectu', 'bloqu', 'logiciel', 'contrair', 'moindr', 'rar', 'serveur', 'pein', 'sen', 'justif', 'mettr', 'humain', 'efficac', 'formul', 'avis', 'derang', 'cong', 'longu', 'domicil', 'extrem', 'sim', 'cette']\n",
      "\n",
      "Cluster  8\n",
      "['consomm', 'plac', 'chauffag', 'trouv', 'reclam', 'present', 'fix', 'rendezvous', 'sur', 'sign', 'fallu', 'pay', 'situat', 'resili', 'minut', 'mobil', 'normal', 'ailleur', 'perdu', 'pour', 'recois', 'vous', 'pouv', 'estim', 'seul', 'nouvel', 'pas', 'pens', 'fibr', 'votre', 'commun', 'impossibl', 'juin', 'cas', 'offre', 'retabl', 'expliqu', 'les', 'adress', 'utilis', 'erreur', 'attendr', 'del', 'reprendr', 'nous', 'echang', 'mon', 'oblig', 'nom', 'que', 'tap', 'semain', 'somm', 'courri', 'regl', 'deplac', 'relev', 'sosh', 'eau', 'coup', 'donc', 'cour', 'and', 'grand', 'commercial', 'janvi', 'pris', 'suspendu', 'souhait', 'necessair', 'an', 'caus', 'modif']\n",
      "\n",
      "Cluster  9\n",
      "['telephon', 'compteur', 'pai', 'lign', 'suit', 'problem', 'client', 'euros', 'conseil', 'fair', 'orang', 'edf', 'technicien', 'contrat']\n"
     ]
    }
   ],
   "source": [
    "# Create a Word / Index dictionary, mapping each vocabulary word to\n",
    "# a cluster number                                                                                            \n",
    "word_centroid_map = dict(zip( model.index2word, idx ))\n",
    "\n",
    "for cluster in range(10):\n",
    "    #\n",
    "    # Print the cluster number  \n",
    "    print(\"\\nCluster \",cluster)\n",
    "    #\n",
    "    # Find all of the words for that cluster number, and print them out\n",
    "    words = []\n",
    "    for i in range(len(word_centroid_map.values())):\n",
    "        if( list(word_centroid_map.values())[i] == cluster ):\n",
    "            words.append(list(word_centroid_map.keys())[i])\n",
    "    print(words)"
   ]
  },
  {
   "cell_type": "code",
   "execution_count": 159,
   "metadata": {},
   "outputs": [
    {
     "data": {
      "text/plain": [
       "(48385, 2)"
      ]
     },
     "execution_count": 159,
     "metadata": {},
     "output_type": "execute_result"
    }
   ],
   "source": [
    "toys_data.shape"
   ]
  },
  {
   "cell_type": "code",
   "execution_count": 160,
   "metadata": {},
   "outputs": [
    {
     "name": "stdout",
     "output_type": "stream",
     "text": [
      "\n",
      "\n",
      "\n",
      "\n",
      "\n",
      "\n",
      "\n",
      "\n",
      "Propaganda is a concerted set of messages aimed at influencing the opinions or behavior of large numbers of people. Instead of impartially providing information, propaganda in its most basic sense presents information in order to influence its audience. The most effective propaganda is often completely truthful, but some propaganda presents facts selectively to encourage a particular synthesis, or gives loaded messages in order to produce an emotional rather than rational response to the information presented. The desired result is a change of the cognitive narrative of the subject in the target audience.\n",
      "\n"
     ]
    }
   ],
   "source": [
    "with open('C:/Users/MACH055/Documents/Data/wikipedia2text-extracted.txt', 'r') as f:\n",
    "    print(f.readline())\n",
    "    print(f.readline())\n",
    "    print(f.readline())\n",
    "    print(f.readline())\n",
    "    print(f.readline())\n",
    "f.close()"
   ]
  },
  {
   "cell_type": "code",
   "execution_count": 55,
   "metadata": {},
   "outputs": [
    {
     "ename": "ImportError",
     "evalue": "Pattern library is not installed. Pattern library is needed in order           to use lemmatize function",
     "output_type": "error",
     "traceback": [
      "\u001b[1;31m---------------------------------------------------------------------------\u001b[0m",
      "\u001b[1;31mRemoteTraceback\u001b[0m                           Traceback (most recent call last)",
      "\u001b[1;31mRemoteTraceback\u001b[0m: \n\"\"\"\nTraceback (most recent call last):\n  File \"C:\\Anaconda3\\lib\\multiprocessing\\pool.py\", line 119, in worker\n    result = (True, func(*args, **kwds))\n  File \"C:\\Anaconda3\\lib\\site-packages\\gensim\\corpora\\wikicorpus.py\", line 243, in process_article\n    result = utils.lemmatize(text)\n  File \"C:\\Anaconda3\\lib\\site-packages\\gensim\\utils.py\", line 1041, in lemmatize\n    to use lemmatize function\")\nImportError: Pattern library is not installed. Pattern library is needed in order           to use lemmatize function\n\"\"\"",
      "\nThe above exception was the direct cause of the following exception:\n",
      "\u001b[1;31mImportError\u001b[0m                               Traceback (most recent call last)",
      "\u001b[1;32m<ipython-input-55-9ac9acbaaa3f>\u001b[0m in \u001b[0;36m<module>\u001b[1;34m()\u001b[0m\n\u001b[0;32m      1\u001b[0m \u001b[1;32mfrom\u001b[0m \u001b[0mgensim\u001b[0m\u001b[1;33m.\u001b[0m\u001b[0mcorpora\u001b[0m\u001b[1;33m.\u001b[0m\u001b[0mwikicorpus\u001b[0m \u001b[1;32mimport\u001b[0m \u001b[0mWikiCorpus\u001b[0m\u001b[1;33m\u001b[0m\u001b[0m\n\u001b[1;32m----> 2\u001b[1;33m \u001b[0mwiki_lemmatized\u001b[0m \u001b[1;33m=\u001b[0m \u001b[0mWikiCorpus\u001b[0m\u001b[1;33m(\u001b[0m\u001b[1;34mr'C:\\Users\\MACH055\\Downloads\\frwiki-latest-pages-articles.xml.bz2'\u001b[0m\u001b[1;33m,\u001b[0m\u001b[0mlemmatize\u001b[0m\u001b[1;33m=\u001b[0m\u001b[1;32mTrue\u001b[0m\u001b[1;33m)\u001b[0m\u001b[1;33m\u001b[0m\u001b[0m\n\u001b[0m",
      "\u001b[1;32mC:\\Anaconda3\\lib\\site-packages\\gensim\\corpora\\wikicorpus.py\u001b[0m in \u001b[0;36m__init__\u001b[1;34m(self, fname, processes, lemmatize, dictionary, filter_namespaces)\u001b[0m\n\u001b[0;32m    276\u001b[0m         \u001b[0mself\u001b[0m\u001b[1;33m.\u001b[0m\u001b[0mlemmatize\u001b[0m \u001b[1;33m=\u001b[0m \u001b[0mlemmatize\u001b[0m\u001b[1;33m\u001b[0m\u001b[0m\n\u001b[0;32m    277\u001b[0m         \u001b[1;32mif\u001b[0m \u001b[0mdictionary\u001b[0m \u001b[1;32mis\u001b[0m \u001b[1;32mNone\u001b[0m\u001b[1;33m:\u001b[0m\u001b[1;33m\u001b[0m\u001b[0m\n\u001b[1;32m--> 278\u001b[1;33m             \u001b[0mself\u001b[0m\u001b[1;33m.\u001b[0m\u001b[0mdictionary\u001b[0m \u001b[1;33m=\u001b[0m \u001b[0mDictionary\u001b[0m\u001b[1;33m(\u001b[0m\u001b[0mself\u001b[0m\u001b[1;33m.\u001b[0m\u001b[0mget_texts\u001b[0m\u001b[1;33m(\u001b[0m\u001b[1;33m)\u001b[0m\u001b[1;33m)\u001b[0m\u001b[1;33m\u001b[0m\u001b[0m\n\u001b[0m\u001b[0;32m    279\u001b[0m         \u001b[1;32melse\u001b[0m\u001b[1;33m:\u001b[0m\u001b[1;33m\u001b[0m\u001b[0m\n\u001b[0;32m    280\u001b[0m             \u001b[0mself\u001b[0m\u001b[1;33m.\u001b[0m\u001b[0mdictionary\u001b[0m \u001b[1;33m=\u001b[0m \u001b[0mdictionary\u001b[0m\u001b[1;33m\u001b[0m\u001b[0m\n",
      "\u001b[1;32mC:\\Anaconda3\\lib\\site-packages\\gensim\\corpora\\dictionary.py\u001b[0m in \u001b[0;36m__init__\u001b[1;34m(self, documents, prune_at)\u001b[0m\n\u001b[0;32m     56\u001b[0m \u001b[1;33m\u001b[0m\u001b[0m\n\u001b[0;32m     57\u001b[0m         \u001b[1;32mif\u001b[0m \u001b[0mdocuments\u001b[0m \u001b[1;32mis\u001b[0m \u001b[1;32mnot\u001b[0m \u001b[1;32mNone\u001b[0m\u001b[1;33m:\u001b[0m\u001b[1;33m\u001b[0m\u001b[0m\n\u001b[1;32m---> 58\u001b[1;33m             \u001b[0mself\u001b[0m\u001b[1;33m.\u001b[0m\u001b[0madd_documents\u001b[0m\u001b[1;33m(\u001b[0m\u001b[0mdocuments\u001b[0m\u001b[1;33m,\u001b[0m \u001b[0mprune_at\u001b[0m\u001b[1;33m=\u001b[0m\u001b[0mprune_at\u001b[0m\u001b[1;33m)\u001b[0m\u001b[1;33m\u001b[0m\u001b[0m\n\u001b[0m\u001b[0;32m     59\u001b[0m \u001b[1;33m\u001b[0m\u001b[0m\n\u001b[0;32m     60\u001b[0m     \u001b[1;32mdef\u001b[0m \u001b[0m__getitem__\u001b[0m\u001b[1;33m(\u001b[0m\u001b[0mself\u001b[0m\u001b[1;33m,\u001b[0m \u001b[0mtokenid\u001b[0m\u001b[1;33m)\u001b[0m\u001b[1;33m:\u001b[0m\u001b[1;33m\u001b[0m\u001b[0m\n",
      "\u001b[1;32mC:\\Anaconda3\\lib\\site-packages\\gensim\\corpora\\dictionary.py\u001b[0m in \u001b[0;36madd_documents\u001b[1;34m(self, documents, prune_at)\u001b[0m\n\u001b[0;32m    109\u001b[0m         \u001b[0mDictionary\u001b[0m\u001b[1;33m(\u001b[0m\u001b[1;36m5\u001b[0m \u001b[0munique\u001b[0m \u001b[0mtokens\u001b[0m\u001b[1;33m)\u001b[0m\u001b[1;33m\u001b[0m\u001b[0m\n\u001b[0;32m    110\u001b[0m         \"\"\"\n\u001b[1;32m--> 111\u001b[1;33m         \u001b[1;32mfor\u001b[0m \u001b[0mdocno\u001b[0m\u001b[1;33m,\u001b[0m \u001b[0mdocument\u001b[0m \u001b[1;32min\u001b[0m \u001b[0menumerate\u001b[0m\u001b[1;33m(\u001b[0m\u001b[0mdocuments\u001b[0m\u001b[1;33m)\u001b[0m\u001b[1;33m:\u001b[0m\u001b[1;33m\u001b[0m\u001b[0m\n\u001b[0m\u001b[0;32m    112\u001b[0m             \u001b[1;31m# log progress & run a regular check for pruning, once every 10k docs\u001b[0m\u001b[1;33m\u001b[0m\u001b[1;33m\u001b[0m\u001b[0m\n\u001b[0;32m    113\u001b[0m             \u001b[1;32mif\u001b[0m \u001b[0mdocno\u001b[0m \u001b[1;33m%\u001b[0m \u001b[1;36m10000\u001b[0m \u001b[1;33m==\u001b[0m \u001b[1;36m0\u001b[0m\u001b[1;33m:\u001b[0m\u001b[1;33m\u001b[0m\u001b[0m\n",
      "\u001b[1;32mC:\\Anaconda3\\lib\\site-packages\\gensim\\corpora\\wikicorpus.py\u001b[0m in \u001b[0;36mget_texts\u001b[1;34m(self)\u001b[0m\n\u001b[0;32m    301\u001b[0m         \u001b[1;31m# is dumb and would load the entire input into RAM at once...\u001b[0m\u001b[1;33m\u001b[0m\u001b[1;33m\u001b[0m\u001b[0m\n\u001b[0;32m    302\u001b[0m         \u001b[1;32mfor\u001b[0m \u001b[0mgroup\u001b[0m \u001b[1;32min\u001b[0m \u001b[0mutils\u001b[0m\u001b[1;33m.\u001b[0m\u001b[0mchunkize\u001b[0m\u001b[1;33m(\u001b[0m\u001b[0mtexts\u001b[0m\u001b[1;33m,\u001b[0m \u001b[0mchunksize\u001b[0m\u001b[1;33m=\u001b[0m\u001b[1;36m10\u001b[0m \u001b[1;33m*\u001b[0m \u001b[0mself\u001b[0m\u001b[1;33m.\u001b[0m\u001b[0mprocesses\u001b[0m\u001b[1;33m,\u001b[0m \u001b[0mmaxsize\u001b[0m\u001b[1;33m=\u001b[0m\u001b[1;36m1\u001b[0m\u001b[1;33m)\u001b[0m\u001b[1;33m:\u001b[0m\u001b[1;33m\u001b[0m\u001b[0m\n\u001b[1;32m--> 303\u001b[1;33m             \u001b[1;32mfor\u001b[0m \u001b[0mtokens\u001b[0m\u001b[1;33m,\u001b[0m \u001b[0mtitle\u001b[0m\u001b[1;33m,\u001b[0m \u001b[0mpageid\u001b[0m \u001b[1;32min\u001b[0m \u001b[0mpool\u001b[0m\u001b[1;33m.\u001b[0m\u001b[0mimap\u001b[0m\u001b[1;33m(\u001b[0m\u001b[0mprocess_article\u001b[0m\u001b[1;33m,\u001b[0m \u001b[0mgroup\u001b[0m\u001b[1;33m)\u001b[0m\u001b[1;33m:\u001b[0m  \u001b[1;31m# chunksize=10):\u001b[0m\u001b[1;33m\u001b[0m\u001b[0m\n\u001b[0m\u001b[0;32m    304\u001b[0m                 \u001b[0marticles_all\u001b[0m \u001b[1;33m+=\u001b[0m \u001b[1;36m1\u001b[0m\u001b[1;33m\u001b[0m\u001b[0m\n\u001b[0;32m    305\u001b[0m                 \u001b[0mpositions_all\u001b[0m \u001b[1;33m+=\u001b[0m \u001b[0mlen\u001b[0m\u001b[1;33m(\u001b[0m\u001b[0mtokens\u001b[0m\u001b[1;33m)\u001b[0m\u001b[1;33m\u001b[0m\u001b[0m\n",
      "\u001b[1;32mC:\\Anaconda3\\lib\\multiprocessing\\pool.py\u001b[0m in \u001b[0;36mnext\u001b[1;34m(self, timeout)\u001b[0m\n\u001b[0;32m    693\u001b[0m         \u001b[1;32mif\u001b[0m \u001b[0msuccess\u001b[0m\u001b[1;33m:\u001b[0m\u001b[1;33m\u001b[0m\u001b[0m\n\u001b[0;32m    694\u001b[0m             \u001b[1;32mreturn\u001b[0m \u001b[0mvalue\u001b[0m\u001b[1;33m\u001b[0m\u001b[0m\n\u001b[1;32m--> 695\u001b[1;33m         \u001b[1;32mraise\u001b[0m \u001b[0mvalue\u001b[0m\u001b[1;33m\u001b[0m\u001b[0m\n\u001b[0m\u001b[0;32m    696\u001b[0m \u001b[1;33m\u001b[0m\u001b[0m\n\u001b[0;32m    697\u001b[0m     \u001b[0m__next__\u001b[0m \u001b[1;33m=\u001b[0m \u001b[0mnext\u001b[0m                    \u001b[1;31m# XXX\u001b[0m\u001b[1;33m\u001b[0m\u001b[0m\n",
      "\u001b[1;31mImportError\u001b[0m: Pattern library is not installed. Pattern library is needed in order           to use lemmatize function"
     ]
    }
   ],
   "source": [
    "from gensim.corpora.wikicorpus import WikiCorpus\n",
    "wiki_lemmatized = WikiCorpus(r'C:\\Users\\MACH055\\Downloads\\frwiki-latest-pages-articles.xml.bz2',lemmatize=True)"
   ]
  },
  {
   "cell_type": "code",
   "execution_count": 35,
   "metadata": {},
   "outputs": [
    {
     "name": "stdout",
     "output_type": "stream",
     "text": [
      "[b'paul', b'jules', b'antoine', b'meillet', b'n\\xc3\\xa9', b'le', b'moulins', b'allier', b'et', b'mort', b'le', b'ch\\xc3\\xa2teaumeillant', b'cher', b'est', b'le', b'principal', b'linguiste', b'fran\\xc3\\xa7ais', b'des', b'premi\\xc3\\xa8res', b'd\\xc3\\xa9cennies', b'du', b'biographie', b'origine', b'bourbonnaise', b'fils', b'un', b'notaire', b'de', b'ch\\xc3\\xa2teaumeillant', b'cher', b'il', b'fait', b'ses', b'\\xc3\\xa9tudes', b'secondaires', b'au', b'lyc\\xc3\\xa9e', b'th\\xc3\\xa9odore', b'de', b'banville', b'de', b'moulins', b'\\xc3\\xa9tudiant', b'la', b'facult\\xc3\\xa9', b'des', b'lettres', b'de', b'paris', b'partir', b'de', b'o\\xc3\\xb9', b'il', b'suit', b'notamment', b'les', b'cours', b'de', b'louis', b'havet', b'il', b'assiste', b'\\xc3\\xa9galement', b'ceux', b'de', b'michel', b'br\\xc3\\xa9al', b'au', b'coll\\xc3\\xa8ge', b'de', b'france', b'et', b'de', b'ferdinand', b'de', b'saussure', b'\\xc3\\xa9cole', b'pratique', b'des', b'hautes', b'\\xc3\\xa9tudes', b'il', b'assure', b'la', b'suite', b'de', b'saussure', b'le', b'cours', b'de', b'grammaire', b'compar\\xc3\\xa9e', b'qu', b'il', b'compl\\xc3\\xa8te', b'partir', b'de', b'par', b'une', b'conf\\xc3\\xa9rence', b'sur', b'iranien', b'en', b'il', b'soutient', b'sa', b'th\\xc3\\xa8se', b'pour', b'le', b'doctorat', b'\\xc3\\xa8s', b'lettres', b'recherches', b'sur', b'emploi', b'du', b'g\\xc3\\xa9nitif', b'accusatif', b'en', b'vieux', b'slave', b'en', b'il', b'occupe', b'la', b'chaire', b'de', b'grammaire', b'compar\\xc3\\xa9e', b'au', b'coll\\xc3\\xa8ge', b'de', b'france', b'o\\xc3\\xb9', b'il', b'consacre', b'ses', b'cours', b'histoire', b'et', b'la', b'structure', b'des', b'langues', b'indo', b'europ\\xc3\\xa9ennes', b'il', b'succ\\xc3\\xa9da', b'au', b'linguiste', b'auguste', b'carri\\xc3\\xa8re', b'la', b't\\xc3\\xaate', b'de', b'la', b'chaire', b'arm\\xc3\\xa9nien', b'\\xc3\\xa9cole', b'des', b'langues', b'orientales', b'secr\\xc3\\xa9taire', b'de', b'la', b'soci\\xc3\\xa9t\\xc3\\xa9', b'de', b'linguistique', b'de', b'paris', b'il', b'est', b'\\xc3\\xa9lu', b'acad\\xc3\\xa9mie', b'des', b'inscriptions', b'et', b'belles', b'lettres', b'en', b'il', b'form\\xc3\\xa9', b'toute', b'une', b'g\\xc3\\xa9n\\xc3\\xa9ration', b'de', b'linguistes', b'fran\\xc3\\xa7ais', b'parmi', b'lesquels', b'\\xc3\\xa9mile', b'benveniste', b'marcel', b'cohen', b'georges', b'dum\\xc3\\xa9zil', b'andr\\xc3\\xa9', b'martinet', b'aur\\xc3\\xa9lien', b'sauvageot', b'lucien', b'tesni\\xc3\\xa8re', b'joseph', b'vendryes', b'ainsi', b'que', b'le', b'japonisant', b'charles', b'haguenauer', b'antoine', b'meillet', b'devait', b'diriger', b'la', b'th\\xc3\\xa8se', b'de', b'jean', b'paulhan', b'sur', b'la', b's\\xc3\\xa9mantique', b'du', b'proverbe', b'et', b'est', b'lui', b'qui', b'd\\xc3\\xa9couvrit', b'gustave', b'guillaume', b'il', b'influenc\\xc3\\xa9', b'aussi', b'un', b'certain', b'nombre', b'de', b'linguistes', b'\\xc3\\xa9trangers', b'il', b'\\xc3\\xa9galement', b'\\xc3\\xa9t\\xc3\\xa9', b'le', b'premier', b'identifier', b'le', b'ph\\xc3\\xa9nom\\xc3\\xa8ne', b'de', b'la', b'\\xc3\\xa9tudes', b'arm\\xc3\\xa9niennes', b'une', b'mission', b'de', b'trois', b'mois', b'dans', b'le', b'caucase', b'lui', b'permet', b'apprendre', b'arm\\xc3\\xa9nien', b'moderne', b'il', b'obtient', b'la', b'chaire', b'arm\\xc3\\xa9nien', b'de', b'\\xc3\\xa9cole', b'des', b'langues', b'orientales', b'nouvelle', b'mission', b'en', b'arm\\xc3\\xa9nie', b'russe', b'il', b'publie', b'son', b'esquisse', b'une', b'grammaire', b'compar\\xc3\\xa9e', b'de', b'arm\\xc3\\xa9nien', b'classique', b'qui', b'demeure', b'une', b'r\\xc3\\xa9f\\xc3\\xa9rence', b'en', b'linguistique', b'arm\\xc3\\xa9nienne', b'et', b'indo', b'europ\\xc3\\xa9enne', b'jusqu', b'ce', b'jour', b'un', b'de', b'ses', b'\\xc3\\xa9tudiants', b'hratchia', b'adjarian', b'devient', b'le', b'fondateur', b'de', b'la', b'dialectologie', b'arm\\xc3\\xa9nienne', b'est', b'\\xc3\\xa9galement', b'sous', b'les', b'encouragements', b'de', b'meillet', b'qu', b'\\xc3\\xa9mile', b'benveniste', b'\\xc3\\xa9tudie', b'la', b'langue', b'arm\\xc3\\xa9nienne', b'il', b'est', b'cofondateur', b'de', b'la', b'soci\\xc3\\xa9t\\xc3\\xa9', b'des', b'\\xc3\\xa9tudes', b'arm\\xc3\\xa9niennes', b'avec', b'victor', b'b\\xc3\\xa9rard', b'charles', b'diehl', b'andr\\xc3\\xa9', b'ferdinand', b'h\\xc3\\xa9rold', b'lacroix', b'fr\\xc3\\xa9d\\xc3\\xa9ric', b'macler', b'gabriel', b'millet', b'gustave', b'schlumberger', b'le', b'janvier', b'il', b'cr\\xc3\\xa9e', b'la', b'revue', b'des', b'\\xc3\\xa9tudes', b'arm\\xc3\\xa9niennes', b'avec', b'fr\\xc3\\xa9d\\xc3\\xa9ric', b'macler', b'\\xc3\\xa9tudes', b'hom\\xc3\\xa9riques', b'la', b'sorbonne', b'meillet', b'surveille', b'le', b'travail', b'de', b'milman', b'parry', b'en', b'un', b'an', b'avant', b'que', b'parry', b'ne', b'commence', b'son', b'travail', b'avec', b'meillet', b'celui', b'ci', b'\\xc3\\xa9crit', b'cit\\xc3\\xa9', b'dans', b'la', b'premi\\xc3\\xa8re', b'des', b'deux', b'th\\xc3\\xa8ses', b'de', b'milman', b'parry', b'savoir', b'celle', b'qui', b'traite', b'de', b'\\xc3\\xa9pith\\xc3\\xa8te', b'hom\\xc3\\xa9rique', b'meillet', b'offre', b'son', b'\\xc3\\xa9tudiant', b'opinion', b'nouvelle', b'cette', b'\\xc3\\xa9poque', b'que', b'la', b'structure', b'formula\\xc3\\xafque', b'de', b'iliade', b'serait', b'une', b'cons\\xc3\\xa9quence', b'directe', b'de', b'sa', b'transmission', b'orale', b'ainsi', b'il', b'le', b'dirige', b'vers', b'\\xc3\\xa9tude', b'de', b'oralit\\xc3\\xa9', b'dans', b'son', b'cadre', b'natif', b'et', b'lui', b'sugg\\xc3\\xa8re', b'observer', b'les', b'm\\xc3\\xa9canismes', b'une', b'tradition', b'orale', b'vivante', b'c\\xc3\\xb4t\\xc3\\xa9', b'du', b'texte', b'classique', b'iliade', b'qui', b'est', b'cens\\xc3\\xa9', b'r\\xc3\\xa9sulter', b'une', b'telle', b'tradition', b'en', b'cons\\xc3\\xa9quence', b'meillet', b'pr\\xc3\\xa9sente', b'parry', b'matija', b'murko', b'savant', b'originaire', b'de', b'slov\\xc3\\xa9nie', b'qui', b'avait', b'longuement', b'\\xc3\\xa9crit', b'sur', b'la', b'tradition', b'h\\xc3\\xa9ro\\xc3\\xafque', b'\\xc3\\xa9pique', b'dans', b'les', b'balkans', b'surtout', b'en', b'bosnie', b'herz\\xc3\\xa9govine', b'par', b'leurs', b'recherches', b'dont', b'les', b'r\\xc3\\xa9sultats', b'sont', b'pr\\xc3\\xa9sent', b'h\\xc3\\xa9berg\\xc3\\xa9s', b'par', b'universit\\xc3\\xa9', b'de', b'harvard', b'parry', b'et', b'son', b'\\xc3\\xa9l\\xc3\\xa8ve', b'albert', b'lord', b'ont', b'profond\\xc3\\xa9ment', b'renouvel\\xc3\\xa9', b'les', b'\\xc3\\xa9tudes', b'hom\\xc3\\xa9riques', b'principaux', b'ouvrages', b'esquisse', b'une', b'grammaire', b'compar\\xc3\\xa9e', b'de', b'arm\\xc3\\xa9nien', b'classique', b'introduction', b'\\xc3\\xa9tude', b'comparative', b'des', b'langues', b'indo', b'europ\\xc3\\xa9ennes', b'\\xc3\\xa9d', b'hachette', b'paris', b'\\xc3\\xa9d', b'les', b'dialectes', b'indo', b'europ\\xc3\\xa9ens', b'aper\\xc3\\xa7u', b'une', b'histoire', b'de', b'la', b'langue', b'grecque', b'altarmenisches', b'elementarbuch', b'heidelberg', b'para\\xc3\\xaetre', b'en', b'fran\\xc3\\xa7ais', b'manuel', b'\\xc3\\xa9l\\xc3\\xa9mentaire', b'arm\\xc3\\xa9nien', b'classique', b'traduction', b'de', b'gabriel', b'k\\xc3\\xa9p\\xc3\\xa9klian', b'limoges', b'lambert', b'lucas', b'linguistique', b'historique', b'et', b'linguistique', b'g\\xc3\\xa9n\\xc3\\xa9rale', b'le', b'tome', b'ii', b'est', b'paru', b'en', b'les', b'deux', b'tomes', b'ont', b'\\xc3\\xa9t\\xc3\\xa9', b'r\\xc3\\xa9unis', b'chez', b'lambert', b'lucas', b'limoges', b'les', b'origines', b'indo', b'europ\\xc3\\xa9ennes', b'des', b'm\\xc3\\xa8tres', b'grecs', b'trait\\xc3\\xa9', b'de', b'grammaire', b'compar\\xc3\\xa9e', b'des', b'langues', b'classiques', b'avec', b'joseph', b'vendry\\xc3\\xa9s', b'la', b'm\\xc3\\xa9thode', b'comparative', b'en', b'linguistique', b'historique', b'dictionnaire', b'\\xc3\\xa9tymologique', b'de', b'la', b'langue', b'latine', b'en', b'collab', b'avec', b'alfred', b'ernout', b'\\xc3\\xa9d', b'augment\\xc3\\xa9e', b'par', b'jacques', b'andr\\xc3\\xa9', b'paris', b'klincksieck', b'meillet', b'en', b'arm\\xc3\\xa9nie', b'journaux', b'et', b'lettres', b'publi\\xc3\\xa9s', b'par', b'francis', b'gandon', b'limoges', b'lambert', b'lucas', b'notes', b'bibliographie', b'voir', b'aussi', b'franz', b'bopp', b'johann', b'kaspar', b'zeuss', b'cat\\xc3\\xa9gorie', b'acad\\xc3\\xa9mie', b'des', b'inscriptions', b'et', b'belles', b'lettres', b'cat\\xc3\\xa9gorie', b'linguiste', b'fran\\xc3\\xa7ais', b'cat\\xc3\\xa9gorie', b'slaviste', b'cat\\xc3\\xa9gorie', b'naissance', b'en', b'novembre', b'cat\\xc3\\xa9gorie', b'naissance', b'moulins', b'allier', b'cat\\xc3\\xa9gorie', b'd\\xc3\\xa9c\\xc3\\xa8s', b'en', b'septembre', b'cat\\xc3\\xa9gorie', b'd\\xc3\\xa9c\\xc3\\xa8s', b'dans', b'le', b'cher', b'cat\\xc3\\xa9gorie', b'd\\xc3\\xa9c\\xc3\\xa8s', b'ans', b'cat\\xc3\\xa9gorie', b'institut', b'national', b'des', b'langues', b'et', b'civilisations', b'orientales', b'cat\\xc3\\xa9gorie', b'arm\\xc3\\xa9nologue', b'fran\\xc3\\xa7ais', b'cat\\xc3\\xa9gorie', b'indo', b'europ\\xc3\\xa9aniste', b'cat\\xc3\\xa9gorie', b'\\xc3\\xa9tudiant', b'de', b'universit\\xc3\\xa9', b'de', b'paris', b'cat\\xc3\\xa9gorie', b'personnalit\\xc3\\xa9', b'enterr\\xc3\\xa9e', b'moulins']\n",
      "[b'est', b'un', b'espace', b'vectoriel', b'de', b'dimension', b'les', b'droites', b'ou', b'plans', b'qui', b'passent', b'par', b'origine', b'sont', b'les', b'sous', b'espaces', b'vectoriels', b'de', b'dimension', b'respectivement', b'et', b'alg\\xc3\\xa8bre', b'lin\\xc3\\xa9aire', b'est', b'la', b'branche', b'des', b'math\\xc3\\xa9matiques', b'qui', b'int\\xc3\\xa9resse', b'\\xc3\\xa9tude', b'des', b'espaces', b'vectoriels', b'et', b'des', b'transformations', b'lin\\xc3\\xa9aires', b'formalisation', b'g\\xc3\\xa9n\\xc3\\xa9rale', b'des', b'th\\xc3\\xa9ories', b'des', b'syst\\xc3\\xa8mes', b'\\xc3\\xa9quations', b'lin\\xc3\\xa9aires', b'histoire', b'histoire', b'de', b'alg\\xc3\\xa8bre', b'lin\\xc3\\xa9aire', b'commence', b'avec', b'al', b'khawarizmi', b'qui', b'traduit', b'des', b'textes', b'de', b'math\\xc3\\xa9matiques', b'indiens', b'r\\xc3\\xa9interpr\\xc3\\xa9t\\xc3\\xa9', b'les', b'travaux', b'de', b'\\xc3\\xa9cole', b'grecque', b'et', b'qui', b'est', b'la', b'source', b'du', b'd\\xc3\\xa9veloppement', b'conscient', b'de', b'alg\\xc3\\xa8bre', b'qui', b'\\xc3\\xa9tendra', b'pendant', b'des', b'si\\xc3\\xa8cles', b'apr\\xc3\\xa8s', b'lui', b'elle', b'\\xc3\\xa9t\\xc3\\xa9', b'reprise', b'par', b'ren\\xc3\\xa9', b'descartes', b'qui', b'pose', b'des', b'probl\\xc3\\xa8mes', b'de', b'g\\xc3\\xa9om\\xc3\\xa9trie', b'comme', b'la', b'd\\xc3\\xa9termination', b'de', b'intersection', b'de', b'deux', b'droites', b'en', b'termes', b'\\xc3\\xa9quation', b'lin\\xc3\\xa9aire', b'\\xc3\\xa9tablissant', b'd\\xc3\\xa8s', b'lors', b'un', b'pont', b'entre', b'deux', b'branches', b'math\\xc3\\xa9matiques', b'jusqu', b'alors', b's\\xc3\\xa9par\\xc3\\xa9es', b'alg\\xc3\\xa8bre', b'et', b'la', b'g\\xc3\\xa9om\\xc3\\xa9trie', b'il', b'ne', b'd\\xc3\\xa9finit', b'pas', b'la', b'notion', b'de', b'base', b'de', b'alg\\xc3\\xa8bre', b'lin\\xc3\\xa9aire', b'qu', b'est', b'celle', b'espace', b'vectoriel', b'il', b'utilise', b'd\\xc3\\xa9j\\xc3\\xa0', b'avec', b'succ\\xc3\\xa8s', b'et', b'cette', b'utilisation', b'naturelle', b'des', b'aspects', b'lin\\xc3\\xa9aires', b'des', b'\\xc3\\xa9quations', b'manipul\\xc3\\xa9es', b'demeurera', b'utilis\\xc3\\xa9e', b'de', b'mani\\xc3\\xa8re', b'ad', b'hoc', b'fond\\xc3\\xa9e', b'essentiellement', b'sur', b'les', b'id\\xc3\\xa9es', b'g\\xc3\\xa9om\\xc3\\xa9triques', b'sous', b'jacentes', b'apr\\xc3\\xa8s', b'cette', b'd\\xc3\\xa9couverte', b'les', b'progr\\xc3\\xa8s', b'en', b'alg\\xc3\\xa8bre', b'lin\\xc3\\xa9aire', b'vont', b'se', b'limiter', b'des', b'\\xc3\\xa9tudes', b'ponctuelles', b'comme', b'la', b'd\\xc3\\xa9finition', b'et', b'analyse', b'des', b'premi\\xc3\\xa8res', b'propri\\xc3\\xa9t\\xc3\\xa9s', b'des', b'd\\xc3\\xa9terminants', b'par', b'jean', b'alembert', b'ce', b'est', b'qu', b'au', b'que', b'alg\\xc3\\xa8bre', b'lin\\xc3\\xa9aire', b'devient', b'une', b'branche', b'des', b'math\\xc3\\xa9matiques', b'part', b'enti\\xc3\\xa8re', b'carl', b'friedrich', b'gauss', b'trouve', b'une', b'm\\xc3\\xa9thode', b'g\\xc3\\xa9n\\xc3\\xa9rique', b'pour', b'la', b'r\\xc3\\xa9solution', b'des', b'syst\\xc3\\xa8mes', b'\\xc3\\xa9quations', b'lin\\xc3\\xa9aires', b'et', b'camille', b'jordan', b'r\\xc3\\xa9sout', b'd\\xc3\\xa9finitivement', b'le', b'probl\\xc3\\xa8me', b'de', b'la', b'r\\xc3\\xa9duction', b'endomorphisme', b'en', b'william', b'rowan', b'hamilton', b'inventeur', b'du', b'terme', b'vector', b'd\\xc3\\xa9couvre', b'les', b'quaternions', b'extension', b'du', b'corps', b'des', b'nombres', b'complexes', b'en', b'hermann', b'grassmann', b'publie', b'son', b'trait\\xc3\\xa9', b'die', b'lineale', b'la', b'th\\xc3\\xa9orie', b'de', b'extension', b'lin\\xc3\\xa9aire', b'qui', b'est', b'la', b'premi\\xc3\\xa8re', b'tentative', b'de', b'formalisation', b'g\\xc3\\xa9n\\xc3\\xa9rale', b'de', b'la', b'notion', b'espace', b'vectoriel', b'si', b'son', b'\\xc5\\x93uvre', b'reste', b'grandement', b'inaper\\xc3\\xa7ue', b'elle', b'contient', b'essentiel', b'des', b'id\\xc3\\xa9es', b'modernes', b'de', b'alg\\xc3\\xa8bre', b'lin\\xc3\\xa9aire', b'et', b'cette', b'\\xc3\\xa9tape', b'fondamentale', b'dans', b'le', b'd\\xc3\\xa9veloppement', b'de', b'alg\\xc3\\xa8bre', b'lin\\xc3\\xa9aire', b'est', b'reconnue', b'comme', b'telle', b'tant', b'par', b'hamilton', b'que', b'par', b'giuseppe', b'peano', b'qui', b'axiomatise', b'enti\\xc3\\xa8rement', b'la', b'th\\xc3\\xa9orie', b'en', b'les', b'espaces', b'vectoriels', b'deviennent', b'alors', b'une', b'structure', b'g\\xc3\\xa9n\\xc3\\xa9rale', b'omnipr\\xc3\\xa9sente', b'dans', b'presque', b'tous', b'les', b'domaines', b'math\\xc3\\xa9matiques', b'notamment', b'en', b'analyse', b'espaces', b'de', b'fonctions', b'int\\xc3\\xa9r\\xc3\\xaat', b'sous', b'leur', b'forme', b'la', b'plus', b'simple', b'les', b'applications', b'lin\\xc3\\xa9aires', b'dans', b'les', b'espaces', b'vectoriels', b'repr\\xc3\\xa9sentent', b'intuitivement', b'les', b'd\\xc3\\xa9placements', b'dans', b'les', b'espaces', b'g\\xc3\\xa9om\\xc3\\xa9triques', b'\\xc3\\xa9l\\xc3\\xa9mentaires', b'comme', b'la', b'droite', b'le', b'plan', b'ou', b'notre', b'espace', b'physique', b'les', b'bases', b'de', b'cette', b'th\\xc3\\xa9orie', b'remplacent', b'maintenant', b'la', b'repr\\xc3\\xa9sentation', b'construite', b'par', b'euclide', b'au', b'la', b'construction', b'moderne', b'permet', b'de', b'g\\xc3\\xa9n\\xc3\\xa9raliser', b'la', b'notion', b'espace', b'des', b'dimensions', b'quelconques', b'alg\\xc3\\xa8bre', b'lin\\xc3\\xa9aire', b'permet', b'de', b'r\\xc3\\xa9soudre', b'tout', b'un', b'ensemble', b'\\xc3\\xa9quations', b'dites', b'lin\\xc3\\xa9aires', b'utilis\\xc3\\xa9es', b'non', b'seulement', b'en', b'math\\xc3\\xa9matiques', b'ou', b'en', b'm\\xc3\\xa9canique', b'mais', b'dans', b'de', b'nombreuses', b'autres', b'branches', b'comme', b'les', b'sciences', b'naturelles', b'ou', b'les', b'sciences', b'sociales', b'les', b'espaces', b'vectoriels', b'forment', b'aussi', b'un', b'outil', b'fondamental', b'pour', b'les', b'sciences', b'de', b'ing\\xc3\\xa9nieur', b'et', b'servent', b'de', b'base', b'de', b'nombreux', b'domaines', b'dans', b'la', b'recherche', b'op\\xc3\\xa9rationnelle', b'enfin', b'est', b'un', b'outil', b'utilis\\xc3\\xa9', b'en', b'math\\xc3\\xa9matiques', b'dans', b'des', b'domaines', b'aussi', b'divers', b'que', b'la', b'th\\xc3\\xa9orie', b'des', b'groupes', b'des', b'anneaux', b'ou', b'des', b'corps', b'analyse', b'fonctionnelle', b'la', b'g\\xc3\\xa9om\\xc3\\xa9trie', b'diff\\xc3\\xa9rentielle', b'ou', b'la', b'th\\xc3\\xa9orie', b'des', b'nombres', b'pr\\xc3\\xa9sentation', b'\\xc3\\xa9l\\xc3\\xa9mentaire', b'alg\\xc3\\xa8bre', b'lin\\xc3\\xa9aire', b'commence', b'par', b'\\xc3\\xa9tude', b'de', b'vecteurs', b'dans', b'les', b'espaces', b'cart\\xc3\\xa9siens', b'de', b'dimension', b'et', b'un', b'vecteur', b'ici', b'est', b'une', b'classe', b'\\xc3\\xa9quivalence', b'de', b'bipoints', b'qui', b'unifie', b'les', b'segments', b'de', b'droite', b'caract\\xc3\\xa9ris\\xc3\\xa9s', b'la', b'fois', b'par', b'leur', b'longueur', b'ou', b'norme', b'leur', b'direction', b'et', b'leur', b'sens', b'deux', b'bipoints', b'repr\\xc3\\xa9sentent', b'un', b'm\\xc3\\xaame', b'vecteur', b'si', b'le', b'quadrilat\\xc3\\xa8re', b'form\\xc3\\xa9', b'sur', b'les', b'quatre', b'points', b'est', b'un', b'parall\\xc3\\xa9logramme', b'les', b'vecteurs', b'peuvent', b'alors', b'\\xc3\\xaatre', b'utilis\\xc3\\xa9s', b'pour', b'repr\\xc3\\xa9senter', b'certaines', b'entit\\xc3\\xa9s', b'physiques', b'comme', b'des', b'd\\xc3\\xa9placements', b'additionn\\xc3\\xa9s', b'entre', b'eux', b'ou', b'encore', b'multipli\\xc3\\xa9s', b'par', b'des', b'scalaires', b'nombres', b'formant', b'ainsi', b'le', b'premier', b'exemple', b'concret', b'espace', b'vectoriel', b'alg\\xc3\\xa8bre', b'lin\\xc3\\xa9aire', b'moderne', b'int\\xc3\\xa9resse', b'beaucoup', b'aux', b'espaces', b'de', b'dimension', b'arbitraire', b'\\xc3\\xa9ventuellement', b'infinie', b'la', b'plupart', b'des', b'r\\xc3\\xa9sultats', b'obtenus', b'en', b'dimension', b'ou', b'peuvent', b'\\xc3\\xaatre', b'\\xc3\\xa9tendus', b'aux', b'dimensions', b'finies', b'sup\\xc3\\xa9rieures', b'les', b'vecteurs', b'\\xc3\\xa9tant', b'des', b'listes', b'ordonn\\xc3\\xa9es', b'composantes', b'on', b'peut', b'manipuler', b'ces', b'donn\\xc3\\xa9es', b'efficacement', b'dans', b'cet', b'environnement', b'par', b'exemple', b'en', b'\\xc3\\xa9conomie', b'on', b'peut', b'cr\\xc3\\xa9er', b'et', b'utiliser', b'des', b'vecteurs', b'huit', b'dimensions', b'pour', b'repr\\xc3\\xa9senter', b'le', b'produit', b'national', b'brut', b'de', b'huit', b'pays', b'quelques', b'th\\xc3\\xa9or\\xc3\\xa8mes', b'th\\xc3\\xa9or\\xc3\\xa8me', b'de', b'la', b'base', b'incompl\\xc3\\xa8te', b'soient', b'un', b'espace', b'vectoriel', b'une', b'famille', b'g\\xc3\\xa9n\\xc3\\xa9ratrice', b'de', b'et', b'une', b'famille', b'libre', b'de', b'vecteurs', b'de', b'alors', b'il', b'existe', b'au', b'moins', b'une', b'base', b'de', b'form\\xc3\\xa9e', b'en', b'prenant', b'la', b'r\\xc3\\xa9union', b'de', b'et', b'une', b'partie', b'de', b'en', b'particulier', b'tout', b'espace', b'vectoriel', b'poss\\xc3\\xa8de', b'au', b'moins', b'une', b'base', b'toutes', b'les', b'bases', b'un', b'm\\xc3\\xaame', b'espace', b'vectoriel', b'ont', b'le', b'm\\xc3\\xaame', b'cardinal', b'tout', b'espace', b'vectoriel', b'poss\\xc3\\xa8de', b'un', b'espace', b'dual', b'si', b'est', b'de', b'dimension', b'finie', b'est', b'de', b'm\\xc3\\xaame', b'dimension', b'formule', b'de', b'grassmann', b'soient', b'et', b'deux', b'sous', b'espaces', b'vectoriels', b'un', b'm\\xc3\\xaame', b'espace', b'vectoriel', b'on', b'alors', b'autres', b'th\\xc3\\xa9or\\xc3\\xa8mes', b'concernent', b'les', b'conditions', b'inversion', b'de', b'matrices', b'de', b'divers', b'types', b'matrice', b'diagonale', b'matrice', b'triangulaire', b'matrice', b'diagonale', b'dominante', b'un', b'th\\xc3\\xa9or\\xc3\\xa8me', b'int\\xc3\\xa9ressant', b'\\xc3\\xa9poque', b'des', b'm\\xc3\\xa9moires', b'ordinateurs', b'de', b'petite', b'taille', b'\\xc3\\xa9tait', b'qu', b'on', b'pouvait', b'travailler', b's\\xc3\\xa9par\\xc3\\xa9ment', b'sur', b'des', b'sous', b'ensembles', b'blocs', b'une', b'matrice', b'en', b'les', b'combinant', b'ensuite', b'par', b'les', b'm\\xc3\\xaames', b'r\\xc3\\xa8gles', b'qu', b'on', b'utilise', b'pour', b'combiner', b'des', b'scalaires', b'dans', b'les', b'matrices', b'cf', b'article', b'matrice', b'par', b'bloc', b'avec', b'les', b'm\\xc3\\xa9moires', b'actuelles', b'de', b'plusieurs', b'gigaoctets', b'cette', b'question', b'perdu', b'un', b'peu', b'de', b'son', b'int\\xc3\\xa9r\\xc3\\xaat', b'pratique', b'mais', b'reste', b'tr\\xc3\\xa8s', b'pris\\xc3\\xa9e', b'en', b'th\\xc3\\xa9orie', b'des', b'nombres', b'pour', b'la', b'd\\xc3\\xa9composition', b'en', b'produit', b'de', b'facteurs', b'premiers', b'avec', b'le', b'crible', b'g\\xc3\\xa9n\\xc3\\xa9ral', b'de', b'corps', b'de', b'nombres', b'gnfs', b'm\\xc3\\xa9thode', b'lanczos', b'par', b'blocs', b'utilisations', b'les', b'espaces', b'vectoriels', b'forment', b'le', b'support', b'et', b'le', b'fondement', b'de', b'alg\\xc3\\xa8bre', b'lin\\xc3\\xa9aire', b'ils', b'sont', b'aussi', b'pr\\xc3\\xa9sents', b'dans', b'de', b'nombreux', b'domaines', b'distincts', b'il', b'est', b'pas', b'possible', b'indiquer', b'ici', b'tous', b'les', b'cas', b'utilisation', b'on', b'peut', b'tout', b'de', b'm\\xc3\\xaame', b'citer', b'pour', b'les', b'principales', b'structures', b'objet', b'de', b'th\\xc3\\xa9ories', b'des', b'exemples', b'significatifs', b'leurs', b'r\\xc3\\xb4les', b'dans', b'de', b'vastes', b'th\\xc3\\xa9ories', b'ne', b'traitant', b'pas', b'une', b'structure', b'particuli\\xc3\\xa8re', b'comme', b'celles', b'des', b'nombres', b'alg\\xc3\\xa9briques', b'ou', b'de', b'galois', b'peuvent', b'aussi', b'\\xc3\\xaatre', b'\\xc3\\xa9voqu\\xc3\\xa9s', b'les', b'espaces', b'vectoriels', b'utilis\\xc3\\xa9s', b'sont', b'une', b'grande', b'diversit\\xc3\\xa9', b'on', b'trouve', b'les', b'classiques', b'espaces', b'vectoriels', b'de', b'dimension', b'ou', b'sur', b'les', b'nombres', b'r\\xc3\\xa9els', b'cependant', b'la', b'dimension', b'peut', b'\\xc3\\xaatre', b'quelconque', b'm\\xc3\\xaame', b'infinie', b'les', b'nombres', b'complexes', b'sont', b'aussi', b'tr\\xc3\\xa8s', b'utilis\\xc3\\xa9s', b'ainsi', b'que', b'les', b'rationnels', b'il', b'est', b'pas', b'rare', b'qu', b'une', b'partie', b'des', b'nombres', b'r\\xc3\\xa9els', b'ou', b'complexes', b'soit', b'consid\\xc3\\xa9r\\xc3\\xa9', b'comme', b'un', b'espace', b'vectoriel', b'rationnel', b'le', b'corps', b'de', b'base', b'peut', b'aussi', b'contenir', b'un', b'nombre', b'fini', b'\\xc3\\xa9l\\xc3\\xa9ments', b'd\\xc3\\xa9finissant', b'parfois', b'un', b'espace', b'vectoriel', b'fini', b'les', b'propri\\xc3\\xa9t\\xc3\\xa9s', b'g\\xc3\\xa9om\\xc3\\xa9triques', b'de', b'la', b'structure', b'permettent', b'la', b'd\\xc3\\xa9monstration', b'de', b'nombreux', b'th\\xc3\\xa9or\\xc3\\xa8mes', b'elles', b'ne', b'se', b'limitent', b'pas', b'aux', b'cas', b'o\\xc3\\xb9', b'espace', b'est', b'r\\xc3\\xa9el', b'm\\xc3\\xaame', b'dans', b'le', b'cas', b'de', b'corps', b'plus', b'insolites', b'comme', b'les', b'corps', b'finis', b'ou', b'les', b'extensions', b'finies', b'des', b'rationnels', b'les', b'propri\\xc3\\xa9t\\xc3\\xa9s', b'g\\xc3\\xa9om\\xc3\\xa9triques', b'av\\xc3\\xa8rent', b'parfois', b'essentielles', b'groupe', b'fini', b'fichier', b'rotations', b'du', b'cube', b'jpg', b'thumb', b'repr\\xc3\\xa9sentation', b'du', b'groupe', b'sym\\xc3\\xa9trique', b'indice', b'comme', b'groupe', b'des', b'rotations', b'du', b'cube', b'dans', b'un', b'espace', b'vectoriel', b'de', b'dimension', b'la', b'classification', b'des', b'groupes', b'finis', b'est', b'une', b'vaste', b'question', b'encore', b'objet', b'de', b'recherche', b'si', b'le', b'groupe', b'contient', b'un', b'petit', b'nombre', b'\\xc3\\xa9l\\xc3\\xa9ments', b'les', b'th\\xc3\\xa9or\\xc3\\xa8mes', b'de', b'sylow', b'peuvent', b'suffire', b'pour', b'en', b'd\\xc3\\xa9terminer', b'la', b'structure', b'une', b'm\\xc3\\xa9thode', b'beaucoup', b'plus', b'puissante', b'est', b'n\\xc3\\xa9cessaire', b'dans', b'le', b'cas', b'g\\xc3\\xa9n\\xc3\\xa9ral', b'georg', b'frobenius', b'la', b'suite', b'de', b'travaux', b'de', b'richard', b'dedekind', b'd\\xc3\\xa9veloppe', b'une', b'nouvelle', b'th\\xc3\\xa9orie', b'en', b'elle', b'se', b'fonde', b'sur', b'id\\xc3\\xa9e', b'que', b'ensemble', b'des', b'sym\\xc3\\xa9tries', b'un', b'espace', b'vectoriel', b'poss\\xc3\\xa8de', b'une', b'structure', b'de', b'groupe', b'il', b'est', b'toujours', b'possible', b'de', b'repr\\xc3\\xa9senter', b'un', b'groupe', b'fini', b'par', b'des', b'sym\\xc3\\xa9tries', b'bien', b'choisies', b'sur', b'un', b'espace', b'vectoriel', b'de', b'dimension', b'suffisante', b'un', b'groupe', b'est', b'ainsi', b'incarn\\xc3\\xa9', b'par', b'des', b'transformations', b'g\\xc3\\xa9om\\xc3\\xa9triques', b'simples', b'une', b'telle', b'incarnation', b'prend', b'le', b'nom', b'de', b'repr\\xc3\\xa9sentation', b'un', b'groupe', b'les', b'espaces', b'vectoriels', b'choisis', b'sont', b'de', b'dimension', b'finie', b'en', b'g\\xc3\\xa9n\\xc3\\xa9ral', b'sur', b'le', b'corps', b'des', b'complexes', b'cependant', b'pour', b'disposer', b'de', b'bonnes', b'propri\\xc3\\xa9t\\xc3\\xa9s', b'arithm\\xc3\\xa9tiques', b'le', b'corps', b'peut', b'\\xc3\\xaatre', b'celui', b'des', b'rationnels', b'ou', b'encore', b'utiliser', b'des', b'entiers', b'alg\\xc3\\xa9briques', b'comme', b'pour', b'la', b'd\\xc3\\xa9monstration', b'du', b'th\\xc3\\xa9or\\xc3\\xa8me', b'de', b'burnside', b'sur', b'les', b'groupes', b'r\\xc3\\xa9solubles', b'richard', b'brauer', b'\\xc3\\xa9tudie', b'un', b'cas', b'tr\\xc3\\xa8s', b'abstrait', b'celui', b'des', b'repr\\xc3\\xa9sentations', b'sur', b'un', b'espace', b'vectoriel', b'construit', b'aide', b'un', b'corps', b'fini', b'un', b'exemple', b'relativement', b'simple', b'utilisation', b'de', b'cette', b'th\\xc3\\xa9orie', b'est', b'donn\\xc3\\xa9', b'par', b'burnside', b'avec', b'son', b'th\\xc3\\xa9or\\xc3\\xa8me', b'sur', b'les', b'sous', b'groupes', b'exposant', b'fini', b'du', b'groupe', b'lin\\xc3\\xa9aire', b'gl', b'anneau', b'fichier', b'noether', b'jpg', b'thumb', b'left', b'emmy', b'noether', b'utilise', b'la', b'notion', b'espace', b'vectoriel', b'pour', b'\\xc3\\xa9tudier', b'les', b'anneaux', b'portant', b'maintenant', b'son', b'nom', b'un', b'exemple', b'c\\xc3\\xa9l\\xc3\\xa8bre', b'anneau', b'disposant', b'aussi', b'une', b'structure', b'espace', b'vectoriel', b'est', b'celui', b'des', b'polyn\\xc3\\xb4mes', b'coefficients', b'dans', b'un', b'corps', b'cet', b'espace', b'vectoriel', b'de', b'dimension', b'infinie', b'est', b'largement', b'utilis\\xc3\\xa9', b'en', b'alg\\xc3\\xa8bre', b'lin\\xc3\\xa9aire', b'travers', b'par', b'exemple', b'le', b'polyn\\xc3\\xb4me', b'minimal', b'ou', b'caract\\xc3\\xa9ristique', b'le', b'morphisme', b'canonique', b'entre', b'les', b'polyn\\xc3\\xb4mes', b'et', b'les', b'applications', b'lin\\xc3\\xa9aires', b'un', b'espace', b'vectoriel', b'est', b'origine', b'une', b'structure', b'alg\\xc3\\xa8bre', b'qui', b'est', b'un', b'anneau', b'si', b'la', b'multiplication', b'externe', b'est', b'oubli\\xc3\\xa9e', b'cette', b'm\\xc3\\xa9thode', b'permet', b'\\xc3\\xa9lucider', b'la', b'structure', b'de', b'certains', b'anneaux', b'tout', b'anneau', b'est', b'un', b'espace', b'vectoriel', b'sur', b'ceux', b'de', b'ses', b'sous', b'anneaux', b'qui', b'sont', b'des', b'corps', b'espace', b'vectoriel', b'ressemble', b'la', b'structure', b'd\\xc3\\xa9velopp\\xc3\\xa9e', b'par', b'grassman', b'cette', b'remarque', b'est', b'utilis\\xc3\\xa9e', b'au', b'd\\xc3\\xa9but', b'du', b'en', b'particulier', b'par', b'emil', b'artin', b'et', b'emmy', b'noether', b'pour', b'\\xc3\\xa9lucider', b'cette', b'structure', b'dans', b'le', b'cas', b'des', b'anneaux', b'artiniens', b'et', b'noeth\\xc3\\xa9riens', b'qui', b'sont', b'des', b'copies', b'de', b'sous', b'alg\\xc3\\xa8bres', b'sur', b'un', b'espace', b'vectoriel', b'construit', b'sur', b'sous', b'anneau', b'qui', b'av\\xc3\\xa8re', b'\\xc3\\xaatre', b'un', b'corps', b'un', b'exemple', b'est', b'la', b'g\\xc3\\xa9n\\xc3\\xa9ralisation', b'un', b'th\\xc3\\xa9or\\xc3\\xa8me', b'de', b'wedderburn', b'par', b'artin', b'et', b'portant', b'maintenant', b'le', b'nom', b'de', b'th\\xc3\\xa9or\\xc3\\xa8me', b'artin', b'wedderburn', b'il', b'est', b'important', b'en', b'alg\\xc3\\xa8bre', b'non', b'commutative', b'ce', b'th\\xc3\\xa9or\\xc3\\xa8me', b'permet', b'par', b'exemple', b'de', b'construire', b'le', b'corps', b'des', b'quaternions', b'aide', b'une', b'repr\\xc3\\xa9sentation', b'r\\xc3\\xa9elle', b'de', b'degr\\xc3\\xa9', b'du', b'groupe', b'associ\\xc3\\xa9', b'th\\xc3\\xa9orie', b'de', b'galois', b'fichier', b'pentagone', b'construit', b'png', b'thumb', b'la', b'th\\xc3\\xa9orie', b'de', b'galois', b'permet', b'de', b'd\\xc3\\xa9terminer', b'quels', b'polygones', b'r\\xc3\\xa9guliers', b'sont', b'constructibles', b'la', b'r\\xc3\\xa8gle', b'et', b'au', b'compas', b'le', b'pentagone', b'en', b'fait', b'partie', b'la', b'th\\xc3\\xa9orie', b'de', b'galois', b'contient', b'de', b'nombreux', b'exemples', b'espaces', b'vectoriels', b'elle', b'consiste', b'\\xc3\\xa9tudier', b'un', b'corps', b'comme', b'un', b'espace', b'vectoriel', b'sur', b'un', b'sous', b'corps', b'ainsi', b'chaque', b'sous', b'corps', b'permet', b'de', b'consid\\xc3\\xa9rer', b'la', b'structure', b'initiale', b'comme', b'un', b'espace', b'vectoriel', b'particulier', b'un', b'exemple', b'application', b'est', b'celui', b'des', b'figures', b'constructible', b'la', b'r\\xc3\\xa8gle', b'et', b'au', b'compas', b'ces', b'points', b'forment', b'un', b'corps', b'disposant', b'une', b'structure', b'espace', b'vectoriel', b'sur', b'les', b'nombres', b'rationnels', b'il', b'est', b'de', b'dimension', b'infinie', b'et', b'pour', b'chaque', b'point', b'le', b'plus', b'petit', b'sous', b'corps', b'le', b'contenant', b'est', b'de', b'dimension', b'finie', b'\\xc3\\xa9gale', b'une', b'puissance', b'de', b'un', b'tel', b'sous', b'corps', b'est', b'appel\\xc3\\xa9', b'une', b'tour', b'extensions', b'quadratiques', b'cette', b'propri\\xc3\\xa9t\\xc3\\xa9', b'de', b'ces', b'espaces', b'vectoriels', b'permet', b'de', b'r\\xc3\\xa9soudre', b'antiques', b'conjectures', b'comme', b'la', b'duplication', b'du', b'cube', b'la', b'trisection', b'de', b'angle', b'ou', b'la', b'construction', b'un', b'polygone', b'r\\xc3\\xa9gulier', b'exemple', b'historique', b'de', b'la', b'th\\xc3\\xa9orie', b'est', b'celui', b'de', b'la', b'r\\xc3\\xa9solution', b'une', b'\\xc3\\xa9quation', b'polynomiale', b'le', b'th\\xc3\\xa9or\\xc3\\xa8me', b'abel', b'donne', b'une', b'condition', b'n\\xc3\\xa9cessaire', b'et', b'suffisante', b'de', b'r\\xc3\\xa9solution', b'par', b'radicaux', b'les', b'espaces', b'vectoriels', b'utilis\\xc3\\xa9s', b'ont', b'pour', b'\\xc3\\xa9l\\xc3\\xa9ments', b'ceux', b'du', b'plus', b'petit', b'corps', b'contenant', b'tous', b'les', b'coefficients', b'du', b'polyn\\xc3\\xb4me', b'ainsi', b'que', b'ses', b'racines', b'et', b'le', b'corps', b'sous', b'jacent', b'est', b'un', b'sous', b'corps', b'du', b'premier', b'contenant', b'tous', b'les', b'coefficients', b'le', b'groupe', b'de', b'galois', b'est', b'compos\\xc3\\xa9', b'des', b'automorphismes', b'du', b'corps', b'et', b'laissant', b'invariant', b'le', b'corps', b'il', b'correspond', b'un', b'nombre', b'fini', b'de', b'sym\\xc3\\xa9tries', b'de', b'espace', b'vectoriel', b'notes', b'et', b'r\\xc3\\xa9f\\xc3\\xa9rences', b'bibliographie', b'vincent', b'blanloeil', b'une', b'introduction', b'moderne', b'alg\\xc3\\xa8bre', b'lin\\xc3\\xa9aire', b'ellipses', b'roger', b'mansuy', b'rached', b'mneimn\\xc3\\xa9', b'alg\\xc3\\xa8bre', b'lin\\xc3\\xa9aire', b'r\\xc3\\xa9duction', b'des', b'endomorphismes', b'vuibert', b'voir', b'aussi', b'articles', b'connexes', b'propri\\xc3\\xa9t\\xc3\\xa9s', b'm\\xc3\\xa9triques', b'des', b'droites', b'et', b'plans', b'alg\\xc3\\xa8bre', b'multilin\\xc3\\xa9aire', b'liens', b'externes', b'linear', b'algebra', b'par', b'elmer', b'wiens', b'les', b'cours', b'du', b'roso', b'dont', b'de', b'alg\\xc3\\xa8bre', b'lin\\xc3\\xa9aire', b'braise', b'la', b'base', b'raisonn\\xc3\\xa9e', b'exercices', b'de', b'math\\xc3\\xa9matiques', b'et', b'son', b'chapitre', b'sur', b'alg\\xc3\\xa8bre', b'lin\\xc3\\xa9aire']\n",
      "[b'alg\\xc3\\xa8bre', b'g\\xc3\\xa9n\\xc3\\xa9rale', b'ou', b'alg\\xc3\\xa8bre', b'abstraite', b'est', b'la', b'branche', b'des', b'math\\xc3\\xa9matiques', b'qui', b'porte', b'principalement', b'sur', b'\\xc3\\xa9tude', b'des', b'structures', b'alg\\xc3\\xa9briques', b'et', b'de', b'leurs', b'relations', b'appellation', b'alg\\xc3\\xa8bre', b'g\\xc3\\xa9n\\xc3\\xa9rale', b'oppose', b'celle', b'alg\\xc3\\xa8bre', b'\\xc3\\xa9l\\xc3\\xa9mentaire', b'cette', b'derni\\xc3\\xa8re', b'enseigne', b'le', b'calcul', b'alg\\xc3\\xa9brique', b'est', b'dire', b'les', b'r\\xc3\\xa8gles', b'de', b'manipulation', b'des', b'formules', b'et', b'des', b'expressions', b'alg\\xc3\\xa9briques', b'historiquement', b'les', b'structures', b'alg\\xc3\\xa9briques', b'sont', b'apparues', b'dans', b'diff\\xc3\\xa9rents', b'domaines', b'des', b'math\\xc3\\xa9matiques', b'et', b'ont', b'pas', b'\\xc3\\xa9t\\xc3\\xa9', b'\\xc3\\xa9tudi\\xc3\\xa9es', b's\\xc3\\xa9par\\xc3\\xa9ment', b'est', b'pourquoi', b'alg\\xc3\\xa8bre', b'g\\xc3\\xa9n\\xc3\\xa9rale', b'poss\\xc3\\xa8de', b'beaucoup', b'de', b'connexions', b'avec', b'toutes', b'les', b'branches', b'des', b'math\\xc3\\xa9matiques', b'\\xc3\\xa9tude', b'des', b'structures', b'alg\\xc3\\xa9briques', b'peut', b'\\xc3\\xaatre', b'faite', b'de', b'mani\\xc3\\xa8re', b'abstraite', b'mais', b'unifi\\xc3\\xa9e', b'dans', b'le', b'cadre', b'de', b'alg\\xc3\\xa8bre', b'universelle', b'histoire', b'comme', b'dans', b'autres', b'parties', b'des', b'math\\xc3\\xa9matiques', b'des', b'probl\\xc3\\xa8mes', b'et', b'des', b'exemples', b'concrets', b'ont', b'jou\\xc3\\xa9', b'un', b'r\\xc3\\xb4le', b'important', b'dans', b'le', b'd\\xc3\\xa9veloppement', b'de', b'alg\\xc3\\xa8bre', b'abstraite', b'jusqu', b'la', b'fin', b'du', b'xixe', b'si\\xc3\\xa8cle', b'beaucoup', b'ou', b'plus', b'de', b'ces', b'probl\\xc3\\xa8mes', b'\\xc3\\xa9taient', b'en', b'quelque', b'sorte', b'li\\xc3\\xa9', b'la', b'th\\xc3\\xa9orie', b'des', b'\\xc3\\xa9quations', b'alg\\xc3\\xa9briques', b'les', b'principaux', b'th\\xc3\\xa8mes', b'sont', b'les', b'suivants', b'r\\xc3\\xa9solution', b'de', b'syst\\xc3\\xa8mes', b'\\xc3\\xa9quations', b'lin\\xc3\\xa9aires', b'ce', b'qui', b'conduit', b'alg\\xc3\\xa8bre', b'lin\\xc3\\xa9aire', b'tentatives', b'de', b'trouver', b'des', b'formules', b'aux', b'solutions', b'\\xc3\\xa9quations', b'polynomiales', b'g\\xc3\\xa9n\\xc3\\xa9rales', b'de', b'degr\\xc3\\xa9', b'sup\\xc3\\xa9rieur', b'qui', b'ont', b'abouti', b'la', b'd\\xc3\\xa9couverte', b'de', b'groupes', b'comme', b'des', b'manifestations', b'abstraites', b'de', b'sym\\xc3\\xa9trie', b'\\xc3\\xa9tudes', b'arithm\\xc3\\xa9tiques', b'des', b'formes', b'de', b'degr\\xc3\\xa9', b'quadratique', b'sup\\xc3\\xa9rieur', b'et', b'des', b'\\xc3\\xa9quations', b'diophantiennes', b'qui', b'ont', b'produit', b'directement', b'les', b'notions', b'un', b'anneau', b'et', b'id\\xc3\\xa9al', b'alg\\xc3\\xa8bre', b'moderne', b'la', b'fin', b'du', b'\\xc3\\xa8me', b'et', b'le', b'd\\xc3\\xa9but', b'du', b'\\xc3\\xa8me', b'si\\xc3\\xa8cle', b'connu', b'un', b'\\xc3\\xa9norme', b'changement', b'dans', b'la', b'm\\xc3\\xa9thodologie', b'des', b'math\\xc3\\xa9matiques', b'alg\\xc3\\xa8bre', b'abstraite', b'\\xc3\\xa9merg\\xc3\\xa9', b'autour', b'du', b'd\\xc3\\xa9but', b'du', b'si\\xc3\\xa8cle', b'sous', b'le', b'nom', b'de', b'alg\\xc3\\xa8bre', b'moderne', b'son', b'\\xc3\\xa9tude', b'faisait', b'partie', b'de', b'entra\\xc3\\xaenement', b'pour', b'plus', b'de', b'rigueur', b'intellectuelle', b'en', b'math\\xc3\\xa9matiques', b'les', b'd\\xc3\\xa9finitions', b'officielles', b'de', b'certaines', b'structures', b'alg\\xc3\\xa9briques', b'ont', b'\\xc3\\xa9merg\\xc3\\xa9', b'au', b'\\xc3\\xa8me', b'si\\xc3\\xa8cle', b'applications', b'en', b'raison', b'de', b'sa', b'g\\xc3\\xa9n\\xc3\\xa9ralit\\xc3\\xa9', b'alg\\xc3\\xa8bre', b'abstraite', b'est', b'utilis\\xc3\\xa9e', b'dans', b'de', b'nombreux', b'domaines', b'des', b'math\\xc3\\xa9matiques', b'et', b'de', b'la', b'science', b'par', b'exemple', b'la', b'topologie', b'alg\\xc3\\xa9brique', b'utilise', b'des', b'objets', b'alg\\xc3\\xa9briques', b'pour', b'son', b'\\xc3\\xa9tude', b'la', b'th\\xc3\\xa9orie', b'alg\\xc3\\xa9brique', b'des', b'nombres', b'\\xc3\\xa9tudie', b'divers', b'anneaux', b'num\\xc3\\xa9riques', b'qui', b'g\\xc3\\xa9n\\xc3\\xa9ralisent', b'ensemble', b'des', b'entiers', b'en', b'utilisant', b'la', b'th\\xc3\\xa9orie', b'des', b'nombres', b'alg\\xc3\\xa9briques', b'andrew', b'wiles', b'prouv\\xc3\\xa9', b'le', b'dernier', b'th\\xc3\\xa9or\\xc3\\xa8me', b'de', b'fermat', b'bases', b'th\\xc3\\xa9orie', b'des', b'ensembles', b'notion', b'ensemble', b'sous', b'ensemble', b'op\\xc3\\xa9rations', b'sur', b'les', b'ensembles', b'produit', b'cart\\xc3\\xa9sien', b'correspondances', b'et', b'relations', b'relation', b'binaire', b'fonctions', b'et', b'applications', b'loi', b'de', b'composition', b'loi', b'interne', b'structures', b'alg\\xc3\\xa9briques', b'magma', b'demi', b'groupe', b'ou', b'semi', b'groupe', b'quasigroupe', b'mono\\xc3\\xafde', b'groupe', b'anneau', b'module', b'corps', b'corps', b'commutatif', b'espace', b'vectoriel', b'alg\\xc3\\xa8bre', b'sur', b'un', b'anneau', b'alg\\xc3\\xa8bre', b'sur', b'un', b'corps', b'op\\xc3\\xa9rade', b'articles', b'connexes', b'\\xc3\\xa9variste', b'galois', b'et', b'niels', b'henrik', b'abel', b'math\\xc3\\xa9maticiens', b'ayant', b'fourni', b'un', b'travail', b'majeur', b'pour', b'la', b'construction', b'de', b'alg\\xc3\\xa8bre', b'emmy', b'noether', b'th\\xc3\\xa9orie', b'des', b'codes', b'th\\xc3\\xa9orie', b'des', b'groupes']\n",
      "[b'fichier', b'euclid', b'flowchart', b'png', b'thumb', b'organigramme', b'de', b'programmation', b'repr\\xc3\\xa9sentant', b'algorithme', b'euclide', b'algorithmique', b'est', b'\\xc3\\xa9tude', b'et', b'la', b'production', b'de', b'r\\xc3\\xa8gles', b'et', b'techniques', b'qui', b'sont', b'impliqu\\xc3\\xa9es', b'dans', b'la', b'd\\xc3\\xa9finition', b'et', b'la', b'conception', b'algorithmes', b'est', b'dire', b'de', b'processus', b'syst\\xc3\\xa9matiques', b'de', b'r\\xc3\\xa9solution', b'un', b'probl\\xc3\\xa8me', b'permettant', b'de', b'd\\xc3\\xa9crire', b'pr\\xc3\\xa9cis\\xc3\\xa9ment', b'des', b'\\xc3\\xa9tapes', b'pour', b'r\\xc3\\xa9soudre', b'un', b'probl\\xc3\\xa8me', b'algorithmique', b'en', b'autres', b'termes', b'un', b'algorithme', b'est', b'une', b'suite', b'finie', b'et', b'non', b'ambigu\\xc3\\xab', b'instructions', b'permettant', b'de', b'donner', b'la', b'r\\xc3\\xa9ponse', b'un', b'probl\\xc3\\xa8me', b'\\xc3\\xa9tymologie', b'le', b'mot', b'algorithme', b'vient', b'du', b'nom', b'du', b'math\\xc3\\xa9maticien', b'al', b'khwarizmi', b'latinis\\xc3\\xa9', b'au', b'moyen', b'\\xc3\\xa2ge', b'en', b'qui', b'au', b'\\xc3\\xa9crivit', b'le', b'premier', b'ouvrage', b'syst\\xc3\\xa9matique', b'donnant', b'des', b'solutions', b'aux', b'\\xc3\\xa9quations', b'lin\\xc3\\xa9aires', b'et', b'quadratiques', b'algorithme', b'donn\\xc3\\xa9', b'algorithmique', b'auxquels', b'certains', b'pr\\xc3\\xa9f\\xc3\\xa8rent', b'le', b'n\\xc3\\xa9ologisme', b'algorithmie', b'histoire', b'antiquit\\xc3\\xa9', b'les', b'premiers', b'algorithmes', b'dont', b'on', b'retrouv\\xc3\\xa9', b'des', b'descriptions', b'datent', b'des', b'babyloniens', b'au', b'ils', b'd\\xc3\\xa9crivent', b'des', b'm\\xc3\\xa9thodes', b'de', b'calcul', b'et', b'des', b'r\\xc3\\xa9solutions', b'\\xc3\\xa9quations', b'aide', b'exemples', b'un', b'algorithme', b'c\\xc3\\xa9l\\xc3\\xa8bre', b'est', b'celui', b'qui', b'se', b'trouve', b'dans', b'le', b'livre', b'des', b'\\xc3\\xa9l\\xc3\\xa9ments', b'euclide', b'et', b'appel\\xc3\\xa9', b'algorithme', b'euclide', b'il', b'permet', b'de', b'trouver', b'le', b'plus', b'grand', b'diviseur', b'commun', b'ou', b'pgcd', b'de', b'deux', b'nombres', b'un', b'point', b'remarquable', b'est', b'qu', b'il', b'contient', b'explicitement', b'une', b'it\\xc3\\xa9ration', b'et', b'que', b'les', b'propositions', b'et', b'd\\xc3\\xa9montrent', b'sa', b'correction', b'est', b'archim\\xc3\\xa8de', b'qui', b'proposa', b'le', b'premier', b'un', b'algorithme', b'pour', b'le', b'calcul', b'de', b'\\xc3\\xa9tude', b'syst\\xc3\\xa9matique', b'le', b'premier', b'avoir', b'syst\\xc3\\xa9matis\\xc3\\xa9', b'des', b'algorithmes', b'est', b'le', b'math\\xc3\\xa9maticien', b'arabophone', b'al', b'khuwarizmi', b'actif', b'entre', b'et', b'dans', b'son', b'ouvrage', b'abr\\xc3\\xa9g\\xc3\\xa9', b'du', b'calcul', b'par', b'la', b'restauration', b'et', b'la', b'comparaison', b'il', b'\\xc3\\xa9tudie', b'toutes', b'les', b'\\xc3\\xa9quations', b'du', b'second', b'degr\\xc3\\xa9', b'et', b'en', b'donne', b'la', b'r\\xc3\\xa9solution', b'par', b'des', b'algorithmes', b'g\\xc3\\xa9n\\xc3\\xa9raux', b'il', b'utilise', b'des', b'm\\xc3\\xa9thodes', b'semblables', b'celles', b'des', b'babyloniens', b'mais', b'se', b'diff\\xc3\\xa9rencie', b'par', b'ses', b'explications', b'syst\\xc3\\xa9matiques', b'l\\xc3\\xa0', b'o\\xc3\\xb9', b'les', b'babyloniens', b'donnaient', b'seulement', b'des', b'exemples', b'le', b'savant', b'arabe', b'averro\\xc3\\xa8s', b'\\xc3\\xa9voque', b'une', b'm\\xc3\\xa9thode', b'de', b'raisonnement', b'o\\xc3\\xb9', b'la', b'th\\xc3\\xa8se', b'affine', b'\\xc3\\xa9tape', b'par', b'\\xc3\\xa9tape', b'it\\xc3\\xa9rativement', b'jusqu', b'une', b'certaine', b'convergence', b'et', b'ceci', b'conform\\xc3\\xa9ment', b'au', b'd\\xc3\\xa9roulement', b'un', b'algorithme', b'la', b'm\\xc3\\xaame', b'\\xc3\\xa9poque', b'au', b'le', b'moine', b'adelard', b'de', b'bath', b'introduit', b'le', b'terme', b'latin', b'de', b'par', b'r\\xc3\\xa9f\\xc3\\xa9rence', b'au', b'nom', b'de', b'al', b'khuwarizmi', b'ce', b'mot', b'donne', b'algorithme', b'en', b'fran\\xc3\\xa7ais', b'en', b'au', b'on', b'pourrait', b'entrevoir', b'une', b'certaine', b'allusion', b'la', b'm\\xc3\\xa9thode', b'algorithmique', b'chez', b'ren\\xc3\\xa9', b'descartes', b'dans', b'la', b'm\\xc3\\xa9thode', b'g\\xc3\\xa9n\\xc3\\xa9rale', b'propos\\xc3\\xa9e', b'par', b'le', b'discours', b'de', b'la', b'm\\xc3\\xa9thode', b'notamment', b'quand', b'en', b'sa', b'deuxi\\xc3\\xa8me', b'partie', b'le', b'math\\xc3\\xa9maticien', b'fran\\xc3\\xa7ais', b'propose', b'de', b'sans', b'\\xc3\\xa9voquer', b'explicitement', b'les', b'concepts', b'de', b'boucle', b'it\\xc3\\xa9ration', b'ou', b'de', b'dichotomie', b'approche', b'de', b'descartes', b'pr\\xc3\\xa9dispose', b'la', b'logique', b'accueillir', b'le', b'concept', b'de', b'programme', b'mot', b'qui', b'na\\xc3\\xaet', b'en', b'fran\\xc3\\xa7ais', b'en', b'utilisation', b'du', b'terme', b'algorithme', b'est', b'remarquable', b'chez', b'ada', b'lovelace', b'fille', b'de', b'lord', b'byron', b'et', b'assistante', b'de', b'charles', b'babbage', b'\\xc3\\xa9poque', b'contemporaine', b'algorithmique', b'du', b'se', b'base', b'souvent', b'sur', b'des', b'formalismes', b'comme', b'celui', b'des', b'machines', b'de', b'turing', b'qui', b'permettent', b'de', b'd\\xc3\\xa9finir', b'pr\\xc3\\xa9cis\\xc3\\xa9ment', b'ce', b'qu', b'on', b'entend', b'par', b'\\xc3\\xa9tapes', b'par', b'pr\\xc3\\xa9cis', b'et', b'par', b'non', b'ambigu', b'et', b'elle', b'donne', b'un', b'cadre', b'scientifique', b'pour', b'\\xc3\\xa9tudier', b'les', b'propri\\xc3\\xa9t\\xc3\\xa9s', b'des', b'algorithmes', b'cependant', b'le', b'type', b'de', b'formalisme', b'choisi', b'engendre', b'des', b'algorithmes', b'diff\\xc3\\xa9rents', b'pour', b'r\\xc3\\xa9soudre', b'un', b'm\\xc3\\xaame', b'probl\\xc3\\xa8me', b'par', b'exemple', b'algorithmique', b'r\\xc3\\xa9cursive', b'algorithmique', b'parall\\xc3\\xa8le', b'ou', b'informatique', b'quantique', b'donnent', b'lieu', b'des', b'algorithmes', b'diff\\xc3\\xa9rents', b'de', b'ceux', b'de', b'algorithmique', b'it\\xc3\\xa9rative', b'issue', b'de', b'la', b'machine', b'de', b'turing', b'avec', b'informatique', b'algorithmique', b'est', b'beaucoup', b'd\\xc3\\xa9velopp\\xc3\\xa9e', b'dans', b'la', b'deuxi\\xc3\\xa8me', b'moiti\\xc3\\xa9', b'du', b'et', b'donald', b'knuth', b'auteur', b'du', b'trait\\xc3\\xa9', b'the', b'art', b'of', b'computer', b'programming', b'qui', b'd\\xc3\\xa9crit', b'de', b'tr\\xc3\\xa8s', b'nombreux', b'algorithmes', b'en', b'pos\\xc3\\xa9', b'des', b'fondements', b'math\\xc3\\xa9matiques', b'rigoureux', b'de', b'leur', b'analyse', b'vocabulaire', b'le', b'substantif', b'algorithmique', b'd\\xc3\\xa9signe', b'la', b'm\\xc3\\xa9thode', b'utilisant', b'des', b'algorithmes', b'le', b'terme', b'est', b'\\xc3\\xa9galement', b'employ\\xc3\\xa9', b'comme', b'adjectif', b'un', b'algorithme', b'\\xc3\\xa9nonce', b'une', b'r\\xc3\\xa9solution', b'sous', b'la', b'forme', b'une', b's\\xc3\\xa9rie', b'op\\xc3\\xa9rations', b'effectuer', b'la', b'mise', b'en', b'\\xc5\\x93uvre', b'de', b'algorithme', b'consiste', b'en', b'\\xc3\\xa9criture', b'de', b'ces', b'op\\xc3\\xa9rations', b'dans', b'un', b'langage', b'de', b'programmation', b'et', b'constitue', b'alors', b'la', b'brique', b'de', b'base', b'un', b'programme', b'informatique', b'les', b'informaticiens', b'utilisent', b'fr\\xc3\\xa9quemment', b'anglicisme', b'impl\\xc3\\xa9mentation', b'pour', b'd\\xc3\\xa9signer', b'cette', b'mise', b'en', b'\\xc5\\x93uvre', b'\\xc3\\xa9criture', b'en', b'langage', b'informatique', b'est', b'aussi', b'fr\\xc3\\xa9quemment', b'd\\xc3\\xa9sign\\xc3\\xa9e', b'par', b'le', b'terme', b'codage', b'qui', b'ici', b'aucun', b'rapport', b'avec', b'la', b'cryptographie', b'mais', b'qui', b'se', b'r\\xc3\\xa9f\\xc3\\xa8re', b'au', b'terme', b'code', b'source', b'pour', b'd\\xc3\\xa9signer', b'le', b'texte', b'en', b'langage', b'de', b'programmation', b'constituant', b'le', b'programme', b'algorithme', b'devra', b'\\xc3\\xaatre', b'plus', b'ou', b'moins', b'd\\xc3\\xa9taill\\xc3\\xa9', b'selon', b'le', b'niveau', b'abstraction', b'du', b'langage', b'utilis\\xc3\\xa9', b'de', b'm\\xc3\\xaame', b'qu', b'une', b'recette', b'de', b'cuisine', b'doit', b'\\xc3\\xaatre', b'plus', b'ou', b'moins', b'd\\xc3\\xa9taill\\xc3\\xa9e', b'selon', b'exp\\xc3\\xa9rience', b'du', b'cuisinier', b'\\xc3\\xa9tude', b'formelle', b'de', b'nombreux', b'outils', b'formels', b'ou', b'th\\xc3\\xa9oriques', b'ont', b'\\xc3\\xa9t\\xc3\\xa9', b'd\\xc3\\xa9velopp\\xc3\\xa9s', b'pour', b'd\\xc3\\xa9crire', b'les', b'algorithmes', b'les', b'\\xc3\\xa9tudier', b'exprimer', b'leurs', b'qualit\\xc3\\xa9s', b'pouvoir', b'les', b'comparer', b'ainsi', b'pour', b'd\\xc3\\xa9crire', b'les', b'algorithmes', b'des', b'structures', b'algorithmiques', b'ont', b'\\xc3\\xa9t\\xc3\\xa9', b'mises', b'en', b'\\xc3\\xa9vidence', b'structures', b'de', b'contr\\xc3\\xb4le', b'et', b'structures', b'de', b'donn\\xc3\\xa9es', b'pour', b'justifier', b'de', b'la', b'qualit\\xc3\\xa9', b'des', b'algorithmes', b'les', b'notions', b'de', b'correction', b'de', b'compl\\xc3\\xa9tude', b'et', b'de', b'terminaison', b'ont', b'\\xc3\\xa9t\\xc3\\xa9', b'mises', b'en', b'place', b'enfin', b'pour', b'comparer', b'les', b'algorithmes', b'une', b'th\\xc3\\xa9orie', b'de', b'la', b'complexit\\xc3\\xa9', b'des', b'algorithmes', b'\\xc3\\xa9t\\xc3\\xa9', b'd\\xc3\\xa9finie', b'structures', b'algorithmiques', b'les', b'concepts', b'en', b'\\xc5\\x93uvre', b'en', b'algorithmique', b'par', b'exemple', b'selon', b'approche', b'de', b'wirth', b'pour', b'les', b'langages', b'les', b'plus', b'r\\xc3\\xa9pandus', b'pascal', b'etc', b'sont', b'en', b'petit', b'nombre', b'ils', b'appartiennent', b'deux', b'classes', b'les', b'structures', b'de', b'contr\\xc3\\xb4le', b's\\xc3\\xa9quences', b'conditionnelles', b'boucles', b'les', b'structures', b'de', b'donn\\xc3\\xa9es', b'constantes', b'variables', b'tableaux', b'structures', b'r\\xc3\\xa9cursives', b'listes', b'arbres', b'graphes', b'ce', b'd\\xc3\\xa9coupage', b'est', b'parfois', b'difficile', b'percevoir', b'pour', b'certains', b'langages', b'lisp', b'prolog', b'plus', b'bas\\xc3\\xa9s', b'sur', b'la', b'notion', b'de', b'r\\xc3\\xa9cursivit\\xc3\\xa9', b'o\\xc3\\xb9', b'certaines', b'structures', b'de', b'contr\\xc3\\xb4le', b'sont', b'implicites', b'et', b'donc', b'semblent', b'dispara\\xc3\\xaetre', b'correction', b'compl\\xc3\\xa9tude', b'terminaison', b'ces', b'trois', b'notions', b'correction', b'compl\\xc3\\xa9tude', b'terminaison', b'sont', b'li\\xc3\\xa9es', b'et', b'supposent', b'qu', b'un', b'algorithme', b'est', b'\\xc3\\xa9crit', b'pour', b'r\\xc3\\xa9soudre', b'un', b'probl\\xc3\\xa8me', b'la', b'terminaison', b'est', b'assurance', b'que', b'algorithme', b'terminera', b'en', b'un', b'temps', b'fini', b'les', b'preuves', b'de', b'terminaison', b'font', b'habituellement', b'intervenir', b'une', b'fonction', b'enti\\xc3\\xa8re', b'positive', b'strictement', b'd\\xc3\\xa9croissante', b'chaque', b'pas', b'de', b'algorithme', b'\\xc3\\xa9tant', b'donn\\xc3\\xa9e', b'la', b'garantie', b'qu', b'un', b'algorithme', b'terminera', b'la', b'preuve', b'de', b'correction', b'doit', b'apporter', b'assurance', b'que', b'si', b'algorithme', b'termine', b'en', b'donnant', b'une', b'proposition', b'de', b'solution', b'alors', b'cette', b'solution', b'est', b'correcte', b'est', b'dire', b'qu', b'elle', b'est', b'effectivement', b'une', b'solution', b'au', b'probl\\xc3\\xa8me', b'pos\\xc3\\xa9', b'la', b'preuve', b'de', b'compl\\xc3\\xa9tude', b'garantit', b'que', b'pour', b'un', b'espace', b'de', b'probl\\xc3\\xa8mes', b'donn\\xc3\\xa9', b'algorithme', b'il', b'termine', b'donnera', b'une', b'solution', b'pour', b'chacune', b'des', b'entr\\xc3\\xa9es', b'complexit\\xc3\\xa9', b'algorithmique', b'les', b'principales', b'notions', b'math\\xc3\\xa9matiques', b'dans', b'le', b'calcul', b'du', b'co\\xc3\\xbbt', b'un', b'algorithme', b'pr\\xc3\\xa9cis', b'sont', b'les', b'notions', b'de', b'domination', b'not\\xc3\\xa9e', b'grand', b'o\\xc3\\xb9', b'est', b'une', b'fonction', b'math\\xc3\\xa9matique', b'de', b'variable', b'd\\xc3\\xa9signant', b'la', b'quantit\\xc3\\xa9', b'informations', b'en', b'bits', b'en', b'nombre', b'enregistrements', b'etc', b'manipul\\xc3\\xa9e', b'dans', b'algorithme', b'en', b'algorithmique', b'on', b'trouve', b'souvent', b'des', b'complexit\\xc3\\xa9s', b'du', b'type', b'notation', b'type', b'de', b'complexit\\xc3\\xa9', b'complexit\\xc3\\xa9', b'constante', b'ind\\xc3\\xa9pendante', b'de', b'la', b'taille', b'de', b'la', b'donn\\xc3\\xa9e', b'complexit\\xc3\\xa9', b'logarithmique', b'complexit\\xc3\\xa9', b'lin\\xc3\\xa9aire', b'complexit\\xc3\\xa9', b'quasi', b'lin\\xc3\\xa9aire', b'complexit\\xc3\\xa9', b'quadratique', b'complexit\\xc3\\xa9', b'cubique', b'complexit\\xc3\\xa9', b'polynomiale', b'complexit\\xc3\\xa9', b'quasi', b'polynomiale', b'complexit\\xc3\\xa9', b'exponentielle', b'complexit\\xc3\\xa9', b'factorielle', b'sans', b'entrer', b'dans', b'les', b'd\\xc3\\xa9tails', b'math\\xc3\\xa9matiques', b'le', b'calcul', b'de', b'efficacit\\xc3\\xa9', b'un', b'algorithme', b'sa', b'complexit\\xc3\\xa9', b'algorithmique', b'consiste', b'en', b'la', b'recherche', b'de', b'deux', b'quantit\\xc3\\xa9s', b'importantes', b'la', b'premi\\xc3\\xa8re', b'quantit\\xc3\\xa9', b'est', b'\\xc3\\xa9volution', b'du', b'nombre', b'instructions', b'de', b'base', b'en', b'fonction', b'de', b'la', b'quantit\\xc3\\xa9', b'de', b'donn\\xc3\\xa9es', b'traiter', b'par', b'exemple', b'pour', b'un', b'algorithme', b'de', b'tri', b'il', b'agit', b'du', b'nombre', b'de', b'donn\\xc3\\xa9es', b'trier', b'que', b'on', b'privil\\xc3\\xa9giera', b'sur', b'le', b'temps', b'ex\\xc3\\xa9cution', b'mesur\\xc3\\xa9', b'en', b'secondes', b'car', b'ce', b'dernier', b'd\\xc3\\xa9pend', b'de', b'la', b'machine', b'sur', b'laquelle', b'algorithme', b'ex\\xc3\\xa9cute', b'la', b'seconde', b'quantit\\xc3\\xa9', b'estim\\xc3\\xa9e', b'est', b'la', b'quantit\\xc3\\xa9', b'de', b'm\\xc3\\xa9moire', b'n\\xc3\\xa9cessaire', b'pour', b'effectuer', b'les', b'calculs', b'baser', b'le', b'calcul', b'de', b'la', b'complexit\\xc3\\xa9', b'un', b'algorithme', b'sur', b'le', b'temps', b'ou', b'la', b'quantit\\xc3\\xa9', b'effective', b'de', b'm\\xc3\\xa9moire', b'qu', b'un', b'ordinateur', b'particulier', b'prend', b'pour', b'effectuer', b'ledit', b'algorithme', b'ne', b'permet', b'pas', b'de', b'prendre', b'en', b'compte', b'la', b'structure', b'interne', b'de', b'algorithme', b'ni', b'la', b'particularit\\xc3\\xa9', b'de', b'ordinateur', b'selon', b'sa', b'charge', b'de', b'travail', b'la', b'vitesse', b'de', b'son', b'processeur', b'la', b'vitesse', b'acc\\xc3\\xa8s', b'aux', b'donn\\xc3\\xa9es', b'ex\\xc3\\xa9cution', b'de', b'algorithme', b'qui', b'peut', b'faire', b'intervenir', b'le', b'hasard', b'ou', b'son', b'organisation', b'de', b'la', b'm\\xc3\\xa9moire', b'le', b'temps', b'ex\\xc3\\xa9cution', b'et', b'la', b'quantit\\xc3\\xa9', b'de', b'm\\xc3\\xa9moire', b'ne', b'seront', b'pas', b'les', b'm\\xc3\\xaames', b'souvent', b'on', b'examine', b'les', b'performances', b'au', b'pire', b'est', b'dire', b'dans', b'les', b'configurations', b'telles', b'que', b'le', b'temps', b'ex\\xc3\\xa9cution', b'ou', b'espace', b'm\\xc3\\xa9moire', b'est', b'le', b'plus', b'grand', b'il', b'existe', b'\\xc3\\xa9galement', b'un', b'autre', b'aspect', b'de', b'\\xc3\\xa9valuation', b'de', b'efficacit\\xc3\\xa9', b'un', b'algorithme', b'les', b'performances', b'en', b'moyenne', b'cela', b'suppose', b'avoir', b'un', b'mod\\xc3\\xa8le', b'de', b'la', b'r\\xc3\\xa9partition', b'statistique', b'des', b'donn\\xc3\\xa9es', b'de', b'algorithme', b'tandis', b'que', b'la', b'mise', b'en', b'\\xc5\\x93uvre', b'des', b'techniques', b'analyse', b'implique', b'des', b'm\\xc3\\xa9thodes', b'assez', b'fines', b'de', b'combinatoire', b'et', b'\\xc3\\xa9valuation', b'asymptotique', b'utilisant', b'en', b'particulier', b'les', b's\\xc3\\xa9ries', b'g\\xc3\\xa9n\\xc3\\xa9ratrices', b'et', b'des', b'm\\xc3\\xa9thodes', b'avanc\\xc3\\xa9es', b'analyse', b'complexe', b'ensemble', b'de', b'ces', b'm\\xc3\\xa9thodes', b'est', b'regroup\\xc3\\xa9', b'sous', b'le', b'nom', b'de', b'combinatoire', b'analytique', b'on', b'trouvera', b'dans', b'article', b'sur', b'la', b'th\\xc3\\xa9orie', b'de', b'la', b'complexit\\xc3\\xa9', b'des', b'algorithmes', b'autres', b'\\xc3\\xa9valuations', b'de', b'la', b'complexit\\xc3\\xa9', b'qui', b'vont', b'en', b'g\\xc3\\xa9n\\xc3\\xa9ral', b'au', b'del\\xc3\\xa0', b'des', b'valeurs', b'propos\\xc3\\xa9es', b'ci', b'dessus', b'et', b'qui', b'r\\xc3\\xa9partissent', b'les', b'probl\\xc3\\xa8mes', b'plut\\xc3\\xb4t', b'que', b'les', b'algorithmes', b'en', b'classes', b'de', b'complexit\\xc3\\xa9', b'quelques', b'indications', b'sur', b'efficacit\\xc3\\xa9', b'des', b'algorithmes', b'souvent', b'efficacit\\xc3\\xa9', b'un', b'algorithme', b'est', b'connue', b'que', b'de', b'mani\\xc3\\xa8re', b'asymptotique', b'est', b'dire', b'pour', b'de', b'grandes', b'valeurs', b'du', b'param\\xc3\\xa8tre', b'lorsque', b'ce', b'param\\xc3\\xa8tre', b'est', b'suffisamment', b'petit', b'un', b'algorithme', b'de', b'complexit\\xc3\\xa9', b'asymptotique', b'plus', b'grande', b'peut', b'en', b'pratique', b'\\xc3\\xaatre', b'plus', b'efficace', b'ainsi', b'pour', b'trier', b'un', b'tableau', b'de', b'lignes', b'est', b'un', b'param\\xc3\\xa8tre', b'de', b'petite', b'taille', b'il', b'est', b'inutile', b'utiliser', b'un', b'algorithme', b'\\xc3\\xa9volu\\xc3\\xa9', b'comme', b'le', b'tri', b'rapide', b'un', b'des', b'algorithmes', b'de', b'tri', b'les', b'plus', b'efficaces', b'en', b'moyenne', b'algorithme', b'de', b'tri', b'le', b'plus', b'simple', b'\\xc3\\xa9crire', b'sera', b'suffisamment', b'efficace', b'entre', b'deux', b'algorithmes', b'dont', b'la', b'complexit\\xc3\\xa9', b'est', b'identique', b'on', b'cherchera', b'utiliser', b'celui', b'dont', b'occupation', b'm\\xc3\\xa9moire', b'est', b'la', b'plus', b'faible', b'analyse', b'de', b'la', b'complexit\\xc3\\xa9', b'algorithmique', b'peut', b'\\xc3\\xa9galement', b'servir', b'\\xc3\\xa9valuer', b'occupation', b'm\\xc3\\xa9moire', b'un', b'algorithme', b'enfin', b'le', b'choix', b'un', b'algorithme', b'plut\\xc3\\xb4t', b'qu', b'un', b'autre', b'doit', b'se', b'faire', b'en', b'fonction', b'des', b'donn\\xc3\\xa9es', b'que', b'on', b'attend', b'lui', b'fournir', b'en', b'entr\\xc3\\xa9e', b'ainsi', b'le', b'tri', b'rapide', b'lorsque', b'on', b'choisit', b'le', b'premier', b'\\xc3\\xa9l\\xc3\\xa9ment', b'comme', b'pivot', b'se', b'comporte', b'de', b'fa\\xc3\\xa7on', b'd\\xc3\\xa9sastreuse', b'si', b'on', b'applique', b'une', b'liste', b'de', b'valeurs', b'd\\xc3\\xa9j\\xc3\\xa0', b'tri\\xc3\\xa9e', b'il', b'est', b'donc', b'pas', b'judicieux', b'de', b'utiliser', b'si', b'on', b'pr\\xc3\\xa9voit', b'que', b'le', b'programme', b'recevra', b'en', b'entr\\xc3\\xa9e', b'des', b'listes', b'd\\xc3\\xa9j\\xc3\\xa0', b'presque', b'tri\\xc3\\xa9es', b'ou', b'alors', b'il', b'faudra', b'choisir', b'le', b'pivot', b'al\\xc3\\xa9atoirement', b'un', b'autre', b'param\\xc3\\xa8tre', b'prendre', b'en', b'compte', b'est', b'la', b'localit\\xc3\\xa9', b'de', b'algorithme', b'par', b'exemple', b'pour', b'un', b'syst\\xc3\\xa8me', b'm\\xc3\\xa9moire', b'virtuelle', b'qui', b'dispose', b'de', b'peu', b'de', b'm\\xc3\\xa9moire', b'vive', b'par', b'rapport', b'au', b'nombre', b'de', b'donn\\xc3\\xa9es', b'traiter', b'le', b'tri', b'rapide', b'sera', b'normalement', b'plus', b'efficace', b'que', b'le', b'tri', b'par', b'tas', b'car', b'le', b'premier', b'ne', b'passe', b'qu', b'une', b'seule', b'fois', b'sur', b'chaque', b'\\xc3\\xa9l\\xc3\\xa9ment', b'de', b'la', b'm\\xc3\\xa9moire', b'tandis', b'que', b'le', b'second', b'acc\\xc3\\xa8de', b'la', b'm\\xc3\\xa9moire', b'de', b'mani\\xc3\\xa8re', b'discontinue', b'ce', b'qui', b'augmente', b'le', b'risque', b'de', b'enfin', b'il', b'existe', b'certains', b'algorithmes', b'dont', b'analyse', b'de', b'complexit\\xc3\\xa9', b'est', b'dite', b'amortie', b'cela', b'signifie', b'que', b'pour', b'certaines', b'ex\\xc3\\xa9cutions', b'de', b'algorithme', b'cas', b'marginaux', b'la', b'complexit\\xc3\\xa9', b'de', b'algorithme', b'sera', b'tr\\xc3\\xa8s', b'sup\\xc3\\xa9rieure', b'au', b'cas', b'moyen', b'mais', b'sera', b'compens\\xc3\\xa9e', b'par', b'des', b'ex\\xc3\\xa9cutions', b'rendues', b'efficaces', b'du', b'm\\xc3\\xaame', b'algorithme', b'dans', b'une', b'suite', b'invocations', b'de', b'cet', b'algorithme', b'analyse', b'lisse', b'mesure', b'les', b'performances', b'des', b'algorithmes', b'sur', b'les', b'pires', b'cas', b'mais', b'avec', b'une', b'l\\xc3\\xa9g\\xc3\\xa8re', b'perturbation', b'des', b'instances', b'elle', b'permet', b'expliquer', b'pourquoi', b'des', b'algorithmes', b'analys\\xc3\\xa9s', b'comme', b'inefficaces', b'autrement', b'sont', b'en', b'fait', b'efficaces', b'en', b'pratique', b'algorithme', b'du', b'simplexe', b'est', b'un', b'exemple', b'un', b'algorithme', b'qui', b'se', b'comporte', b'bien', b'pour', b'analyse', b'lisse', b'approches', b'pratiques', b'algorithmique', b'd\\xc3\\xa9velopp\\xc3\\xa9', b'quelques', b'strat\\xc3\\xa9gies', b'pour', b'r\\xc3\\xa9soudre', b'les', b'probl\\xc3\\xa8mes', b'algorithme', b'glouton', b'un', b'premier', b'algorithme', b'peut', b'souvent', b'\\xc3\\xaatre', b'propos\\xc3\\xa9', b'en', b'\\xc3\\xa9tudiant', b'le', b'probl\\xc3\\xa8me', b'tr\\xc3\\xa8s', b'progressivement', b'on', b'r\\xc3\\xa9sout', b'chaque', b'sous', b'probl\\xc3\\xa8me', b'localement', b'en', b'esp\\xc3\\xa9rant', b'que', b'ensemble', b'de', b'leurs', b'r\\xc3\\xa9sultats', b'composera', b'bien', b'une', b'solution', b'du', b'probl\\xc3\\xa8me', b'global', b'on', b'parle', b'alors', b'algorithme', b'glouton', b'algorithme', b'glouton', b'est', b'souvent', b'qu', b'une', b'premi\\xc3\\xa8re', b'\\xc3\\xa9tape', b'dans', b'la', b'r\\xc3\\xa9daction', b'un', b'algorithme', b'plus', b'performant', b'diviser', b'pour', b'r\\xc3\\xa9gner', b'pour', b'am\\xc3\\xa9liorer', b'les', b'performances', b'des', b'algorithmes', b'une', b'technique', b'usuelle', b'consiste', b'diviser', b'les', b'donn\\xc3\\xa9es', b'un', b'probl\\xc3\\xa8me', b'en', b'sous', b'ensembles', b'de', b'tailles', b'plus', b'petites', b'jusqu', b'obtenir', b'des', b'donn\\xc3\\xa9es', b'que', b'algorithme', b'pourra', b'traiter', b'au', b'cas', b'par', b'cas', b'une', b'seconde', b'\\xc3\\xa9tape', b'dans', b'ces', b'algorithmes', b'consiste', b'fusionner', b'les', b'r\\xc3\\xa9sultats', b'partiels', b'pour', b'obtenir', b'une', b'solution', b'globale', b'ces', b'algorithmes', b'sont', b'souvent', b'associ\\xc3\\xa9s', b'la', b'r\\xc3\\xa9cursivit\\xc3\\xa9', b'recherche', b'exhaustive', b'ou', b'combinatoire', b'une', b'm\\xc3\\xa9thode', b'utilisant', b'\\xc3\\xa9norme', b'puissance', b'de', b'calcul', b'des', b'ordinateurs', b'consiste', b'regarder', b'tous', b'les', b'cas', b'possibles', b'cela', b'est', b'pour', b'autant', b'possible', b'que', b'dans', b'certains', b'cas', b'particuliers', b'la', b'combinatoire', b'est', b'souvent', b'plus', b'forte', b'que', b'\\xc3\\xa9norme', b'puissance', b'des', b'ordinateurs', b'aussi', b'\\xc3\\xa9norme', b'soit', b'elle', b'd\\xc3\\xa9composition', b'top', b'down', b'bottom', b'up', b'd\\xc3\\xa9composition', b'descendante', b'd\\xc3\\xa9composition', b'remontante', b'les', b'd\\xc3\\xa9compositions', b'top', b'down', b'consistent', b'essayer', b'de', b'd\\xc3\\xa9composer', b'le', b'probl\\xc3\\xa8me', b'en', b'sous', b'probl\\xc3\\xa8mes', b'r\\xc3\\xa9soudre', b'successivement', b'la', b'd\\xc3\\xa9composition', b'allant', b'jusqu', b'des', b'probl\\xc3\\xa8mes', b'triviaux', b'faciles', b'r\\xc3\\xa9soudre', b'algorithme', b'global', b'est', b'alors', b'donn\\xc3\\xa9', b'par', b'la', b'compos\\xc3\\xa9e', b'des', b'algorithmes', b'd\\xc3\\xa9finis', b'au', b'cours', b'de', b'la', b'd\\xc3\\xa9composition', b'la', b'd\\xc3\\xa9marche', b'bottom', b'up', b'est', b'la', b'd\\xc3\\xa9marche', b'inverse', b'elle', b'consiste', b'partir', b'algorithmes', b'simples', b'ne', b'r\\xc3\\xa9solvant', b'qu', b'une', b'\\xc3\\xa9tape', b'du', b'probl\\xc3\\xa8me', b'pour', b'essayer', b'de', b'les', b'composer', b'pour', b'obtenir', b'un', b'algorithme', b'global', b'pr\\xc3\\xa9', b'traitement', b'post', b'traitement', b'parfois', b'certains', b'algorithmes', b'comportent', b'une', b'ou', b'deux', b'phases', b'identifi\\xc3\\xa9es', b'comme', b'des', b'pr\\xc3\\xa9', b'traitements', b'faire', b'avant', b'algorithme', b'principal', b'ou', b'post', b'traitement', b'faire', b'apr\\xc3\\xa8s', b'algorithme', b'principal', b'pour', b'simplifier', b'\\xc3\\xa9criture', b'de', b'algorithme', b'g\\xc3\\xa9n\\xc3\\xa9ral', b'programmation', b'dynamique', b'elle', b'applique', b'lorsque', b'le', b'probl\\xc3\\xa8me', b'optimisation', b'est', b'compos\\xc3\\xa9', b'de', b'plusieurs', b'sous', b'probl\\xc3\\xa8mes', b'de', b'm\\xc3\\xaame', b'nature', b'et', b'qu', b'une', b'solution', b'optimale', b'du', b'probl\\xc3\\xa8me', b'global', b'obtient', b'partir', b'de', b'solutions', b'optimales', b'des', b'sous', b'probl\\xc3\\xa8mes', b'les', b'heuristiques', b'pour', b'certains', b'probl\\xc3\\xa8mes', b'les', b'algorithmes', b'ont', b'une', b'complexit\\xc3\\xa9', b'beaucoup', b'trop', b'grande', b'pour', b'obtenir', b'un', b'r\\xc3\\xa9sultat', b'en', b'temps', b'raisonnable', b'm\\xc3\\xaame', b'si', b'on', b'pouvait', b'utiliser', b'une', b'puissance', b'de', b'calcul', b'ph\\xc3\\xa9nom\\xc3\\xa9nale', b'on', b'est', b'donc', b'amen\\xc3\\xa9', b'rechercher', b'la', b'solution', b'de', b'fa\\xc3\\xa7on', b'non', b'syst\\xc3\\xa9matique', b'algorithme', b'de', b'las', b'vegas', b'ou', b'de', b'se', b'contenter', b'une', b'solution', b'la', b'plus', b'proche', b'possible', b'une', b'solution', b'optimale', b'en', b'proc\\xc3\\xa9dant', b'par', b'essais', b'successifs', b'algorithme', b'de', b'monte', b'carlo', b'puisque', b'toutes', b'les', b'combinaisons', b'ne', b'peuvent', b'\\xc3\\xaatre', b'essay\\xc3\\xa9es', b'certains', b'choix', b'strat\\xc3\\xa9giques', b'doivent', b'\\xc3\\xaatre', b'faits', b'ces', b'choix', b'g\\xc3\\xa9n\\xc3\\xa9ralement', b'tr\\xc3\\xa8s', b'd\\xc3\\xa9pendants', b'du', b'probl\\xc3\\xa8me', b'trait\\xc3\\xa9', b'constituent', b'ce', b'qu', b'on', b'appelle', b'une', b'heuristique', b'le', b'but', b'une', b'heuristique', b'est', b'donc', b'pas', b'essayer', b'toutes', b'les', b'combinaisons', b'possibles', b'mais', b'de', b'trouver', b'une', b'solution', b'en', b'un', b'temps', b'raisonnable', b'et', b'par', b'un', b'autre', b'moyen', b'par', b'exemple', b'en', b'proc\\xc3\\xa9dant', b'des', b'tirages', b'al\\xc3\\xa9atoires', b'la', b'solution', b'peut', b'\\xc3\\xaatre', b'exacte', b'las', b'vegas', b'ou', b'approch\\xc3\\xa9e', b'monte', b'carlo', b'les', b'algorithmes', b'atlantic', b'city', b'quant', b'eux', b'donnent', b'de', b'fa\\xc3\\xa7on', b'probablement', b'efficace', b'une', b'r\\xc3\\xa9ponse', b'probablement', b'juste', b'disons', b'avec', b'une', b'chance', b'sur', b'cent', b'millions', b'de', b'se', b'tromper', b'la', b'question', b'pos\\xc3\\xa9e', b'est', b'ainsi', b'que', b'les', b'programmes', b'de', b'jeu', b'\\xc3\\xa9checs', b'ou', b'de', b'jeu', b'de', b'go', b'pour', b'ne', b'citer', b'que', b'ceux', b'l\\xc3\\xa0', b'font', b'appel', b'de', b'mani\\xc3\\xa8re', b'tr\\xc3\\xa8s', b'fr\\xc3\\xa9quente', b'des', b'heuristiques', b'qui', b'mod\\xc3\\xa9lisent', b'exp\\xc3\\xa9rience', b'un', b'joueur', b'certains', b'logiciels', b'antivirus', b'se', b'basent', b'\\xc3\\xa9galement', b'sur', b'des', b'heuristiques', b'pour', b'reconna\\xc3\\xaetre', b'des', b'virus', b'informatiques', b'non', b'r\\xc3\\xa9pertori\\xc3\\xa9s', b'dans', b'leur', b'base', b'en', b'appuyant', b'sur', b'des', b'ressemblances', b'avec', b'des', b'virus', b'connus', b'est', b'un', b'exemple', b'algorithme', b'atlantic', b'city', b'de', b'm\\xc3\\xaame', b'le', b'probl\\xc3\\xa8me', b'sat', b'qui', b'est', b'arch\\xc3\\xa9type', b'du', b'probl\\xc3\\xa8me', b'np', b'complet', b'donc', b'tr\\xc3\\xa8s', b'difficile', b'est', b'r\\xc3\\xa9solu', b'de', b'fa\\xc3\\xa7on', b'pratique', b'et', b'efficace', b'par', b'la', b'mise', b'au', b'point', b'heuristiques', b'exemples', b'algorithmes', b'de', b'probl\\xc3\\xa8mes', b'applications', b'ou', b'domaines', b'application', b'il', b'existe', b'un', b'certain', b'nombre', b'algorithmes', b'classiques', b'utilis\\xc3\\xa9s', b'pour', b'r\\xc3\\xa9soudre', b'des', b'probl\\xc3\\xa8mes', b'ou', b'plus', b'simplement', b'pour', b'illustrer', b'des', b'm\\xc3\\xa9thodes', b'de', b'programmation', b'on', b'se', b'r\\xc3\\xa9f\\xc3\\xa9rera', b'aux', b'articles', b'suivants', b'pour', b'de', b'plus', b'amples', b'd\\xc3\\xa9tails', b'voir', b'aussi', b'liste', b'des', b'algorithmes', b'algorithmes', b'ou', b'probl\\xc3\\xa8mes', b'classiques', b'du', b'plus', b'simple', b'ou', b'plus', b'complexe', b'\\xc3\\xa9change', b'ou', b'comment', b'\\xc3\\xa9changer', b'les', b'valeurs', b'de', b'deux', b'variables', b'probl\\xc3\\xa8me', b'classique', b'illustrant', b'la', b'notion', b'de', b'variable', b'informatique', b'voir', b'aussi', b'structure', b'de', b'donn\\xc3\\xa9es', b'algorithmes', b'de', b'recherche', b'ou', b'comment', b'retrouver', b'une', b'information', b'dans', b'un', b'ensemble', b'structur\\xc3\\xa9', b'ou', b'non', b'par', b'exemple', b'recherche', b'dichotomique', b'algorithme', b'de', b'tri', b'ou', b'comment', b'trier', b'un', b'ensemble', b'de', b'nombres', b'le', b'plus', b'rapidement', b'possible', b'ou', b'en', b'utilisant', b'le', b'moins', b'de', b'ressources', b'possible', b'probl\\xc3\\xa8me', b'du', b'voyageur', b'de', b'commerce', b'probl\\xc3\\xa8me', b'du', b'sac', b'dos', b'probl\\xc3\\xa8me', b'sat', b'et', b'autres', b'algorithmes', b'ou', b'approximations', b'de', b'solutions', b'pour', b'les', b'probl\\xc3\\xa8mes', b'combinatoires', b'difficiles', b'dit', b'np', b'complets', b'algorithmes', b'ou', b'probl\\xc3\\xa8mes', b'illustrant', b'la', b'programmation', b'r\\xc3\\xa9cursive', b'voir', b'aussi', b'algorithme', b'r\\xc3\\xa9cursif', b'tours', b'de', b'hano\\xc3\\xaf', b'huit', b'dames', b'placer', b'huit', b'dames', b'sur', b'un', b'\\xc3\\xa9chiquier', b'sans', b'qu', b'elles', b'puissent', b'se', b'prendre', b'entre', b'elles', b'suite', b'de', b'conway', b'algorithme', b'de', b'dessins', b'r\\xc3\\xa9cursifs', b'fractale', b'pour', b'le', b'tapis', b'de', b'sierpi\\xc5\\x84ski', b'la', b'courbe', b'du', b'dragon', b'le', b'flocon', b'de', b'koch', b'algorithmes', b'dans', b'le', b'domaine', b'des', b'math\\xc3\\xa9matiques', b'calcul', b'de', b'la', b'factorielle', b'un', b'nombre', b'de', b'la', b'fonction', b'ackermann', b'ou', b'de', b'la', b'suite', b'de', b'fibonacci', b'algorithme', b'du', b'simplexe', b'qui', b'minimise', b'une', b'fonction', b'lin\\xc3\\xa9aire', b'de', b'variables', b'r\\xc3\\xa9elles', b'soumises', b'des', b'contraintes', b'lin\\xc3\\xa9aires', b'fraction', b'continue', b'un', b'nombre', b'quadratique', b'permettant', b'extraire', b'une', b'racine', b'carr\\xc3\\xa9e', b'cas', b'particulier', b'de', b'la', b'm\\xc3\\xa9thode', b'de', b'newton', b'dans', b'le', b'domaine', b'de', b'alg\\xc3\\xa8bre', b'algorithme', b'unification', b'le', b'calcul', b'une', b'base', b'de', b'gr\\xc3\\xb6bner', b'un', b'id\\xc3\\xa9al', b'de', b'polyn\\xc3\\xb4me', b'et', b'plus', b'g\\xc3\\xa9n\\xc3\\xa9ralement', b'presque', b'toutes', b'les', b'm\\xc3\\xa9thodes', b'de', b'calcul', b'symbolique', b'en', b'th\\xc3\\xa9orie', b'des', b'graphes', b'qui', b'donne', b'lieu', b'de', b'nombreux', b'algorithmes', b'test', b'de', b'primalit\\xc3\\xa9', b'algorithmes', b'pour', b'et', b'dans', b'le', b'domaine', b'de', b'informatique', b'cryptologie', b'et', b'compression', b'de', b'donn\\xc3\\xa9es', b'informatique', b'musicale', b'algorithme', b'g\\xc3\\xa9n\\xc3\\xa9tique', b'en', b'informatique', b'd\\xc3\\xa9cisionnelle', b'analyse', b'et', b'compilation', b'des', b'langages', b'formels', b'voir', b'compilateur', b'et', b'interpr\\xc3\\xa8te', b'informatique', b'allocation', b'de', b'm\\xc3\\xa9moire', b'ramasse', b'miettes', b'annexes', b'notes', b'et', b'r\\xc3\\xa9f\\xc3\\xa9rences', b'bibliographie', b'liens', b'externes', b'qu', b'est', b'ce', b'qu', b'un', b'algorithme', b'par', b'philippe', b'flajolet', b'et', b'\\xc3\\xa9tienne', b'parizot', b'sur', b'la', b'revue', b'en', b'ligne', b'interstices', b'articles', b'connexes', b'al', b'khuwarizmi', b'algorithme', b'r\\xc3\\xa9cursif', b'algorithme', b'r\\xc3\\xa9parti', b'algorithme', b'\\xc3\\xa9mergent', b'algorithme', b'adaptatif', b'liste', b'des', b'algorithmes', b'm\\xc3\\xa9taheuristique', b'recherche', b'op\\xc3\\xa9rationnelle']\n",
      "[b'argentine', b'est', b'une', b'r\\xc3\\xa9publique', b'pr\\xc3\\xa9sidentielle', b'multipartite', b'o\\xc3\\xb9', b'le', b'pr\\xc3\\xa9sident', b'est', b'la', b'fois', b'chef', b'de', b'\\xc3\\xa9tat', b'et', b'chef', b'du', b'gouvernement', b'le', b'pouvoir', b'ex\\xc3\\xa9cutif', b'est', b'd\\xc3\\xa9tenu', b'par', b'le', b'gouvernement', b'et', b'le', b'pouvoir', b'l\\xc3\\xa9gislatif', b'est', b'partag\\xc3\\xa9', b'entre', b'le', b'gouvernement', b'et', b'les', b'deux', b'chambres', b'du', b'parlement', b'le', b'pouvoir', b'judiciaire', b'est', b'ind\\xc3\\xa9pendant', b'des', b'deux', b'premiers', b'pouvoir', b'ex\\xc3\\xa9cutif', b'les', b'\\xc3\\xa9lections', b'pr\\xc3\\xa9sidentielles', b'se', b'd\\xc3\\xa9roulent', b'en', b'un', b'ou', b'deux', b'tours', b'si', b'aucun', b'candidat', b'ne', b'r\\xc3\\xa9colte', b'plus', b'de', b'des', b'votes', b'alors', b'un', b'deuxi\\xc3\\xa8me', b'tour', b'est', b'organis\\xc3\\xa9', b'seuls', b'les', b'deux', b'candidats', b'qui', b'ont', b'remport\\xc3\\xa9', b'le', b'plus', b'de', b'votes', b'participent', b'au', b'deuxi\\xc3\\xa8me', b'tour', b'historiquement', b'le', b'pays', b'est', b'marqu\\xc3\\xa9', b'par', b'le', b'bipartisme', b'entre', b'le', b'parti', b'justicialiste', b'ou', b'p\\xc3\\xa9roniste', b'qui', b'fut', b'cependant', b'interdit', b'de', b'aux', b'\\xc3\\xa9lections', b'de', b'puis', b'nouveau', b'r\\xc3\\xa9prim\\xc3\\xa9', b'apr\\xc3\\xa8s', b'le', b'coup', b'etat', b'de', b'mars', b'et', b'le', b'parti', b'radical', b'union', b'civique', b'radicale', b'ucr', b'et', b'\\xc3\\xa9lection', b'se', b'fait', b'normalement', b'd\\xc3\\xa8s', b'le', b'premier', b'tour', b'depuis', b'il', b'eut', b'aucun', b'd\\xc3\\xa9bat', b't\\xc3\\xa9l\\xc3\\xa9vis\\xc3\\xa9', b'entre', b'deux', b'candidats', b'la', b'pr\\xc3\\xa9sidentielle', b'histoire', b'candidats', b'\\xc3\\xa9taient', b'inscrits', b'pour', b'les', b'\\xc3\\xa9lections', b'du', b'fait', b'exceptionnel', b'et', b'un', b'second', b'tour', b'\\xc3\\xa9tait', b'attendu', b'\\xc3\\xa9lection', b'pr\\xc3\\xa9sidentielle', b'les', b'candidats', b'\\xc3\\xa9taient', b'dans', b'ordre', b'alphab\\xc3\\xa9tique', b'jorge', b'altamira', b'juan', b'carlos', b'arcagni', b'jos\\xc3\\xa9', b'bonacci', b'alfredo', b'bravo', b'elisa', b'carri\\xc3\\xb3', b'manuel', b'herrera', b'n\\xc3\\xa9stor', b'kirchner', b'manuel', b'manusovich', b'mario', b'mazzitelli', b'carlos', b'menem', b'leopoldo', b'moreau', b'ricardo', b'l\\xc3\\xb3pez', b'murphy', b'ricardo', b'mussa', b'gustavo', b'breide', b'obeid', b'adolfo', b'rodr\\xc3\\xadguez', b'sa\\xc3\\xa1', b'guillermo', b'sulling', b'enrique', b'venturino', b'patricia', b'walsh', b'carlos', b'zaffore', b'carlos', b'menem', b'ancien', b'pr\\xc3\\xa9sident', b'est', b'arriv\\xc3\\xa9', b'en', b't\\xc3\\xaate', b'au', b'premier', b'tour', b'avec', b'des', b'voix', b'suivi', b'de', b'n\\xc3\\xa9stor', b'kirchner', b'proche', b'du', b'pr\\xc3\\xa9sident', b'en', b'titre', b'eduardo', b'duhalde', b'avec', b'tous', b'les', b'deux', b'sont', b'issus', b'du', b'parti', b'justicialiste', b'p\\xc3\\xa9roniste', b'carlos', b'menem', b'apr\\xc3\\xa8s', b'les', b'sondages', b'ne', b'paraissait', b'pas', b'pouvoir', b'progresser', b'par', b'rapport', b'son', b'score', b'du', b'premier', b'tour', b'et', b'semblait', b'donc', b'promis', b'une', b'lourde', b'd\\xc3\\xa9faite', b'avec', b'de', b'retard', b'il', b'renonc\\xc3\\xa9', b'le', b'mai', b'quatre', b'jours', b'du', b'second', b'tour', b'laissant', b'nestor', b'kirchner', b'devenir', b'automatiquement', b'pr\\xc3\\xa9sident', b'les', b'adversaires', b'de', b'menem', b'et', b'notamment', b'entourage', b'du', b'pr\\xc3\\xa9sident', b'duhalde', b'ont', b'qualifi\\xc3\\xa9', b'cette', b'd\\xc3\\xa9cision', b'irresponsable', b'puisqu', b'en', b'privant', b'kirchner', b'de', b'la', b'victoire', b'au', b'second', b'tour', b'en', b'faisant', b'un', b'pr\\xc3\\xa9sident', b'par', b'd\\xc3\\xa9faut', b'elle', b'pourrait', b'miner', b's\\xc3\\xa9rieusement', b'sa', b'l\\xc3\\xa9gitimit\\xc3\\xa9', b'mandat', b'de', b'nestor', b'kirchner', b'une', b'fois', b'\\xc3\\xa9lu', b'la', b't\\xc3\\xaate', b'de', b'argentine', b'nestor', b'kirchner', b'eu', b'devant', b'lui', b'un', b'chantier', b'imposant', b'reconstruire', b'\\xc3\\xa9conomie', b'de', b'argentine', b'gravement', b'endommag\\xc3\\xa9e', b'par', b'la', b'crise', b'financi\\xc3\\xa8re', b'de', b'il', b'tente', b'appliquer', b'argentine', b'les', b'recettes', b'qui', b'ont', b'fait', b'le', b'succ\\xc3\\xa8s', b'\\xc3\\xa9conomique', b'de', b'la', b'province', b'de', b'santa', b'cruz', b'en', b'patagonie', b'dont', b'il', b'\\xc3\\xa9tait', b'le', b'gouverneur', b'jusqu', b'en', b'ses', b'premi\\xc3\\xa8res', b't\\xc3\\xa2ches', b'ont', b'\\xc3\\xa9t\\xc3\\xa9', b'la', b'ren\\xc3\\xa9gociation', b'de', b'la', b'dette', b'en', b'd\\xc3\\xa9faut', b'avec', b'le', b'fmi', b'et', b'avec', b'les', b'cr\\xc3\\xa9anciers', b'priv\\xc3\\xa9s', b'un', b'accord', b'\\xc3\\xa9t\\xc3\\xa9', b'trouv\\xc3\\xa9', b'avec', b'ces', b'derniers', b'd\\xc3\\xa9but', b'ceux', b'ci', b'devant', b'renoncer', b'de', b'leurs', b'cr\\xc3\\xa9ances', b'les', b'ren\\xc3\\xa9gociations', b'des', b'contrats', b'eau', b'de', b'gaz', b'avec', b'de', b'grandes', b'entreprises', b'\\xc3\\xa9trang\\xc3\\xa8res', b'suez', b'la', b'plupart', b'des', b'services', b'publics', b'ont', b'\\xc3\\xa9t\\xc3\\xa9', b'privatis\\xc3\\xa9s', b'pendant', b'\\xc3\\xa8re', b'menem', b'les', b'discussions', b'avec', b'les', b'piqueteros', b'associations', b'de', b'ch\\xc3\\xb4meurs', b'bloquant', b'r\\xc3\\xa9guli\\xc3\\xa8rement', b'les', b'routes', b'pour', b'demander', b'la', b'revalorisation', b'des', b'aides', b'sociales', b'nestor', b'kirchner', b'\\xc3\\xa9galement', b'\\xc3\\xa9t\\xc3\\xa9', b'confront\\xc3\\xa9', b'une', b'vague', b'de', b'violences', b'et', b'enl\\xc3\\xa8vements', b'contre', b'ran\\xc3\\xa7ons', b'avec', b'implication', b'de', b'la', b'police', b'de', b'la', b'province', b'de', b'buenos', b'aires', b'il', b'donc', b'men\\xc3\\xa9', b'une', b'\\xc3\\xa9puration', b'de', b'la', b'police', b'et', b'de', b'la', b'justice', b'pour', b'lutter', b'contre', b'la', b'corruption', b'et', b'la', b'violence', b'organis\\xc3\\xa9e', b'et', b'nomma', b'en', b'juin', b'esteban', b'righi', b'ex', b'ministre', b'de', b'int\\xc3\\xa9rieur', b'h\\xc3\\xa9ctor', b'c\\xc3\\xa1mpora', b'mai', b'juillet', b'procureur', b'de', b'la', b'nation', b'les', b'\\xc3\\xa9lections', b'g\\xc3\\xa9n\\xc3\\xa9rales', b'de', b'ont', b'\\xc3\\xa9t\\xc3\\xa9', b'nouveau', b'remport\\xc3\\xa9es', b'par', b'le', b'parti', b'justicialiste', b'portant', b'la', b'femme', b'de', b'kirchner', b'cristina', b'fern\\xc3\\xa1ndez', b'de', b'kirchner', b'la', b'pr\\xc3\\xa9sidence', b'elle', b'est', b'r\\xc3\\xa9\\xc3\\xa9lue', b'en', b'les', b'\\xc3\\xa9lections', b'g\\xc3\\xa9n\\xc3\\xa9rales', b'de', b'voient', b'la', b'victoire', b'de', b'mauricio', b'macri', b'opposant', b'au', b'dauphin', b'de', b'la', b'pr\\xc3\\xa9sidente', b'sortante', b'qui', b'ne', b'pouvait', b'se', b'repr\\xc3\\xa9senter', b'apr\\xc3\\xa8s', b'deux', b'mandats', b'extr\\xc3\\xaame', b'droite', b'depuis', b'au', b'moins', b'les', b'ann\\xc3\\xa9es', b'il', b'existe', b'une', b'extr\\xc3\\xaame', b'droite', b'argentine', b'organis\\xc3\\xa9e', b'cr\\xc3\\xa9ation', b'du', b'parti', b'fasciste', b'argentin', b'en', b'\\xc3\\xa9lection', b'du', b'gouverneur', b'de', b'buenos', b'aires', b'manuel', b'fresco', b'en', b'mouvement', b'nationaliste', b'tacuara', b'des', b'ann\\xc3\\xa9es', b'qui', b'organisa', b'une', b'forte', b'campagne', b'antis\\xc3\\xa9mite', b'apr\\xc3\\xa8s', b'enl\\xc3\\xa8vement', b'du', b'nazi', b'adolf', b'eichmann', b'par', b'le', b'mossad', b'celle', b'ci', b'd\\xc3\\xa9sign\\xc3\\xa9e', b'sous', b'le', b'terme', b'de', b'national', b'catholicisme', b'eut', b'une', b'influence', b'importante', b'dans', b'arm\\xc3\\xa9e', b'et', b'\\xc3\\xa9glise', b'avec', b'notamment', b'abb\\xc3\\xa9', b'julio', b'meinvielle', b'la', b'cit\\xc3\\xa9', b'catholique', b'fond\\xc3\\xa9e', b'par', b'jean', b'ousset', b'un', b'disciple', b'de', b'maurras', b'proche', b'par', b'ailleurs', b'de', b'arch\\xc3\\xa9v\\xc3\\xaaque', b'antonio', b'caggiano', b'ou', b'le', b'magazine', b'cabildo', b'et', b'les', b'diff\\xc3\\xa9rents', b'coups', b'\\xc3\\xa9tat', b'r\\xc3\\xa9volution', b'lib\\xc3\\xa9ratrice', b'r\\xc3\\xa9volution', b'argentine', b'de', b'et', b'coup', b'etat', b'de', b'mars', b'pr\\xc3\\xa9par\\xc3\\xa9', b'entre', b'autres', b'par', b'activisme', b'violent', b'de', b'alliance', b'anticommuniste', b'argentine', b'et', b'de', b'la', b'concentraci\\xc3\\xb3n', b'nacional', b'universitaria', b'celle', b'ci', b'fut', b'int\\xc3\\xa9gr\\xc3\\xa9e', b'au', b'r\\xc3\\xa9gime', b'de', b'jorge', b'rafael', b'videla', b'apr\\xc3\\xa8s', b'mars', b'participant', b'aux', b'nombreux', b'escadrons', b'de', b'la', b'mort', b'ce', b'qui', b'lui', b'\\xc3\\xb4ta', b'toute', b'existence', b'ind\\xc3\\xa9pendante', b'du', b'pouvoir', b'depuis', b'la', b'transition', b'd\\xc3\\xa9mocratique', b'des', b'ann\\xc3\\xa9es', b'elle', b'se', b'montre', b'plus', b'discr\\xc3\\xa8te', b'exception', b'des', b'soul\\xc3\\xa8vements', b'militaires', b'organis\\xc3\\xa9s', b'par', b'les', b'carapintadas', b'elle', b'en', b'continue', b'pas', b'moins', b'exister', b'avec', b'la', b'fondation', b'du', b'en', b'par', b'ou', b'la', b're', b'cr\\xc3\\xa9ation', b'du', b'magazine', b'national', b'catholique', b'et', b'antis\\xc3\\xa9mite', b'cabildo', b'la', b'cour', b'supr\\xc3\\xaame', b'n\\xc3\\xa9anmoins', b'ordonn\\xc3\\xa9', b'la', b'dissolution', b'de', b'ce', b'parti', b'en', b'en', b'raison', b'de', b'd\\xc3\\xa9clarations', b'nazies', b'et', b'antis\\xc3\\xa9mites', b'par', b'ailleurs', b'un', b'des', b'partisans', b'du', b'carapintada', b'seineld\\xc3\\xadn', b'et', b'participants', b'son', b'putsch', b'condamn\\xc3\\xa9', b'ans', b'de', b'prison', b'fond\\xc3\\xa9', b'en', b'le', b'marginal', b'candidat', b'\\xc3\\xa9lection', b'pr\\xc3\\xa9sidentielle', b'de', b'et', b'de', b'il', b'obtint', b'cette', b'derni\\xc3\\xa8re', b'voix', b'soit', b'des', b'suffrages', b'exprim\\xc3\\xa9s', b'notes', b'et', b'r\\xc3\\xa9f\\xc3\\xa9rences', b'voir', b'aussi', b'bibliographie', b'argentine', b'des', b'kirchner', b'dix', b'ans', b'apr\\xc3\\xa8s', b'la', b'crise', b'choiseul', b'paris', b'de', b'la', b'revue', b'probl\\xc3\\xa8mes', b'am\\xc3\\xa9rique', b'latine', b'articles', b'connexes', b'\\xc3\\xa9conomie', b'de', b'argentine', b'histoire', b'de', b'argentine', b'liste', b'des', b'chefs', b'\\xc3\\xa9tat', b'argentins', b'repr\\xc3\\xa9sentations', b'diplomatiques', b'de', b'argentine', b'liens', b'externes', b'site', b'officiel', b'du', b'gouvernement', b'cat\\xc3\\xa9gorie', b'politique', b'en', b'argentine']\n",
      "[b'arm\\xc3\\xa9e', b'r\\xc3\\xa9publicaine', b'irlandaise', b'ira', b'est', b'le', b'nom', b'port\\xc3\\xa9', b'depuis', b'le', b'd\\xc3\\xa9but', b'du', b'par', b'plusieurs', b'organisations', b'paramilitaires', b'luttant', b'par', b'les', b'armes', b'contre', b'la', b'pr\\xc3\\xa9sence', b'britannique', b'en', b'irlande', b'du', b'nord', b'les', b'diff\\xc3\\xa9rents', b'groupes', b'se', b'r\\xc3\\xa9f\\xc3\\xa9rent', b'eux', b'comme', b'\\xc3\\xb3glaigh', b'na', b'h\\xc3\\xa9ireann', b'est', b'dire', b'volontaires', b'irlande', b'irish', b'republican', b'army', b'appel\\xc3\\xa9e', b'aussi', b'old', b'ira', b'issue', b'de', b'union', b'en', b'entre', b'irish', b'citizen', b'army', b'proche', b'du', b'parti', b'travailliste', b'irlandais', b'et', b'les', b'irish', b'volunteers', b'alors', b'g\\xc3\\xa9n\\xc3\\xa9ralement', b'proches', b'de', b'irb', b'fut', b'active', b'entre', b'janvier', b'et', b'd\\xc3\\xa9cembre', b'pendant', b'la', b'guerre', b'ind\\xc3\\xa9pendance', b'irlandaise', b'si', b'ceux', b'qui', b'accept\\xc3\\xa8rent', b'le', b'trait\\xc3\\xa9', b'anglo', b'irlandais', b'form\\xc3\\xa8rent', b'les', b'forces', b'de', b'd\\xc3\\xa9fense', b'irlandaises', b'une', b'partie', b'de', b'organisation', b'refusant', b'cet', b'accord', b'se', b'constitua', b'en', b'une', b'nouvelle', b'irish', b'republican', b'army', b'ill\\xc3\\xa9gale', b'irish', b'republican', b'army', b'anti', b'trait\\xc3\\xa9', b'appara\\xc3\\xaet', b'entre', b'avril', b'et', b'juin', b'du', b'fait', b'du', b'refus', b'du', b'trait\\xc3\\xa9', b'anglo', b'irlandais', b'par', b'une', b'partie', b'de', b'old', b'ira', b'elle', b'participe', b'ainsi', b'la', b'guerre', b'civile', b'irlandaise', b'de', b'juin', b'mars', b'elle', b'maintient', b'son', b'activit\\xc3\\xa9', b'dans', b'les', b'deux', b'irlandes', b'\\xc3\\xa9tat', b'libre', b'irlande', b'ind\\xc3\\xa9pendant', b'et', b'irlande', b'du', b'nord', b'britannique', b'mais', b'concentre', b'son', b'action', b'sur', b'les', b'int\\xc3\\xa9r\\xc3\\xaats', b'britanniques', b'surtout', b'en', b'irlande', b'du', b'nord', b'en', b'organisation', b'se', b'divise', b'donnant', b'naissance', b'official', b'irish', b'republican', b'army', b'et', b'la', b'provisional', b'irish', b'republican', b'army', b'minoritaire', b'moins', b'socialiste', b'et', b'plus', b'activiste', b'official', b'irish', b'republican', b'army', b'proche', b'de', b'official', b'sinn', b'f\\xc3\\xa9in', b'plus', b'socialiste', b'et', b'moins', b'nationaliste', b'que', b'la', b'provisional', b'irish', b'republican', b'army', b'm\\xc3\\xa8nera', b'des', b'campagnes', b'attentats', b'principalement', b'entre', b'et', b'durant', b'le', b'conflit', b'nord', b'irlandais', b'avant', b'de', b'd\\xc3\\xa9cr\\xc3\\xa9ter', b'un', b'cessez', b'le', b'feu', b'la', b'provisional', b'irish', b'republican', b'army', b'minoritaire', b'apr\\xc3\\xa8s', b'la', b'scission', b'de', b'o\\xc3\\xb9', b'son', b'nom', b'de', b'provisional', b'provisoire', b'devient', b'rapidement', b'gr\\xc3\\xa2ce', b'son', b'militantisme', b'la', b'principale', b'organisation', b'arm\\xc3\\xa9e', b'r\\xc3\\xa9publicaine', b'du', b'conflit', b'nord', b'irlandais', b'le', b'terme', b'de', b'provisional', b'est', b'ailleurs', b'abandonn\\xc3\\xa9', b'vers', b'la', b'fin', b'des', b'ann\\xc3\\xa9es', b'elle', b'fut', b'active', b'de', b'date', b'du', b'cessez', b'le', b'feu', b'd\\xc3\\xa9finitif', b'puis', b'd\\xc3\\xa9posa', b'd\\xc3\\xa9finitivement', b'les', b'armes', b'en', b'refusant', b'le', b'processus', b'de', b'paix', b'deux', b'organisations', b'scissionn\\xc3\\xa8rent', b'avec', b'la', b'pira', b'la', b'real', b'irish', b'republican', b'army', b'et', b'la', b'continuity', b'irish', b'republican', b'army', b'la', b'continuity', b'irish', b'republican', b'army', b'est', b'issue', b'une', b'scission', b'avec', b'la', b'provisional', b'irish', b'republican', b'army', b'd\\xc3\\xa8s', b'oppos\\xc3\\xa9e', b'accord', b'du', b'vendredi', b'saint', b'de', b'elle', b'continue', b'son', b'action', b'arm\\xc3\\xa9e', b'jusqu', b'aujourd', b'hui', b'la', b'real', b'irish', b'republican', b'army', b'est', b'une', b'scission', b'oppos\\xc3\\xa9e', b'au', b'processus', b'de', b'paix', b'de', b'la', b'provisional', b'irish', b'republican', b'army', b'apparue', b'en', b'et', b'encore', b'active', b'aujourd', b'hui', b'irish', b'republican', b'liberation', b'army', b'nait', b'en', b'une', b'scission', b'de', b'la', b'continuity', b'irish', b'republican', b'army', b'g\\xc3\\xa9n\\xc3\\xa9alogie', b'de', b'irish', b'republican', b'army', b'cat\\xc3\\xa9gorie', b'arm\\xc3\\xa9e', b'r\\xc3\\xa9publicaine', b'irlandaise', b'cat\\xc3\\xa9gorie', b'conflit', b'nord', b'irlandais']\n",
      "[b'autriche', b'en', b'forme', b'longue', b'la', b'r\\xc3\\xa9publique', b'autriche', b'et', b'en', b'allemand', b'est', b'un', b'\\xc3\\xa9tat', b'f\\xc3\\xa9d\\xc3\\xa9ral', b'neutre', b'europe', b'centrale', b'sans', b'acc\\xc3\\xa8s', b'la', b'mer', b'et', b'membre', b'de', b'union', b'europ\\xc3\\xa9enne', b'elle', b'est', b'entour\\xc3\\xa9e', b'dans', b'le', b'sens', b'des', b'aiguilles', b'une', b'montre', b'par', b'allemagne', b'et', b'la', b'r\\xc3\\xa9publique', b'tch\\xc3\\xa8que', b'au', b'nord', b'la', b'slovaquie', b'et', b'la', b'hongrie', b'est', b'la', b'slov\\xc3\\xa9nie', b'et', b'italie', b'au', b'sud', b'et', b'par', b'la', b'suisse', b'et', b'le', b'liechtenstein', b'ouest', b'autriche', b'est', b'membre', b'de', b'union', b'europ\\xc3\\xa9enne', b'ue', b'et', b'de', b'la', b'zone', b'euro', b'respectivement', b'depuis', b'et', b'le', b'janvier', b'sa', b'langue', b'officielle', b'est', b'allemand', b'mais', b'depuis', b'la', b'ratification', b'de', b'la', b'charte', b'europ\\xc3\\xa9enne', b'des', b'langues', b'r\\xc3\\xa9gionales', b'ou', b'minoritaires', b'six', b'autres', b'langues', b'sont', b'reconnues', b'sa', b'capitale', b'et', b'plus', b'grande', b'ville', b'est', b'vienne', b'jusqu', b'la', b'proclamation', b'en', b'de', b'la', b'premi\\xc3\\xa8re', b'r\\xc3\\xa9publique', b'autriche', b'fut', b'en', b'tant', b'qu', b'\\xc3\\xa9tat', b'un', b'acteur', b'majeur', b'de', b'histoire', b'de', b'europe', b'\\xc3\\xa9tymologie', b'la', b'premi\\xc3\\xa8re', b'mention', b'\\xc3\\xa9crite', b'du', b'nom', b'austria', b'se', b'trouve', b'dans', b'historia', b'gentis', b'langobardorum', b'et', b'date', b'des', b'ann\\xc3\\xa9es', b'signifie', b'en', b'vieil', b'allemand', b'le', b'royaume', b'de', b'est', b'autriche', b'longtemps', b'\\xc3\\xa9t\\xc3\\xa9', b'le', b'plus', b'oriental', b'des', b'pays', b'de', b'ouest', b'un', b'croisement', b'avec', b'son', b'\\xc3\\xa9quivalent', b'latin', b'austria', b'd\\xc3\\xa8s', b'le', b'donn\\xc3\\xa9', b'austriche', b'en', b'moyen', b'fran\\xc3\\xa7ais', b'puis', b'autriche', b'en', b'fran\\xc3\\xa7ais', b'\\xc3\\xb6sterreich', b'est', b'd\\xc3\\xa9riv\\xc3\\xa9', b'de', b'ostarrichi', b'premi\\xc3\\xa8re', b'mention', b'du', b'nom', b'du', b'pays', b'sur', b'un', b'document', b'qui', b'daterait', b'de', b'auparavant', b'le', b'pays', b'\\xc3\\xa9tait', b'connu', b'sous', b'le', b'nom', b'ostmark', b'marche', b'de', b'est', b'cr\\xc3\\xa9\\xc3\\xa9e', b'par', b'empereur', b'allemagne', b'otton', b'histoire', b'antiquit\\xc3\\xa9', b'et', b'haut', b'moyen', b'\\xc3\\xa2ge', b'durant', b'antiquit\\xc3\\xa9', b'autriche', b'est', b'peupl\\xc3\\xa9e', b'par', b'les', b'celtes', b'civilisation', b'de', b'hallstatt', b'elle', b'est', b'ensuite', b'partag\\xc3\\xa9e', b'entre', b'plusieurs', b'provinces', b'romaines', b'la', b'norique', b'ainsi', b'qu', b'une', b'partie', b'de', b'la', b'pannonie', b'et', b'de', b'la', b'rh\\xc3\\xa9tie', b'elle', b'est', b'int\\xc3\\xa9gr\\xc3\\xa9e', b'la', b'francie', b'orientale', b'qui', b'devient', b'le', b'saint', b'empire', b'romain', b'germanique', b'apr\\xc3\\xa8s', b'les', b'grandes', b'invasions', b'en', b'tant', b'que', b'marche', b'de', b'empire', b'carolingien', b'fichier', b'entsatz', b'von', b'wien', b'anagoria', b'jpg', b'thumb', b'left', b'si\\xc3\\xa8ge', b'de', b'vienne', b'par', b'les', b'turcs', b'en', b'empire', b'autriche', b'autriche', b'hongrie', b'en', b'en', b'apr\\xc3\\xa8s', b'le', b'congr\\xc3\\xa8s', b'de', b'vienne', b'autriche', b'et', b'les', b'autres', b'pays', b'germanophones', b'essayent', b'nouveau', b'de', b'former', b'une', b'conf\\xc3\\xa9d\\xc3\\xa9ration', b'allemande', b'mais', b'opposition', b'austro', b'prussienne', b'domine', b'les', b'tensions', b'atteignent', b'leur', b'paroxysme', b'au', b'cours', b'de', b'la', b'guerre', b'austro', b'prussienne', b'en', b'la', b'd\\xc3\\xa9faite', b'autrichienne', b'voit', b'av\\xc3\\xa8nement', b'de', b'cette', b'conf\\xc3\\xa9d\\xc3\\xa9ration', b'la', b'm\\xc3\\xaame', b'ann\\xc3\\xa9e', b'r\\xc3\\xa9solvant', b'ainsi', b'la', b'question', b'allemande', b'son', b'd\\xc3\\xa9triment', b'vienne', b'est', b'trois', b'ans', b'apr\\xc3\\xa8s', b'\\xc3\\xa9picentre', b'du', b'krach', b'du', b'si\\xc3\\xa8cle', b'sous', b'le', b'r\\xc3\\xa8gne', b'de', b'fran\\xc3\\xa7ois', b'joseph', b'en', b'autriche', b'se', b'tourne', b'vers', b'le', b'sud', b'est', b'de', b'europe', b'de', b'sorte', b'que', b'empire', b'autriche', b'se', b'transforme', b'et', b'agrandit', b'pour', b'former', b'la', b'monarchie', b'danubienne', b'autriche', b'hongrie', b'fran\\xc3\\xa7ois', b'joseph', b'meurt', b'en', b'ans', b'pendant', b'la', b'premi\\xc3\\xa8re', b'guerre', b'mondiale', b'apr\\xc3\\xa8s', b'ans', b'de', b'r\\xc3\\xa8gne', b'son', b'petit', b'neveu', b'et', b'successeur', b'charles', b'autriche', b'ans', b'apr\\xc3\\xa8s', b'de', b'vaines', b'tentatives', b'de', b'retour', b'la', b'paix', b'accepte', b'impuissant', b'le', b'novembre', b'la', b'dislocation', b'de', b'son', b'empire', b'et', b'part', b'en', b'exil', b'\\xc3\\xa9poque', b'contemporaine', b'lors', b'de', b'la', b'scission', b'de', b'autriche', b'hongrie', b'en', b'les', b'd\\xc3\\xa9put\\xc3\\xa9s', b'autrichiens', b'allemands', b'du', b'parlement', b'de', b'cisleithanie', b'reichsrat', b'\\xc3\\xa9lus', b'en', b'd\\xc3\\xa9cid\\xc3\\xa8rent', b'de', b'fonder', b'un', b'\\xc3\\xa9tat', b'autriche', b'allemande', b'assembl\\xc3\\xa9e', b'r\\xc3\\xa9dige', b'une', b'constitution', b'd\\xc3\\xa9clarant', b'que', b'autriche', b'allemande', b'est', b'une', b'r\\xc3\\xa9publique', b'd\\xc3\\xa9mocratique', b'article', b'et', b'qu', b'elle', b'est', b'une', b'partie', b'de', b'la', b'r\\xc3\\xa9publique', b'allemande', b'article', b'les', b'alli\\xc3\\xa9s', b'de', b'la', b'premi\\xc3\\xa8re', b'guerre', b'mondiale', b'opposent', b'cette', b'id\\xc3\\xa9e', b'et', b'le', b'trait\\xc3\\xa9', b'de', b'saint', b'germain', b'en', b'laye', b'interdit', b'le', b'nom', b'autriche', b'allemande', b'et', b'son', b'unification', b'\\xc3\\xa9ventuelle', b'avec', b'allemagne', b'article', b'donnant', b'naissance', b'\\xc3\\xa8re', b'de', b'la', b'premi\\xc3\\xa8re', b'r\\xc3\\xa9publique', b'autriche', b'r\\xc3\\xa9duite', b'en', b'taille', b'apr\\xc3\\xa8s', b'le', b'trait\\xc3\\xa9', b'de', b'saint', b'germain', b'en', b'laye', b'de', b'autriche', b'conna\\xc3\\xaet', b'une', b'grave', b'crise', b'\\xc3\\xa9conomique', b'au', b'lendemain', b'de', b'la', b'grande', b'guerre', b'ce', b'est', b'que', b'gr\\xc3\\xa2ce', b'intervention', b'de', b'la', b'soci\\xc3\\xa9t\\xc3\\xa9', b'des', b'nations', b'que', b'sa', b'situation', b'am\\xc3\\xa9liore', b'la', b'fin', b'des', b'ann\\xc3\\xa9es', b'plus', b'tard', b'autriche', b'est', b'rattach\\xc3\\xa9e', b'allemagne', b'hitl\\xc3\\xa9rienne', b'entre', b'et', b'la', b'fin', b'de', b'la', b'deuxi\\xc3\\xa8me', b'guerre', b'mondiale', b'elle', b'est', b'occup\\xc3\\xa9e', b'par', b'les', b'arm\\xc3\\xa9es', b'alli\\xc3\\xa9es', b'et', b'ne', b'retrouvera', b'sa', b'pleine', b'souverainet\\xc3\\xa9', b'qu', b'en', b'la', b'guerre', b'froide', b'en', b'fait', b'nouveau', b'une', b'marche', b'de', b'europe', b'cette', b'fois', b'face', b'au', b'bloc', b'sovi\\xc3\\xa9tique', b'elle', b'conna\\xc3\\xaet', b'alors', b'un', b'fort', b'redressement', b'\\xc3\\xa9conomique', b'durant', b'cette', b'p\\xc3\\xa9riode', b'avant', b'adh\\xc3\\xa9rer', b'union', b'europ\\xc3\\xa9enne', b'en', b'politique', b'parlement', b'vienne', b'autriche', b'est', b'un', b'pays', b'neutre', b'qui', b'ne', b'fait', b'par', b'exemple', b'pas', b'partie', b'de', b'otan', b'la', b'diff\\xc3\\xa9rence', b'de', b'la', b'plupart', b'des', b'pays', b'europ\\xc3\\xa9ens', b'la', b'neutralit\\xc3\\xa9', b'autrichienne', b'est', b'une', b'cons\\xc3\\xa9quence', b'directe', b'des', b'n\\xc3\\xa9gociations', b'pour', b'le', b'trait\\xc3\\xa9', b'\\xc3\\xa9tat', b'autrichien', b'staatsvertrag', b'sign\\xc3\\xa9', b'le', b'mai', b'vienne', b'le', b'pays', b'est', b'membre', b'de', b'association', b'europ\\xc3\\xa9enne', b'de', b'libre', b'\\xc3\\xa9change', b'de', b'puis', b'rejoint', b'union', b'europ\\xc3\\xa9enne', b'le', b'janvier', b'le', b'conseil', b'national', b'autrichien', b'nationalrat', b'si\\xc3\\xa8ges', b'est', b'depuis', b'le', b'compos\\xc3\\xa9', b'comme', b'suit', b'si\\xc3\\xa8ges', b'au', b'sp\\xc3\\xb6', b'parti', b'social', b'd\\xc3\\xa9mocrate', b'autrichien', b'des', b'suffrages', b'si\\xc3\\xa8ges', b'\\xc3\\xb6vp', b'parti', b'populaire', b'autrichien', b'si\\xc3\\xa8ges', b'au', b'fp\\xc3\\xb6', b'parti', b'de', b'la', b'libert\\xc3\\xa9', b'autriche', b'si\\xc3\\xa8ges', b'die', b'gr\\xc3\\xbcnen', b'les', b'verts', b'si\\xc3\\xa8ges', b'frank', b'le', b'team', b'stronach', b'si\\xc3\\xa8ges', b'neos', b'autriche', b'nouvelle', b'le', b'pr\\xc3\\xa9sident', b'f\\xc3\\xa9d\\xc3\\xa9ral', b'heinz', b'fischer', b'du', b'sp\\xc3\\xb6', b'fut', b'\\xc3\\xa9lu', b'le', b'avec', b'des', b'voix', b'contre', b'des', b'voix', b'pour', b'benita', b'ferrero', b'waldner', b'il', b'fut', b'intronis\\xc3\\xa9', b'le', b'soit', b'deux', b'jours', b'apr\\xc3\\xa8s', b'le', b'd\\xc3\\xa9c\\xc3\\xa8s', b'de', b'son', b'pr\\xc3\\xa9d\\xc3\\xa9cesseur', b'thomas', b'klestil', b'le', b'fischer', b'\\xc3\\xa9tait', b'r\\xc3\\xa9\\xc3\\xa9lu', b'avec', b'des', b'voix', b'pour', b'un', b'nouveau', b'mandat', b'de', b'ans', b'autriche', b'est', b'un', b'pays', b'observateur', b'au', b'sein', b'de', b'organisation', b'internationale', b'de', b'la', b'francophonie', b'bundesl\\xc3\\xa4nder', b'\\xc3\\xa9tats', b'cartes', b'des', b'\\xc3\\xa9tats', b'autrichiens', b'autriche', b'est', b'une', b'r\\xc3\\xa9publique', b'f\\xc3\\xa9d\\xc3\\xa9rant', b'neuf', b'\\xc3\\xa9tats', b'ou', b'bundesl\\xc3\\xa4nder', b'basse', b'autriche', b'dont', b'la', b'capitale', b'est', b'sankt', b'p\\xc3\\xb6lten', b'depuis', b'la', b'cr\\xc3\\xa9ation', b'du', b'land', b'de', b'vienne', b'burgenland', b'dont', b'la', b'capitale', b'est', b'eisenstadt', b'carinthie', b'dont', b'la', b'capitale', b'est', b'klagenfurt', b'haute', b'autriche', b'dont', b'la', b'capitale', b'est', b'linz', b'salzbourg', b'dont', b'la', b'capitale', b'est', b'salzbourg', b'styrie', b'dont', b'la', b'capitale', b'est', b'graz', b'tyrol', b'dont', b'la', b'capitale', b'est', b'innsbruck', b'vienne', b'ville', b'land', b'et', b'capitale', b'f\\xc3\\xa9d\\xc3\\xa9rale', b'vorarlberg', b'dont', b'la', b'capitale', b'est', b'bregenz', b'villes', b'principales', b'villes', b'autriche', b'nom', b'land', b'pop', b'nom', b'land', b'pop', b'vienne', b'vienne', b'wiener', b'neustadt', b'basse', b'autriche', b'graz', b'styrie', b'steyr', b'haute', b'autriche', b'linz', b'haute', b'autriche', b'feldkirch', b'vorarlberg', b'salzbourg', b'salzbourg', b'bregenz', b'innsbruck', b'tyrol', b'klosterneuburg', b'basse', b'autriche', b'klagenfurt', b'carinthie', b'leonding', b'haute', b'autriche', b'villach', b'baden', b'basse', b'autriche', b'wels', b'haute', b'autriche', b'wolfsberg', b'carinthie', b'sankt', b'p\\xc3\\xb6lten', b'basse', b'autriche', b'leoben', b'styrie', b'dornbirn', b'vorarlberg', b'krems', b'basse', b'autriche', b'estimation', b'de', b'\\xc3\\xa9conomie', b'panorama', b'urbain', b'de', b'vienne', b'taux', b'de', b'ch\\xc3\\xb4mage', b'pib', b'produit', b'int\\xc3\\xa9rieur', b'brut', b'en', b'parit\\xc3\\xa9', b'de', b'pouvoir', b'achat', b'milliards', b'de', b'dollars', b'pib', b'par', b'habitant', b'pib', b'composition', b'par', b'secteur', b'en', b'primaire', b'agriculture', b'de', b'la', b'population', b'active', b'secondaire', b'industries', b'de', b'la', b'population', b'active', b'tertiaire', b'services', b'de', b'la', b'population', b'active', b'gr\\xc3\\xa2ce', b'notamment', b'au', b'poids', b'important', b'des', b'soci\\xc3\\xa9t\\xc3\\xa9s', b'sp\\xc3\\xa9cialis\\xc3\\xa9es', b'dans', b'la', b'sous', b'traitance', b'autriche', b'est', b'essentiellement', b'un', b'pays', b'de', b'petites', b'et', b'moyennes', b'entreprises', b'les', b'secteurs', b'cl\\xc3\\xa9s', b'de', b'industrie', b'autrichienne', b'industrie', b'chimique', b'cellulose', b'p\\xc3\\xa9trochimie', b'industrie', b'textile', b'et', b'de', b'habillement', b'haut', b'de', b'gamme', b'industrie', b'du', b'papier', b'et', b'du', b'carton', b'p\\xc3\\xa2te', b'gr\\xc3\\xa2ce', b'aux', b'ressources', b'foresti\\xc3\\xa8res', b'tr\\xc3\\xa8s', b'abondantes', b'industrie', b'\\xc3\\xa9lectrique', b'et', b'\\xc3\\xa9lectronique', b'plus', b'de', b'entreprises', b'fabriquent', b'des', b'composants', b'\\xc3\\xa9lectriques', b'ou', b'\\xc3\\xa9lectroniques', b'de', b'la', b'puce', b'jusqu', b'la', b'centrale', b'\\xc3\\xa9lectrique', b'livr\\xc3\\xa9e', b'cl\\xc3\\xa9s', b'en', b'main', b'agroalimentaire', b'largement', b'b\\xc3\\xa9n\\xc3\\xa9fici\\xc3\\xa9', b'de', b'int\\xc3\\xa9gration', b'europ\\xc3\\xa9enne', b'industrie', b'm\\xc3\\xa9tallurgique', b'et', b'm\\xc3\\xa9canique', b'le', b'secteur', b'phare', b'\\xc3\\xa9tant', b'donn\\xc3\\xa9', b'que', b'autriche', b'est', b'un', b'pays', b'exportateur', b'de', b'machines', b'outils', b'g\\xc3\\xa9ographie', b'carte', b'des', b'reliefs', b'et', b'principales', b'grandes', b'villes', b'de', b'autriche', b'les', b'trois', b'plus', b'grandes', b'villes', b'sont', b'dans', b'ordre', b'vienne', b'graz', b'et', b'linz', b'les', b'alpes', b'occupent', b'les', b'deux', b'tiers', b'de', b'la', b'surface', b'au', b'sol', b'de', b'autriche', b'le', b'point', b'le', b'plus', b'haut', b'est', b'le', b'grossglockner', b'qui', b'\\xc3\\xa9l\\xc3\\xa8ve', b'm\\xc3\\xa8tres', b'le', b'fleuve', b'le', b'plus', b'long', b'est', b'le', b'danube', b'qui', b'traverse', b'\\xc3\\xa9galement', b'allemagne', b'la', b'slovaquie', b'la', b'hongrie', b'la', b'croatie', b'la', b'serbie', b'la', b'bulgarie', b'la', b'roumanie', b'la', b'moldavie', b'et', b'ukraine', b'son', b'parcours', b'en', b'autriche', b'\\xc3\\xa9tend', b'sur', b'fichier', b'spitalskirche', b'zum', b'hl', b'geist', b'jpg', b'thumb', b'px', b'innsbruck', b'd\\xc3\\xa9mographie', b'avec', b'une', b'population', b'estim\\xc3\\xa9e', b'habitants', b'fin', b'septembre', b'autriche', b'affiche', b'une', b'croissance', b'de', b'plus', b'de', b'r\\xc3\\xa9sidents', b'depuis', b'fin', b'd\\xc3\\xa9cembre', b'la', b'croissance', b'fut', b'de', b'habitants', b'en', b'le', b'taux', b'moyen', b'de', b'observ\\xc3\\xa9', b'en', b'\\xc3\\xa9tait', b'cinq', b'fois', b'sup\\xc3\\xa9rieur', b'au', b'taux', b'fort', b'bas', b'affich\\xc3\\xa9', b'au', b'milieu', b'des', b'ann\\xc3\\xa9es', b'mais', b'instar', b'de', b'tous', b'ses', b'voisins', b'le', b'pays', b'fait', b'en', b'r\\xc3\\xa9alit\\xc3\\xa9', b'partie', b'du', b'groupe', b'de', b'pays', b'europe', b'centro', b'm\\xc3\\xa9ridionale', b'bas', b'taux', b'de', b'f\\xc3\\xa9condit\\xc3\\xa9', b'en', b'exc\\xc3\\xa9dent', b'des', b'naissances', b'est', b'tr\\xc3\\xa8s', b'faible', b'de', b'personnes', b'ces', b'derni\\xc3\\xa8res', b'ann\\xc3\\xa9es', b'et', b'd\\xc3\\xbb', b'totalement', b'exc\\xc3\\xa9dent', b'naturel', b'des', b'\\xc3\\xa9trangers', b'la', b'totalit\\xc3\\xa9', b'de', b'accroissement', b'de', b'la', b'population', b'constat\\xc3\\xa9', b'est', b'd\\xc3\\xbb', b'une', b'nouvelle', b'vague', b'immigration', b'sur', b'naissances', b'en', b'plus', b'de', b'\\xc3\\xa9taient', b'de', b'nationalit\\xc3\\xa9', b'\\xc3\\xa9trang\\xc3\\xa8re', b'et', b'bien', b'plus', b'encore', b'en', b'comptant', b'les', b'naissances', b'li\\xc3\\xa9es', b'des', b'parents', b'immigr\\xc3\\xa9s', b'ou', b'\\xc3\\xa9trangers', b'fra\\xc3\\xaechement', b'naturalis\\xc3\\xa9s', b'le', b'flux', b'immigration', b'nette', b'd\\xc3\\xa9pass\\xc3\\xa9', b'personnes', b'en', b'comme', b'en', b'le', b'niveau', b'des', b'acquisitions', b'de', b'la', b'nationalit\\xc3\\xa9', b'autrichienne', b'est', b'\\xc3\\xa9lev\\xc3\\xa9', b'surtout', b'chez', b'les', b'jeunes', b'et', b'atteint', b'pr\\xc3\\xa8s', b'de', b'\\xc3\\xa9trangers', b'en', b'apr\\xc3\\xa8s', b'des', b'ann\\xc3\\xa9es', b'et', b'records', b'et', b'autriche', b'interdit', b'cependant', b'de', b'travailler', b'aux', b'citoyens', b'qui', b'ont', b'pas', b'de', b'nationalit\\xc3\\xa9', b'de', b'ue', b'afin', b'de', b'freiner', b'immigration', b'esp\\xc3\\xa9rance', b'de', b'vie', b'en', b'autriche', b'\\xc3\\xa9l\\xc3\\xa8ve', b'ans', b'pour', b'les', b'femmes', b'et', b'ans', b'pour', b'les', b'hommes', b'infrastructures', b'transports', b'autoroute', b'proximit\\xc3\\xa9', b'de', b'vienne', b'gare', b'centrale', b'de', b'linz', b'fichier', b'l\\xc3\\xa4ngenfeldgasse', b'jpg', b'thumb', b'm\\xc3\\xa9tro', b'de', b'vienne', b'fichier', b'austria', b'fischamend', b'markt', b'jpg', b'thumb', b'a\\xc3\\xa9roport', b'de', b'vienne', b'fichier', b'guentherz', b'schiff', b'in', b'wien', b'img', b'jpg', b'thumb', b'le', b'danube', b'vienne', b'infrastructure', b'de', b'transports', b'autrichienne', b'est', b'li\\xc3\\xa9e', b'directement', b'sa', b'situation', b'une', b'part', b'au', b'sein', b'des', b'alpes', b'et', b'autre', b'part', b'sa', b'situation', b'de', b'carrefour', b'du', b'centre', b'de', b'europe', b'centrale', b'que', b'ce', b'soit', b'du', b'point', b'de', b'vue', b'des', b'liaisons', b'routi\\xc3\\xa8res', b'autant', b'que', b'ferroviaires', b'am\\xc3\\xa9nagement', b'de', b'voies', b'de', b'communication', b'dans', b'les', b'alpes', b'n\\xc3\\xa9cessite', b'de', b'nombreux', b'tunnels', b'et', b'ponts', b'ayant', b'pour', b'de', b'devoir', b'r\\xc3\\xa9sister', b'des', b'conditions', b'm\\xc3\\xa9t\\xc3\\xa9orologiques', b'extr\\xc3\\xaames', b'du', b'fait', b'de', b'sa', b'situation', b'centrale', b'autriche', b'constitue', b'un', b'pays', b'de', b'transit', b'principalement', b'pour', b'les', b'axes', b'nord', b'sud', b'et', b'nord', b'sud', b'est', b'et', b'depuis', b'la', b'chute', b'du', b'rideau', b'de', b'fer', b'\\xc3\\xa9galement', b'pour', b'axe', b'est', b'ouest', b'cela', b'implique', b'ainsi', b'un', b'net', b'des', b'voies', b'de', b'communication', b'notamment', b'dans', b'des', b'zones', b'\\xc3\\xa9cologiques', b'sensibles', b'soulevant', b'souvent', b'des', b'protestations', b'de', b'la', b'part', b'de', b'la', b'population', b'pour', b'faire', b'face', b'cette', b'difficile', b'combinaison', b'int\\xc3\\xa9r\\xc3\\xaats', b'la', b'fois', b'\\xc3\\xa9conomiques', b'et', b'\\xc3\\xa9cologiques', b'certaines', b'mesures', b'ont', b'\\xc3\\xa9t\\xc3\\xa9', b'rendues', b'n\\xc3\\xa9cessaires', b'contribuant', b'faire', b'de', b'autriche', b'un', b'pays', b'aux', b'avant', b'postes', b'de', b'la', b'protection', b'la', b'r\\xc3\\xa9publique', b'alpine', b'par', b'exemple', b'tr\\xc3\\xa8s', b't\\xc3\\xb4t', b'impos\\xc3\\xa9', b'utilisation', b'de', b'pots', b'catalytiques', b'sur', b'les', b'v\\xc3\\xa9hicules', b'motoris\\xc3\\xa9s', b'certaines', b'voies', b'de', b'circulation', b'ne', b'sont', b'ouvertes', b'qu', b'aux', b'camions', b'la', b'nuisance', b'sonore', b'r\\xc3\\xa9duite', b'diverses', b'd\\xc3\\xa9r\\xc3\\xa9gulations', b'ont', b'toutefois', b'entra\\xc3\\xaen\\xc3\\xa9', b'principalement', b'parmi', b'certaines', b'populations', b'telles', b'que', b'celles', b'de', b'la', b'vall\\xc3\\xa9e', b'de', b'inn', b'un', b'sentiment', b'\\xc3\\xaatre', b'oubli\\xc3\\xa9es', b'par', b'les', b'instances', b'de', b'r\\xc3\\xa9gulation', b'agissant', b'aux', b'niveaux', b'nationaux', b'et', b'internationaux', b'notamment', b'par', b'union', b'europ\\xc3\\xa9enne', b'transport', b'routier', b'le', b'r\\xc3\\xa9seau', b'routier', b'autrichien', b'se', b'compose', b'actuellement', b'de', b'autoroutes', b'autobahnen', b'et', b'voies', b'rapides', b'de', b'routes', b'caract\\xc3\\xa8re', b'prioritaires', b'anciennement', b'routes', b'f\\xc3\\xa9d\\xc3\\xa9rales', b'ou', b'bundesstra\\xc3\\x9fen', b'km', b'de', b'routes', b'r\\xc3\\xa9gionales', b'landesstra\\xc3\\x9fen', b'km', b'de', b'routes', b'communales', b'gemeindestra\\xc3\\x9fen', b'le', b'r\\xc3\\xa9seau', b'routier', b'est', b'entretenu', b'principalement', b'par', b'\\xc3\\xa9tat', b'une', b'taxe', b'sur', b'les', b'v\\xc3\\xa9hicules', b'existe', b'sur', b'le', b'r\\xc3\\xa9seau', b'autoroutier', b'sous', b'la', b'forme', b'de', b'vignette', b'obligatoire', b'en', b'pour', b'une', b'vignette', b'annuelle', b'les', b'camions', b'doivent', b'payer', b'une', b'redevance', b'kilom\\xc3\\xa9trique', b'maximum', b'km', b'la', b'soci\\xc3\\xa9t\\xc3\\xa9', b'transport', b'ferroviaire', b'la', b'majorit\\xc3\\xa9', b'du', b'r\\xc3\\xa9seau', b'ferroviaire', b'est', b'g\\xc3\\xa9r\\xc3\\xa9e', b'par', b'la', b'soci\\xc3\\xa9t\\xc3\\xa9', b'\\xc3\\xb6bb', b'\\xc3\\xb6sterreichische', b'bundesbahnen', b'autres', b'entreprises', b'sont', b'\\xc3\\xa9galement', b'pr\\xc3\\xa9sentes', b'dans', b'le', b'transport', b'ferr\\xc3\\xa9', b'autrichien', b'd\\xc3\\xa9tenues', b'soit', b'par', b'les', b'l\\xc3\\xa4nder', b'soit', b'par', b'le', b'secteur', b'priv\\xc3\\xa9', b'en', b'pr\\xc3\\xa8s', b'de', b'millions', b'de', b'passagers', b'ont', b'emprunt\\xc3\\xa9', b'le', b'r\\xc3\\xa9seau', b'ferroviaire', b'autrichien', b'soit', b'une', b'augmentation', b'de', b'millions', b'par', b'rapport', b'cette', b'croissance', b'rapide', b'ainsi', b'que', b'des', b'investissements', b'insuffisants', b'ont', b'oblig\\xc3\\xa9', b'\\xc3\\xb6bb', b'louer', b'des', b'voitures', b'suppl\\xc3\\xa9mentaires', b'aupr\\xc3\\xa8s', b'de', b'ses', b'partenaires', b'allemands', b'suisses', b'italiens', b'roumains', b'hongrois', b'et', b'polonais', b'afin', b'de', b'faire', b'face', b'la', b'demande', b'notamment', b'lors', b'des', b'vacances', b'de', b'no\\xc3\\xabl', b'la', b'moyenne', b'\\xc3\\xa2ge', b'des', b'voitures', b'de', b'\\xc3\\xb6bb', b'est', b'de', b'ans', b'le', b'transport', b'de', b'camions', b'par', b'voie', b'ferr\\xc3\\xa9e', b'\\xc3\\xa9galement', b'connu', b'sous', b'le', b'terme', b'de', b'transport', b'combin\\xc3\\xa9', b'ou', b'ferroutage', b'est', b'en', b'd\\xc3\\xa9veloppement', b'rapide', b'la', b'travers\\xc3\\xa9e', b'du', b'tyrol', b'sur', b'rails', b'\\xc3\\xa9t\\xc3\\xa9', b'utilis\\xc3\\xa9e', b'par', b'pr\\xc3\\xa8s', b'de', b'camions', b'en', b'soit', b'une', b'augmentation', b'de', b'du', b'trafic', b'gr\\xc3\\xa2ce', b'en', b'partie', b'importantes', b'subventions', b'de', b'la', b'part', b'de', b'\\xc3\\xa9tat', b'f\\xc3\\xa9d\\xc3\\xa9ral', b'autrichien', b'et', b'selon', b'\\xc3\\xb6bb', b'ce', b'mode', b'de', b'transport', b'reviendrait', b'environ', b'moins', b'cher', b'aux', b'transporteurs', b'et', b'permet', b'de', b'plus', b'aux', b'chauffeurs', b'de', b'mieux', b'respecter', b'leurs', b'temps', b'de', b'pause', b'r\\xc3\\xa9glementaires', b'un', b'r\\xc3\\xa9seau', b'de', b'bahn', b'\\xc3\\xa9quivalent', b'aux', b'trains', b'rer', b'fran\\xc3\\xa7ais', b'est', b'd\\xc3\\xa9ploy\\xc3\\xa9', b'actuellement', b'que', b'dans', b'les', b'r\\xc3\\xa9gions', b'entourant', b'vienne', b'et', b'salzbourg', b'graz', b'linz', b'et', b'innsbruck', b'ont', b'des', b'projets', b'de', b'tels', b'r\\xc3\\xa9seaux', b'vienne', b'est', b'la', b'seule', b'ville', b'autrichienne', b'\\xc3\\xaatre', b'\\xc3\\xa9quip\\xc3\\xa9e', b'un', b'v\\xc3\\xa9ritable', b'r\\xc3\\xa9seau', b'de', b'm\\xc3\\xa9tro', b'bahn', b'certaines', b'stations', b'du', b'r\\xc3\\xa9seau', b'de', b'tramway', b'de', b'linz', b'se', b'trouvent', b'sous', b'terre', b'les', b'villes', b'de', b'vienne', b'graz', b'linz', b'innsbruck', b'et', b'gmunden', b'poss\\xc3\\xa8dent', b'\\xc3\\xa9galement', b'un', b'r\\xc3\\xa9seau', b'de', b'tramway', b'le', b'village', b'de', b'serfaus', b'situ\\xc3\\xa9', b'dans', b'le', b'tyrol', b'poss\\xc3\\xa8de', b'une', b'souterraine', b'parfois', b'consid\\xc3\\xa9r\\xc3\\xa9', b'comme', b'le', b'm\\xc3\\xa9tro', b'le', b'plus', b'petit', b'au', b'monde', b'forces', b'arm\\xc3\\xa9es', b'culture', b'autriche', b'donn\\xc3\\xa9', b'le', b'jour', b'de', b'nombreux', b'artistes', b'c\\xc3\\xa9l\\xc3\\xa8bres', b'comme', b'les', b'compositeurs', b'wolfgang', b'amadeus', b'mozart', b'franz', b'schubert', b'johann', b'strauss', b'p\\xc3\\xa8re', b'et', b'fils', b'anton', b'bruckner', b'et', b'gustav', b'mahler', b'les', b'actrices', b'hedy', b'lamarr', b'et', b'romy', b'schneider', b'les', b'peintres', b'egon', b'schiele', b'et', b'gustav', b'klimt', b'les', b'\\xc3\\xa9crivains', b'arthur', b'schnitzler', b'thomas', b'bernhard', b'ingeborg', b'bachmann', b'elfriede', b'jelinek', b'et', b'robert', b'musil', b'les', b'architectes', b'adolf', b'loos', b'otto', b'wagner', b'josef', b'hoffmann', b'beaucoup', b'ont', b'\\xc3\\xa9migr\\xc3\\xa9', b'la', b'fin', b'des', b'ann\\xc3\\xa9es', b'et', b'ont', b'connu', b'la', b'notori\\xc3\\xa9t\\xc3\\xa9', b'dans', b'des', b'pays', b'\\xc3\\xa9trangers', b'\\xc3\\xa9crivain', b'stefan', b'zweig', b'historien', b'art', b'la', b'peintre', b'mariette', b'lydis', b'le', b'compositeur', b'arnold', b'schoenberg', b'le', b'musicien', b'erich', b'wolfgang', b'korngold', b'les', b'cin\\xc3\\xa9astes', b'max', b'reinhardt', b'michael', b'haneke', b'la', b'chor\\xc3\\xa9graphe', b'margarethe', b'wallmann', b'acteur', b'arnold', b'schwarzenegger', b'et', b'beaucoup', b'autres', b'langues', b'la', b'langue', b'officielle', b'de', b'autriche', b'est', b'allemand', b'avec', b'une', b'prononciation', b'diff\\xc3\\xa9rente', b'ainsi', b'qu', b'un', b'lexique', b'diff\\xc3\\xa9rent', b'de', b'celui', b'parl\\xc3\\xa9', b'en', b'allemagne', b'la', b'langue', b'maternelle', b'de', b'de', b'la', b'population', b'du', b'pays', b'soit', b'personnes', b'sur', b'autrichiens', b'religions', b'religion', b'en', b'autriche', b'ann\\xc3\\xa9e', b'population', b'catholiques', b'luth\\xc3\\xa9riens', b'en', b'des', b'autrichiens', b'\\xc3\\xa9taient', b'catholiques', b'protestants', b'luth\\xc3\\xa9riens', b'musulmans', b'autres', b'et', b'sans', b'religion', b'les', b'al\\xc3\\xa9vis', b'bektachi', b'sont', b'environ', b'en', b'autriche', b'en', b'\\xc3\\xa9tat', b'autrichien', b'officiellement', b'reconnu', b'al\\xc3\\xa9visme', b'comme', b'un', b'culte', b'les', b'cemevi', b'ont', b'un', b'statut', b'l\\xc3\\xa9gal', b'les', b'chefs', b'religieux', b'sont', b'reconnus', b'par', b'\\xc3\\xa9tat', b'les', b'jours', b'sacr\\xc3\\xa9s', b'kurban', b'ashura', b'hizir', b'et', b'newroz', b'des', b'al\\xc3\\xa9vis', b'sont', b'devenus', b'des', b'jours', b'f\\xc3\\xa9ri\\xc3\\xa9s', b'et', b'des', b'masters', b'sur', b'al\\xc3\\xa9visme', b'sont', b'mis', b'en', b'place', b'en', b'le', b'nombre', b'de', b'musulmans', b'\\xc3\\xa9tablit', b'pr\\xc3\\xa8s', b'de', b'provenant', b'principalement', b'de', b'bosnie', b'et', b'de', b'turquie', b't\\xc3\\xa9l\\xc3\\xa9vision', b't\\xc3\\xa9l\\xc3\\xa9vision', b'en', b'autriche', b'cha\\xc3\\xaenes', b'de', b't\\xc3\\xa9l\\xc3\\xa9vision', b'en', b'autriche', b'musique', b'classique', b'le', b'pays', b'compte', b'plusieurs', b'orchestres', b'de', b'renomm\\xc3\\xa9e', b'internationale', b'tels', b'le', b'concentus', b'musicus', b'wien', b'dirig\\xc3\\xa9', b'par', b'nikolaus', b'harnoncourt', b'et', b'surtout', b'orchestre', b'philharmonique', b'de', b'vienne', b'conduit', b'par', b'des', b'chefs', b'invit\\xc3\\xa9s', b'de', b'renom', b'litt\\xc3\\xa9rature', b'autrichienne', b'sport', b'personnalit\\xc3\\xa9s', b'fichier', b'wolfgang', b'amadeus', b'mozart', b'revert', b'jpg', b'thumb', b'px', b'wolfgang', b'amadeus', b'mozart', b'parmi', b'les', b'autres', b'autrichiens', b'c\\xc3\\xa9l\\xc3\\xa8bres', b'on', b'compte', b'les', b'compositeurs', b'franz', b'schubert', b'anton', b'bruckner', b'mozart', b'et', b'gustav', b'mahler', b'les', b'physiciens', b'ludwig', b'boltzmann', b'et', b'erwin', b'schr\\xc3\\xb6dinger', b'le', b'math\\xc3\\xa9maticien', b'kurt', b'g\\xc3\\xb6del', b'les', b'\\xc3\\xa9conomistes', b'ludwig', b'von', b'mises', b'et', b'friedrich', b'hayek', b'les', b'philosophes', b'karl', b'popper', b'et', b'ludwig', b'wittgenstein', b'le', b'psychanalyste', b'sigmund', b'freud', b'les', b'\\xc3\\xa9crivains', b'stefan', b'zweig', b'robert', b'musil', b'carl', b'zuckmayer', b'elfriede', b'jelinek', b'joseph', b'roth', b'ou', b'thomas', b'bernhard', b'les', b'peintres', b'gustav', b'klimt', b'egon', b'schiele', b'et', b'oskar', b'kokoschka', b'ainsi', b'que', b'acteur', b'et', b'homme', b'politique', b'arnold', b'schwarzenegger', b'actrice', b'romy', b'schneider', b'acteur', b'christoph', b'waltz', b'le', b'r\\xc3\\xa9alisateur', b'doublement', b'palm\\xc3\\xa9', b'cannes', b'michael', b'haneke', b'acteur', b'helmut', b'berger', b'mais', b'aussi', b'adolf', b'hitler', b'\\xc3\\xa9migr\\xc3\\xa9', b'en', b'allemagne', b'en', b'et', b'qui', b'demande', b'renoncer', b'sa', b'nationalit\\xc3\\xa9', b'autrichienne', b'le', b'avril', b'ou', b'encore', b'le', b'p\\xc3\\xa8re', b'fondateur', b'du', b'sionisme', b'theodor', b'herzl', b'situ\\xc3\\xa9e', b'dans', b'les', b'alpes', b'autriche', b'est', b'la', b'patrie', b'de', b'nombreux', b'skieurs', b'alpins', b'comme', b'toni', b'sailer', b'hermann', b'maier', b'annemarie', b'moser', b'pr\\xc3\\xb6ll', b'anita', b'wachter', b'et', b'benjamin', b'raich', b'avec', b'euro', b'organis\\xc3\\xa9', b'par', b'la', b'suisse', b'et', b'autriche', b'les', b'joueurs', b'de', b'\\xc3\\xa9quipe', b'nationale', b'de', b'football', b'ont', b'gagn\\xc3\\xa9', b'aussi', b'en', b'popularit\\xc3\\xa9', b'comme', b'andy', b'ivanschitz', b'jimmy', b'hoffer', b'ou', b'sebastian', b'pr\\xc3\\xb6dl', b'ce', b'petit', b'pays', b'parlant', b'aussi', b'donn\\xc3\\xa9', b'naissance', b'deux', b'champions', b'du', b'monde', b'de', b'formule', b'jochen', b'rindt', b'champion', b'en', b'titre', b'posthume', b'et', b'niki', b'lauda', b'champion', b'en', b'et', b'informations', b'pratiques', b'la', b'pratique', b'religieuse', b'\\xc3\\xa9tait', b'de', b'dans', b'les', b'ann\\xc3\\xa9es', b'fichier', b'wien', b'stephansdom', b'jpg', b'thumb', b'cath\\xc3\\xa9drale', b'saint', b'\\xc3\\xa9tienne', b'de', b'vienne', b'fichier', b'stift', b'goettweig', b'nordwestansicht', b'jpg', b'thumb', b'px', b'abbaye', b'de', b'g\\xc3\\xb6ttweig', b'f\\xc3\\xaates', b'et', b'jours', b'f\\xc3\\xa9ri\\xc3\\xa9s', b'date', b'remarques', b'nouvel', b'an', b'janvier', b'\\xc3\\xa9piphanie', b'\\xc3\\xa9piphanie', b'variable', b'dimanche', b'de', b'p\\xc3\\xa2ques', b'le', b'vendredi', b'saint', b'est', b'ch\\xc3\\xb4m\\xc3\\xa9', b'pour', b'les', b'protestants', b'lundi', b'de', b'p\\xc3\\xa2ques', b'f\\xc3\\xaate', b'du', b'travail', b'variable', b'ascension', b'jeudi', b'jours', b'apr\\xc3\\xa8s', b'p\\xc3\\xa2ques', b'pentec\\xc3\\xb4te', b'lundi', b'de', b'pentec\\xc3\\xb4te', b'f\\xc3\\xaate', b'dieu', b'jeudi', b'jours', b'apr\\xc3\\xa8s', b'la', b'pentec\\xc3\\xb4te', b'ao\\xc3\\xbbt', b'assomption', b'octobre', b'f\\xc3\\xaate', b'nationale', b'vote', b'de', b'la', b'loi', b'sur', b'la', b'neutralit\\xc3\\xa9', b'toussaint', b'd\\xc3\\xa9cembre', b'immacul\\xc3\\xa9e', b'conception', b'd\\xc3\\xa9cembre', b'no\\xc3\\xabl', b'd\\xc3\\xa9cembre', b'saint', b'\\xc3\\xa9tienne', b'd\\xc3\\xa9cembre', b'saint', b'sylvestre', b'photographies', b'paysages', b'image', b'neusiedler', b'see', b'podersdorf', b'jpg', b'lac', b'de', b'neusiedl', b'image', b'stadtteile', b'von', b'wien', b'entlang', b'der', b'donau', b'gesehen', b'von', b'nordwesten', b'jpg', b'bassin', b'de', b'vienne', b'image', b'durnstein', b'jpg', b'wachau', b'image', b'hallstatt', b'jpg', b'hallstatt', b'image', b'gro\\xc3\\x9fglockner', b'vom', b'fuscherkarkopf', b'jpg', b'grossglockner', b'villes', b'image', b'stephansdom', b'vienna', b'july', b'stephansdom', b'vienna', b'july', b'jpg', b'vienne', b'image', b'graz', b'rathaus', b'jpg', b'graz', b'image', b'aus', b'jpg', b'linz', b'image', b'salzburg', b'festung', b'hohensalzburg', b'jpg', b'salzbourg', b'fichier', b'innsbruck', b'oefotos', b'at', b'jpg', b'innsbruck', b'statistiques', b'fronti\\xc3\\xa8res', b'terrestres', b'allemagne', b'italie', b'hongrie', b'r\\xc3\\xa9publique', b'tch\\xc3\\xa8que', b'slov\\xc3\\xa9nie', b'suisse', b'slovaquie', b'liechtenstein', b'extr\\xc3\\xa9mit\\xc3\\xa9s', b'altitude', b'grossglockner', b'lignes', b'de', b't\\xc3\\xa9l\\xc3\\xa9phones', b'fixes', b'pour', b'habitants', b'en', b't\\xc3\\xa9l\\xc3\\xa9phones', b'portables', b'pour', b'habitants', b'en', b'postes', b'de', b'radio', b'millions', b'en', b'postes', b'de', b't\\xc3\\xa9l\\xc3\\xa9vision', b'millions', b'en', b'utilisateurs', b'internet', b'millions', b'en', b'nombre', b'de', b'fournisseurs', b'acc\\xc3\\xa8s', b'internet', b'en', b'routes', b'la', b'totalit\\xc3\\xa9', b'goudronn\\xc3\\xa9e', b'en', b'voies', b'ferr\\xc3\\xa9es', b'en', b'voies', b'navigables', b'en', b'nombre', b'a\\xc3\\xa9roports', b'dont', b'avec', b'des', b'pistes', b'goudronn\\xc3\\xa9es', b'en', b'codes', b'autriche', b'pour', b'codes', b'selon', b'la', b'liste', b'des', b'codes', b'internationaux', b'des', b'plaques', b'min\\xc3\\xa9ralogiques', b'at', b'selon', b'la', b'norme', b'iso', b'liste', b'des', b'codes', b'pays', b'code', b'alpha', b'at', b'selon', b'la', b'liste', b'des', b'domaines', b'nationaux', b'de', b'premier', b'niveau', b'country', b'code', b'top', b'level', b'domain', b'cctld', b'au', b'selon', b'la', b'liste', b'des', b'codes', b'pays', b'utilis\\xc3\\xa9s', b'par', b'otan', b'code', b'alpha', b'aut', b'selon', b'la', b'norme', b'iso', b'liste', b'des', b'codes', b'pays', b'code', b'alpha', b'aut', b'selon', b'la', b'liste', b'des', b'codes', b'pays', b'du', b'cio', b'aut', b'selon', b'la', b'liste', b'des', b'codes', b'pays', b'utilis\\xc3\\xa9s', b'par', b'otan', b'code', b'alpha', b'lo', b'selon', b'la', b'liste', b'des', b'pr\\xc3\\xa9fixes', b'des', b'codes', b'oaci', b'des', b'a\\xc3\\xa9roports', b'oe', b'selon', b'la', b'liste', b'des', b'pr\\xc3\\xa9fixes', b'oaci', b'immatriculation', b'des', b'a\\xc3\\xa9ronefs', b'notes', b'et', b'r\\xc3\\xa9f\\xc3\\xa9rences', b'voir', b'aussi', b'articles', b'connexes', b'cuisine', b'autrichienne', b'liste', b'des', b'journaux', b'autrichiens', b'schilling', b'autrichien', b'liens', b'externes', b'portail', b'de', b'administration', b'autrichienne', b'pr\\xc3\\xa9sidence', b'f\\xc3\\xa9d\\xc3\\xa9rale', b'autrichienne', b'portail', b'du', b'gouvernement', b'f\\xc3\\xa9d\\xc3\\xa9ral', b'autrichien', b'r\\xc3\\xa9sultat', b'des', b'\\xc3\\xa9lections', b'au', b'conseil', b'national', b'autrichien', b'depuis', b'office', b'du', b'tourisme', b'autriche']\n",
      "[b'arc', b'de', b'triomphe', b'en', b'arc', b'de', b'triomphe', b'de', b'\\xc3\\xa9toile', b'souvent', b'appel\\xc3\\xa9', b'simplement', b'arc', b'de', b'triomphe', b'dont', b'la', b'construction', b'd\\xc3\\xa9cid\\xc3\\xa9e', b'par', b'empereur', b'napol\\xc3\\xa9on', b'd\\xc3\\xa9buta', b'en', b'et', b'acheva', b'en', b'sous', b'louis', b'philippe', b'est', b'situ\\xc3\\xa9', b'paris', b'dans', b'le', b'arrondissement', b'il', b'\\xc3\\xa9l\\xc3\\xa8ve', b'au', b'centre', b'de', b'la', b'place', b'charles', b'de', b'gaulle', b'anciennement', b'place', b'de', b'\\xc3\\xa9toile', b'dans', b'axe', b'et', b'extr\\xc3\\xa9mit\\xc3\\xa9', b'ouest', b'de', b'avenue', b'des', b'champs', b'\\xc3\\xa9lys\\xc3\\xa9es', b'de', b'la', b'place', b'de', b'la', b'concorde', b'haut', b'de', b'large', b'de', b'et', b'profond', b'de', b'il', b'est', b'g\\xc3\\xa9r\\xc3\\xa9', b'par', b'le', b'centre', b'des', b'monuments', b'nationaux', b'la', b'hauteur', b'de', b'la', b'grande', b'vo\\xc3\\xbbte', b'est', b'de', b'et', b'sa', b'largeur', b'de', b'la', b'petite', b'vo\\xc3\\xbbte', b'mesure', b'de', b'haut', b'et', b'de', b'large', b'le', b'monument', b'p\\xc3\\xa8se', b'en', b'prenant', b'en', b'compte', b'les', b'fondations', b'qui', b'enfoncent', b'de', b'profondeur', b'le', b'co\\xc3\\xbbt', b'total', b'de', b'la', b'construction', b'est', b'de', b'la', b'place', b'de', b'\\xc3\\xa9toile', b'forme', b'un', b'\\xc3\\xa9norme', b'rond', b'point', b'de', b'douze', b'avenues', b'perc\\xc3\\xa9es', b'au', b'sous', b'impulsion', b'du', b'baron', b'haussmann', b'alors', b'pr\\xc3\\xa9fet', b'du', b'd\\xc3\\xa9partement', b'de', b'la', b'seine', b'ces', b'avenues', b'rayonnent', b'en', b'\\xc3\\xa9toile', b'autour', b'de', b'la', b'place', b'notamment', b'avenue', b'kl\\xc3\\xa9ber', b'avenue', b'de', b'la', b'grande', b'arm\\xc3\\xa9e', b'avenue', b'de', b'wagram', b'et', b'la', b'plus', b'connue', b'avenue', b'des', b'champs', b'\\xc3\\xa9lys\\xc3\\xa9es', b'des', b'pav\\xc3\\xa9s', b'de', b'couleurs', b'diff\\xc3\\xa9rentes', b'dessinent', b'sur', b'le', b'sol', b'de', b'la', b'place', b'deux', b'\\xc3\\xa9toiles', b'dont', b'les', b'pointes', b'arrivent', b'pour', b'une', b'au', b'milieu', b'des', b'avenues', b'pour', b'autre', b'entre', b'les', b'avenues', b'ce', b'site', b'est', b'desservi', b'par', b'la', b'station', b'de', b'm\\xc3\\xa9tro', b'charles', b'de', b'gaulle', b'\\xc3\\xa9toile', b'histoire', b'napol\\xc3\\xa9on', b'au', b'lendemain', b'de', b'la', b'bataille', b'austerlitz', b'd\\xc3\\xa9clare', b'aux', b'soldats', b'fran\\xc3\\xa7ais', b'vous', b'ne', b'rentrerez', b'dans', b'vos', b'foyers', b'que', b'sous', b'des', b'arcs', b'de', b'triomphe', b'et', b'par', b'un', b'd\\xc3\\xa9cret', b'imp\\xc3\\xa9rial', b'en', b'date', b'du', b'ordonne', b'la', b'construction', b'de', b'cet', b'arc', b'de', b'triomphe', b'consacr\\xc3\\xa9', b'perp\\xc3\\xa9tuer', b'le', b'souvenir', b'des', b'victoires', b'des', b'arm\\xc3\\xa9es', b'fran\\xc3\\xa7aises', b'son', b'projet', b'initial', b'est', b'\\xc3\\xa9riger', b'le', b'monument', b'entr\\xc3\\xa9e', b'des', b'boulevards', b'pr\\xc3\\xa8s', b'du', b'lieu', b'o\\xc3\\xb9', b'\\xc3\\xa9tait', b'la', b'bastille', b'de', b'mani\\xc3\\xa8re', b'qu', b'en', b'entrant', b'dans', b'le', b'faubourg', b'saint', b'antoine', b'on', b'passe', b'sous', b'cet', b'arc', b'de', b'triomphe', b'il', b'veut', b'ainsi', b'en', b'faire', b'le', b'point', b'de', b'd\\xc3\\xa9part', b'une', b'avenue', b'triomphale', b'traversant', b'notamment', b'le', b'louvre', b'et', b'la', b'place', b'de', b'la', b'bastille', b'le', b'ministre', b'de', b'int\\xc3\\xa9rieur', b'champagny', b'avise', b'empereur', b'que', b'le', b'choix', b'de', b'la', b'bastille', b'serait', b'dispendieux', b'et', b'le', b'convainc', b'\\xc3\\xa9riger', b'arc', b'ouest', b'de', b'paris', b'sur', b'la', b'place', b'de', b'\\xc3\\xa9toile', b'qui', b'permettait', b'le', b'd\\xc3\\xa9gagement', b'de', b'belles', b'perspectives', b'le', b'comte', b'jean', b'b\\xc3\\xa9renger', b'conseiller', b'\\xc3\\xa9tat', b'se', b'charge', b'du', b'financement', b'comme', b'directeur', b'g\\xc3\\xa9n\\xc3\\xa9ral', b'de', b'la', b'caisse', b'amortissement', b'le', b'd\\xc3\\xa9cret', b'imp\\xc3\\xa9rial', b'du', b'f\\xc3\\xa9vrier', b'qui', b'ordonne', b'\\xc3\\xa9rection', b'un', b'arc', b'de', b'triomphe', b'pr\\xc3\\xa9voit', b'en', b'effet', b'que', b'sera', b'pris', b'un', b'million', b'pour', b'cet', b'objet', b'sur', b'les', b'contributions', b'provenant', b'de', b'la', b'grande', b'arm\\xc3\\xa9e', b'la', b'caisse', b'amortissement', b'tiendra', b'chaque', b'mois', b'dater', b'du', b'mars', b'une', b'somme', b'de', b'cinquante', b'mille', b'francs', b'la', b'disposition', b'du', b'futur', b'architecte', b'et', b'celle', b'de', b'quinze', b'mille', b'francs', b'pour', b'les', b'travaux', b'art', b'et', b'de', b'sculpture', b'inscriptions', b'int\\xc3\\xa9rieur', b'de', b'arc', b'de', b'triomphe', b'relatant', b'la', b'construction', b'du', b'monument', b'chalgrin', b'pour', b'arc', b'de', b'triomphe', b'de', b'\\xc3\\xa9toile', b'projet', b'de', b'chalgrin', b'pour', b'arc', b'de', b'triomphe', b'la', b'barri\\xc3\\xa8re', b'de', b'\\xc3\\xa9toile', b'pour', b'la', b'conception', b'du', b'monument', b'architecte', b'jean', b'fran\\xc3\\xa7ois', b'th\\xc3\\xa9r\\xc3\\xa8se', b'chalgrin', b'est', b'en', b'concurrence', b'avec', b'son', b'confr\\xc3\\xa8re', b'jean', b'arnaud', b'raymond', b'charg\\xc3\\xa9', b'de', b'collaborer', b'avec', b'lui', b'le', b'premier', b'souhaite', b'orner', b'arc', b'de', b'colonnes', b'isol\\xc3\\xa9es', b'tandis', b'que', b'le', b'second', b'les', b'veut', b'engag\\xc3\\xa9es', b'incompatibilit\\xc3\\xa9', b'de', b'ces', b'deux', b'conceptions', b'rendant', b'impossible', b'toute', b'collaboration', b'entre', b'les', b'deux', b'architectes', b'un', b'arbitrage', b'rendu', b'par', b'champagny', b'ministre', b'de', b'int\\xc3\\xa9rieur', b'force', b'raymond', b'se', b'retirer', b'honorablement', b'chalgrin', b'supprime', b'alors', b'les', b'colonnes', b'de', b'son', b'projet', b'et', b'inspire', b'de', b'arc', b't\\xc3\\xa9trapyle', b'de', b'janus', b'et', b'de', b'arc', b'de', b'titus', b'rome', b'alors', b'en', b'pleine', b'restauration', b'la', b'premi\\xc3\\xa8re', b'pierre', b'en', b'forme', b'de', b'bouclier', b'portant', b'une', b'inscription', b'est', b'pos\\xc3\\xa9e', b'le', b'ao\\xc3\\xbbt', b'et', b'recouverte', b'une', b'plaque', b'en', b'bronze', b'pour', b'la', b'prot\\xc3\\xa9ger', b'les', b'fondations', b'un', b'massif', b'de', b'm\\xc3\\xa8tres', b'de', b'longueur', b'sur', b'm\\xc3\\xa8tres', b'de', b'largeur', b'et', b'm\\xc3\\xa8tres', b'de', b'profondeur', b'exigent', b'deux', b'ann\\xc3\\xa9es', b'de', b'chantier', b'en', b'les', b'quatre', b'piles', b'\\xc3\\xa9l\\xc3\\xa8vent', b'environ', b'un', b'm\\xc3\\xa8tre', b'au', b'dessus', b'du', b'sol', b'occasion', b'de', b'son', b'mariage', b'avec', b'archiduchesse', b'marie', b'louise', b'et', b'de', b'entr\\xc3\\xa9e', b'de', b'celle', b'ci', b'dans', b'paris', b'empereur', b'd\\xc3\\xa9l\\xc3\\xa8gue', b'des', b'cr\\xc3\\xa9dits', b'qui', b'permettent', b'chalgrin', b'de', b'construire', b'une', b'maquette', b'en', b'vraie', b'grandeur', b'en', b'charpente', b'stuc', b'et', b'toiles', b'peintes', b'qui', b'restent', b'assez', b'longtemps', b'en', b'place', b'et', b'sous', b'laquelle', b'la', b'princesse', b'passe', b'architecte', b'meurt', b'assez', b'subitement', b'en', b'suivi', b'huit', b'jours', b'apr\\xc3\\xa8s', b'lui', b'par', b'son', b'confr\\xc3\\xa8re', b'raymond', b'lors', b'des', b'premi\\xc3\\xa8res', b'd\\xc3\\xa9faites', b'napol\\xc3\\xa9oniennes', b'campagne', b'de', b'russie', b'en', b'et', b'des', b'\\xc3\\xa9v\\xc3\\xa8nements', b'de', b'arc', b'de', b'triomphe', b'est', b'\\xc3\\xa9lev\\xc3\\xa9', b'jusqu', b'aux', b'vo\\xc3\\xbbtes', b'imposte', b'de', b'la', b'grande', b'arcade', b'est', b'pos\\xc3\\xa9e', b'avec', b'la', b'assise', b'mais', b'la', b'construction', b'est', b'interrompue', b'puis', b'abandonn\\xc3\\xa9e', b'sous', b'la', b'restauration', b'louis', b'xviii', b'ne', b'reprend', b'la', b'construction', b'qu', b'en', b'avec', b'les', b'architectes', b'louis', b'robert', b'goust', b'puis', b'huyot', b'et', b'sous', b'la', b'direction', b'de', b'h\\xc3\\xa9ricart', b'de', b'thury', b'en', b'louis', b'philippe', b'reprend', b'la', b'pens\\xc3\\xa9e', b'initiale', b'de', b'napol\\xc3\\xa9on', b'mais', b'dans', b'un', b'esprit', b'de', b'r\\xc3\\xa9conciliation', b'associe', b'les', b'arm\\xc3\\xa9es', b'qui', b'ont', b'combattu', b'entre', b'est', b'louis', b'philippe', b'et', b'adolphe', b'thiers', b'qui', b'd\\xc3\\xa9cident', b'du', b'choix', b'des', b'th\\xc3\\xa8mes', b'et', b'des', b'sculpteurs', b'le', b'd\\xc3\\xa9part', b'des', b'volontaires', b'commun\\xc3\\xa9ment', b'appel\\xc3\\xa9', b'la', b'marseillaise', b'de', b'fran\\xc3\\xa7ois', b'rude', b'et', b'le', b'triomphe', b'de', b'napol\\xc3\\xa9on', b'de', b'jean', b'pierre', b'cortot', b'plus', b'spectaculaire', b'est', b'la', b'frise', b'situ\\xc3\\xa9e', b'au', b'sommet', b'de', b'arc', b'et', b'qui', b'se', b'divise', b'en', b'deux', b'parties', b'le', b'd\\xc3\\xa9part', b'des', b'arm\\xc3\\xa9es', b'et', b'le', b'retour', b'des', b'arm\\xc3\\xa9es', b'avec', b'une', b'longue', b'sc\\xc3\\xa8ne', b'centrale', b'la', b'gloire', b'de', b'la', b'nation', b'la', b'construction', b'est', b'finalement', b'reprise', b'et', b'achev\\xc3\\xa9e', b'entre', b'et', b'par', b'architecte', b'guillaume', b'abel', b'blouet', b'sous', b'louis', b'philippe', b'arc', b'de', b'triomphe', b'de', b'\\xc3\\xa9toile', b'est', b'inaugur\\xc3\\xa9', b'le', b'pour', b'le', b'sixi\\xc3\\xa8me', b'anniversaire', b'des', b'trois', b'glorieuses', b'au', b'd\\xc3\\xa9part', b'une', b'grande', b'revue', b'militaire', b'en', b'pr\\xc3\\xa9sence', b'de', b'louis', b'philippe', b'avait', b'\\xc3\\xa9t\\xc3\\xa9', b'pr\\xc3\\xa9vue', b'mais', b'alors', b'qu', b'il', b'venait', b'\\xc3\\xaatre', b'vis\\xc3\\xa9', b'par', b'un', b'nouvel', b'attentat', b'le', b'juin', b'le', b'pr\\xc3\\xa9sident', b'du', b'conseil', b'adolphe', b'thiers', b'convainc', b'le', b'roi', b'de', b'en', b'abstenir', b'la', b'revue', b'militaire', b'est', b'd\\xc3\\xa9command\\xc3\\xa9e', b'et', b'remplac\\xc3\\xa9e', b'par', b'un', b'grand', b'banquet', b'offert', b'par', b'le', b'roi', b'trois', b'cents', b'invit\\xc3\\xa9s', b'tandis', b'que', b'le', b'monument', b'est', b'inaugur\\xc3\\xa9', b'en', b'catimini', b'par', b'thiers', b'sept', b'heures', b'du', b'matin', b'en', b'honor\\xc3\\xa9', b'de', b'balzac', b'en', b'fait', b'un', b'symbole', b'de', b'la', b'fid\\xc3\\xa9lit\\xc3\\xa9', b'des', b'soldats', b'empereur', b'dans', b'esprit', b'des', b'concepteurs', b'le', b'sommet', b'de', b'arc', b'devait', b'\\xc3\\xaatre', b'couronn\\xc3\\xa9', b'par', b'un', b'groupe', b'sculpt\\xc3\\xa9', b'monumental', b'plusieurs', b'projets', b'dont', b'certains', b'tr\\xc3\\xa8s', b'fantaisistes', b'sont', b'pr\\xc3\\xa9sent\\xc3\\xa9s', b'la', b'france', b'victorieuse', b'un', b'aigle', b'colossal', b'napol\\xc3\\xa9on', b'sur', b'une', b'sph\\xc3\\xa8re', b'un', b'r\\xc3\\xa9servoir', b'eau', b'un', b'\\xc3\\xa9l\\xc3\\xa9phant', b'etc', b'en', b'un', b'quadrige', b'con\\xc3\\xa7u', b'par', b'le', b'sculpteur', b'alexandre', b'falgui\\xc3\\xa8re', b'est', b'install\\xc3\\xa9', b'sur', b'le', b'socle', b'laiss\\xc3\\xa9', b'vide', b'cette', b'maquette', b'en', b'charpente', b'et', b'en', b'pl\\xc3\\xa2tre', b'grandeur', b'naturelle', b'repr\\xc3\\xa9sente', b'une', b'all\\xc3\\xa9gorie', b'de', b'la', b'france', b'ou', b'de', b'la', b'r\\xc3\\xa9publique', b'tir\\xc3\\xa9e', b'par', b'un', b'char', b'antique', b'appr\\xc3\\xaatant', b'\\xc3\\xa9craser', b'anarchie', b'et', b'le', b'despotisme', b'la', b'sculpture', b'monumentale', b'baptis\\xc3\\xa9e', b'le', b'triomphe', b'de', b'la', b'r\\xc3\\xa9volution', b'est', b'enlev\\xc3\\xa9e', b'd\\xc3\\xa8s', b'car', b'elle', b'commence', b'se', b'd\\xc3\\xa9grader', b'son', b'remplacement', b'd\\xc3\\xa9finitif', b'par', b'un', b'bronze', b'ne', b'\\xc3\\xa9tant', b'jamais', b'fait', b'par', b'la', b'suite', b'arc', b'de', b'triomphe', b'de', b'\\xc3\\xa9toile', b'fait', b'objet', b'un', b'classement', b'au', b'titre', b'des', b'monuments', b'historiques', b'depuis', b'le', b'un', b'symbole', b'historique', b'arc', b'de', b'triomphe', b'vu', b'depuis', b'la', b'terrasse', b'publicis', b'fichier', b'arc', b'de', b'triomphe', b'paris', b'october', b'jpg', b'alt', b'vue', b'de', b'arc', b'depuis', b'la', b'tour', b'eiffel', b'thumb', b'un', b'acrot\\xc3\\xa8re', b'de', b'forme', b'ovo\\xc3\\xafde', b'flanqu\\xc3\\xa9', b'de', b'quatre', b'avant', b'corps', b'rectangulaires', b'surmonte', b'la', b'plate', b'forme', b'de', b'\\xc3\\xa9difice', b'fichier', b'trab', b'jpg', b'thumb', b'attique', b'est', b'couronn\\xc3\\xa9e', b'une', b'balustrade', b'compos\\xc3\\xa9e', b'de', b'masques', b't\\xc3\\xaate', b'de', b'm\\xc3\\xa9duse', b'et', b'de', b'palmettes', b'arc', b'de', b'triomphe', b'fait', b'maintenant', b'partie', b'des', b'monuments', b'nationaux', b'forte', b'connotation', b'historique', b'ses', b'pieds', b'se', b'trouve', b'la', b'tombe', b'du', b'soldat', b'inconnu', b'de', b'la', b'premi\\xc3\\xa8re', b'guerre', b'mondiale', b'depuis', b'extinction', b'de', b'la', b'flamme', b'des', b'vestales', b'en', b'elle', b'comm\\xc3\\xa9more', b'le', b'souvenir', b'des', b'soldats', b'morts', b'au', b'combat', b'et', b'ne', b'\\xc3\\xa9teint', b'jamais', b'elle', b'est', b'raviv\\xc3\\xa9e', b'chaque', b'soir', b'par', b'des', b'associations', b'anciens', b'combattants', b'ou', b'de', b'victimes', b'de', b'guerre', b'arc', b'de', b'triomphe', b'est', b'aussi', b'un', b'haut', b'lieu', b'symbolique', b'depuis', b'que', b'la', b'd\\xc3\\xa9pouille', b'du', b'soldat', b'inconnu', b'\\xc3\\xa9t\\xc3\\xa9', b'inhum\\xc3\\xa9e', b'le', b'janvier', b'deux', b'ans', b'plus', b'tard', b'andr\\xc3\\xa9', b'maginot', b'alors', b'ministre', b'de', b'la', b'guerre', b'soutient', b'le', b'projet', b'installer', b'une', b'flamme', b'du', b'souvenir', b'qui', b'est', b'allum\\xc3\\xa9e', b'pour', b'la', b'premi\\xc3\\xa8re', b'fois', b'le', b'novembre', b'par', b'le', b'ministre', b'ce', b'geste', b'de', b'ravivage', b'symbolique', b'\\xc3\\xa9t\\xc3\\xa9', b'accompli', b'chaque', b'soir', b'm\\xc3\\xaame', b'le', b'jour', b'o\\xc3\\xb9', b'arm\\xc3\\xa9e', b'allemande', b'est', b'entr\\xc3\\xa9e', b'dans', b'paris', b'et', b'd\\xc3\\xa9filait', b'sur', b'la', b'place', b'de', b'\\xc3\\xa9toile', b'ce', b'jour', b'l\\xc3\\xa0', b'le', b'ravivage', b'eu', b'lieu', b'devant', b'les', b'officiers', b'allemands', b'qui', b'ont', b'autoris\\xc3\\xa9', b'la', b'c\\xc3\\xa9r\\xc3\\xa9monie', b'en', b'f\\xc3\\xa9vrier', b'fut', b'inaugur\\xc3\\xa9e', b'la', b'nouvelle', b'sc\\xc3\\xa9nographie', b'permanente', b'de', b'arc', b'de', b'triomphe', b'due', b'artiste', b'maurice', b'benayoun', b'et', b'architecte', b'christophe', b'girault', b'renouvelant', b'exposition', b'des', b'ann\\xc3\\xa9es', b'cette', b'nouvelle', b'mus\\xc3\\xa9ographie', b'accorde', b'une', b'large', b'place', b'au', b'multim\\xc3\\xa9dia', b'intitul\\xc3\\xa9e', b'entre', b'guerres', b'et', b'paix', b'elle', b'propose', b'une', b'lecture', b'de', b'histoire', b'du', b'monument', b'prenant', b'en', b'compte', b'\\xc3\\xa9volution', b'de', b'sa', b'symbolique', b'jusqu', b'la', b'p\\xc3\\xa9riode', b'actuelle', b'p\\xc3\\xa9riode', b'o\\xc3\\xb9', b'les', b'valeurs', b'du', b'dialogue', b'et', b'de', b'la', b'rencontre', b'prennent', b'le', b'pas', b'sur', b'la', b'confrontation', b'arm\\xc3\\xa9e', b'une', b'pr\\xc3\\xa9sentation', b'multim\\xc3\\xa9dia', b'raconte', b'en', b'sept', b'stations', b'et', b'sur', b'trois', b'niveaux', b'histoire', b'du', b'monument', b'de', b'fa\\xc3\\xa7on', b'contemporaine', b'interactive', b'et', b'ludique', b'elle', b'permet', b'de', b'd\\xc3\\xa9couvrir', b'ce', b'qui', b'aurait', b'pu', b'\\xc3\\xaatre', b'les', b'projets', b'non', b'r\\xc3\\xa9alis\\xc3\\xa9s', b'ce', b'qui', b'disparu', b'et', b'ce', b'qui', b'ne', b'peut', b'\\xc3\\xaatre', b'facilement', b'vu', b'le', b'd\\xc3\\xa9cor', b'sculpt\\xc3\\xa9', b'aujourd', b'hui', b'comme', b'au', b'jour', b'de', b'son', b'inauguration', b'secr\\xc3\\xa8te', b'arc', b'de', b'triomphe', b'de', b'empereur', b'garde', b'une', b'm\\xc3\\xaame', b'vocation', b'culturelle', b'et', b'politique', b'de', b'symboliser', b'histoire', b'incarner', b'au', b'centre', b'une', b'm\\xc3\\xa9galopole', b'mondiale', b'au', b'croisement', b'des', b'avenues', b'haussmann', b'existence', b'de', b'la', b'nation', b'france', b'fait', b'dans', b'les', b'piliers', b'indestructibles', b'des', b'arts', b'militaires', b'et', b'\\xc3\\xa9levant', b'dans', b'le', b'd\\xc3\\xa9cor', b'c\\xc3\\xa9leste', b'de', b'la', b'capitale', b'fran\\xc3\\xa7aise', b'arc', b'de', b'france', b'manifeste', b'comme', b'sous', b'empire', b'de', b'rome', b'ou', b'avec', b'les', b'menhirs', b'dress\\xc3\\xa9s', b'des', b'premiers', b'celtes', b'la', b'naissance', b'un', b'peuple', b'uni', b'dans', b'\\xc3\\xa9preuve', b'fort', b'et', b'indestructible', b'comme', b'ces', b'pierres', b'\\xc3\\xa9lev\\xc3\\xa9es', b'd\\xc3\\xa9tails', b'des', b'sculptures', b'arc', b'de', b'triomphe', b'de', b'nuit', b'\\xc3\\xa9l\\xc3\\xa9vation', b'de', b'cet', b'arc', b'monumental', b't\\xc3\\xa9trapyle', b'est', b'la', b'suivante', b'devant', b'les', b'fa\\xc3\\xa7ades', b'principales', b'des', b'pi\\xc3\\xa9droits', b'le', b'premier', b'registre', b'est', b'orn\\xc3\\xa9', b'de', b'groupes', b'en', b'ronde', b'bosse', b'sur', b'des', b'pi\\xc3\\xa9destaux', b'ce', b'bandeau', b'est', b'surmont\\xc3\\xa9', b'un', b'premier', b'entablement', b'constitu\\xc3\\xa9', b'une', b'frise', b'de', b'grecques', b'et', b'une', b'corniche', b'saillante', b'le', b'second', b'registre', b'est', b'anim\\xc3\\xa9', b'de', b'grands', b'cadres', b'de', b'pierre', b'rectangulaires', b'orn\\xc3\\xa9e', b'un', b'bas', b'relief', b'et', b'surmont\\xc3\\xa9', b'un', b'entablement', b'comprenant', b'une', b'frise', b'histori\\xc3\\xa9e', b'sous', b'une', b'corniche', b'saillante', b'le', b'troisi\\xc3\\xa8me', b'registre', b'dans', b'la', b'partition', b'verticale', b'de', b'\\xc3\\xa9difice', b'est', b'un', b'important', b'\\xc3\\xa9tage', b'attique', b'orn\\xc3\\xa9', b'de', b'boucliers', b'le', b'programme', b'iconographique', b'comprend', b'quatre', b'haut', b'reliefs', b'pos\\xc3\\xa9s', b'sur', b'des', b'socles', b'\\xc3\\xa9lev\\xc3\\xa9s', b'adoss\\xc3\\xa9s', b'aux', b'pi\\xc3\\xa9droits', b'et', b'hauts', b'de', b'm\\xc3\\xa8tres', b'ce', b'sont', b'le', b'd\\xc3\\xa9part', b'des', b'volontaires', b'de', b'dit', b'la', b'marseillaise', b'par', b'fran\\xc3\\xa7ois', b'rude', b'ce', b'haut', b'relief', b'repr\\xc3\\xa9sente', b'le', b'rassemblement', b'de', b'tous', b'les', b'fran\\xc3\\xa7ais', b'pour', b'd\\xc3\\xa9fendre', b'la', b'nation', b'en', b'partant', b'au', b'combat', b'ensemble', b'et', b'la', b'diversit\\xc3\\xa9', b'du', b'peuple', b'fran\\xc3\\xa7ais', b'est', b'mis', b'en', b'avant', b'par', b'la', b'diversit\\xc3\\xa9', b'des', b'soldats', b'partant', b'au', b'combat', b'bonapartistes', b'et', b'royalistes', b'jeunes', b'et', b'moins', b'jeunes', b'au', b'dessus', b'eux', b'la', b'victoire', b'les', b'guide', b'reconnaissable', b'ses', b'ailes', b'cette', b'victoire', b'fut', b'vite', b'consid\\xc3\\xa9r\\xc3\\xa9e', b'comme', b'une', b'all\\xc3\\xa9gorie', b'de', b'la', b'patrie', b'architecture', b'g\\xc3\\xa9n\\xc3\\xa9rale', b'm\\xc3\\xa9lange', b'subtilement', b'le', b'style', b'antique', b'la', b'victoire', b'casqu\\xc3\\xa9e', b'et', b'ail\\xc3\\xa9e', b'portant', b'\\xc3\\xa9gide', b'les', b'drap\\xc3\\xa9s', b'les', b'cuirasses', b'les', b'armes', b'le', b'nu', b'avec', b'le', b'style', b'appartenant', b'au', b'romantisme', b'caract\\xc3\\xa9ristique', b'du', b'en', b'france', b'gestes', b'v\\xc3\\xa9h\\xc3\\xa9ments', b'expression', b'marqu\\xc3\\xa9e', b'des', b'visages', b'mouvement', b'g\\xc3\\xa9n\\xc3\\xa9ral', b'le', b'triomphe', b'de', b'par', b'jean', b'pierre', b'cortot', b'la', b'r\\xc3\\xa9sistance', b'de', b'par', b'antoine', b'\\xc3\\xa9tex', b'la', b'paix', b'de', b'par', b'antoine', b'\\xc3\\xa9tex', b'fichier', b'paris', b'july', b'jpg', b'le', b'd\\xc3\\xa9part', b'des', b'volontaires', b'de', b'aussi', b'appel\\xc3\\xa9', b'la', b'marseillaise', b'par', b'fran\\xc3\\xa7ois', b'rude', b'fichier', b'le_triomphe_de_', b'pierre_cortot', b'jpg', b'le', b'triomphe', b'de', b'par', b'jean', b'pierre', b'cortot', b'fichier', b'jpg', b'la', b'r\\xc3\\xa9sistance', b'de', b'par', b'antoine', b'\\xc3\\xa9tex', b'fichier', b'la_paix_de_', b'jpg', b'la', b'paix', b'de', b'par', b'antoine', b'\\xc3\\xa9tex', b'six', b'bas', b'reliefs', b'plus', b'petits', b'grav\\xc3\\xa9s', b'sur', b'les', b'faces', b'de', b'arc', b'retra\\xc3\\xa7ant', b'des', b'sc\\xc3\\xa8nes', b'de', b'la', b'r\\xc3\\xa9volution', b'et', b'de', b'empire', b'ils', b'se', b'situent', b'au', b'dessus', b'des', b'groupes', b'ainsi', b'que', b'sur', b'les', b'c\\xc3\\xb4t\\xc3\\xa9s', b'de', b'arc', b'les', b'fun\\xc3\\xa9railles', b'du', b'g\\xc3\\xa9n\\xc3\\xa9ral', b'marceau', b'le', b'par', b'lamaire', b'face', b'sud', b'droite', b'la', b'bataille', b'aboukir', b'le', b'par', b'seurre', b'a\\xc3\\xaen\\xc3\\xa9', b'face', b'sud', b'gauche', b'la', b'bataille', b'de', b'jemappes', b'le', b'par', b'carlo', b'marochetti', b'face', b'est', b'le', b'passage', b'du', b'pont', b'arcole', b'le', b'par', b'jean', b'jacques', b'feuch\\xc3\\xa8re', b'face', b'nord', b'droite', b'la', b'prise', b'alexandrie', b'le', b'par', b'john', b'\\xc3\\xa9tienne', b'chaponni\\xc3\\xa8re', b'face', b'nord', b'gauche', b'la', b'bataille', b'austerlitz', b'le', b'par', b'jean', b'fran\\xc3\\xa7ois', b'th\\xc3\\xa9odore', b'gechter', b'face', b'ouest', b'fichier', b'jpg', b'les', b'fun\\xc3\\xa9railles', b'du', b'g\\xc3\\xa9n\\xc3\\xa9ral', b'marceau', b'le', b'par', b'lamaire', b'fichier', b'aboukir', b'jpg', b'la', b'bataille', b'aboukir', b'le', b'par', b'seurre', b'a\\xc3\\xaen\\xc3\\xa9', b'fichier', b'jpg', b'la', b'bataille', b'de', b'jemmappes', b'le', b'par', b'carlo', b'marochetti', b'fichier', b'paris', b'arc', b'de', b'triomphe', b'jpg', b'le', b'passage', b'du', b'pont', b'arcole', b'le', b'par', b'jean', b'jacques', b'feuch\\xc3\\xa8re', b'fichier', b'paris', b'arc', b'de', b'triomphe', b'jpg', b'la', b'prise', b'alexandrie', b'le', b'par', b'john', b'\\xc3\\xa9tienne', b'chaponni\\xc3\\xa8re', b'fichier', b'bas', b'relief', b'austerlitz', b'gechter', b'arc', b'de', b'triomphe', b'jpg', b'la', b'bataille', b'austerlitz', b'le', b'par', b'jean', b'fran\\xc3\\xa7ois', b'th\\xc3\\xa9odore', b'gechter', b'attique', b'orn\\xc3\\xa9', b'de', b'boucliers', b'quinconc\\xc3\\xa9s', b'par', b'des', b'glaives', b'dress\\xc3\\xa9s', b'sur', b'les', b'boucliers', b'sont', b'grav\\xc3\\xa9s', b'les', b'noms', b'de', b'grandes', b'batailles', b'de', b'la', b'r\\xc3\\xa9volution', b'et', b'de', b'empire', b'valmy', b'jemappes', b'fleurus', b'montenotte', b'lodi', b'castiglione', b'rivoli', b'arcole', b'pyramides', b'aboukir', b'alkmaer', b'zurich', b'heliopolis', b'marengo', b'hohenlinden', b'ulm', b'austerlitz', b'iena', b'friedland', b'somosierra', b'essling', b'wagram', b'moskowa', b'l\\xc3\\xbctzen', b'bautzen', b'dresde', b'hanau', b'montmirail', b'montereau', b'et', b'ligny', b'fichier', b'batailles', b'grav\\xc3\\xa9es', b'sur', b'atique', b'adt', b'jpg', b'thumb', b'center', b'upright', b'batailles', b'grav\\xc3\\xa9es', b'sur', b'les', b'boucliers', b'de', b'attique', b'noter', b'les', b'd\\xc3\\xa9tails', b'calligraphiques', b'le', b'bas', b'relief', b'de', b'la', b'frise', b'du', b'grand', b'entablement', b'qui', b'tourne', b'sur', b'les', b'quatre', b'faces', b'de', b'\\xc3\\xa9difice', b'il', b'repr\\xc3\\xa9sente', b'le', b'd\\xc3\\xa9part', b'des', b'arm\\xc3\\xa9es', b'par', b'brun', b'jacquot', b'et', b'lait\\xc3\\xa9', b'sur', b'cette', b'frise', b'on', b'peut', b'voir', b'la', b'repr\\xc3\\xa9sentation', b'de', b'plusieurs', b'personnalit\\xc3\\xa9s', b'de', b'la', b'r\\xc3\\xa9volution', b'et', b'de', b'empire', b'de', b'gauche', b'droite', b'on', b'distingue', b'chenier', b'moitte', b'roland', b'me', b'roland', b'penthi\\xc3\\xa8vre', b'marceau', b'hoche', b'soult', b'carnot', b'cambronne', b'joubert', b'latour', b'auvergne', b'championnet', b'jourdan', b'beurnonville', b'la', b'fayette', b'sieyes', b'duc', b'orl\\xc3\\xa9ans', b'bailly', b'duc', b'de', b'bourbon', b'talleyrand', b'mirabeau', b'custine', b'foy', b'desaix', b'le', b'duc', b'de', b'chartres', b'mass\\xc3\\xa9na', b'kl\\xc3\\xa9ber', b'houchard', b'kellermann', b'daboville', b'lefebvre', b'augereau', b'dumouriez', b'miranda', b'gouvion', b'st', b'cyr', b'eug\\xc3\\xa8ne', b'et', b'jos\\xc3\\xa9phine', b'de', b'beauharnais', b'david', b'gossec', b'rouget', b'de', b'isle', b'le', b'retour', b'des', b'arm\\xc3\\xa9es', b'par', b'louis', b'denis', b'caillouette', b'fran\\xc3\\xa7ois', b'rude', b'et', b'seurre', b'a\\xc3\\xaen\\xc3\\xa9', b'les', b'grandes', b'arcades', b'qui', b'sont', b'rehauss\\xc3\\xa9es', b'dans', b'leurs', b'\\xc3\\xa9coin\\xc3\\xa7ons', b'de', b'figures', b'all\\xc3\\xa9goriques', b'repr\\xc3\\xa9sentant', b'des', b'personnages', b'de', b'la', b'mythologie', b'romaine', b'renomm\\xc3\\xa9es', b'avec', b'le', b'pied', b'pos\\xc3\\xa9', b'sur', b'un', b'globe', b'leurs', b'mains', b'tenant', b'une', b'trompette', b'et', b'victoires', b'tendant', b'une', b'couronnes', b'de', b'laurier', b'ex\\xc3\\xa9cut\\xc3\\xa9es', b'par', b'james', b'pradier', b'fichier', b'paris', b'arc', b'de', b'triomphe', b'jpg', b'fichier', b'paris', b'arc', b'de', b'triomphe', b'jpg', b'fichier', b'arc', b'de', b'triomphe', b'jpg', b'sur', b'les', b'faces', b'int\\xc3\\xa9rieures', b'des', b'piliers', b'des', b'grandes', b'arcades', b'les', b'noms', b'des', b'grandes', b'batailles', b'de', b'la', b'r\\xc3\\xa9volution', b'et', b'de', b'empire', b'sont', b'grav\\xc3\\xa9s', b'batailles', b'grav\\xc3\\xa9es', b'sous', b'les', b'grandes', b'arcades', b'noter', b'les', b's\\xc3\\xa9parateurs', b'les', b'petites', b'arcades', b'rehauss\\xc3\\xa9es', b'de', b'figures', b'all\\xc3\\xa9goriques', b'repr\\xc3\\xa9sentant', b'infanterie', b'par', b'th\\xc3\\xa9ophile', b'bra', b'la', b'cavalerie', b'par', b'achille', b'joseph', b'\\xc3\\xa9tienne', b'valois', b'artillerie', b'par', b'debay', b'p\\xc3\\xa8re', b'et', b'la', b'marine', b'par', b'charles', b'\\xc3\\xa9mile', b'seurre', b'fichier', b'jpg', b'figure', b'all\\xc3\\xa9gorique', b'repr\\xc3\\xa9sentant', b'infanterie', b'fichier', b'jpg', b'figure', b'all\\xc3\\xa9gorique', b'repr\\xc3\\xa9sentant', b'la', b'cavalerie', b'fichier', b'jpg', b'figure', b'all\\xc3\\xa9gorique', b'repr\\xc3\\xa9sentant', b'artillerie', b'fichier', b'jpg', b'figure', b'all\\xc3\\xa9gorique', b'repr\\xc3\\xa9sentant', b'la', b'marine', b'sur', b'les', b'faces', b'int\\xc3\\xa9rieures', b'des', b'petites', b'arcades', b'sont', b'grav\\xc3\\xa9s', b'les', b'noms', b'des', b'personnalit\\xc3\\xa9s', b'de', b'la', b'r\\xc3\\xa9volution', b'et', b'de', b'empire', b'les', b'noms', b'de', b'ceux', b'qui', b'sont', b'morts', b'au', b'combat', b'sont', b'soulign\\xc3\\xa9s', b'fichier', b'jpg', b'pilier', b'nord', b'fichier', b'paris', b'arc', b'de', b'triomphe', b'inscriptions', b'jpg', b'pilier', b'sud', b'fichier', b'paris', b'arc', b'de', b'triomphe', b'inscriptions', b'jpg', b'pilier', b'est', b'fichier', b'paris', b'arc', b'de', b'triomphe', b'inscriptions', b'jpg', b'pilier', b'ouest', b'quatre', b'bas', b'reliefs', b'se', b'situent', b'au', b'dessus', b'des', b'noms', b'des', b'personnalit\\xc3\\xa9s', b'de', b'la', b'r\\xc3\\xa9volution', b'et', b'de', b'empire', b'ils', b'portent', b'le', b'nom', b'de', b'batailles', b'c\\xc3\\xa9l\\xc3\\xa8bres', b'de', b'la', b'r\\xc3\\xa9volution', b'et', b'de', b'empire', b'attributs', b'des', b'victoires', b'du', b'nord', b'par', b'fran\\xc3\\xa7ois', b'joseph', b'bosio', b'la', b'sc\\xc3\\xa8ne', b'indique', b'les', b'batailles', b'austerlitz', b'i\\xc3\\xa9na', b'de', b'friedland', b'ulm', b'de', b'wagram', b'et', b'eylau', b'attributs', b'des', b'victoires', b'du', b'sud', b'par', b'antoine', b'fran\\xc3\\xa7ois', b'g\\xc3\\xa9rard', b'la', b'sc\\xc3\\xa8ne', b'indique', b'les', b'batailles', b'de', b'marengo', b'de', b'rivoli', b'arcole', b'et', b'de', b'lodi', b'attributs', b'des', b'victoires', b'de', b'est', b'par', b'valcher', b'la', b'sc\\xc3\\xa8ne', b'indique', b'les', b'batailles', b'alexandrie', b'des', b'pyramides', b'aboukir', b'et', b'h\\xc3\\xa9liopolis', b'attributs', b'des', b'victoires', b'de', b'ouest', b'par', b'jean', b'joseph', b'espercieux', b'la', b'sc\\xc3\\xa8ne', b'indique', b'les', b'batailles', b'de', b'jemmapes', b'et', b'de', b'fleurus', b'fichier', b'frise', b'pilier', b'nord', b'jpg', b'attributs', b'des', b'victoires', b'du', b'nord', b'par', b'fran\\xc3\\xa7ois', b'joseph', b'bosio', b'fichier', b'bas', b'relief', b'pilier', b'sud', b'jpg', b'attributs', b'des', b'victoires', b'du', b'sud', b'par', b'antoine', b'fran\\xc3\\xa7ois', b'g\\xc3\\xa9rard', b'fichier', b'frise', b'pilier', b'est', b'jpg', b'attributs', b'des', b'victoires', b'de', b'est', b'par', b'valcher', b'fichier', b'ouest', b'jpg', b'attributs', b'des', b'victoires', b'de', b'ouest', b'par', b'jean', b'joseph', b'espercieux', b'sous', b'arc', b'se', b'trouve', b'la', b'tombe', b'du', b'soldat', b'inconnu', b'sur', b'la', b'tombe', b'on', b'peut', b'lire', b'fichier', b'unknownsoldier', b'paris', b'jpg', b'la', b'tombe', b'du', b'soldat', b'inconnu', b'fichier', b'tombe', b'du', b'soldat', b'inconnu', b'paris', b'jpg', b'la', b'tombe', b'de', b'nuit', b'le', b'monument', b'est', b'encercl\\xc3\\xa9', b'par', b'cent', b'plots', b'symbolisant', b'les', b'cent', b'jours', b'philat\\xc3\\xa9lie', b'fichier', b'jpg', b'thumb', b'un', b'immense', b'drapeau', b'tricolore', b'est', b'fix\\xc3\\xa9', b'sous', b'arc', b'lors', b'\\xc3\\xa9v\\xc3\\xa9nements', b'importants', b'comme', b'pour', b'le', b'd\\xc3\\xa9fil\\xc3\\xa9', b'militaire', b'du', b'juillet', b'd\\xc3\\xa8s', b'arc', b'de', b'triomphe', b'est', b'repr\\xc3\\xa9sent\\xc3\\xa9', b'sur', b'un', b'timbre', b'de', b'france', b'une', b'valeur', b'de', b'de', b'couleur', b'brun', b'rouge', b'en', b'il', b'figure', b'sur', b'un', b'timbre', b'de', b'outremer', b'\\xc3\\xa9mis', b'lors', b'de', b'la', b'visite', b'des', b'souverains', b'britanniques', b'en', b'regard', b'de', b'la', b'tour', b'du', b'palais', b'de', b'westminster', b'le', b'visuel', b'est', b'repris', b'pour', b'un', b'entier', b'postal', b'la', b'm\\xc3\\xaame', b'ann\\xc3\\xa9e', b'un', b'timbre', b'rouge', b'carmin\\xc3\\xa9', b'de', b'surtax\\xc3\\xa9', b'est', b'\\xc3\\xa9mis', b'pour', b'c\\xc3\\xa9l\\xc3\\xa9brer', b'le', b'anniversaire', b'de', b'la', b'victoire', b'arc', b'est', b'au', b'centre', b'avec', b'le', b'd\\xc3\\xa9fil\\xc3\\xa9', b'du', b'novembre', b'sur', b'les', b'c\\xc3\\xb4t\\xc3\\xa9s', b'du', b'timbre', b'le', b'visuel', b'est', b'\\xc3\\xa9galement', b'repris', b'pour', b'un', b'entier', b'postal', b'en', b'le', b'gouvernement', b'provisoire', b'en', b'fait', b'un', b'symbole', b'de', b'la', b'r\\xc3\\xa9publique', b'et', b'une', b's\\xc3\\xa9rie', b'de', b'timbres', b'usage', b'courant', b'est', b'\\xc3\\xa9mise', b'valeurs', b'entre', b'et', b'les', b'timbres', b'sont', b'imprim\\xc3\\xa9s', b'aux', b'\\xc3\\xa9tats', b'unis', b'une', b'nouvelle', b's\\xc3\\xa9rie', b'de', b'timbres', b'toujours', b'imprim\\xc3\\xa9e', b'aux', b'\\xc3\\xa9tats', b'unis', b'sort', b'en', b'les', b'chiffres', b'de', b'la', b'valeur', b'sont', b'en', b'noir', b'et', b'comprises', b'entre', b'et', b'en', b'il', b'est', b'pr\\xc3\\xa9sent', b'pour', b'le', b'cinquantenaire', b'de', b'armistice', b'du', b'novembre', b'sur', b'un', b'timbre', b'carmin', b'et', b'bleu', b'en', b'il', b'est', b'en', b'arri\\xc3\\xa8re', b'plan', b'un', b'timbre', b'rouge', b'\\xc3\\xa9mis', b'dans', b'la', b'bande', b'\\xc3\\xa9mise', b'occasion', b'de', b'la', b'mort', b'du', b'g\\xc3\\xa9n\\xc3\\xa9ral', b'de', b'gaulle', b'il', b'repr\\xc3\\xa9sente', b'la', b'descente', b'des', b'champs', b'\\xc3\\xa9lys\\xc3\\xa9es', b'en', b'en', b'la', b'poste', b'c\\xc3\\xa9l\\xc3\\xa8bre', b'le', b'anniversaire', b'de', b'la', b'flamme', b'sous', b'arc', b'de', b'triomphe', b'par', b'un', b'timbre', b'de', b'lilas', b'rouge', b'et', b'bleu', b'en', b'la', b'poste', b'pr\\xc3\\xa9sente', b'un', b'panorama', b'de', b'paris', b'sur', b'une', b'bande', b'arc', b'figure', b'en', b'arri\\xc3\\xa8re', b'plan', b'de', b'timbres', b'multicolores', b'repr\\xc3\\xa9sentant', b'arche', b'de', b'la', b'd\\xc3\\xa9fense', b'et', b'la', b'tour', b'eiffel', b'les', b'visuels', b'sont', b'repris', b'sur', b'des', b'entiers', b'postaux', b'en', b'occasion', b'du', b'cinquantenaire', b'de', b'la', b'victoire', b'du', b'mai', b'il', b'figure', b'en', b'arri\\xc3\\xa8re', b'plan', b'un', b'portrait', b'du', b'g\\xc3\\xa9n\\xc3\\xa9ral', b'de', b'gaulle', b'pour', b'une', b'valeur', b'de', b'en', b'il', b'figure', b'pour', b'une', b'valeur', b'de', b'ou', b'euros', b'sur', b'un', b'timbre', b'de', b'tr\\xc3\\xa8s', b'grand', b'format', b'\\xc3\\xa9mis', b'occasion', b'du', b'centenaire', b'de', b'la', b'naissance', b'du', b'dessinateur', b'et', b'graveur', b'albert', b'decaris', b'en', b'il', b'est', b'inclus', b'dans', b'un', b'bloc', b'feuillet', b'portraits', b'de', b'r\\xc3\\xa9gions', b'la', b'france', b'voir', b'dans', b'cette', b's\\xc3\\xa9rie', b'de', b'timbres', b'il', b'est', b'le', b'sujet', b'unique', b'un', b'timbre', b'euro', b'en', b'il', b'figure', b'sur', b'un', b'timbre', b'de', b'distributeur', b'valeurs', b'variables', b'faits', b'divers', b'mariage', b'de', b'napol\\xc3\\xa9on', b'et', b'marie', b'louise', b'occasion', b'de', b'son', b'mariage', b'avec', b'archiduchesse', b'marie', b'louise', b'et', b'de', b'entr\\xc3\\xa9e', b'de', b'celle', b'ci', b'dans', b'paris', b'empereur', b'napol\\xc3\\xa9on', b'ier', b'fait', b'construire', b'par', b'chalgrin', b'une', b'maquette', b'grandeur', b'r\\xc3\\xa9elle', b'afin', b'de', b'donner', b'illusion', b'du', b'monument', b'achev\\xc3\\xa9', b'en', b'charpente', b'stuc', b'et', b'toiles', b'peintes', b'en', b'trompe', b'\\xc5\\x93il', b'pour', b'simuler', b'les', b'bas', b'reliefs', b'des', b'pi\\xc3\\xa9droits', b'sous', b'laquelle', b'la', b'future', b'imp\\xc3\\xa9ratrice', b'passa', b'solennellement', b'durant', b'le', b'transfert', b'des', b'cendres', b'de', b'napol\\xc3\\xa9on', b'le', b'le', b'cort\\xc3\\xa8ge', b'passe', b'sous', b'arc', b'de', b'triomphe', b'le', b'corps', b'de', b'victor', b'hugo', b'est', b'veill\\xc3\\xa9', b'sous', b'arc', b'la', b'nuit', b'du', b'avant', b'\\xc3\\xaatre', b'enterr\\xc3\\xa9', b'au', b'panth\\xc3\\xa9on', b'le', b'un', b'as', b'de', b'aviation', b'charles', b'godefroy', b'r\\xc3\\xa9ussit', b'passer', b'en', b'avion', b'avec', b'un', b'appareil', b'biplan', b'nieuport', b'de', b'carr\\xc3\\xa9s', b'de', b'surface', b'portante', b'et', b'envergure', b'moteur', b'de', b'chevaux', b'sous', b'arc', b'de', b'triomphe', b'photographi\\xc3\\xa9', b'par', b'jacques', b'mortane', b'un', b'autre', b'as', b'jean', b'navarre', b'se', b'tue', b'proximit\\xc3\\xa9', b'de', b'villacoublay', b'le', b'juillet', b'de', b'la', b'm\\xc3\\xaame', b'ann\\xc3\\xa9e', b'au', b'cours', b'un', b'vol', b'entra\\xc3\\xaenement', b'pour', b'r\\xc3\\xa9aliser', b'cet', b'exploit', b'catafalque', b'et', b'castrum', b'doloris', b'de', b'victor', b'hugo', b'sous', b'arc', b'de', b'triomphe', b'lors', b'de', b'ses', b'fun\\xc3\\xa9railles', b'le', b'cet', b'\\xc3\\xa9v\\xc3\\xa9nement', b'lieu', b'durant', b'les', b'quelques', b'ann\\xc3\\xa9es', b'o\\xc3\\xb9', b'est', b'install\\xc3\\xa9', b'au', b'sommet', b'du', b'monument', b'le', b'groupe', b'monumental', b'alexandre', b'falgui\\xc3\\xa8re', b'le', b'triomphe', b'de', b'la', b'r\\xc3\\xa9volution', b'en', b'octobre', b'alain', b'marchand', b'r\\xc3\\xa9\\xc3\\xa9dite', b'le', b'passage', b'sous', b'arc', b'de', b'triomphe', b'il', b'est', b'condamn\\xc3\\xa9', b'francs', b'amende', b'le', b'un', b'pilote', b'non', b'identifi\\xc3\\xa9', b'passe', b'de', b'nouveau', b'sous', b'arc', b'et', b'la', b'tour', b'eiffel', b'aux', b'commandes', b'un', b'mudry', b'cap', b'd\\xc3\\xa9clar\\xc3\\xa9', b'vol\\xc3\\xa9', b'a\\xc3\\xa9roclub', b'de', b'lognes', b'en', b'un', b'australien', b'essaye', b'de', b'se', b'faire', b'cuire', b'des', b'\\xc5\\x93ufs', b'au', b'plat', b'sur', b'la', b'flamme', b'du', b'soldat', b'inconnu', b'ce', b'qu', b'fait', b'quelques', b'ann\\xc3\\xa9es', b'plus', b't\\xc3\\xb4t', b'un', b'chanteur', b'de', b'rock', b'du', b'nom', b'hector', b'la', b'suite', b'un', b'pari', b'avec', b'jean', b'yanne', b'deux', b'fois', b'par', b'an', b'aux', b'alentours', b'du', b'mai', b'et', b'du', b'le', b'soleil', b'se', b'couche', b'dans', b'axe', b'des', b'champs', b'\\xc3\\xa9lys\\xc3\\xa9es', b'pour', b'une', b'personne', b'situ\\xc3\\xa9e', b'sur', b'les', b'champs', b'\\xc3\\xa9lys\\xc3\\xa9es', b'le', b'disque', b'solaire', b'est', b'ainsi', b'visible', b'quelques', b'minutes', b'sous', b'arche', b'de', b'arc', b'de', b'triomphe', b'le', b'le', b'ph\\xc3\\xa9nom\\xc3\\xa8ne', b'accompagne', b'une', b'\\xc3\\xa9clipse', b'partielle', b'de', b'soleil', b'observ\\xc3\\xa9e', b'par', b'pr\\xc3\\xa8s', b'de', b'personnes', b'noter', b'qu', b'en', b'sens', b'oppos\\xc3\\xa9', b'vu', b'de', b'la', b'porte', b'maillot', b'le', b'soleil', b'se', b'l\\xc3\\xa8ve', b'deux', b'fois', b'par', b'an', b'dans', b'arc', b'de', b'triomphe', b'aux', b'alentours', b'du', b'f\\xc3\\xa9vrier', b'et', b'du', b'novembre', b'fichier', b'jpg', b'thumb', b'center', b'upright', b'paris', b'vue', b'du', b'sommet', b'de', b'arc', b'de', b'triomphe', b'avec', b'droite', b'la', b'tour', b'eiffel', b'les', b'travaux', b'de', b'conservation', b'restauration', b'de', b'arc', b'de', b'triomphe', b'arc', b'de', b'triomphe', b'et', b'son', b'\\xc3\\xa9chafaudage', b'pendant', b'la', b'campagne', b'de', b'restauration', b'de', b'la', b'confortation', b'des', b'fondations', b'par', b'injection', b'de', b'coulis', b'd\\xc3\\xa9sordres', b'de', b'\\xc3\\xa9difice', b'apparition', b'des', b'd\\xc3\\xa9sordres', b'arc', b'souffrait', b'de', b'd\\xc3\\xa9sordres', b'apparents', b'tels', b'que', b'fissures', b'et', b'chutes', b'de', b'pierres', b'un', b'examen', b'visuel', b'permis', b'identifier', b'les', b'fentes', b'et', b'en', b'tracer', b'le', b'relev\\xc3\\xa9', b'la', b'conclusion', b'des', b'reconnaissances', b'et', b'investigations', b'fut', b'que', b'la', b'cause', b'principale', b'des', b'perturbations', b'\\xc3\\xa9tait', b'un', b'tassement', b'd\\xc3\\xbb', b'au', b'd\\xc3\\xa9lavage', b'du', b'mortier', b'la', b'chaux', b'a\\xc3\\xa9rienne', b'des', b'fondations', b'par', b'eau', b'de', b'ruissellement', b'divers', b'travaux', b'de', b'r\\xc3\\xa9habilitation', b'furent', b'd\\xc3\\xa9cid\\xc3\\xa9s', b'visant', b'redonner', b'un', b'aspect', b'neuf', b'au', b'monument', b'le', b'pr\\xc3\\xa9munir', b'contre', b'de', b'telles', b'alt\\xc3\\xa9rations', b'et', b'le', b'conforter', b'la', b'restauration', b'\\xc3\\xa9t\\xc3\\xa9', b'conduite', b'par', b'michel', b'marot', b'architecte', b'des', b'b\\xc3\\xa2timents', b'civils', b'et', b'palais', b'nationaux', b'le', b'bureau', b'michel', b'bancon', b'sp\\xc3\\xa9cialis\\xc3\\xa9', b'dans', b'les', b'\\xc3\\xa9tudes', b'de', b'structure', b'et', b'de', b'r\\xc3\\xa9habilitation', b'des', b'\\xc3\\xa9difices', b'anciens', b'\\xc3\\xa9t\\xc3\\xa9', b'charg\\xc3\\xa9', b'de', b'expertise', b'du', b'b\\xc3\\xa2timent', b'afin', b'de', b'd\\xc3\\xa9finir', b'un', b'programme', b'de', b'consolidation', b'sol\\xc3\\xa9tanche', b'entreprise', b'sp\\xc3\\xa9cialis\\xc3\\xa9e', b'r\\xc3\\xa9alis\\xc3\\xa9', b'ensemble', b'des', b'travaux', b'sous', b'la', b'direction', b'de', b'jean', b'pierre', b'gadret', b'les', b'travaux', b'de', b'confortement', b'comportaient', b'essentiellement', b'la', b'r\\xc3\\xa9g\\xc3\\xa9n\\xc3\\xa9ration', b'des', b'ma\\xc3\\xa7onneries', b'de', b'fondation', b'et', b'la', b'consolidation', b'de', b'la', b'superstructure', b'partir', b'de', b'd\\xc3\\xa9cembre', b'autres', b'travaux', b'de', b'restauration', b'ont', b'd\\xc3\\xa9but\\xc3\\xa9', b'trois', b'parties', b'\\xc3\\xa9taient', b'concern\\xc3\\xa9es', b'la', b'terrasse', b'et', b'la', b'balustrade', b'de', b'attique', b'la', b'vo\\xc3\\xbbte', b'ogive', b'int\\xc3\\xa9rieure', b'et', b'les', b'salles', b'de', b'la', b'partie', b'basse', b'la', b'vo\\xc3\\xbbte', b'en', b'berceau', b'de', b'la', b'grande', b'arche', b'centrale', b'et', b'son', b'd\\xc3\\xa9cor', b'sculpt\\xc3\\xa9', b'de', b'rosaces', b'ces', b'travaux', b'qui', b'se', b'poursuivront', b'jusqu', b'en', b'juin', b'ont', b'\\xc3\\xa9t\\xc3\\xa9', b'engag\\xc3\\xa9s', b'pour', b'des', b'raisons', b'de', b's\\xc3\\xa9curit\\xc3\\xa9', b'entretien', b'de', b'\\xc3\\xa9difice', b'et', b'inscrivent', b'dans', b'la', b'perspective', b'am\\xc3\\xa9nagements', b'int\\xc3\\xa9rieurs', b'campagne', b'de', b'mesures', b'et', b'essais', b'afin', b'\\xc3\\xa9tablir', b'un', b'diagnostic', b'pr\\xc3\\xa9cis', b'et', b'd\\xc3\\xa9duire', b'les', b'origines', b'du', b'ph\\xc3\\xa9nom\\xc3\\xa8ne', b'et', b'la', b'nature', b'des', b'travaux', b'les', b'plus', b'rationnels', b'une', b's\\xc3\\xa9rie', b'de', b'mesures', b'\\xc3\\xa9t\\xc3\\xa9', b'op\\xc3\\xa9r\\xc3\\xa9e', b'mesures', b'de', b'vibrations', b'au', b'sol', b'et', b'dans', b'la', b'partie', b'sup\\xc3\\xa9rieure', b'\\xc3\\xa9quipement', b'des', b'fissures', b'et', b'mesures', b'de', b'leur', b'\\xc3\\xa9volution', b'pose', b'sur', b'\\xc3\\xa9difice', b'de', b'niveaux', b'de', b'pr\\xc3\\xa9cision', b'et', b'suivi', b'de', b'leur', b'\\xc3\\xa9volution', b'mesures', b'de', b'la', b'rotation', b'des', b'piles', b'et', b'de', b'leur', b'verticalit\\xc3\\xa9', b'mesures', b'de', b'horizontalit\\xc3\\xa9', b'des', b'corniches', b'sur', b'les', b'quatre', b'faces', b'forages', b'dans', b'les', b'fondations', b'au', b'droit', b'des', b'piles', b'et', b'examens', b'analyse', b'des', b'd\\xc3\\xa9sordres', b'cette', b'analyse', b'facilit\\xc3\\xa9e', b'par', b'existence', b'des', b'plans', b'de', b'\\xc3\\xa9difice', b'permis', b'de', b'constater', b'que', b'le', b'b\\xc3\\xa2timent', b'souffrait', b'un', b'tassement', b'diff\\xc3\\xa9rentiel', b'des', b'joints', b'de', b'ma\\xc3\\xa7onnerie', b'des', b'dix', b'sept', b'assises', b'de', b'fondations', b'avec', b'un', b'mouvement', b'h\\xc3\\xa9lico\\xc3\\xafdal', b'de', b'arc', b'les', b'fondations', b'constitu\\xc3\\xa9es', b'de', b'gros', b'blocs', b'en', b'pierre', b'ont', b'subi', b'des', b'mouvements', b'cons\\xc3\\xa9cutifs', b'la', b'd\\xc3\\xa9gradation', b'de', b'leurs', b'joints', b'eau', b'de', b'pluie', b'de', b'esplanade', b'eau', b'de', b'ruissellement', b'des', b'fa\\xc3\\xa7ades', b'et', b'eau', b'de', b'terrasse', b'canalis\\xc3\\xa9e', b'vers', b'des', b'collecteurs', b'sans', b'doute', b'fuyards', b'sont', b'la', b'cause', b'des', b'circulations', b'eau', b'qui', b'd\\xc3\\xa9lavent', b'les', b'joints', b'entra\\xc3\\xaenant', b'une', b'forte', b'alt\\xc3\\xa9ration', b'du', b'mortier', b'la', b'chaux', b'a\\xc3\\xa9rienne', b'le', b'tassement', b'diff\\xc3\\xa9rentiel', b'des', b'fondations', b'ainsi', b'g\\xc3\\xa9n\\xc3\\xa9r\\xc3\\xa9', b'entra\\xc3\\xaene', b'une', b'd\\xc3\\xa9formation', b'dite', b'en', b'selle', b'de', b'cheval', b'en', b'partie', b'sup\\xc3\\xa9rieure', b'de', b'\\xc3\\xa9difice', b'avec', b'une', b'tendance', b'\\xc3\\xa9loignement', b'des', b'sommets', b'de', b'piles', b'dans', b'le', b'sens', b'des', b'petits', b'c\\xc3\\xb4t\\xc3\\xa9s', b'et', b'une', b'convergence', b'dans', b'autre', b'sens', b'michel', b'bancon', b'explique', b'ce', b'comportement', b'diff\\xc3\\xa9rentiel', b'par', b'la', b'configuration', b'des', b'nombreuses', b'cavit\\xc3\\xa9s', b'm\\xc3\\xa9nag\\xc3\\xa9es', b'dans', b'arc', b'qui', b'par', b'leur', b'emplacement', b'et', b'leur', b'g\\xc3\\xa9om\\xc3\\xa9trie', b'sollicitent', b'plus', b'le', b'b\\xc3\\xa2timent', b'dans', b'axe', b'des', b'petits', b'c\\xc3\\xb4t\\xc3\\xa9s', b'une', b'analyse', b'par', b'lib\\xc3\\xa9ration', b'des', b'contraintes', b'montre', b'que', b'celles', b'ci', b'varient', b'int\\xc3\\xa9rieur', b'des', b'ma\\xc3\\xa7onneries', b'de', b'bars', b'travaux', b'de', b'confortement', b'ces', b'analyses', b'ont', b'permis', b'\\xc3\\xa9tablir', b'un', b'plan', b'de', b'confortement', b'comprenant', b'cinq', b'phases', b'traitement', b'des', b'vides', b'existant', b'dans', b'les', b'joints', b'de', b'ma\\xc3\\xa7onnerie', b'et', b'r\\xc3\\xa9g\\xc3\\xa9n\\xc3\\xa9ration', b'des', b'mortiers', b'd\\xc3\\xa9lav\\xc3\\xa9s', b'par', b'injection', b'partielle', b'de', b'coulis', b'sp\\xc3\\xa9ciaux', b'dans', b'les', b'fondations', b'traitement', b'des', b'fissures', b'en', b'superstructures', b'par', b'injection', b'de', b'coulis', b'de', b'ciment', b'confortement', b'des', b'superstructures', b'par', b'mise', b'en', b'place', b'de', b'tirants', b'pr\\xc3\\xa9contraints', b'int\\xc3\\xa9rieur', b'de', b'\\xc3\\xa9difice', b'injections', b'compl\\xc3\\xa9mentaires', b'de', b'coulis', b'dans', b'les', b'massifs', b'de', b'fondations', b'des', b'abords', b'de', b'arc', b'plate', b'forme', b'centrale', b'r\\xc3\\xa9seaux', b'\\xc3\\xa9gouts', b'travaux', b'injection', b'pour', b'rem\\xc3\\xa9dier', b'la', b'd\\xc3\\xa9gradation', b'des', b'joints', b'de', b'fondation', b'il', b'\\xc3\\xa9t\\xc3\\xa9', b'd\\xc3\\xa9cid\\xc3\\xa9', b'la', b'suite', b'une', b'campagne', b'dite', b'de', b'convenance', b'de', b'proc\\xc3\\xa9der', b'des', b'injections', b'abord', b'partielles', b'sur', b'un', b'huiti\\xc3\\xa8me', b'de', b'la', b'surface', b'de', b'trois', b'massifs', b'et', b'sur', b'un', b'quart', b'de', b'la', b'surface', b'de', b'celui', b'qui', b'supporte', b'la', b'pile', b'nord', b'ouest', b'entreprise', b'sol\\xc3\\xa9tanche', b'\\xc3\\xa9t\\xc3\\xa9', b'choisie', b'pour', b'mener', b'la', b'premi\\xc3\\xa8re', b'campagne', b'injection', b'n\\xc3\\xa9cessaire', b'il', b'\\xc3\\xa9t\\xc3\\xa9', b'd\\xc3\\xa9cid\\xc3\\xa9', b'utiliser', b'deux', b'types', b'de', b'coulis', b'le', b'microsol', b'et', b'le', b'silacsol', b'mis', b'au', b'point', b'un', b'et', b'autre', b'par', b'cette', b'entreprise', b'usage', b'un', b'ciment', b'classique', b'\\xc3\\xa9tait', b'rejeter', b'puisqu', b'il', b'fallait', b'une', b'part', b'combler', b'au', b'maximum', b'des', b'vides', b'dans', b'les', b'joint', b'construction', b'des', b'moellons', b'autre', b'part', b'conforter', b'les', b'parties', b'de', b'ces', b'joints', b'qui', b'\\xc3\\xa9taient', b'd\\xc3\\xa9sagr\\xc3\\xa9g\\xc3\\xa9es', b'la', b'granulom\\xc3\\xa9trie', b'des', b'produits', b'traditionnels', b'et', b'la', b'formation', b'qu', b'ils', b'entra\\xc3\\xaenent', b'de', b'paquets', b'de', b'grains', b'environ', b'auraient', b'emp\\xc3\\xaach\\xc3\\xa9', b'une', b'ex\\xc3\\xa9cution', b'correcte', b'de', b'op\\xc3\\xa9ration', b'la', b'confortation', b'par', b'pr\\xc3\\xa9contrainte', b'additionnelle', b'dans', b'le', b'cas', b'de', b'arc', b'de', b'triomphe', b'il', b'agit', b'une', b'pr\\xc3\\xa9contrainte', b'additionnelle', b'r\\xc3\\xa9alis\\xc3\\xa9e', b'int\\xc3\\xa9rieur', b'de', b'la', b'structure', b'permettant', b'de', b'recomprimer', b'les', b'zones', b'fractur\\xc3\\xa9es', b'et', b'de', b'recentrer', b'les', b'efforts', b'obliques', b'engendr\\xc3\\xa9s', b'par', b'la', b'pouss\\xc3\\xa9e', b'des', b'vo\\xc3\\xbbtes', b'cette', b'pr\\xc3\\xa9contrainte', b'additionnelle', b'\\xc3\\xa9t\\xc3\\xa9', b'r\\xc3\\xa9alis\\xc3\\xa9e', b'par', b'demi', b'tirants', b'ancr\\xc3\\xa9s', b'dans', b'les', b'parements', b'et', b'raccord\\xc3\\xa9s', b'par', b'paires', b'en', b'leur', b'milieu', b'par', b'des', b'coupleurs', b'actifs', b'la', b'r\\xc3\\xa9partition', b'des', b'tirants', b'tient', b'compte', b'du', b'r\\xc3\\xa9\\xc3\\xa9quilibrage', b'des', b'contraintes', b'qui', b'n\\xc3\\xa9cessite', b'quatre', b'\\xc3\\xa9tages', b'de', b'tirants', b'dans', b'le', b'sens', b'du', b'petit', b'c\\xc3\\xb4t\\xc3\\xa9', b'et', b'deux', b'\\xc3\\xa9tages', b'suivant', b'le', b'grand', b'c\\xc3\\xb4t\\xc3\\xa9', b'de', b'la', b'pr\\xc3\\xa9sence', b'\\xc3\\xa9quipements', b'existants', b'int\\xc3\\xa9rieur', b'de', b'ouvrage', b'du', b'phasage', b'des', b'travaux', b'la', b'mise', b'en', b'tension', b'devant', b'pouvoir', b'se', b'faire', b'de', b'mani\\xc3\\xa8re', b'progressive', b'afin', b'\\xc3\\xa9quilibrer', b'les', b'efforts', b'r\\xc3\\xa9partir', b'de', b'la', b'possibilit\\xc3\\xa9', b'de', b'r\\xc3\\xa9glages', b'ult\\xc3\\xa9rieurs', b'des', b'efforts', b'dans', b'les', b'tirants', b'de', b'esth\\xc3\\xa9tique', b'finale', b'du', b'renforcement', b'compatible', b'avec', b'le', b'cadre', b'de', b'\\xc3\\xa9difice', b'notes', b'et', b'r\\xc3\\xa9f\\xc3\\xa9rences', b'voir', b'aussi', b'bibliographie', b'marcel', b'cynamon', b'catherine', b'feff', b'arc', b'de', b'triomphe', b'photos', b'des', b'travaux', b'de', b'restauration', b'syros', b'articles', b'connexes', b'pour', b'les', b'timbres', b'poste', b'\\xc3\\xa9mis', b'par', b'les', b'\\xc3\\xa9tats', b'unis', b'pour', b'servir', b'en', b'france', b'lib\\xc3\\xa9r\\xc3\\xa9e', b'voir', b'arc', b'de', b'triomphe', b'timbre', b'arc', b'de', b'triomphe', b'liste', b'des', b'arcs', b'de', b'triomphe', b'post', b'romains', b't\\xc3\\xa9trapyle', b'noms', b'grav\\xc3\\xa9s', b'sous', b'arc', b'de', b'triomphe', b'de', b'\\xc3\\xa9toile', b'batailles', b'grav\\xc3\\xa9es', b'sous', b'arc', b'de', b'triomphe', b'de', b'\\xc3\\xa9toile', b'liens', b'externes', b'site', b'officiel', b'site', b'officiel', b'de', b'la', b'flamme', b'sous', b'arc', b'de', b'triomphe', b'flamme', b'de', b'la', b'nation', b'paris', b'\\xc3\\xa9mission', b'propos\\xc3\\xa9e', b'par', b'anne', b'muratori', b'philip', b'h\\xc3\\xa9l\\xc3\\xa8ne', b'renard', b'sur', b'canal', b'acad\\xc3\\xa9mie', b'cat\\xc3\\xa9gorie', b'architecture', b'du', b'xixe', b'si\\xc3\\xa8cle', b'en', b'\\xc3\\xaele', b'de', b'france', b'cat\\xc3\\xa9gorie', b'architecture', b'n\\xc3\\xa9o', b'classique', b'en', b'france', b'cat\\xc3\\xa9gorie', b'sculpture', b'en', b'france', b'cat\\xc3\\xa9gorie', b'patrimoine', b'du', b'xixe', b'si\\xc3\\xa8cle', b'arc', b'de', b'triomphe', b'de', b'\\xc3\\xa9toile', b'cat\\xc3\\xa9gorie', b'sculpture', b'du', b'xixe', b'si\\xc3\\xa8cle', b'cat\\xc3\\xa9gorie', b'sculpture', b'n\\xc3\\xa9o', b'classique', b'cat\\xc3\\xa9gorie', b'sculpture', b'monumentale', b'cat\\xc3\\xa9gorie', b'\\xc3\\xa9difice', b'g\\xc3\\xa9r\\xc3\\xa9', b'par', b'le', b'centre', b'des', b'monuments', b'nationaux', b'cat\\xc3\\xa9gorie', b'symbole', b'de', b'paris', b'cat\\xc3\\xa9gorie', b'monument', b'historique', b'class\\xc3\\xa9', b'en', b'cat\\xc3\\xa9gorie', b'axe', b'historique', b'parisien', b'paris', b'cat\\xc3\\xa9gorie', b'r\\xc3\\xa9alisation', b'sous', b'\\xc3\\xa8re', b'napol\\xc3\\xa9onienne']\n",
      "[b'ars\\xc3\\xa8ne', b'lupin', b'est', b'un', b'personnage', b'de', b'fiction', b'fran\\xc3\\xa7ais', b'cr\\xc3\\xa9\\xc3\\xa9', b'par', b'maurice', b'leblanc', b'dans', b'la', b'nouvelle', b'arrestation', b'ars\\xc3\\xa8ne', b'lupin', b'parue', b'dans', b'le', b'magazine', b'je', b'sais', b'tout', b'en', b'juillet', b'cette', b'nouvelle', b'est', b'reprise', b'dans', b'le', b'recueil', b'ars\\xc3\\xa8ne', b'lupin', b'gentleman', b'cambrioleur', b'biographie', b'fictive', b'plusieurs', b'auteurs', b'ont', b'tent\\xc3\\xa9', b'\\xc3\\xa9tablir', b'une', b'biographie', b'ars\\xc3\\xa8ne', b'lupin', b'partir', b'des', b'informations', b'figurant', b'dans', b'les', b'diff\\xc3\\xa9rents', b'textes', b'de', b'maurice', b'leblanc', b'les', b'biographies', b'les', b'plus', b'abouties', b'diff\\xc3\\xa9rant', b'sur', b'plusieurs', b'points', b'sont', b'celles', b'propos\\xc3\\xa9es', b'par', b'francis', b'lacassin', b'en', b'annexe', b'du', b'tome', b'de', b'int\\xc3\\xa9grale', b'ars\\xc3\\xa8ne', b'lupin', b'publi\\xc3\\xa9e', b'en', b'dans', b'la', b'collection', b'bouquins', b'\\xc3\\xa9ditions', b'robert', b'laffont', b'et', b'celle', b'pr\\xc3\\xa9sent\\xc3\\xa9e', b'par', b'andr\\xc3\\xa9', b'fran\\xc3\\xa7ois', b'ruaud', b'dans', b'ars\\xc3\\xa8ne', b'lupin', b'dlm', b'\\xc3\\xa9ditions', b'en', b'n\\xc3\\xa9anmoins', b'ces', b'biographies', b'ars\\xc3\\xa8ne', b'lupin', b'abondent', b'suffisamment', b'en', b'incoh\\xc3\\xa9rences', b'pour', b'en', b'emp\\xc3\\xaacher', b'une', b'chronologie', b'r\\xc3\\xa9ellement', b'rigoureuse', b'et', b'd\\xc3\\xa9finitive', b'est', b'la', b'raison', b'pour', b'laquelle', b'andr\\xc3\\xa9', b'fran\\xc3\\xa7ois', b'ruaud', b'enrichit', b'une', b'premi\\xc3\\xa8re', b'fois', b'son', b'travail', b'avec', b'les', b'nombreuses', b'vies', b'ars\\xc3\\xa8ne', b'lupin', b'les', b'moutons', b'\\xc3\\xa9lectriques', b'puis', b'de', b'nouveau', b'avec', b'ars\\xc3\\xa8ne', b'lupin', b'une', b'vie', b'les', b'moutons', b'\\xc3\\xa9lectriques', b'un', b'cambrioleur', b'pr\\xc3\\xa9coce', b'ars\\xc3\\xa8ne', b'lupin', b'na\\xc3\\xaet', b'en', b'henriette', b'andr\\xc3\\xa9sy', b'et', b'de', b'th\\xc3\\xa9ophraste', b'lupin', b'sa', b'famille', b'maternelle', b'appr\\xc3\\xa9cie', b'pas', b'le', b'mariage', b'avec', b'un', b'roturier', b'sans', b'patrimoine', b'dont', b'le', b'm\\xc3\\xa9tier', b'est', b'pas', b'prestigieux', b'professeur', b'de', b'gymnastique', b'escrime', b'et', b'de', b'boxe', b'henriette', b'renia', b'th\\xc3\\xa9ophraste', b'lorsqu', b'elle', b'apprit', b'qu', b'il', b'exer\\xc3\\xa7ait', b'la', b'profession', b'escroc', b'apr\\xc3\\xa8s', b'quoi', b'ce', b'dernier', b'fut', b'emprisonn\\xc3\\xa9', b'aux', b'\\xc3\\xa9tats', b'unis', b'o\\xc3\\xb9', b'il', b'mourut', b'apr\\xc3\\xa8s', b'son', b'fils', b'le', b'collier', b'de', b'la', b'reineen', b'ars\\xc3\\xa8ne', b'vit', b'avec', b'sa', b'm\\xc3\\xa8re', b'paris', b'rejet\\xc3\\xa9e', b'par', b'ses', b'parents', b'que', b'son', b'mariage', b'avait', b'indign\\xc3\\xa9s', b'henriette', b'\\xc3\\xa9t\\xc3\\xa9', b'accept\\xc3\\xa9e', b'au', b'domicile', b'un', b'cousin', b'\\xc3\\xa9loign\\xc3\\xa9', b'le', b'duc', b'de', b'dreux', b'soubise', b'o\\xc3\\xb9', b'elle', b'fait', b'office', b'de', b'servante', b'de', b'sa', b'femme', b'\\xc3\\xa2ge', b'de', b'six', b'ans', b'il', b'vole', b'le', b'pr\\xc3\\xa9cieux', b'collier', b'de', b'la', b'reine', b'des', b'dreux', b'soubise', b'soup\\xc3\\xa7onn\\xc3\\xa9e', b'du', b'vol', b'henriette', b'est', b'mise', b'la', b'porte', b'avec', b'son', b'fils', b'et', b'ils', b'trouvent', b'refuge', b'en', b'normandie', b'aupr\\xc3\\xa8s', b'de', b'victoire', b'elle', b're\\xc3\\xa7oit', b'une', b'enveloppe', b'argent', b'en', b'liquide', b'six', b'ans', b'plus', b'tard', b'henriette', b'd\\xc3\\xa9c\\xc3\\xa8de', b'laissant', b'un', b'orphelin', b'de', b'douze', b'ans', b'la', b'comtesse', b'de', b'cagliostro', b'ars\\xc3\\xa8ne', b'lupin', b'd\\xc3\\xa9bute', b'dans', b'escroquerie', b'et', b'se', b'fait', b'rouler', b'par', b'le', b'couple', b'imbert', b'il', b'suit', b'des', b'\\xc3\\xa9tudes', b'classiques', b'au', b'vu', b'de', b'son', b'parcours', b'il', b'suit', b'ensuite', b'des', b'\\xc3\\xa9tudes', b'de', b'm\\xc3\\xa9decine', b'de', b'droit', b're\\xc3\\xa7oit', b'une', b'formation', b'aux', b'beaux', b'arts', b'puis', b'devient', b'acteur', b'professeur', b'de', b'lutte', b'japonaise', b'il', b'int\\xc3\\xa9resse', b'par', b'la', b'suite', b'la', b'aux', b'c\\xc3\\xb4t\\xc3\\xa9s', b'de', b'dickson', b'il', b'adopte', b'le', b'nom', b'de', b'rostat', b'durant', b'cet', b'apprentissage', b'puis', b'travaille', b'six', b'mois', b'avec', b'illusionniste', b'pickmann', b'en', b'en', b's\\xc3\\xa9jour', b'sur', b'la', b'c\\xc3\\xb4te', b'azur', b'aspremont', b'pr\\xc3\\xa8s', b'de', b'nice', b'il', b'une', b'aventure', b'avec', b'une', b'jeune', b'femme', b'qui', b'donnera', b'naissance', b'genevi\\xc3\\xa8ve', b'un', b'an', b'plus', b'tard', b'\\xc3\\xa2ge', b'de', b'vingt', b'ans', b'lorsqu', b'il', b'rencontre', b'clarisse', b'\\xc3\\xa9tigues', b'ars\\xc3\\xa8ne', b'd\\xc3\\xa9j\\xc3\\xa0', b'eu', b'affaire', b'de', b'nombreuses', b'fois', b'avec', b'la', b'police', b'il', b'prend', b'alors', b'le', b'nom', b'de', b'raoul', b'andr\\xc3\\xa9sy', b'pour', b'demander', b'en', b'vain', b'au', b'baron', b'godefroy', b'\\xc3\\xa9tigues', b'la', b'main', b'de', b'sa', b'fille', b'il', b'sauve', b'apr\\xc3\\xa8s', b'cette', b'\\xc3\\xa9pisode', b'la', b'vie', b'de', b'jos\\xc3\\xa9phine', b'pellegrini', b'alors', b'que', b'le', b'baron', b'et', b'ses', b'complices', b'tentaient', b'de', b'la', b'noyer', b'neuf', b'jours', b'plus', b'tard', b'il', b'abandonne', b'clarisse', b'pour', b'jos\\xc3\\xa9phine', b'dite', b'comtesse', b'de', b'cagliostro', b'ils', b'forment', b'alors', b'un', b'couple', b'de', b'cambrioleurs', b's\\xc3\\xa9vissant', b'dans', b'toute', b'la', b'normandie', b'pendant', b'quatre', b'mois', b'la', b'cagliostro', b'se', b'pr\\xc3\\xa9tend', b'descendante', b'du', b'mage', b'cagliostro', b'et', b'poss\\xc3\\xa8derait', b'le', b'secret', b'de', b'immortalit\\xc3\\xa9', b'apr\\xc3\\xa8s', b'avoir', b'mis', b'la', b'main', b'sur', b'une', b'partie', b'du', b'tr\\xc3\\xa9sor', b'des', b'abbayes', b'lupin', b'retourne', b'aupr\\xc3\\xa8s', b'de', b'clarisse', b'et', b'la', b'demande', b'de', b'nouveau', b'en', b'mariage', b'sous', b'le', b'nom', b'de', b'vicomte', b'raoul', b'andr\\xc3\\xa9sy', b'pendant', b'cinq', b'ans', b'il', b'file', b'le', b'parfait', b'amour', b'avec', b'clarisse', b'malgr\\xc3\\xa9', b'la', b'naissance', b'un', b'enfant', b'mort', b'n\\xc3\\xa9', b'il', b'continue', b'n\\xc3\\xa9anmoins', b'de', b'mener', b'une', b'double', b'vie', b'insu', b'de', b'clarisse', b'en', b'commettant', b'de', b'multiples', b'cambriolages', b'et', b'cherche', b'percer', b'le', b'secret', b'de', b'\\xc3\\xa9nigme', b'de', b'la', b'fortune', b'des', b'rois', b'de', b'france', b'en', b'il', b'fr\\xc3\\xa9quente', b'sous', b'identit\\xc3\\xa9', b'un', b'\\xc3\\xa9tudiant', b'russe', b'le', b'laboratoire', b'du', b'dermatologue', b'altier', b'h\\xc3\\xb4pital', b'saint', b'louis', b'pendant', b'mois', b'apr\\xc3\\xa8s', b'cinq', b'ans', b'de', b'vie', b'commune', b'clarisse', b'meurt', b'en', b'donnant', b'naissance', b'un', b'fils', b'jean', b'lequel', b'est', b'enlev\\xc3\\xa9', b'le', b'lendemain', b'par', b'la', b'comtesse', b'de', b'cagliostro', b'pour', b'se', b'venger', b'de', b'son', b'ancien', b'amant', b'malgr\\xc3\\xa9', b'ses', b'efforts', b'lupin', b'ne', b'parviendra', b'jamais', b'retrouver', b'sa', b'trace', b'une', b'renomm\\xc3\\xa9e', b'nationale', b'la', b'suite', b'du', b'd\\xc3\\xa9c\\xc3\\xa8s', b'de', b'sa', b'femme', b'et', b'de', b'la', b'disparition', b'de', b'son', b'fils', b'ars\\xc3\\xa8ne', b'lupin', b'se', b'jette', b'corps', b'perdu', b'dans', b'la', b'cambriole', b'et', b'se', b'fait', b'un', b'nom', b'aupr\\xc3\\xa8s', b'du', b'grand', b'public', b'le', b'vol', b'du', b'cr\\xc3\\xa9dit', b'lyonnais', b'le', b'vol', b'de', b'la', b'rue', b'de', b'babylone', b'\\xc3\\xa9mission', b'des', b'faux', b'billets', b'de', b'banque', b'affaire', b'des', b'polices', b'assurance', b'les', b'cambriolages', b'des', b'ch\\xc3\\xa2teaux', b'armesnil', b'de', b'gouret', b'imblevain', b'des', b'groselliers', b'contribuent', b'lui', b'forger', b'une', b'r\\xc3\\xa9putation', b'aupr\\xc3\\xa8s', b'du', b'grand', b'public', b'qui', b'suit', b'ses', b'exploits', b'dans', b'les', b'journaux', b'il', b'se', b'fait', b'n\\xc3\\xa9anmoins', b'arr\\xc3\\xaater', b'en', b'arrivant', b'new', b'york', b'par', b'inspecteur', b'ganimard', b'\\xc3\\xa9t\\xc3\\xa9', b'alors', b'qu', b'il', b'voyageait', b'bord', b'du', b'transatlantique', b'la', b'provence', b'son', b'arrestation', b'et', b'son', b's\\xc3\\xa9jour', b'en', b'prison', b'ach\\xc3\\xa8vent', b'de', b'lui', b'apporter', b'une', b'renomm\\xc3\\xa9e', b'nationale', b'en', b'effet', b'durant', b'son', b'incarc\\xc3\\xa9ration', b'la', b'prison', b'de', b'la', b'sant\\xc3\\xa9', b'il', b'continue', b'organiser', b'des', b'cambriolages', b'tout', b'en', b'informant', b'les', b'journaux', b'et', b'annonce', b'sa', b'prochaine', b'\\xc3\\xa9vasion', b'quelques', b'mois', b'apr\\xc3\\xa8s', b'sa', b'virtuose', b'\\xc3\\xa9vasion', b'ars\\xc3\\xa8ne', b'lupin', b'sympathise', b'avec', b'maurice', b'leblanc', b'et', b'toujours', b'en', b'recherche', b'de', b'publicit\\xc3\\xa9', b'le', b'charge', b'de', b'raconter', b'ses', b'exploits', b'lors', b'du', b'cambriolage', b'en', b'septembre', b'de', b'la', b'villa', b'du', b'd\\xc3\\xa9put\\xc3\\xa9', b'daubrecq', b'enghien', b'avec', b'deux', b'complices', b'un', b'eux', b'tue', b'le', b'domestique', b'de', b'la', b'maison', b'qui', b'alertait', b'la', b'police', b'seul', b'lupin', b'parvient', b'prendre', b'la', b'fuite', b'par', b'amour', b'pour', b'clarisse', b'mergy', b'la', b'm\\xc3\\xa8re', b'du', b'deuxi\\xc3\\xa8me', b'complice', b'lupin', b'va', b'tout', b'faire', b'pour', b'le', b'lib\\xc3\\xa9rer', b'et', b'envoyer', b'vivre', b'en', b'alg\\xc3\\xa9rie', b'la', b'suite', b'de', b'sa', b'd\\xc3\\xa9ception', b'amoureuse', b'avec', b'clarisse', b'mergy', b'lupin', b'manigance', b'son', b'mariage', b'avec', b'ang\\xc3\\xa9lique', b'sarzeau', b'vend\\xc3\\xb4me', b'mais', b'en', b'voulant', b'manipuler', b'la', b'jeune', b'fille', b'celle', b'ci', b'tombe', b'effectivement', b'amoureuse', b'de', b'lui', b'et', b'finit', b'par', b'prendre', b'le', b'voile', b'dans', b'un', b'couvent', b'apr\\xc3\\xa8s', b'avoir', b'd\\xc3\\xa9couvert', b'le', b'pot', b'aux', b'roses', b'confrontations', b'herlock', b'sholm\\xc3\\xa8s', b'durant', b'les', b'ann\\xc3\\xa9es', b'ars\\xc3\\xa8ne', b'lupin', b'continue', b'ses', b'activit\\xc3\\xa9s', b'de', b'mani\\xc3\\xa8re', b'intensive', b'se', b'd\\xc3\\xa9pla\\xc3\\xa7ant', b'm\\xc3\\xaame', b'hors', b'du', b'territoire', b'fran\\xc3\\xa7ais', b'est', b'pourquoi', b'en', b'novembre', b'il', b'charge', b'ganimard', b'de', b'r\\xc3\\xa9soudre', b'\\xc3\\xa9nigme', b'de', b'\\xc3\\xa9charpe', b'de', b'soie', b'rouge', b'ayant', b'pas', b'le', b'temps', b'de', b'en', b'occuper', b'je', b'suis', b'd\\xc3\\xa9bord\\xc3\\xa9', b'de', b'besogne', b'un', b'cambriolage', b'londres', b'un', b'autre', b'lausanne', b'une', b'substitution', b'enfant', b'marseille', b'le', b'sauvetage', b'une', b'jeune', b'fille', b'autour', b'de', b'qui', b'r\\xc3\\xb4de', b'la', b'mort', b'tout', b'me', b'tombe', b'la', b'fois', b'sur', b'les', b'bras', b'ann\\xc3\\xa9e', b'est', b'marqu\\xc3\\xa9e', b'par', b'sa', b'confrontation', b'herlock', b'sholm\\xc3\\xa8s', b'la', b'suite', b'du', b'vol', b'un', b'diamant', b'bleu', b'ce', b'c\\xc3\\xa9l\\xc3\\xa8bre', b'd\\xc3\\xa9tective', b'anglais', b'est', b'appel\\xc3\\xa9', b'pour', b'r\\xc3\\xa9soudre', b'affaire', b'celui', b'ci', b'met', b'au', b'jour', b'divers', b'secrets', b'de', b'lupin', b'et', b'proc\\xc3\\xa8de', b'son', b'arrestation', b'de', b'courte', b'dur\\xc3\\xa9e', b'cependant', b'pendant', b'dix', b'mois', b'il', b'officie', b'paris', b'agence', b'barnett', b'et', b'cie', b'sous', b'identit\\xc3\\xa9', b'du', b'd\\xc3\\xa9tective', b'priv\\xc3\\xa9', b'jim', b'barnett', b'il', b'm\\xc3\\xa8ne', b'ainsi', b'douze', b'affaires', b'aux', b'c\\xc3\\xb4t\\xc3\\xa9s', b'de', b'inspecteur', b'de', b'police', b'th\\xc3\\xa9odore', b'b\\xc3\\xa9choux', b'finalement', b'd\\xc3\\xa9masqu\\xc3\\xa9', b'il', b'emprunte', b'identit\\xc3\\xa9', b'du', b'duc', b'de', b'charmerace', b'pour', b'continuer', b'ses', b'vols', b'pour', b'lesquels', b'il', b'se', b'fait', b'aider', b'par', b'sa', b'vieille', b'nourrice', b'victoire', b'et', b'une', b'nouvelle', b'complice', b'sonia', b'krichnoff', b'ganimard', b'sur', b'ses', b'talons', b'il', b'parvient', b'prendre', b'la', b'fuite', b'en', b'compagnie', b'de', b'sonia', b'en', b'inde', b'de', b'retour', b'en', b'france', b'il', b'affronte', b'une', b'nouvelle', b'fois', b'herlock', b'sholm\\xc3\\xa8s', b'sur', b'le', b'cambriolage', b'de', b'h\\xc3\\xb4tel', b'imbleval', b'le', b'd\\xc3\\xa9tective', b'r\\xc3\\xa9cup\\xc3\\xa8re', b'les', b'objets', b'vol\\xc3\\xa9s', b'mais', b'ne', b'parvient', b'toujours', b'pas', b'arr\\xc3\\xaater', b'ars\\xc3\\xa8ne', b'lupin', b'le', b'secret', b'de', b'la', b'fortune', b'des', b'rois', b'de', b'france', b'en', b'avril', b'soit', b'un', b'an', b'apr\\xc3\\xa8s', b'la', b'mort', b'de', b'sonia', b'krichnoff', b'ars\\xc3\\xa8ne', b'lupin', b'est', b'surpris', b'lors', b'un', b'cambriolage', b'au', b'ch\\xc3\\xa2teau', b'de', b'ambrum\\xc3\\xa9sy', b'en', b'normandie', b'et', b'bless\\xc3\\xa9', b'par', b'balle', b'pendant', b'sa', b'convalescence', b'il', b'est', b'soign\\xc3\\xa9', b'par', b'la', b'm\\xc3\\xaame', b'jeune', b'femme', b'qui', b'lui', b'tir\\xc3\\xa9', b'dessus', b'raymonde', b'de', b'saint', b'v\\xc3\\xa9ran', b'laquelle', b'devient', b'sa', b'ma\\xc3\\xaetresse', b'puis', b'sa', b'femme', b'lorsqu', b'il', b'\\xc3\\xa9pouse', b'quelques', b'mois', b'plus', b'tard', b'sous', b'identit\\xc3\\xa9', b'de', b'louis', b'valm\\xc3\\xa9ras', b'pendant', b'ce', b'temps', b'un', b'jeune', b'd\\xc3\\xa9tective', b'amateur', b'isidore', b'beautrelet', b'parvient', b'd\\xc3\\xa9couvrir', b'le', b'repaire', b'secret', b'de', b'lupin', b'aiguille', b'\\xc3\\xa9tretat', b'qui', b'contient', b'\\xc3\\xa9galement', b'tous', b'les', b'tr\\xc3\\xa9sors', b'des', b'rois', b'de', b'france', b'lors', b'de', b'irruption', b'de', b'la', b'police', b'raymonde', b'est', b'abattue', b'par', b'herlock', b'sholm\\xc3\\xa8s', b'des', b'ambitions', b'europ\\xc3\\xa9ennes', b'contrari\\xc3\\xa9es', b'apr\\xc3\\xa8s', b'la', b'mort', b'de', b'raymonde', b'ars\\xc3\\xa8ne', b'lupin', b'ne', b'fait', b'plus', b'parler', b'de', b'lui', b'pendant', b'quatre', b'ans', b'en', b'r\\xc3\\xa9alit\\xc3\\xa9', b'il', b'continue', b'op\\xc3\\xa9rer', b'sous', b'deux', b'identit\\xc3\\xa9s', b'celle', b'de', b'lenormand', b'tout', b'juste', b'promu', b'chef', b'de', b'la', b's\\xc3\\xbbret\\xc3\\xa9', b'puis', b'celle', b'de', b'raoul', b'avenac', b'mondain', b'qui', b'se', b'lance', b'dans', b'enqu\\xc3\\xaate', b'du', b'meurtre', b'de', b'guercin', b'sit\\xc3\\xb4t', b'identit\\xc3\\xa9', b'de', b'raoul', b'avenac', b'fragilis\\xc3\\xa9e', b'il', b'la', b'remplace', b'tant\\xc3\\xb4t', b'par', b'celle', b'un', b'noble', b'russe', b'le', b'prince', b'paul', b'sernine', b'tant\\xc3\\xb4t', b'par', b'celle', b'un', b'prince', b'fran\\xc3\\xa7ais', b'le', b'prince', b'serge', b'r\\xc3\\xa9nine', b'ars\\xc3\\xa8ne', b'lupin', b'refait', b'son', b'apparition', b'publique', b'lorsque', b'la', b'police', b'd\\xc3\\xa9couvre', b'le', b'cadavre', b'de', b'rudolph', b'kesselbach', b'avec', b'la', b'carte', b'sign\\xc3\\xa9e', b'du', b'cambrioleur', b'lupin', b'annonce', b'alors', b'son', b'retour', b'dans', b'les', b'journaux', b'pour', b'assister', b'le', b'chef', b'de', b'la', b's\\xc3\\xbbret\\xc3\\xa9', b'lenormand', b'dans', b'affaire', b'kesselbach', b'il', b'affronte', b'un', b'ennemi', b'de', b'taille', b'louis', b'de', b'malreich', b'qui', b'finit', b'par', b'd\\xc3\\xa9noncer', b'toutes', b'ses', b'impostures', b'princi\\xc3\\xa8res', b'et', b'polici\\xc3\\xa8res', b'ars\\xc3\\xa8ne', b'lupin', b'est', b'alors', b'emprisonn\\xc3\\xa9', b'la', b'sant\\xc3\\xa9', b'empereur', b'germanique', b'guillaume', b'ii', b'le', b'visite', b'm\\xc3\\xaame', b'en', b'prison', b'visite', b'durant', b'laquelle', b'le', b'cambrioleur', b'exige', b'du', b'kaiser', b'en', b'\\xc3\\xa9change', b'de', b'ses', b'services', b'sa', b'lib\\xc3\\xa9ration', b'que', b'le', b'maroc', b'soit', b'laiss\\xc3\\xa9', b'la', b'france', b'et', b'que', b'le', b'grand', b'duch\\xc3\\xa9', b'de', b'deux', b'ponts', b'veldenz', b'soit', b'rendu', b'h\\xc3\\xa9ritier', b'qu', b'il', b'retrouv\\xc3\\xa9', b'pierre', b'leduc', b'et', b'que', b'celui', b'ci', b'puisse', b'\\xc3\\xa9pouser', b'genevi\\xc3\\xa8ve', b'ernemont', b'une', b'fois', b'son', b'\\xc3\\xa9vasion', b'r\\xc3\\xa9alis\\xc3\\xa9e', b'lupin', b'appr\\xc3\\xaate', b'se', b'retirer', b'en', b'compagnie', b'de', b'la', b'veuve', b'de', b'kesselbach', b'dolor\\xc3\\xa8s', b'malheureusement', b'tous', b'ses', b'projets', b'\\xc3\\xa9croulent', b'lorsqu', b'il', b'd\\xc3\\xa9couvre', b'que', b'est', b'mme', b'kesselbach', b'son', b'v\\xc3\\xa9ritable', b'ennemi', b'horrifi\\xc3\\xa9', b'il', b'\\xc3\\xa9trangle', b'dolor\\xc3\\xa8s', b'et', b'pierre', b'leduc', b'se', b'suicide', b'en', b'd\\xc3\\xa9couvrant', b'le', b'meurtre', b'mettant', b'fin', b'son', b'projet', b'de', b'placer', b'sa', b'fille', b'genevi\\xc3\\xa8ve', b'la', b't\\xc3\\xaate', b'du', b'grand', b'duch\\xc3\\xa9', b'de', b'deux', b'ponts', b'veldenz', b'lupin', b'met', b'alors', b'en', b'sc\\xc3\\xa8ne', b'son', b'suicide', b'et', b'engage', b'dans', b'la', b'l\\xc3\\xa9gion', b'\\xc3\\xa9trang\\xc3\\xa8re', b'sous', b'le', b'nom', b'de', b'don', b'luis', b'perenna', b'carri\\xc3\\xa8re', b'dans', b'la', b'l\\xc3\\xa9gion', b'\\xc3\\xa9trang\\xc3\\xa8re', b'don', b'luis', b'perenna', b'fait', b'venir', b'lui', b'soixante', b'anciens', b'complices', b'au', b'maroc', b'ainsi', b'second\\xc3\\xa9', b'par', b'une', b'arm\\xc3\\xa9e', b'de', b'dix', b'mille', b'marocains', b'et', b'au', b'terme', b'de', b'quinze', b'mois', b'de', b'bataille', b'il', b'se', b'cr\\xc3\\xa9\\xc3\\xa9', b'un', b'empire', b'deux', b'fois', b'grand', b'comme', b'la', b'france', b'en', b'afrique', b'en', b'il', b'rentre', b'en', b'france', b'et', b'rencontre', b'la', b'pr\\xc3\\xa9sident', b'du', b'conseil', b'valenglay', b'pour', b'offrir', b'la', b'france', b'cet', b'empire', b'mauritanien', b'don', b'luis', b'perenna', b'se', b'range', b'et', b'\\xc3\\xa9pouse', b'une', b'jeune', b'femme', b'florence', b'levasseur', b'apr\\xc3\\xa8s', b'avoir', b'sauv\\xc3\\xa9e', b'des', b'griffes', b'un', b'criminel', b'le', b'couple', b'installe', b'dans', b'le', b'village', b'de', b'saint', b'maclou', b'sur', b'les', b'rives', b'de', b'oise', b'la', b'vengeance', b'de', b'la', b'comtesse', b'de', b'cagliostro', b'en', b'ars\\xc3\\xa8ne', b'lupin', b'sort', b'de', b'sa', b'retraite', b'quand', b'un', b'certain', b'cambrioleur', b'signe', b'ses', b'forfaits', b'sous', b'son', b'nom', b'il', b'reprend', b'alors', b'du', b'service', b'sous', b'le', b'nom', b'de', b'victor', b'hautin', b'inspecteur', b'de', b'la', b'brigade', b'mondaine', b'il', b'parvient', b'ainsi', b'd\\xc3\\xa9masquer', b'usurpateur', b'un', b'individu', b'du', b'nom', b'antoine', b'bressacq', b'et', b'fait', b'alors', b'son', b'retour', b'sur', b'le', b'devant', b'de', b'la', b'sc\\xc3\\xa8ne', b'en', b'racontant', b'aux', b'journaux', b'tous', b'les', b'd\\xc3\\xa9tails', b'de', b'affaire', b'un', b'an', b'plus', b'tard', b'ars\\xc3\\xa8ne', b'lupin', b'alias', b'raoul', b'averny', b'tombe', b'dans', b'le', b'pi\\xc3\\xa8ge', b'posthume', b'que', b'lui', b'avait', b'tendu', b'la', b'comtesse', b'de', b'cagliostro', b'faire', b'du', b'fils', b'qu', b'il', b'eu', b'avec', b'clarisse', b'\\xc3\\xa9tigues', b'jean', b'un', b'criminel', b'qui', b'opposera', b'son', b'p\\xc3\\xa8re', b'ainsi', b'celui', b'ci', b'qui', b'porte', b'le', b'nom', b'de', b'f\\xc3\\xa9licien', b'charles', b'est', b'accus\\xc3\\xa9', b'tort', b'un', b'meurtre', b'influenc\\xc3\\xa9', b'par', b'anciens', b'complices', b'de', b'jos\\xc3\\xa9phine', b'balsamo', b'il', b'oppose', b'son', b'p\\xc3\\xa8re', b'qui', b'tente', b'de', b'aider', b'ars\\xc3\\xa8ne', b'lupin', b'parvient', b'finalement', b'le', b'sauver', b'sans', b'pour', b'autant', b'lui', b'r\\xc3\\xa9v\\xc3\\xa9ler', b'sa', b'parent\\xc3\\xa9', b'tout', b'comme', b'il', b'avait', b'fait', b'pour', b'sa', b'fille', b'genevi\\xc3\\xa8ve', b'\\xc3\\xa2g\\xc3\\xa9', b'de', b'cinquante', b'ans', b'ars\\xc3\\xa8ne', b'lupin', b'vit', b'paris', b'sous', b'le', b'nom', b'horace', b'velmont', b'en', b'compagnie', b'de', b'sa', b'vieille', b'nourrice', b'victoire', b'une', b'organisation', b'criminelle', b'am\\xc3\\xa9ricaine', b'int\\xc3\\xa9resse', b'sa', b'fortune', b'il', b'parvient', b'en', b'livrer', b'les', b'membres', b'la', b'police', b'et', b'enfuit', b'aux', b'\\xc3\\xa9tats', b'unis', b'pour', b'leur', b'\\xc3\\xa9chapper', b'son', b'tour', b'de', b'retour', b'en', b'france', b'il', b'enseigne', b'des', b'enfants', b'pauvres', b'des', b'bidonvilles', b'du', b'nord', b'de', b'paris', b'sous', b'le', b'nom', b'de', b'capitaine', b'cocorico', b'tandis', b'que', b'sous', b'celui', b'andr\\xc3\\xa9', b'de', b'savery', b'il', b'travaille', b'comme', b'arch\\xc3\\xa9ologue', b'pour', b'le', b'minist\\xc3\\xa8re', b'de', b'int\\xc3\\xa9rieur', b'et', b'\\xc3\\xa9pouse', b'une', b'femme', b'du', b'nom', b'de', b'cora', b'de', b'lerne', b'description', b'physique', b'ars\\xc3\\xa8ne', b'lupin', b'pr\\xc3\\xa9sente', b'la', b'particularit\\xc3\\xa9', b'de', b'se', b'grimer', b'se', b'maquiller', b'se', b'd\\xc3\\xa9guiser', b'ou', b'm\\xc3\\xaame', b'se', b'transformer', b'selon', b'le', b'personnage', b'qu', b'il', b'incarne', b'il', b'est', b'donc', b'assez', b'difficile', b'en', b'faire', b'une', b'description', b'exacte', b'n\\xc3\\xa9anmoins', b'au', b'naturel', b'il', b'agit', b'semble', b'il', b'un', b'personnage', b'plut\\xc3\\xb4t', b'\\xc3\\xa9lanc\\xc3\\xa9', b'de', b'belle', b'allure', b'et', b'une', b'force', b'peu', b'commune', b'li\\xc3\\xa9e', b'son', b'entra\\xc3\\xaenement', b'personnalit\\xc3\\xa9', b'son', b'c\\xc3\\xb4t\\xc3\\xa9', b'enfantin', b'aussi', b'bien', b'qu', b'une', b'face', b'plus', b'sombre', b'sa', b'valse', b'h\\xc3\\xa9sitation', b'constante', b'entre', b'aristocratie', b'son', b'c\\xc3\\xb4t\\xc3\\xa9', b'raoul', b'andr\\xc3\\xa9sy', b'et', b'pl\\xc3\\xa8be', b'la', b'face', b'ars\\xc3\\xa8ne', b'lupin', b'un', b'caract\\xc3\\xa8re', b'la', b'fois', b's\\xc3\\xa9duisant', b'tortur\\xc3\\xa9', b'et', b'myst\\xc3\\xa9rieux', b'lui', b'ont', b'assur\\xc3\\xa9', b'son', b'succ\\xc3\\xa8s', b'aupr\\xc3\\xa8s', b'de', b'nombreux', b'lecteurs', b'il', b'fait', b'montre', b'de', b'ses', b'talents', b'dans', b'de', b'nombreuses', b'aventures', b'qui', b'se', b'suivent', b'et', b'ont', b'pour', b'cadre', b'la', b'france', b'de', b'la', b'belle', b'\\xc3\\xa9poque', b'puis', b'plus', b'bri\\xc3\\xa8vement', b'celle', b'des', b'ann\\xc3\\xa9es', b'folles', b'aucune', b'\\xc3\\xa9nigme', b'ne', b'r\\xc3\\xa9siste', b'la', b'perspicacit\\xc3\\xa9', b'du', b'h\\xc3\\xa9ros', b'm\\xc3\\xaame', b'si', b'personne', b'r\\xc3\\xa9ussi', b'r\\xc3\\xa9soudre', b'celle', b'ci', b'depuis', b'la', b'chute', b'des', b'rois', b'de', b'france', b'comme', b'dans', b'aiguille', b'creuse', b'sa', b'r\\xc3\\xa9pulsion', b'tuer', b'et', b'son', b'respect', b'des', b'femmes', b'le', b'rendent', b'fort', b'sympathique', b'pour', b'un', b'large', b'public', b'jusqu', b'aujourd', b'hui', b'il', b'restitue', b'certains', b'bijoux', b'vol\\xc3\\xa9s', b'de', b'jolies', b'femmes', b'pour', b'peu', b'qu', b'un', b'sourire', b'ait', b'\\xc3\\xa9mu', b'charmeur', b'il', b'h\\xc3\\xa9site', b'pas', b'confier', b'avoir', b'\\xc3\\xa9t\\xc3\\xa9', b'rejet\\xc3\\xa9', b'parfois', b'pour', b'des', b'rivaux', b'moins', b'valables', b'il', b'est', b'pas', b'un', b's\\xc3\\xa9ducteur', b'infaillible', b'ce', b'qui', b'lui', b'donne', b'une', b'dimension', b'plus', b'humaine', b'que', b'nombre', b'autres', b'h\\xc3\\xa9ros', b'de', b'litt\\xc3\\xa9rature', b'il', b'fait', b'\\xc3\\xa9galement', b'preuve', b'de', b'patriotisme', b'notamment', b'au', b'cours', b'des', b'\\xc3\\xa9pisodes', b'situ\\xc3\\xa9s', b'durant', b'la', b'premi\\xc3\\xa8re', b'guerre', b'mondiale', b'il', b'prend', b'initiative', b'de', b'plusieurs', b'op\\xc3\\xa9rations', b'diplomatiques', b'en', b'faveur', b'de', b'la', b'france', b'qui', b'auraient', b'apr\\xc3\\xa8s', b'lui', b'chang\\xc3\\xa9', b'le', b'cours', b'de', b'la', b'guerre', b'il', b'est', b'engag\\xc3\\xa9', b'dans', b'la', b'l\\xc3\\xa9gion', b'\\xc3\\xa9trang\\xc3\\xa8re', b'et', b'combattu', b'au', b'service', b'de', b'la', b'france', b'en', b'afrique', b'du', b'nord', b'les', b'dents', b'du', b'tigre', b'pseudonymes', b'les', b'ann\\xc3\\xa9es', b'mentionn\\xc3\\xa9es', b'ci', b'apr\\xc3\\xa8s', b'proviennent', b'de', b'la', b'vie', b'criminelle', b'ars\\xc3\\xa8ne', b'lupin', b'de', b'tentative', b'de', b'biographie', b'r\\xc3\\xa9dig\\xc3\\xa9e', b'par', b'francis', b'lacassin', b'dans', b'le', b'tome', b'de', b'int\\xc3\\xa9grale', b'ars\\xc3\\xa8ne', b'lupin', b'publi\\xc3\\xa9e', b'en', b'dans', b'la', b'collection', b'bouquins', b'des', b'\\xc3\\xa9ditions', b'robert', b'laffont', b'cette', b'biographie', b'est', b'contest\\xc3\\xa9e', b'par', b'andr\\xc3\\xa9', b'fran\\xc3\\xa7ois', b'ruaud', b'qui', b'publi\\xc3\\xa9', b'quatre', b'reprises', b'une', b'chronologie', b'diff\\xc3\\xa9rente', b'du', b'gentleman', b'cambrioleur', b'cf', b'ars\\xc3\\xa8ne', b'lupin', b'une', b'vie', b'les', b'moutons', b'\\xc3\\xa9lectriques', b'seuls', b'sont', b'pris', b'en', b'compte', b'les', b'noms', b'rapport\\xc3\\xa9s', b'par', b'maurice', b'leblanc', b'dans', b'ses', b'nouvelles', b'romans', b'et', b'pi\\xc3\\xa8ces', b'de', b'th\\xc3\\xa9\\xc3\\xa2tre', b'raoul', b'andr\\xc3\\xa9sy', b'son', b'deuxi\\xc3\\xa8me', b'pr\\xc3\\xa9nom', b'avec', b'le', b'nom', b'de', b'jeune', b'fille', b'de', b'sa', b'm\\xc3\\xa8re', b'henriette', b'andr\\xc3\\xa9sy', b'le', b'jeune', b'lupin', b'six', b'ans', b'est', b'ainsi', b'appel\\xc3\\xa9', b'probablement', b'partir', b'du', b'moment', b'o\\xc3\\xb9', b'celle', b'ci', b'reprend', b'ce', b'nom', b'partir', b'de', b'lorsqu', b'elle', b'se', b's\\xc3\\xa9pare', b'de', b'son', b'mari', b'indigne', b'et', b'se', b'fait', b'passer', b'pour', b'veuve', b'source', b'la', b'comtesse', b'de', b'cagliostro', b'ars\\xc3\\xa8ne', b'lupin', b'vingt', b'ans', b'fichier', b'abbaye', b'de', b'jumi\\xc3\\xa8ges', b'pd', b'jpg', b'vignette', b'jumi\\xc3\\xa8ges', b'la', b'comtesse', b'de', b'cagliostro', b'vicomte', b'raoul', b'andr\\xc3\\xa9sy', b'titre', b'adopt\\xc3\\xa9', b'lors', b'de', b'son', b'mariage', b'avec', b'clarisse', b'\\xc3\\xa9tigues', b'en', b'juillet', b'est', b'cette', b'\\xc3\\xa9poque', b'que', b'lupin', b'efface', b'toute', b'trace', b'de', b'ses', b'origines', b'dans', b'les', b'registres', b'\\xc3\\xa9tat', b'civil', b'de', b'la', b'ville', b'de', b'blois', b'et', b'remplace', b'lupin', b'par', b'floriani', b'un', b'nom', b'dont', b'il', b'se', b'servira', b'plus', b'tard', b'par', b'la', b'suite', b'administration', b's\\xc3\\xbbre', b'de', b'sa', b'disparition', b'ajoutera', b'en', b'mars', b'sur', b'le', b'registre', b'des', b'd\\xc3\\xa9c\\xc3\\xa8s', b'la', b'mention', b'd\\xc3\\xa9c\\xc3\\xa9d\\xc3\\xa9', b'sous', b'le', b'nom', b'ars\\xc3\\xa8ne', b'lupin', b'source', b'la', b'comtesse', b'de', b'cagliostro', b'\\xc3\\xa9pilogue', b'et', b'les', b'dents', b'du', b'tigre', b'le', b'collier', b'de', b'fer', b'rostat', b'nom', b'de', b'quand', b'il', b'travailla', b'comme', b'apprenti', b'du', b'dickson', b'il', b'dit', b'avoir', b'aussi', b'travaill\\xc3\\xa9', b'six', b'mois', b'avec', b'un', b'autre', b'nomm\\xc3\\xa9', b'pickmann', b'source', b'ars\\xc3\\xa8ne', b'lupin', b'gentleman', b'cambrioleur', b'\\xc3\\xa9vasion', b'ars\\xc3\\xa8ne', b'lupin', b'cf', b'acte', b'accusation', b'et', b'les', b'confidences', b'ars\\xc3\\xa8ne', b'lupin', b'anneau', b'nuptial', b'maxime', b'bermond', b'nom', b'entrepreneur', b'pris', b'pour', b'am\\xc3\\xa9nager', b'de', b'quinze', b'immeubles', b'de', b'la', b'capitale', b'pour', b'faciliter', b'les', b'vols', b'de', b'tableau', b'source', b'ars\\xc3\\xa8ne', b'lupin', b'contre', b'herlock', b'sholm\\xc3\\xa8s', b'la', b'dame', b'blonde', b'bernard', b'andr\\xc3\\xa9sy', b'identit\\xc3\\xa9', b'vol\\xc3\\xa9e', b'son', b'cousin', b'bernard', b'd\\xc3\\xa9c\\xc3\\xa9d\\xc3\\xa9', b'en', b'mac\\xc3\\xa9doine', b'en', b'mention', b'r\\xc3\\xa9v\\xc3\\xa9l\\xc3\\xa9e', b'par', b'inspecteur', b'ganimard', b'est', b'en', b'ao\\xc3\\xbbt', b'qu', b'il', b'embarque', b'sous', b'cette', b'identit\\xc3\\xa9', b'bord', b'de', b'la', b'provence', b'et', b'que', b'la', b'radio', b'r\\xc3\\xa9v\\xc3\\xa8le', b'sa', b'pr\\xc3\\xa9sence', b'mais', b'lupin', b'est', b'recherch\\xc3\\xa9', b'par', b'ganimard', b'sous', b'le', b'nom', b'de', b'nom', b'peut', b'\\xc3\\xaatre', b'vol\\xc3\\xa9', b'un', b'passager', b'r\\xc3\\xa9el', b'rivolta', b'rozaine', b'source', b'ars\\xc3\\xa8ne', b'lupin', b'gentleman', b'cambrioleur', b'arrestation', b'ars\\xc3\\xa8ne', b'lupin', b'jean', b'daspry', b'est', b'sous', b'ce', b'nom', b'qu', b'en', b'il', b'fait', b'la', b'connaissance', b'de', b'son', b'biographe', b'maurice', b'leblanc', b'on', b'apprend', b'peu', b'apr\\xc3\\xa8s', b'que', b'ce', b'daspry', b'est', b'officiellement', b'tu\\xc3\\xa9', b'en', b'd\\xc3\\xa9cembre', b'de', b'la', b'm\\xc3\\xaame', b'ann\\xc3\\xa9e', b'sur', b'la', b'fronti\\xc3\\xa8re', b'du', b'maroc', b'source', b'ars\\xc3\\xa8ne', b'lupin', b'gentleman', b'cambrioleur', b'le', b'sept', b'de', b'c\\xc5\\x93ur', b'comte', b'bernard', b'andr\\xc3\\xa9sy', b'titre', b'utilis\\xc3\\xa9', b'en', b'avec', b'le', b'pr\\xc3\\xa9nom', b'de', b'son', b'cousin', b'd\\xc3\\xa9c\\xc3\\xa9d\\xc3\\xa9', b'quand', b'lupin', b'se', b'trouve', b'dans', b'extr\\xc3\\xaame', b'sud', b'alg\\xc3\\xa9rien', b'mais', b'de', b'retour', b'paris', b'en', b'f\\xc3\\xa9vrier', b'est', b'incognito', b'qu', b'il', b'remporte', b'le', b'grand', b'prix', b'cycliste', b'de', b'exposition', b'internationale', b'source', b'ars\\xc3\\xa8ne', b'lupin', b'gentleman', b'cambrioleur', b'arrestation', b'ars\\xc3\\xa8ne', b'lupin', b'\\xc3\\xa9vasion', b'ars\\xc3\\xa8ne', b'lupin', b'horace', b'velmont', b'membre', b'du', b'cercle', b'de', b'la', b'rue', b'royale', b'identit\\xc3\\xa9', b'adopt\\xc3\\xa9e', b'en', b'dans', b'les', b'confidences', b'ars\\xc3\\xa8ne', b'lupin', b'anneau', b'nuptial', b'il', b'se', b'pr\\xc3\\xa9sente', b'encore', b'sous', b'ce', b'nom', b'mais', b'cette', b'fois', b'comme', b'artiste', b'peintre', b'fin', b'avril', b'au', b'casino', b'de', b'dieppe', b'et', b'en', b'juillet', b'en', b's\\xc3\\xa9jour', b'au', b'ch\\xc3\\xa2teau', b'de', b'thibermesnil', b'source', b'ars\\xc3\\xa8ne', b'lupin', b'gentleman', b'cambrioleur', b'herlock', b'sholm\\xc3\\xa8s', b'arrive', b'trop', b'tard', b'enfin', b'en', b'mai', b'on', b'le', b'retrouve', b'en', b'horace', b'velmont', b'tout', b'au', b'long', b'de', b'aventure', b'les', b'milliards', b'ars\\xc3\\xa8ne', b'lupin', b'dans', b'ce', b'r\\xc3\\xa9cit', b'lupin', b'ajoute', b'par', b'd\\xc3\\xa9rision', b'archiduc', b'auteuil', b'longchamp', b'et', b'signe', b'\\xc3\\xa9galement', b'un', b'document', b'am\\xc3\\xa9ricain', b'paule', b'sinner', b'une', b'anagramme', b'de', b'son', b'nom', b'qu', b'on', b'peut', b'traduire', b'par', b'paule', b'p\\xc3\\xa9cheresse', b'd\\xc3\\xa9sir\\xc3\\xa9', b'baudru', b'identit\\xc3\\xa9', b'subtilis\\xc3\\xa9e', b'un', b'clochard', b'qui', b'ressemble', b'lupin', b'lors', b'du', b'proc\\xc3\\xa8s', b'du', b'cambrioleur', b'en', b'd\\xc3\\xa9cembre', b'ganimard', b'croit', b'ainsi', b'que', b'ce', b'est', b'pas', b'lui', b'et', b'le', b'd\\xc3\\xa9tenu', b'sera', b'finalement', b'rel\\xc3\\xa2ch\\xc3\\xa9', b'mais', b'il', b'sera', b'objet', b'une', b'longue', b'filature', b'la', b'fin', b'de', b'laquelle', b'lupin', b'avoue', b'ganimard', b'que', b'est', b'pourtant', b'bien', b'lui', b'et', b'non', b'baudru', b'source', b'ars\\xc3\\xa8ne', b'lupin', b'gentleman', b'cambrioleur', b'\\xc3\\xa9vasion', b'ars\\xc3\\xa8ne', b'lupin', b'chevalier', b'floriani', b'nom', b'adopt\\xc3\\xa9', b'au', b'printemps', b'sous', b'lequel', b'il', b'fait', b'la', b'connaissance', b'palerme', b'en', b'sicile', b'du', b'comte', b'de', b'dreux', b'soubise', b'auquel', b'il', b'rendra', b'visite', b'sous', b'le', b'm\\xc3\\xaame', b'nom', b'son', b'retour', b'fin', b'avril', b'en', b'france', b'auparavant', b'il', b'passe', b'par', b'rome', b'et', b'rend', b'visite', b'des', b'personnes', b'du', b'vatican', b'source', b'ars\\xc3\\xa8ne', b'lupin', b'gentleman', b'cambrioleur', b'le', b'collier', b'de', b'la', b'reine', b'capitaine', b'janniot', b'nom', b'utilis\\xc3\\xa9', b'alors', b'qu', b'il', b'revient', b'italie', b'le', b'avril', b'dans', b'un', b'train', b'qui', b'd\\xc3\\xa9raille', b'pr\\xc3\\xa8s', b'de', b'dijon', b'il', b'secourt', b'des', b'bless\\xc3\\xa9s', b'source', b'les', b'confidences', b'ars\\xc3\\xa8ne', b'lupin', b'le', b'signe', b'de', b'ombre', b'guillaume', b'berlat', b'nom', b'utilis\\xc3\\xa9', b'quand', b'lupin', b'condamn\\xc3\\xa9', b'par', b'contumace', b'prend', b'le', b'train', b'pour', b'rouen', b'le', b'avril', b'source', b'ars\\xc3\\xa8ne', b'lupin', b'gentleman', b'cambrioleur', b'le', b'myst\\xc3\\xa9rieux', b'voyageur', b'colonel', b'beauvel', b'identit\\xc3\\xa9', b'utilis\\xc3\\xa9e', b'par', b'lupin', b'pour', b'commander', b'la', b'deuxi\\xc3\\xa8me', b'compagnie', b'du', b'quatri\\xc3\\xa8me', b'bataillon', b'infanterie', b'de', b'transporter', b'dans', b'ses', b'fourgons', b'toutes', b'les', b'\\xc5\\x93uvres', b'art', b'qu', b'il', b'vient', b'de', b'd\\xc3\\xa9rober', b'au', b'ch\\xc3\\xa2teau', b'de', b'thibermesnil', b'mais', b'qu', b'il', b'promis', b'nelly', b'underdown', b'de', b'rapporter', b'le', b'lendemain', b'pour', b'heures', b'source', b'ars\\xc3\\xa8ne', b'lupin', b'gentleman', b'cambrioleur', b'herlock', b'sholm\\xc3\\xa8s', b'arrive', b'trop', b'tard', b'jacques', b'de', b'charmerace', b'duc', b'explorateur', b'sosie', b'parfait', b'de', b'lupin', b'parti', b'depuis', b'pr\\xc3\\xa8s', b'de', b'sept', b'ans', b'pour', b'une', b'exp\\xc3\\xa9dition', b'au', b'p\\xc3\\xb4le', b'sud', b'les', b'deux', b'hommes', b'font', b'connaissance', b'mais', b'six', b'mois', b'plus', b'tard', b'le', b'duc', b'meurt', b'en', b'ao\\xc3\\xbbt', b'malgr\\xc3\\xa9', b'les', b'soins', b'de', b'lupin', b'de', b'retour', b'en', b'france', b'en', b'juillet', b'lupin', b'se', b'fait', b'passer', b'pour', b'le', b'duc', b'et', b'trompe', b'm\\xc3\\xaame', b'sa', b'fianc\\xc3\\xa9e', b'source', b'ars\\xc3\\xa8ne', b'lupin', b'acte', b'iv', b'sc\\xc3\\xa8ne', b'acte', b'sc\\xc3\\xa8ne', b'lenormand', b'commissaire', b'du', b'gouvernement', b'fran\\xc3\\xa7ais', b'en', b'cochinchine', b'alors', b'\\xc3\\xa2g\\xc3\\xa9', b'de', b'ans', b'lupin', b'fait', b'sa', b'connaissance', b'en', b'ao\\xc3\\xbbt', b'sa\\xc3\\xafgon', b'et', b'de', b'retour', b'en', b'france', b'en', b'juin', b'il', b'se', b'substitue', b'au', b'personnage', b'en', b'octobre', b'toujours', b'sous', b'cette', b'identit\\xc3\\xa9', b'il', b'sera', b'sous', b'chef', b'puis', b'chef', b'de', b'la', b's\\xc3\\xbbret\\xc3\\xa9', b'jusqu', b'en', b'puis', b'il', b'sera', b'd\\xc3\\xa9couvert', b'par', b'la', b'police', b'comme', b'\\xc3\\xa9tant', b'ars\\xc3\\xa8ne', b'lupin', b'et', b'une', b'fois', b'de', b'plus', b'mis', b'en', b'prison', b'source', b'la', b'double', b'vie', b'ars\\xc3\\xa8ne', b'lupin', b'barbareux', b'directeur', b'une', b'agence', b'de', b'renseignements', b'confidentiels', b'sous', b'ce', b'nom', b'lupin', b'entre', b'en', b'relation', b'avec', b'le', b'diamantaire', b'rudolph', b'kesselbach', b'arriv\\xc3\\xa9', b'paris', b'alors', b'que', b'ce', b'dernier', b'recherche', b'secr\\xc3\\xa8tement', b'un', b'homme', b'myst\\xc3\\xa9rieux', b'disparu', b'nomm\\xc3\\xa9', b'pierre', b'leduc', b'source', b'la', b'double', b'vie', b'ars\\xc3\\xa8ne', b'lupin', b'le', b'massacre', b'le', b'colonel', b'nom', b'li\\xc3\\xa9', b'au', b'pr\\xc3\\xa9c\\xc3\\xa9dent', b'et', b'sous', b'lequel', b'lupin', b'barbareux', b'prend', b'un', b'rendez', b'vous', b't\\xc3\\xa9l\\xc3\\xa9phonique', b'avec', b'kesselbach', b'et', b'introduit', b'chez', b'lui', b'il', b'lui', b'r\\xc3\\xa9v\\xc3\\xa9lera', b'ailleurs', b'son', b'identit\\xc3\\xa9', b'de', b'gentleman', b'cambrioleur', b'en', b'lui', b'laissant', b'une', b'carte', b'de', b'visite', b'source', b'la', b'double', b'vie', b'ars\\xc3\\xa8ne', b'lupin', b'le', b'massacre', b'michel', b'beaumont', b'collectionneur', b'nom', b'utilis\\xc3\\xa9', b'en', b'pour', b'\\xc3\\xa9chapper', b'pendant', b'six', b'mois', b'acharnement', b'du', b'd\\xc3\\xa9put\\xc3\\xa9', b'daubrecq', b'source', b'le', b'bouchon', b'de', b'cristal', b'le', b'clos', b'lupin', b'\\xc3\\xa9tretat', b'nicole', b'professeur', b'libre', b'licenci\\xc3\\xa9', b'\\xc3\\xa8s', b'lettres', b'nom', b'qui', b'alterne', b'avec', b'le', b'pr\\xc3\\xa9c\\xc3\\xa9dent', b'pendant', b'la', b'm\\xc3\\xaame', b'p\\xc3\\xa9riode', b'source', b'le', b'bouchon', b'de', b'cristal', b'colonel', b'sparmiento', b'riche', b'br\\xc3\\xa9silien', b'occupant', b'un', b'h\\xc3\\xb4tel', b'rue', b'de', b'la', b'faisanderie', b'angle', b'rue', b'dufrenoy', b'dont', b'lupin', b'prend', b'identit\\xc3\\xa9', b'en', b'mars', b'ce', b'colonel', b'se', b'suicide', b'mais', b'ganimard', b'd\\xc3\\xa9couvre', b'qu', b'il', b'agit', b'une', b'escroquerie', b'assurance', b'avec', b'substitution', b'de', b'cadavre', b'source', b'les', b'confidences', b'ars\\xc3\\xa8ne', b'lupin', b'\\xc3\\xa9dith', b'au', b'cou', b'de', b'cygne', b'delangle', b'inspecteur', b'de', b'la', b's\\xc3\\xbbret\\xc3\\xa9', b'ce', b'personnage', b'de', b'substitution', b'met', b'en', b'confiance', b'nicolas', b'dugrival', b'qui', b'il', b'vient', b'de', b'rapporter', b'une', b'montre', b'en', b'or', b'vol\\xc3\\xa9e', b'sur', b'lui', b'puis', b'profite', b'de', b'la', b'cohue', b'pour', b'lui', b'subtiliser', b'en', b'retour', b'un', b'portefeuille', b'de', b'cinquante', b'mille', b'francs', b'gagn\\xc3\\xa9s', b'aux', b'courses', b'lupin', b'qui', b'protest\\xc3\\xa9', b'par', b'd\\xc3\\xa9p\\xc3\\xaache', b'de', b'accusation', b'de', b'ce', b'vol', b'admet', b'pourtant', b'cette', b'identit\\xc3\\xa9', b'lors', b'de', b'son', b'interrogatoire', b'forc\\xc3\\xa9', b'par', b'la', b'veuve', b'dugrival', b'source', b'les', b'confidences', b'ars\\xc3\\xa8ne', b'lupin', b'le', b'pi\\xc3\\xa8ge', b'infernal', b'jacques', b'emboise', b'colon', b'fran\\xc3\\xa7ais', b'en', b'alg\\xc3\\xa9rie', b'et', b'cousin', b'ang\\xc3\\xa9lique', b'de', b'sarzeau', b'vend\\xc3\\xb4me', b'princesse', b'de', b'bourbon', b'cond\\xc3\\xa9', b'd\\xc3\\xa9but', b'il', b'fait', b'la', b'connaissance', b'de', b'lupin', b'qu', b'il', b'h\\xc3\\xa9berge', b'chez', b'lui', b'ce', b'dernier', b'le', b'fera', b'enlever', b'et', b's\\xc3\\xa9questrer', b'd\\xc3\\xa9but', b'mars', b'pour', b'se', b'substituer', b'lui', b'et', b'trois', b'mois', b'plus', b'tard', b'\\xc3\\xa9pouser', b'sa', b'cousine', b'sa', b'place', b'tentant', b'ainsi', b'de', b'r\\xc3\\xa9cup\\xc3\\xa9rer', b'une', b'dot', b'de', b'onze', b'millions', b'source', b'les', b'confidences', b'ars\\xc3\\xa8ne', b'lupin', b'le', b'mariage', b'ars\\xc3\\xa8ne', b'lupin', b'jean', b'dubreuil', b'ancien', b'ministre', b'nom', b'pris', b'par', b'lupin', b'fin', b'novembre', b'pour', b'occuper', b'un', b'appartement', b'rue', b'de', b'sur\\xc3\\xa8ne', b'lupin', b'r\\xc3\\xa9v\\xc3\\xa8le', b'cette', b'identit\\xc3\\xa9', b'emprunt', b'inspecteur', b'ganimard', b'apr\\xc3\\xa8s', b'avoir', b'attir\\xc3\\xa9', b'par', b'un', b'stratag\\xc3\\xa8me', b'source', b'les', b'confidences', b'ars\\xc3\\xa8ne', b'lupin', b'\\xc3\\xa9charpe', b'de', b'soie', b'rouge', b'paul', b'daubreuil', b'identit\\xc3\\xa9', b'sous', b'laquelle', b'lupin', b'se', b'pr\\xc3\\xa9sente', b'successivement', b'devant', b'jeanne', b'darcieux', b'et', b'devant', b'le', b'docteur', b'gu\\xc3\\xa9roult', b'source', b'les', b'confidences', b'ars\\xc3\\xa8ne', b'lupin', b'la', b'mort', b'qui', b'r\\xc3\\xb4de', b'f\\xc3\\xa9lix', b'davey', b'nom', b'sous', b'lequel', b'lupin', b'aux', b'environs', b'de', b'juin', b'est', b'domicili\\xc3\\xa9', b'au', b'rue', b'crevaux', b'entre', b'avenue', b'du', b'bois', b'de', b'boulogne', b'et', b'avenue', b'bugeaud', b'la', b'premi\\xc3\\xa8re', b'avenue', b'est', b'aujourd', b'hui', b'avenue', b'foch', b'il', b'va', b'avec', b'la', b'complicit\\xc3\\xa9', b'un', b'certain', b'dubreuil', b'd\\xc3\\xa9m\\xc3\\xa9nager', b'cinquante', b'cinq', b'pi\\xc3\\xa8ces', b'de', b'six', b'appartements', b'qui', b'constituaient', b'pour', b'ainsi', b'dire', b'son', b'patrimoine', b'avant', b'de', b'partir', b'il', b'\\xc3\\xa9crit', b'en', b'capitales', b'sur', b'le', b'papier', b'peint', b'de', b'la', b'salle', b'manger', b'du', b'\\xc3\\xa9tage', b'o\\xc3\\xb9', b'il', b'vivait', b'ici', b'habita', b'durant', b'cinq', b'ann\\xc3\\xa9es', b'au', b'd\\xc3\\xa9but', b'du', b'ars\\xc3\\xa8ne', b'lupin', b'gentilhomme', b'cambrioleur', b'source', b'ars\\xc3\\xa8ne', b'lupin', b'contre', b'herlock', b'sholm\\xc3\\xa8s', b'la', b'dame', b'blonde', b'la', b'seconde', b'arrestation', b'ars\\xc3\\xa8ne', b'lupin', b'\\xc3\\xa9tienne', b'de', b'vaudreix', b'homme', b'affaires', b'grand', b'voyageur', b'et', b'chasseur', b'cette', b'identit\\xc3\\xa9', b'est', b'prise', b'en', b'avril', b'lors', b'de', b'la', b'location', b'un', b'appartement', b'parisien', b'au', b'rue', b'marbeuf', b'mais', b'r\\xc3\\xa9v\\xc3\\xa9l\\xc3\\xa9e', b'par', b'isidore', b'beautrelet', b'dans', b'une', b'lettre', b'ganimard', b'source', b'aiguille', b'creuse', b'isidore', b'beautrelet', b'\\xc3\\xa9l\\xc3\\xa8ve', b'de', b'rh\\xc3\\xa9torique', b'baron', b'anfredi', b'nom', b'ao\\xc3\\xbbt', b'd\\xc3\\xa9signant', b'lupin', b'comme', b'locataire', b'du', b'ch\\xc3\\xa2teau', b'de', b'aiguille', b'dans', b'la', b'creuse', b'source', b'aiguille', b'creuse', b'un', b'secret', b'historique', b'louis', b'valm\\xc3\\xa9ras', b'nom', b'utilis\\xc3\\xa9', b'en', b'ao\\xc3\\xbbt', b'le', b'd\\xc3\\xa9signant', b'encore', b'comme', b'propri\\xc3\\xa9taire', b'du', b'ch\\xc3\\xa2teau', b'de', b'aiguille', b'domicili\\xc3\\xa9', b'au', b'rue', b'du', b'mont', b'thabor', b'et', b'sous', b'lequel', b'le', b'lupin', b'contracte', b'un', b'troisi\\xc3\\xa8me', b'mariage', b'en', b'\\xc3\\xa9pousant', b'raymonde', b'de', b'saint', b'v\\xc3\\xa9ran', b'source', b'aiguille', b'creuse', b'un', b'secret', b'historique', b'baron', b'raoul', b'de', b'lim\\xc3\\xa9zy', b'explorateur', b'de', b'retour', b'du', b'tibet', b'et', b'asie', b'centrale', b'nom', b'et', b'titre', b'pris', b'en', b'dans', b'aventure', b'la', b'demoiselle', b'aux', b'yeux', b'verts', b'cependant', b'ses', b'initiales', b'hv', b'horace', b'velmont', b'restent', b'inchang\\xc3\\xa9es', b'dans', b'son', b'chapeau', b'et', b'anglaise', b'aux', b'yeux', b'bleus', b'si', b'lupin', b'loue', b'sous', b'ce', b'nom', b'une', b'chambre', b'au', b'bellevue', b'de', b'monte', b'carlo', b'contigu\\xc3\\xab', b'la', b'suite', b'de', b'lord', b'bakefield', b'afin', b'\\xc3\\xa9pier', b'ce', b'dernier', b'le', b'terre', b'neuve', b'et', b'si', b'son', b'biographe', b'tout', b'au', b'long', b'du', b'r\\xc3\\xa9cit', b'le', b'd\\xc3\\xa9signe', b'\\xc3\\xa9galement', b'comme', b'baron', b'raoul', b'de', b'lim\\xc3\\xa9zy', b'ou', b'plus', b'souvent', b'par', b'son', b'simple', b'pr\\xc3\\xa9nom', b'raoul', b'le', b'commissaire', b'marescal', b'identifi\\xc3\\xa9', b'sous', b'orthographe', b'baron', b'raoul', b'de', b'lim\\xc3\\xa9sy', b'viii', b'man\\xc5\\x93uvre', b'et', b'dispositif', b'de', b'campagne', b'sauvinoux', b'auxiliaire', b'de', b'police', b'fictif', b'nomm\\xc3\\xa9', b'aupr\\xc3\\xa8s', b'du', b'commissaire', b'marescal', b'par', b'son', b'ministre', b'de', b'tutelle', b'non', b'sans', b'entremise', b'de', b'son', b'\\xc3\\xa9pouse', b'et', b'qui', b'cachera', b'un', b'temps', b'identit\\xc3\\xa9', b'de', b'lupin', b'pour', b'lui', b'permettre', b'de', b'prot\\xc3\\xa9ger', b'aur\\xc3\\xa9lie', b'la', b'demoiselle', b'aux', b'yeux', b'verts', b'des', b'mots', b'qui', b'valent', b'des', b'actes', b'est', b'entre', b'temps', b'un', b'sosie', b'qui', b'remplac\\xc3\\xa9', b'au', b'moment', b'de', b'son', b'arrestation', b'et', b'de', b'sa', b'mise', b'au', b'd\\xc3\\xa9p\\xc3\\xb4t', b'prince', b'paul', b'sernine', b'membre', b'\\xc3\\xa9minent', b'de', b'la', b'colonie', b'russe', b'de', b'paris', b'anagramme', b'ars\\xc3\\xa8ne', b'lupin', b'jeu', b'de', b'mots', b'd\\xc3\\xa9nonc\\xc3\\xa9', b'par', b'une', b'lettre', b'du', b'myst\\xc3\\xa9rieux', b'weber', b'sous', b'chef', b'de', b'la', b's\\xc3\\xbbret\\xc3\\xa9', b'sous', b'cette', b'identit\\xc3\\xa9', b'lupin', b'am\\xc3\\xa9nage', b'un', b'rez', b'de', b'chauss\\xc3\\xa9e', b'angle', b'du', b'boulevard', b'haussmann', b'et', b'de', b'la', b'rue', b'de', b'courcelles', b'qu', b'il', b'habitera', b'de', b'source', b'la', b'double', b'vie', b'ars\\xc3\\xa8ne', b'lupin', b'le', b'prince', b'sernine', b'ouvrage', b'prince', b'serge', b'r\\xc3\\xa9nine', b'nom', b'adopt\\xc3\\xa9', b'dans', b'le', b'm\\xc3\\xaame', b'temps', b'que', b'celui', b'de', b'sernine', b'puisque', b'ces', b'deux', b'princes', b'sont', b'domicili\\xc3\\xa9s', b'la', b'm\\xc3\\xaame', b'adresse', b'sans', b'raison', b'connue', b'sinon', b'qu', b'la', b'diff\\xc3\\xa9rence', b'de', b'ce', b'dernier', b'r\\xc3\\xa9nine', b'courtise', b'hortense', b'daniel', b'tandis', b'que', b'autre', b'empresse', b'aupr\\xc3\\xa8s', b'de', b'dolor\\xc3\\xa8s', b'kesselbach', b'cette', b'identit\\xc3\\xa9', b'est', b'utilis\\xc3\\xa9e', b'que', b'dans', b'les', b'nouvelles', b'les', b'huit', b'coups', b'de', b'horloge', b'cf', b'la', b'dame', b'la', b'hache', b'andr\\xc3\\xa9', b'beauny', b'nom', b'inscrit', b'sur', b'une', b'carte', b'de', b'visite', b'de', b'lupin', b'qui', b'se', b'pr\\xc3\\xa9sente', b'au', b'domicile', b'de', b'dolor\\xc3\\xa8s', b'kesselbach', b'r\\xc3\\xa9fugi\\xc3\\xa9e', b'rue', b'des', b'vignes', b'passy', b'et', b'qui', b'ne', b'le', b'reconna\\xc3\\xaetra', b'pas', b'imm\\xc3\\xa9diatement', b'source', b'la', b'double', b'vie', b'ars\\xc3\\xa8ne', b'lupin', b'les', b'sept', b'bandits', b'don', b'luis', b'perenna', b'autre', b'anagramme', b'ars\\xc3\\xa8ne', b'lupin', b'p\\xc3\\xa9ruvien', b'et', b'grand', b'espagne', b'descendant', b'une', b'famille', b'espagnole', b'immigr\\xc3\\xa9e', b'en', b'france', b'vers', b'identit\\xc3\\xa9', b'fabriqu\\xc3\\xa9e', b'pour', b'lupin', b'par', b'juan', b'cac\\xc3\\xa9r\\xc3\\xa8s', b'un', b'attach\\xc3\\xa9', b'ambassade', b'p\\xc3\\xa9ruvien', b'paris', b'lequel', b'finira', b'par', b'le', b'd\\xc3\\xa9noncer', b'source', b'les', b'dents', b'du', b'tigre', b'don', b'luis', b'perenna', b'artagnan', b'porthos', b'et', b'monte', b'christo', b'identit\\xc3\\xa9', b'importante', b'sous', b'laquelle', b'lupin', b'va', b'servir', b'la', b'france', b'travers', b'le', b'monde', b'de', b'source', b'les', b'dents', b'du', b'tigre', b'ce', b'personnage', b'de', b'substitution', b'se', b'retrouve', b'\\xc3\\xa9pisodiquement', b'dans', b'le', b'triangle', b'or', b'\\xc3\\xaele', b'aux', b'trente', b'cercueils', b'et', b'la', b'femme', b'aux', b'deux', b'sourires', b'lecoq', b'nom', b'utilis\\xc3\\xa9', b'par', b'luis', b'perenna', b'lupin', b'pour', b'louer', b'd\\xc3\\xa9but', b'juin', b'sur', b'le', b'conseil', b'du', b'brigadier', b'mazeroux', b'un', b'meubl\\xc3\\xa9', b'rue', b'de', b'rivoli', b'afin', b'\\xc3\\xa9chapper', b'aux', b'harc\\xc3\\xa8lements', b'm\\xc3\\xa9diatiques', b'source', b'les', b'dents', b'du', b'tigre', b'don', b'luis', b'perenna', b'le', b'rideau', b'de', b'fer', b'jim', b'barnett', b'd\\xc3\\xa9tective', b'priv\\xc3\\xa9', b'nom', b'utilis\\xc3\\xa9', b'en', b'essentiellement', b'dans', b'les', b'nouvelles', b'de', b'agence', b'barnett', b'et', b'cie', b'baron', b'laureins', b'nom', b'utilis\\xc3\\xa9', b'en', b'mars', b'pour', b'tendre', b'un', b'pi\\xc3\\xa8ge', b'aux', b'cambrioleurs', b'olga', b'vaubant', b'ex', b'\\xc3\\xa9pouse', b'de', b'inspecteur', b'b\\xc3\\xa9choux', b'sous', b'cette', b'identit\\xc3\\xa9', b'lupin', b'lui', b'apporte', b'un', b'coffret', b'argenterie', b'source', b'agence', b'barnett', b'et', b'cie', b'gants', b'blancs', b'gu\\xc3\\xaatres', b'blanches', b'le', b'centenaire', b'ars\\xc3\\xa8ne', b'lupin', b'en', b'\\xc3\\xa9tretat', b'sylvestre', b'valet', b'de', b'chambre', b'du', b'g\\xc3\\xa9n\\xc3\\xa9ral', b'desroques', b'emploi', b'et', b'd\\xc3\\xa9guisement', b'occasionnels', b'gros', b'ventre', b'et', b'tournure', b'de', b'notaire', b'de', b'province', b'pris', b'par', b'barnett', b'lupin', b'avec', b'la', b'complicit\\xc3\\xa9', b'du', b'g\\xc3\\xa9n\\xc3\\xa9ral', b'afin', b'espionner', b'b\\xc3\\xa9choux', b'et', b'retrouver', b'le', b'gardien', b'de', b'la', b'paix', b'rimbourg', b'source', b'agence', b'barnett', b'et', b'cie', b'b\\xc3\\xa9choux', b'arr\\xc3\\xaate', b'jim', b'barnett', b'raoul', b'avenac', b'identit\\xc3\\xa9', b'utilis\\xc3\\xa9e', b'en', b'pour', b'aventure', b'de', b'la', b'barre', b'va', b'baron', b'jean', b'enneris', b'identit\\xc3\\xa9', b'prise', b'd\\xc3\\xa8s', b'pour', b'le', b'cabochon', b'\\xc3\\xa9meraude', b'et', b'la', b'demeure', b'myst\\xc3\\xa9rieuse', b'raoul', b'de', b'juin', b'octobre', b'lupin', b'est', b'nomm\\xc3\\xa9', b'que', b'sous', b'ce', b'seul', b'pr\\xc3\\xa9nom', b'dans', b'la', b'femme', b'aux', b'deux', b'sourires', b'victor', b'hautin', b'fonctionnaire', b'de', b'police', b'en', b'mission', b'madagascar', b'et', b'rappel\\xc3\\xa9', b'cause', b'de', b'ses', b'frasques', b'en', b'm\\xc3\\xa9tropole', b'mais', b'entre', b'temps', b'il', b'd\\xc3\\xa9c\\xc3\\xa8de', b'subitement', b'en', b'octobre', b'lupin', b'lui', b'prend', b'son', b'identit\\xc3\\xa9', b'et', b'va', b'occuper', b'le', b'poste', b'inspecteur', b'de', b'la', b's\\xc3\\xbbret\\xc3\\xa9', b'que', b'le', b'disparu', b'venait', b'de', b'demander', b'source', b'victor', b'de', b'la', b'brigade', b'mondaine', b'prologue', b'marcos', b'avisto', b'sujet', b'p\\xc3\\xa9ruvien', b'de', b'ans', b'identit\\xc3\\xa9', b'prise', b'par', b'victor', b'hautin', b'lupin', b'en', b'janvier', b'pour', b'installer', b'discr\\xc3\\xa8tement', b'h\\xc3\\xb4tel', b'cambridge', b'et', b'surveiller', b'la', b'princesse', b'russe', b'alexandra', b'basile\\xc3\\xafef', b'source', b'victor', b'de', b'la', b'brigade', b'mondaine', b'arrestations', b'les', b'quatre', b'raoul', b'appellation', b'r\\xc3\\xa9sumant', b'les', b'quatre', b'noms', b'sous', b'lesquels', b'lupin', b'ouvert', b'respectivement', b'un', b'compte', b'bancaire', b'dans', b'quatre', b'\\xc3\\xa9tablissements', b'diff\\xc3\\xa9rents', b'raoul', b'de', b'lim\\xc3\\xa9sy', b'raoul', b'avenac', b'raoul', b'enneris', b'quasi', b'anagramme', b'ars\\xc3\\xa8ne', b'lupin', b'et', b'raoul', b'averny', b'est', b'sous', b'ce', b'dernier', b'nom', b'que', b'lupin', b'agit', b'durant', b'toute', b'ann\\xc3\\xa9e', b'dans', b'la', b'cagliostro', b'se', b'venge', b'et', b'qu', b'il', b'fera', b'un', b'tour', b'du', b'monde', b'dont', b'il', b'ne', b'reviendra', b'qu', b'en', b'd\\xc3\\xa9cembre', b'pour', b'installer', b'sur', b'la', b'c\\xc3\\xb4te', b'azur', b'au', b'domaine', b'aspremont', b'ces', b'quatre', b'comptes', b'seront', b'connus', b'de', b'madame', b'dugrival', b'laquelle', b'tente', b'extorquer', b'lupin', b'une', b'somme', b'de', b'dix', b'mille', b'francs', b'sur', b'chacun', b'eux', b'source', b'les', b'confidences', b'ars\\xc3\\xa8ne', b'lupin', b'le', b'pi\\xc3\\xa8ge', b'infernal', b'capitaine', b'andr\\xc3\\xa9', b'de', b'savery', b'nom', b'emprunt', b'ars\\xc3\\xa8ne', b'lupin', b'tout', b'au', b'long', b'de', b'histoire', b'le', b'dernier', b'amour', b'ars\\xc3\\xa8ne', b'lupin', b'il', b're\\xc3\\xa7oit', b'\\xc3\\xa9galement', b'un', b'sobriquet', b'capitaine', b'cocorico', b'que', b'lui', b'ont', b'donn\\xc3\\xa9', b'les', b'enfants', b'de', b'la', b'zone', b'auteur', b'fait', b'commencer', b'histoire', b'en', b'et', b'donne', b'au', b'h\\xc3\\xa9ros', b'\\xc3\\xa2ge', b'de', b'quarante', b'ans', b'ces', b'informations', b'sont', b'donc', b'impossibles', b'rattacher', b'la', b'biographie', b'd\\xc3\\xa9j\\xc3\\xa0', b'\\xc3\\xa9tablie', b'puisque', b'lupin', b'est', b'n\\xc3\\xa9', b'en', b'et', b'qu', b'en', b'il', b'vient', b'de', b'quitter', b'agence', b'barnett', b'pour', b'suivre', b'histoire', b'de', b'la', b'demeure', b'myst\\xc3\\xa9rieuse', b'sous', b'le', b'nom', b'enneris', b'famille', b'le', b'biographe', b'andr\\xc3\\xa9', b'fran\\xc3\\xa7ois', b'ruaud', b'relev\\xc3\\xa9', b'un', b'anc\\xc3\\xaatre', b'de', b'lupin', b'g\\xc3\\xa9n\\xc3\\xa9ral', b'sous', b'napol\\xc3\\xa9on', b'dans', b'un', b'manuscrit', b'abord', b'in\\xc3\\xa9dit', b'le', b'dernier', b'amour', b'ars\\xc3\\xa8ne', b'lupin', b'ainsi', b'que', b'plusieurs', b'lupin', b'dans', b'les', b'm\\xc3\\xa9moires', b'de', b'goron', b'et', b'dans', b'la', b'com\\xc3\\xa9die', b'humaine', b'de', b'balzac', b'dans', b'ars\\xc3\\xa8ne', b'lupin', b'une', b'vie', b'dans', b'autres', b'versions', b'en', b'le', b'mangaka', b'monkey', b'punch', b'cr\\xc3\\xa9e', b'un', b'petit', b'fils', b'au', b'gentleman', b'cambrioleur', b'il', b'publie', b'une', b'bande', b'dessin\\xc3\\xa9e', b'japonaise', b'qui', b'raconte', b'les', b'exploits', b'de', b'lupin', b'le', b'troisi\\xc3\\xa8me', b'descendant', b'ars\\xc3\\xa8ne', b'lupin', b'pour', b'des', b'probl\\xc3\\xa8mes', b'de', b'droits', b'auteurs', b'la', b's\\xc3\\xa9rie', b'portera', b'diff\\xc3\\xa9rents', b'noms', b'rupan', b'iii', b'au', b'japon', b'the', b'wolf', b'aux', b'\\xc3\\xa9tats', b'unis', b'du', b'latin', b'lupus', b'vidocq', b'edgar', b'de', b'la', b'cambriole', b'ou', b'encore', b'edgar', b'd\\xc3\\xa9tective', b'cambrioleur', b'en', b'france', b'une', b'premi\\xc3\\xa8re', b's\\xc3\\xa9rie', b'de', b'chapitres', b'est', b'publi\\xc3\\xa9e', b'de', b'une', b'deuxi\\xc3\\xa8me', b's\\xc3\\xa9rie', b'shin', b'lupin', b'iii', b'de', b'et', b'une', b'troisi\\xc3\\xa8me', b's\\xc3\\xa9rie', b'sc\\xc3\\xa9naris\\xc3\\xa9e', b'par', b'takaguchi', b'et', b'dessin\\xc3\\xa9e', b'par', b'shusay', b'd\\xc3\\xa9marre', b'en', b'il', b'existe', b'\\xc3\\xa9galement', b'plusieurs', b'adaptations', b'anim\\xc3\\xa9es', b'de', b'cette', b's\\xc3\\xa9rie', b'cr\\xc3\\xa9ation', b'du', b'personnage', b'outre', b'la', b's\\xc3\\xa9rie', b'des', b'romans', b'et', b'recueils', b'de', b'nouvelles', b'originales', b'de', b'maurice', b'leblanc', b'ars\\xc3\\xa8ne', b'lupin', b'\\xc3\\xa9galement', b'\\xc3\\xa9t\\xc3\\xa9', b'diverses', b'reprises', b'repr\\xc3\\xa9sent\\xc3\\xa9', b'au', b'cin\\xc3\\xa9ma', b'et', b'la', b't\\xc3\\xa9l\\xc3\\xa9vision', b'et', b'fait', b'objet', b'de', b'plusieurs', b'pastiches', b'litt\\xc3\\xa9raires', b'il', b'ailleurs', b'\\xc3\\xa9t\\xc3\\xa9', b'chant\\xc3\\xa9', b'par', b'jacques', b'dutronc', b'pour', b'accompagner', b'la', b's\\xc3\\xa9rie', b't\\xc3\\xa9l\\xc3\\xa9vis\\xc3\\xa9e', b'des', b'ann\\xc3\\xa9es', b'avec', b'georges', b'descri\\xc3\\xa8res', b'jean', b'claude', b'brialy', b'est', b'un', b'autre', b'interpr\\xc3\\xa8te', b'du', b'gentleman', b'cambrioleur', b'apr\\xc3\\xa8s', b'andr\\xc3\\xa9', b'brul\\xc3\\xa9', b'dans', b'les', b'pi\\xc3\\xa8ces', b'contemporaines', b'de', b'auteur', b'tandis', b'que', b'fran\\xc3\\xa7ois', b'dunoyer', b'reprend', b'le', b'r\\xc3\\xb4le', b'entre', b'et', b'dans', b'les', b'deux', b'saisons', b'de', b'la', b's\\xc3\\xa9rie', b't\\xc3\\xa9l\\xc3\\xa9vis\\xc3\\xa9e', b'le', b'retour', b'ars\\xc3\\xa8ne', b'lupin', b'propos', b'du', b'nom', b'marius', b'jacob', b'toutes', b'les', b'tentatives', b'aupr\\xc3\\xa8s', b'de', b'maurice', b'leblanc', b'ont', b'\\xc3\\xa9chou\\xc3\\xa9', b'pour', b'conna\\xc3\\xaetre', b'la', b'gen\\xc3\\xa8se', b'du', b'nom', b'mythique', b'ars\\xc3\\xa8ne', b'lupin', b'on', b'ne', b'saura', b'sans', b'doute', b'jamais', b'si', b'le', b'romancier', b'vraiment', b'oubli\\xc3\\xa9', b'comment', b'le', b'nom', b'fameux', b'germ\\xc3\\xa9', b'en', b'son', b'esprit', b'ou', b'si', b'auteur', b'de', b'romans', b'de', b'm\\xc5\\x93urs', b'ou', b'de', b'psychologie', b'toujours', b'g\\xc3\\xaan\\xc3\\xa9', b'par', b'ce', b'personnage', b'extravagant', b'pas', b'd\\xc3\\xa9sir\\xc3\\xa9', b'le', b'tenir', b'\\xc3\\xa9ternellement', b'secret', b'malgr\\xc3\\xa9', b'toutes', b'les', b'enqu\\xc3\\xaates', b'les', b'interviews', b'et', b'la', b'lecture', b'minutieuse', b'de', b'toutes', b'ses', b'pr\\xc3\\xa9faces', b'ou', b'articles', b'rien', b'pu', b'transpirer', b'pas', b'm\\xc3\\xaame', b'un', b'indice', b'en', b'revanche', b'les', b'mod\\xc3\\xa8les', b'du', b'bandit', b'honn\\xc3\\xaate', b'homme', b'ne', b'manquent', b'pas', b'et', b'pour', b'francis', b'lacassin', b'on', b'les', b'trouvera', b'de', b'fa\\xc3\\xa7on', b'diffuse', b'chez', b'les', b'\\xc3\\xa9crivains', b'que', b'leblanc', b'admirait', b'il', b'ne', b'semble', b'pas', b'avoir', b'de', b'noms', b'sugg\\xc3\\xa9rant', b'le', b'gentleman', b'cambrioleur', b'dans', b'les', b'innombrables', b'aventures', b'alexandre', b'dumas', b'o\\xc3\\xb9', b'on', b'rencontre', b'entre', b'autres', b'le', b'type', b'aventurier', b'myst\\xc3\\xa9rieusement', b'enrichi', b'en', b'terre', b'lointaine', b'et', b'revenu', b'pour', b'redresser', b'les', b'torts', b'comme', b'dans', b'le', b'comte', b'de', b'monte', b'cristo', b'on', b'voulu', b'voir', b'mais', b'sans', b'se', b'convaincre', b'la', b'figure', b'de', b'lupin', b'dans', b'les', b'repris', b'de', b'justice', b'qui', b'se', b'sont', b'succ\\xc3\\xa9d\\xc3\\xa9', b'la', b'une', b'des', b'journaux', b'du', b'temps', b'marius', b'jacob', b'cambrioleur', b'ing\\xc3\\xa9nieux', b'dot\\xc3\\xa9', b'un', b'grand', b'sens', b'de', b'humour', b'et', b'capable', b'de', b'grande', b'g\\xc3\\xa9n\\xc3\\xa9rosit\\xc3\\xa9', b'\\xc3\\xa9gard', b'de', b'ses', b'victimes', b'est', b'souvent', b'cit\\xc3\\xa9', b'on', b'm\\xc3\\xaame', b'cern\\xc3\\xa9', b'de', b'pr\\xc3\\xa8s', b'le', b'c\\xc3\\xa9l\\xc3\\xa8bre', b'aventurier', b'dans', b'ouvrage', b'les', b'terribles', b'de', b'pesk\\xc3\\xa9', b'et', b'marty', b'chez', b'qui', b'on', b'trouve', b'un', b'ars\\xc3\\xa8ne', b'lopin', b'ancien', b'conseiller', b'municipal', b'de', b'la', b'ville', b'de', b'paris', b'ou', b'de', b'rouen', b'on', b'ne', b'sait', b'plus', b'vraiment', b'que', b'leblanc', b'aurait', b'd\\xc3\\xbb', b'maquiller', b'en', b'lupin', b'apr\\xc3\\xa8s', b'protestation', b'est', b'probablement', b'une', b'l\\xc3\\xa9gende', b'car', b'les', b'toutes', b'premi\\xc3\\xa8res', b'livraisons', b'de', b'je', b'sais', b'tout', b'ne', b'le', b'nomment', b'pas', b'autrement', b'que', b'lupin', b'la', b'nouvelle', b'qui', b'pr\\xc3\\xa9senta', b'la', b'premi\\xc3\\xa8re', b'fois', b'au', b'monde', b'entier', b'le', b'fameux', b'cambrioleur', b'fut', b'arrestation', b'ars\\xc3\\xa8ne', b'lupin', b'rattach\\xc3\\xa9e', b'au', b'recueil', b'ars\\xc3\\xa8ne', b'lupin', b'gentleman', b'cambrioleur', b'o\\xc3\\xb9', b'un', b'commandant', b'de', b'bateau', b'transatlantique', b'est', b'pr\\xc3\\xa9venu', b'par', b'un', b'message', b'radio', b'qui', b'sera', b'interrompu', b'par', b'orage', b'qu', b'il', b'un', b'escroc', b'son', b'bord', b'sous', b'le', b'nom', b'de', b'les', b'vols', b'vont', b'se', b'multiplier', b'et', b'une', b'grande', b'angoisse', b'va', b'r\\xc3\\xa9gner', b'pendant', b'toute', b'la', b'travers\\xc3\\xa9e', b'qui', b'sera', b'tr\\xc3\\xa8s', b'agit\\xc3\\xa9e', b'jusqu', b'arriv\\xc3\\xa9e', b'intervient', b'alors', b'arrestation', b'du', b'voleur', b'au', b'cours', b'de', b'laquelle', b'les', b'journalistes', b'apprennent', b'enfin', b'son', b'v\\xc3\\xa9ritable', b'nom', b'ars\\xc3\\xa8ne', b'lupin', b'disait', b'maurice', b'leblanc', b'au', b'journaliste', b'georges', b'charensol', b'qui', b'lui', b'avait', b'rendu', b'visite', b'paris', b'est', b'ind\\xc3\\xa9niablement', b'une', b'approche', b'int\\xc3\\xa9ressante', b'car', b'auteur', b'am\\xc3\\xa9ricain', b'justement', b'un', b'h\\xc3\\xa9ros', b'de', b'surcro\\xc3\\xaet', b'fran\\xc3\\xa7ais', b'et', b'admir\\xc3\\xa9', b'de', b'leblanc', b'qui', b'appelle', b'auguste', b'dupin', b'pouvant', b'r\\xc3\\xa9concilier', b'la', b'phon\\xc3\\xa9tique', b'et', b'esprit', b'de', b'd\\xc3\\xa9duction', b'cependant', b'charensol', b'comme', b'tous', b'les', b'autres', b'obtiendra', b'pas', b'aveu', b'compromettant', b'de', b'la', b'part', b'un', b'auteur', b'qui', b'passe', b'vite', b'au', b'probl\\xc3\\xa8me', b'g\\xc3\\xa9n\\xc3\\xa9ral', b'de', b'la', b'cr\\xc3\\xa9ation', b'on', b'est', b'donc', b'rabattu', b'sur', b'des', b'ouvrages', b'autres', b'que', b'ceux', b'de', b'ses', b'confr\\xc3\\xa8res', b'gaboriau', b'ou', b'assolant', b'et', b'on', b'd\\xc3\\xa9couvre', b'que', b'des', b'm\\xc3\\xa9moires', b'de', b'personnages', b'atypiques', b'tels', b'fran\\xc3\\xa7ois', b'vidocq', b'ont', b'd\\xc3\\xa9crit', b'des', b'milieux', b'peut', b'\\xc3\\xaatre', b'un', b'peu', b'trop', b'crapuleux', b'mais', b'folkloriques', b'o\\xc3\\xb9', b'aurait', b'pu', b'\\xc3\\xa9voluer', b'lupin', b'vidocq', b'le', b'm\\xc3\\xaame', b'type', b'de', b'bibi', b'lupin', b'qui', b'c\\xc3\\xb4toie', b'le', b'vautrin', b'de', b'balzac', b'en', b'parlant', b'de', b'chef', b'de', b'police', b'sur', b'la', b'piste', b'myst\\xc3\\xa9rieuse', b'de', b'sombres', b'personnages', b'on', b'omis', b'g\\xc3\\xa9n\\xc3\\xa9ralement', b'les', b'souvenirs', b'un', b'certain', b'monsieur', b'claude', b'publi\\xc3\\xa9s', b'partir', b'de', b'leblanc', b'avait', b'ans', b'et', b'dont', b'les', b'enqu\\xc3\\xaates', b'ne', b'sont', b'pas', b'moins', b'rocambolesques', b'on', b'tombe', b'chez', b'cet', b'ancien', b'limier', b'sur', b'un', b'\\xc3\\xa9pisode', b'curieux', b'il', b'est', b'difficile', b'de', b'ne', b'pas', b'songer', b'un', b'ganimard', b'venu', b'arr\\xc3\\xaater', b'sa', b'b\\xc3\\xaate', b'noire', b'ouvrages', b'faisant', b'intervenir', b'ars\\xc3\\xa8ne', b'lupin', b'vignette', b'romans', b'recueils', b'de', b'nouvelles', b'et', b'nouvelles', b'isol\\xc3\\xa9es', b'de', b'maurice', b'leblanc', b'la', b's\\xc3\\xa9rie', b'ouvrages', b'originaux', b'\\xc3\\xa9crits', b'par', b'maurice', b'leblanc', b'comprend', b'romans', b'et', b'nouvelles', b'ainsi', b'que', b'pi\\xc3\\xa8ces', b'de', b'th\\xc3\\xa9\\xc3\\xa2tre', b'voir', b'la', b'section', b'suivante', b'\\xc3\\xa9crits', b'de', b'ars\\xc3\\xa8ne', b'lupin', b'gentleman', b'cambrioleur', b'recueil', b'de', b'nouvelles', b'ars\\xc3\\xa8ne', b'lupin', b'contre', b'herlock', b'sholm\\xc3\\xa8s', b'recueil', b'de', b'deux', b'r\\xc3\\xa9cits', b'aiguille', b'creuse', b'roman', b'roman', b'r\\xc3\\xa9\\xc3\\xa9dit\\xc3\\xa9', b'en', b'deux', b'volumes', b'en', b'sous', b'les', b'titres', b'la', b'double', b'vie', b'ars\\xc3\\xa8ne', b'lupin', b'et', b'les', b'trois', b'crimes', b'ars\\xc3\\xa8ne', b'lupin', b'aujourd', b'hui', b'r\\xc3\\xa9\\xc3\\xa9dit\\xc3\\xa9', b'sous', b'le', b'titre', b'original', b'le', b'bouchon', b'de', b'cristal', b'roman', b'les', b'confidences', b'ars\\xc3\\xa8ne', b'lupin', b'recueil', b'de', b'nouvelles', b'\\xc3\\xa9clat', b'obus', b'roman', b'le', b'triangle', b'or', b'roman', b'\\xc3\\xaele', b'aux', b'trente', b'cercueils', b'roman', b'les', b'dents', b'du', b'tigre', b'les', b'huit', b'coups', b'de', b'horloge', b'recueil', b'de', b'nouvelles', b'la', b'comtesse', b'de', b'cagliostro', b'roman', b'the', b'overcoat', b'of', b'ars\\xc3\\xa8ne', b'lupin', b'nouvelle', b'parue', b'en', b'dans', b'the', b'popular', b'magazine', b'en', b'dont', b'la', b'plus', b'grande', b'partie', b'reprend', b'la', b'trame', b'de', b'la', b'dent', b'hercule', b'petitgris', b'ouvrage', b'publi\\xc3\\xa9', b'en', b'fran\\xc3\\xa7ais', b'en', b'en', b'transposant', b'le', b'personnage', b'ars\\xc3\\xa8ne', b'lupin', b'le', b'pardessus', b'ars\\xc3\\xa8ne', b'lupin', b'traduction', b'fran\\xc3\\xa7aise', b'de', b'ce', b'texte', b'en', b'anglais', b'existe', b'sur', b'wikisource', b'la', b'demoiselle', b'aux', b'yeux', b'verts', b'roman', b'homme', b'la', b'peau', b'de', b'bique', b'nouvelle', b'isol\\xc3\\xa9e', b'agence', b'barnett', b'et', b'recueil', b'de', b'nouvelles', b'la', b'demeure', b'myst\\xc3\\xa9rieuse', b'roman', b'le', b'cabochon', b'\\xc3\\xa9meraude', b'nouvelle', b'isol\\xc3\\xa9e', b'la', b'barre', b'va', b'roman', b'la', b'femme', b'aux', b'deux', b'sourires', b'roman', b'victor', b'de', b'la', b'brigade', b'mondaine', b'roman', b'la', b'cagliostro', b'se', b'venge', b'roman', b'les', b'milliards', b'ars\\xc3\\xa8ne', b'lupin', b'roman', b'posthume', b'\\xc3\\xa9dition', b'incompl\\xc3\\xa8te', b'texte', b'int\\xc3\\xa9gral', b'voir', b'auto', b'du', b'f\\xc3\\xa9vrier', b'le', b'dernier', b'amour', b'ars\\xc3\\xa8ne', b'lupin', b'roman', b'posthume', b'\\xc3\\xa9dition', b'un', b'texte', b'rest\\xc3\\xa9', b'\\xc3\\xa9tat', b'de', b'brouillon', b'fichier', b'leblanc', b'\\xc3\\xaele', b'aux', b'trente', b'cercueils', b'image', b'jpg', b'vignette', b'\\xc3\\xaele', b'aux', b'trente', b'cercueils', b'romans', b'et', b'nouvelles', b'autres', b'auteurs', b'sous', b'le', b'masque', b'ars\\xc3\\xa8ne', b'lupin', b'claude', b'varenne', b'paris', b'zeluch', b'ars\\xc3\\xa8ne', b'lupin', b'versus', b'colonel', b'linnaus', b'anthony', b'boucher', b'paru', b'dans', b'ellery', b'queen', b'mystery', b'magazine', b'vol', b'novembre', b'et', b'dans', b'le', b'de', b'myst\\xc3\\xa8re', b'magazine', b'en', b'octobre', b'le', b'secret', b'eunerville', b'boileau', b'narcejac', b'roman', b'paru', b'initialement', b'en', b'feuilleton', b'dans', b'hebdomadaire', b't\\xc3\\xa9l\\xc3\\xa9', b'jours', b'la', b'poudri\\xc3\\xa8re', b'boileau', b'narcejac', b'le', b'second', b'visage', b'ars\\xc3\\xa8ne', b'lupin', b'boileau', b'narcejac', b'la', b'justice', b'ars\\xc3\\xa8ne', b'lupin', b'boileau', b'narcejac', b'le', b'serment', b'ars\\xc3\\xa8ne', b'lupin', b'boileau', b'narcejac', b'affaire', b'oliveira', b'nouvelle', b'de', b'thomas', b'narcejac', b'ars\\xc3\\xa8ne', b'lupin', b'dans', b'la', b'gueule', b'du', b'loup', b'nouvelle', b'de', b'boileau', b'narcejac', b'apr\\xc3\\xa8s', b'une', b'pi\\xc3\\xa8ce', b'radiophonique', b'de', b'pierre', b'boileau', b'ars\\xc3\\xa8ne', b'lupin', b'et', b'le', b'myst\\xc3\\xa8re', b'arsonval', b'michel', b'zink', b'qui', b'fait', b'peur', b'virginia', b'woolf', b'\\xc3\\xa9l\\xc3\\xa9mentaire', b'mon', b'cher', b'lupin', b'gabriel', b'thoveron', b'crimes', b'parfaits', b'christian', b'poslaniec', b'la', b'dent', b'de', b'jane', b'daniel', b'salmon', b'les', b'lupins', b'de', b'vincent', b'caroline', b'et', b'didier', b'cayol', b'code', b'lupin', b'michel', b'bussi', b'roman', b'policier', b'contemporain', b'sur', b'les', b'traces', b'ars\\xc3\\xa8ne', b'lupin', b'\\xc3\\xa9glise', b'creuse', b'patrick', b'genevaux', b'\\xc3\\xa9ditions', b'\\xc5\\x93il', b'du', b'sphinx', b'nouvelle', b'dans', b'le', b'recueil', b'r\\xc3\\xaaves', b'de', b'raz\\xc3\\xa8s', b'ars\\xc3\\xa8ne', b'lupin', b'et', b'le', b'secret', b'des', b'lys', b'louis', b'gendebien', b'\\xc3\\xa9ditions', b'montp\\xc3\\xa9zat', b'le', b'retour', b'du', b'gentleman', b'cambrioleur', b'doroth\\xc3\\xa9e', b'henry', b'\\xc3\\xa9ditions', b'apart', b'ars\\xc3\\xa8ne', b'lupin', b'propos', b'de', b'toile', b'tony', b'baillargeat', b'\\xc3\\xa9ditions', b'la', b'compagnie', b'litt\\xc3\\xa9raire', b'la', b'conspiration', b'de', b'ill', b'andr\\xc3\\xa9', b'cabaret', b'\\xc3\\xa9ditions', b'du', b'bastberg', b'coll', b'les', b'polars', b'ars\\xc3\\xa8ne', b'lupin', b'affaire', b'du', b'collier', b'\\xc3\\xa9meraudes', b'claude', b'peitz', b'\\xc3\\xa9ditions', b'du', b'bastberg', b'coll', b'les', b'polars', b'ars\\xc3\\xa8ne', b'lupin', b'la', b'nouvelle', b'vie', b'ars\\xc3\\xa8ne', b'lupin', b'adrien', b'goetz', b'\\xc3\\xa9ditions', b'grasset', b'les', b'nouvelles', b'aventures', b'ars\\xc3\\xa8ne', b'lupin', b'les', b'h\\xc3\\xa9ritiers', b'beno\\xc3\\xaet', b'abtey', b'et', b'pierre', b'deschodt', b'xo', b'\\xc3\\xa9ditions', b'pi\\xc3\\xa8ces', b'de', b'th\\xc3\\xa9\\xc3\\xa2tre', b'et', b'de', b'radio', b'andr\\xc3\\xa9', b'br\\xc3\\xbbl\\xc3\\xa9', b'un', b'des', b'premiers', b'interpr\\xc3\\xa8tes', b'ars\\xc3\\xa8ne', b'lupin', b'pi\\xc3\\xa8ces', b'de', b'maurice', b'leblanc', b'ars\\xc3\\xa8ne', b'lupin', b'pi\\xc3\\xa8ce', b'de', b'th\\xc3\\xa9\\xc3\\xa2tre', b'en', b'actes', b'\\xc3\\xa9crite', b'en', b'collaboration', b'avec', b'francis', b'de', b'croisset', b'une', b'aventure', b'ars\\xc3\\xa8ne', b'lupin', b'pi\\xc3\\xa8ce', b'de', b'th\\xc3\\xa9\\xc3\\xa2tre', b'\\xc3\\xa9crite', b'en', b'pour', b'la', b'revue', b'en', b'actes', b'elle', b'le', b'sourire', b'en', b'tableaux', b'de', b'wilned', b'et', b'avec', b'une', b'musique', b'de', b'jos\\xc3\\xa9', b'repr\\xc3\\xa9sent\\xc3\\xa9e', b'du', b'septembre', b'au', b'octobre', b'le', b'retour', b'ars\\xc3\\xa8ne', b'lupin', b'pi\\xc3\\xa8ce', b'de', b'th\\xc3\\xa9\\xc3\\xa2tre', b'en', b'un', b'acte', b'\\xc3\\xa9crite', b'avec', b'francis', b'de', b'croisset', b'cette', b'femme', b'est', b'moi', b'pi\\xc3\\xa8ce', b'de', b'th\\xc3\\xa9\\xc3\\xa2tre', b'un', b'quart', b'heure', b'avec', b'ars\\xc3\\xa8ne', b'lupin', b'pi\\xc3\\xa8ce', b'de', b'th\\xc3\\xa9\\xc3\\xa2tre', b'autres', b'ars\\xc3\\xa8ne', b'lupin', b'contre', b'herlock', b'sholm\\xc3\\xa8s', b'pi\\xc3\\xa8ce', b'de', b'victor', b'darlay', b'et', b'henry', b'de', b'gorsse', b'inspir\\xc3\\xa9e', b'du', b'roman', b'homonyme', b'pi\\xc3\\xa8ce', b'en', b'actes', b'et', b'tableaux', b'repr\\xc3\\xa9sent\\xc3\\xa9e', b'la', b'premi\\xc3\\xa8re', b'fois', b'au', b'th\\xc3\\xa9\\xc3\\xa2tre', b'du', b'ch\\xc3\\xa2telet', b'le', b'parue', b'en', b'volume', b'in', b'chez', b'firmin', b'didot', b'en', b'la', b'aguja', b'hueca', b'aiguille', b'creuse', b'pi\\xc3\\xa8ce', b'en', b'actes', b'et', b'un', b'prologue', b'de', b'heraclio', b'serrano', b'viteri', b'et', b'enrique', b'grimau', b'de', b'mauro', b'peggy', b'rencontre', b'de', b'nouveau', b'ars\\xc3\\xa8ne', b'lupin', b'pi\\xc3\\xa8ce', b'radiophonique', b'de', b'carlos', b'larronde', b'en', b'un', b'acte', b'jamais', b'publi\\xc3\\xa9e', b'qui', b'fut', b'diffus\\xc3\\xa9e', b'par', b'radio', b'cit\\xc3\\xa9', b'le', b'ars\\xc3\\xa8ne', b'lupin', b'adaptation', b'et', b'mise', b'en', b'sc\\xc3\\xa8ne', b'de', b'delphine', b'piard', b'au', b'th\\xc3\\xa9\\xc3\\xa2tre', b'michel', b'pr\\xc3\\xa9sent\\xc3\\xa9e', b'en', b'et', b'en', b'reprise', b'partir', b'du', b'f\\xc3\\xa9vrier', b'op\\xc3\\xa9rette', b'ars\\xc3\\xa8ne', b'lupin', b'banquier', b'livret', b'yves', b'mirande', b'musique', b'de', b'marcel', b'latt\\xc3\\xa8s', b'premi\\xc3\\xa8re', b'repr\\xc3\\xa9sentation', b'le', b'aux', b'bouffes', b'parisiens', b'avec', b'albert', b'willemetz', b'et', b'charles', b'louis', b'pothier', b'\\xc3\\xa9dit\\xc3\\xa9e', b'chez', b'salabert', b'en', b'septembre', b'essais', b'le', b'secret', b'des', b'rois', b'de', b'france', b'ou', b'la', b'v\\xc3\\xa9ritable', b'identit\\xc3\\xa9', b'ars\\xc3\\xa8ne', b'lupin', b'de', b'val\\xc3\\xa8re', b'catogan', b'essai', b'romanc\\xc3\\xa9', b'ars\\xc3\\xa8ne', b'lupin', b'sup\\xc3\\xa9rieur', b'inconnu', b'la', b'cl\\xc3\\xa9', b'de', b'\\xc5\\x93uvre', b'cod\\xc3\\xa9e', b'de', b'maurice', b'leblanc', b'de', b'patrick', b'fert\\xc3\\xa9', b'essai', b'traitant', b'de', b'aspect', b'\\xc3\\xa9sot\\xc3\\xa9rique', b'de', b'\\xc5\\x93uvre', b'de', b'maurice', b'leblanc', b'le', b'v\\xc3\\xa9ritable', b'secret', b'des', b'rois', b'de', b'france', b'arnaud', b'de', b'estoile', b'\\xc3\\xa9tude', b'analysant', b'arri\\xc3\\xa8re', b'plan', b'\\xc3\\xa9sot\\xc3\\xa9rique', b'de', b'la', b'geste', b'lupinienne', b'ars\\xc3\\xa8ne', b'lupin', b'une', b'vie', b'andr\\xc3\\xa9', b'fran\\xc3\\xa7ois', b'ruaud', b'somme', b'tr\\xc3\\xa8s', b'compl\\xc3\\xa8te', b'sur', b'le', b'parcours', b'de', b'lupin', b'sur', b'\\xc5\\x93uvre', b'de', b'leblanc', b'sous', b'la', b'forme', b'une', b'v\\xc3\\xa9ritable', b'biographie', b'et', b'une', b'\\xc3\\xa9tude', b'de', b'la', b'figure', b'du', b'gentleman', b'cambrioleur', b'ars\\xc3\\xa8ne', b'lupin', b'gentilhomme', b'philosopheur', b'de', b'fran\\xc3\\xa7ois', b'george', b'et', b'andr\\xc3\\xa9', b'comte', b'sponville', b'bande', b'dessin\\xc3\\xa9e', b'ars\\xc3\\xa8ne', b'lupin', b'adapt\\xc3\\xa9', b'par', b'andr\\xc3\\xa9', b'paul', b'duch\\xc3\\xa2teau', b'le', b'bouchon', b'de', b'cristal', b'dessin', b'jacques', b'g\\xc3\\xa9ron', b'la', b'double', b'vie', b'dessin', b'jacques', b'g\\xc3\\xa9ron', b'les', b'trois', b'crimes', b'dessin', b'jacques', b'g\\xc3\\xa9ron', b'la', b'demoiselle', b'aux', b'yeux', b'verts', b'dessin', b'jacques', b'g\\xc3\\xa9ron', b'aiguille', b'creuse', b'dessin', b'jacques', b'g\\xc3\\xa9ron', b'victor', b'de', b'la', b'brigade', b'mondaine', b'dessin', b'erwin', b'dr\\xc3\\xa8ze', b'ars\\xc3\\xa8ne', b'lupin', b'les', b'origines', b'adapt\\xc3\\xa9', b'par', b'beno\\xc3\\xaet', b'abtey', b'christophe', b'gaultier', b'et', b'pierre', b'jean', b'deschodt', b'les', b'disparus', b'de', b'la', b'haute', b'boulogne', b'octobre', b'le', b'dernier', b'des', b'romains', b'avril', b'il', b'faut', b'mourir', b'janvier', b'manga', b'hidan', b'no', b'aria', b'un', b'des', b'personnages', b'est', b'un', b'descendant', b'du', b'c\\xc3\\xa9l\\xc3\\xa8bre', b'cambrioleur', b'ars\\xc3\\xa8ne', b'lupin', b'adapt\\xc3\\xa9', b'par', b'go', b'nagai', b'in\\xc3\\xa9dit', b'en', b'fran\\xc3\\xa7ais', b'ars\\xc3\\xa8ne', b'lupin', b'iii', b's\\xc3\\xa9rie', b'de', b'manga', b'et', b'anime', b'cr\\xc3\\xa9\\xc3\\xa9e', b'en', b'par', b'monkey', b'punch', b'et', b'reprise', b'notamment', b'par', b'hayao', b'miyazaki', b'dont', b'le', b'h\\xc3\\xa9ros', b'est', b'le', b'petit', b'fils', b'ars\\xc3\\xa8ne', b'lupin', b'pour', b'des', b'raisons', b'de', b'droits', b'le', b'personnage', b'port\\xc3\\xa9', b'en', b'france', b'les', b'noms', b'edgar', b'de', b'la', b'cambriole', b'vidocq', b'et', b'wolf', b'ars\\xc3\\xa8ne', b'lupin', b'aventurier', b'adapt\\xc3\\xa9', b'par', b'takashi', b'morita', b'aux', b'\\xc3\\xa9ditions', b'kurokawa', b'tome', b'novembre', b'adaptation', b'de', b'la', b'pi\\xc3\\xa8ce', b'de', b'th\\xc3\\xa9\\xc3\\xa2tre', b'\\xc3\\xa9ponyme', b'de', b'tome', b'd\\xc3\\xa9cembre', b'adaptation', b'de', b'la', b'nouvelle', b'la', b'lampe', b'juive', b'tome', b'mars', b'adaptation', b'de', b'aiguille', b'creuse', b'tome', b'juin', b'adaptation', b'de', b'aiguille', b'creuse', b'cin\\xc3\\xa9ma', b'vignette', b'ars\\xc3\\xa8ne', b'lupin', b'de', b'michel', b'carr\\xc3\\xa9', b'avec', b'georges', b'tr\\xc3\\xa9ville', b'ars\\xc3\\xa8ne', b'lupin', b'contre', b'ganimard', b'de', b'michel', b'carr\\xc3\\xa9', b'avec', b'georges', b'tr\\xc3\\xa9ville', b'ars\\xc3\\xa8ne', b'lupin', b'de', b'jack', b'conway', b'avec', b'john', b'barrymore', b'ars\\xc3\\xa8ne', b'lupin', b'd\\xc3\\xa9tective', b'de', b'henri', b'diamant', b'berger', b'avec', b'jules', b'berry', b'le', b'retour', b'ars\\xc3\\xa8ne', b'lupin', b'de', b'george', b'fitzmaurice', b'avec', b'melvyn', b'douglas', b'les', b'aventures', b'ars\\xc3\\xa8ne', b'lupin', b'de', b'jacques', b'becker', b'avec', b'robert', b'lamoureux', b'sign\\xc3\\xa9', b'ars\\xc3\\xa8ne', b'lupin', b'de', b'yves', b'robert', b'avec', b'robert', b'lamoureux', b'ars\\xc3\\xa8ne', b'lupin', b'contre', b'ars\\xc3\\xa8ne', b'lupin', b'\\xc3\\xa9douard', b'molinaro', b'avec', b'jean', b'pierre', b'cassel', b'et', b'jean', b'claude', b'brialy', b'ars\\xc3\\xa8ne', b'lupin', b'de', b'jean', b'paul', b'salom\\xc3\\xa9', b'avec', b'romain', b'duris', b's\\xc3\\xa9ries', b'anim\\xc3\\xa9es', b'les', b'exploits', b'ars\\xc3\\xa8ne', b'lupin', b'de', b'fran\\xc3\\xa7ois', b'brisson', b'pascal', b'morelli', b's\\xc3\\xa9ries', b't\\xc3\\xa9l\\xc3\\xa9vis\\xc3\\xa9es', b'ars\\xc3\\xa8ne', b'lupin', b'telenovela', b'br\\xc3\\xa9silienne', b'ars\\xc3\\xa8ne', b'lupin', b'de', b'ren\\xc3\\xa9', b'verne', b'ars\\xc3\\xa8ne', b'lupin', b'de', b'jacques', b'nahum', b'avec', b'georges', b'descri\\xc3\\xa8res', b'ars\\xc3\\xa8ne', b'lupin', b'joue', b'et', b'perd', b'alexandre', b'astruc', b'et', b'roland', b'laudenbach', b'avec', b'jean', b'claude', b'brialy', b'adapt\\xc3\\xa9', b'du', b'roman', b'le', b'retour', b'ars\\xc3\\xa8ne', b'lupin', b'de', b'jacques', b'nahum', b'avec', b'fran\\xc3\\xa7ois', b'dunoyer', b'les', b'nouveaux', b'exploits', b'ars\\xc3\\xa8ne', b'lupin', b'de', b'jacques', b'nahum', b'avec', b'fran\\xc3\\xa7ois', b'dunoyer', b's\\xc3\\xa9ries', b'radiophoniques', b'ars\\xc3\\xa8ne', b'lupin', b'un', b'grand', b'nombre', b'aventures', b'sont', b'adapt\\xc3\\xa9es', b'par', b'jean', b'marcillac', b'sur', b'france', b'inter', b'la', b's\\xc3\\xa9rie', b'est', b'r\\xc3\\xa9alis\\xc3\\xa9e', b'par', b'abder', b'isker', b'et', b'\\xc3\\xa9tend', b'de', b'mars', b'juillet', b'michel', b'roux', b'pr\\xc3\\xaate', b'sa', b'voix', b'ars\\xc3\\xa8ne', b'lupin', b'aventures', b'disponibles', b'aupr\\xc3\\xa8s', b'des', b'archives', b'ina', b'coucher', b'de', b'soleil', b'\\xc3\\xa9tretat', b'de', b'claude', b'monet', b'toile', b'qui', b'repr\\xc3\\xa9sente', b'la', b'porte', b'aval', b'et', b'aiguille', b'\\xc3\\xa9tretat', b'disques', b'et', b'autres', b'supports', b'la', b'demeure', b'myst\\xc3\\xa9rieuse', b'cd', b'texte', b'abr\\xc3\\xa9g\\xc3\\xa9', b'lecture', b'par', b'jacques', b'gamblin', b'livraphone', b'liv', b'aiguille', b'creuse', b'cd', b'texte', b'int\\xc3\\xa9gral', b'livraphone', b'liv', b'la', b'demoiselle', b'aux', b'yeux', b'verts', b'cd', b'texte', b'int\\xc3\\xa9gral', b'livraphone', b'ean', b'la', b'barre', b'va', b'cd', b'texte', b'int\\xc3\\xa9gral', b'livraphone', b'ean', b'applications', b'la', b'comtesse', b'de', b'cagliostro', b'juillet', b'd\\xc3\\xa9velopp\\xc3\\xa9e', b'pour', b'tablettes', b'andro\\xc3\\xafd', b'et', b'ios', b'il', b'agit', b'une', b'\\xc3\\xa9dition', b'en', b'feuilleton', b'du', b'roman', b'de', b'maurice', b'leblanc', b'chaque', b'personnage', b'dispose', b'une', b'sorte', b'de', b'page', b'facebook', b'accompagn\\xc3\\xa9e', b'de', b'photos', b'largement', b'issues', b'des', b'fonds', b'patrimoniaux', b'des', b'biblioth\\xc3\\xa8ques', b'de', b'rouen', b'chaque', b'lieu', b'est', b'illustr\\xc3\\xa9', b'de', b'photos', b'contemporaines', b'de', b'action', b'en', b'bonus', b'des', b'interviews', b'de', b'jacques', b'derouard', b'biographe', b'de', b'maurice', b'leblanc', b'appli', b'est', b'r\\xc3\\xa9alis\\xc3\\xa9e', b'par', b'la', b'ville', b'de', b'rouen', b'pastiches', b'et', b'hommages', b'deux', b'\\xc3\\xa9pisodes', b'de', b'gigi', b'pr\\xc3\\xa9sentent', b'un', b'ars\\xc3\\xa8ne', b'lapin', b'et', b'son', b'fils', b'qui', b'est', b'un', b'd\\xc3\\xa9calque', b'parfait', b'ars\\xc3\\xa8ne', b'lupin', b'un', b'cambrioleur', b'richissime', b'op\\xc3\\xa9rant', b'des', b'vols', b'astucieux', b'simplement', b'pour', b'se', b'distraire', b'dans', b'le', b'premier', b'\\xc3\\xa9pisode', b'il', b'se', b'laisse', b'arr\\xc3\\xaater', b'par', b'gigi', b'dont', b'il', b'tombe', b'amoureux', b'au', b'premier', b'regard', b'dans', b'le', b'suivant', b'gigi', b'se', b'pose', b'en', b'rivale', b'et', b'am\\xc3\\xa8ne', b'redevenir', b'honn\\xc3\\xaate', b'dans', b'ses', b'bandes', b'dessin\\xc3\\xa9es', b'don', b'rosa', b'met', b'en', b'sc\\xc3\\xa8ne', b'le', b'personnage', b'de', b'lucien', b'arp\\xc3\\xa8ne', b'contrep\\xc3\\xa8terie', b'ars\\xc3\\xa8ne', b'lupin', b'ennemi', b'de', b'balthazar', b'picsou', b'riche', b'cambrioleur', b'fran\\xc3\\xa7ais', b'prenant', b'identit\\xc3\\xa9', b'du', b'chevalier', b'noir', b'lorsqu', b'il', b'porte', b'son', b'armure', b'couverte', b'du', b'solvant', b'universel', b'invent\\xc3\\xa9', b'par', b'g\\xc3\\xa9o', b'trouvetou', b'lupin', b'iii', b's\\xc3\\xa9rie', b'de', b'mangas', b'puis', b'anime', b'pr\\xc3\\xa9sente', b'le', b'petit', b'fils', b'ars\\xc3\\xa8ne', b'lupin', b'troisi\\xc3\\xa8me', b'du', b'nom', b'cette', b's\\xc3\\xa9rie', b'cr\\xc3\\xa9\\xc3\\xa9e', b'par', b'kazuhiko', b'kat\\xc3\\xb4', b'sous', b'le', b'pseudonyme', b'de', b'monkey', b'punch', b'parut', b'en', b'france', b'sous', b'le', b'nom', b'edgar', b'de', b'la', b'cambriole', b'elle', b'donn\\xc3\\xa9', b'lieu', b'plusieurs', b'longs', b'm\\xc3\\xa9trages', b'animation', b'dont', b'le', b'ch\\xc3\\xa2teau', b'de', b'cagliostro', b'r\\xc3\\xa9alis\\xc3\\xa9', b'par', b'hayao', b'miyazaki', b'dans', b'artemis', b'fowl', b'mission', b'polaire', b'mulch', b'diggums', b'est', b'appel\\xc3\\xa9', b'ars\\xc3\\xa8ne', b'lutin', b'par', b'les', b'humains', b'cause', b'de', b'habilet\\xc3\\xa9', b'de', b'ses', b'vols', b'le', b'personnage', b'de', b'kaito', b'kid', b'issu', b'des', b'mangas', b'magic', b'kaito', b'et', b'd\\xc3\\xa9tective', b'conan', b'de', b'g\\xc5\\x8dsh\\xc5\\x8d', b'aoyama', b'est', b'tr\\xc3\\xa8s', b'inspir\\xc3\\xa9', b'du', b'gentleman', b'cambrioleur', b'il', b'passe', b'ses', b'nuits', b'd\\xc3\\xa9rober', b'bijoux', b'et', b'pierres', b'pr\\xc3\\xa9cieuses', b'gr\\xc3\\xa2ce', b'ses', b'talents', b'de', b'magicien', b'le', b'chat', b'de', b'alys', b'chanteuse', b'virtuelle', b'de', b'chez', b'voxwave', b'se', b'nomme', b'lupin', b'en', b'r\\xc3\\xa9f\\xc3\\xa9rence', b'ars\\xc3\\xa8ne', b'lupin', b'\\xc3\\xa9galement', b'notes', b'et', b'r\\xc3\\xa9f\\xc3\\xa9rences', b'notes', b'r\\xc3\\xa9f\\xc3\\xa9rences', b'voir', b'aussi', b'bibliographie', b'primaire', b'bibliographie', b'secondaire', b'europe', b'revue', b'litt\\xc3\\xa9raire', b'mensuelle', b'ao\\xc3\\xbbt', b'septembre', b'num\\xc3\\xa9ro', b'consacr\\xc3\\xa9', b'maurice', b'leblanc', b'et', b'ars\\xc3\\xa8ne', b'lupin', b'articles', b'connexes', b'maurice', b'leblanc', b'arthur', b'raffles', b'st\\xc3\\xa9phane', b'breitwieser', b'surnomm\\xc3\\xa9', b'ars\\xc3\\xa8ne', b'lupin', b'des', b'mus\\xc3\\xa9es', b'lupin', b'patronyme', b'liens', b'externes', b'tout', b'ars\\xc3\\xa8ne', b'lupin', b'site', b'g\\xc3\\xa9n\\xc3\\xa9raliste', b'sur', b'ars\\xc3\\xa8ne', b'lupin', b'ars\\xc3\\xa8ne', b'lupin', b'dans', b'tous', b'ses', b'masques', b'didier', b'blonde', b'fiche', b'p\\xc3\\xa9dagogique', b'le', b'personnage', b'ars\\xc3\\xa8ne', b'lupin', b'dans', b'les', b'\\xc5\\x93uvres', b'de', b'maurice', b'leblanc', b'le', b'web', b'p\\xc3\\xa9dagogique', b'http', b'com', b'blog', b'fiche', b'pedagogique', b'arsene', b'lupin', b'dans', b'les', b'oeuvres', b'de', b'maurice', b'leblanc', b'cat\\xc3\\xa9gorie', b'prisonnier', b'de', b'fiction', b'cat\\xc3\\xa9gorie', b'voleur', b'de', b'fiction', b'cat\\xc3\\xa9gorie', b's\\xc3\\xa9ducteur', b'de', b'fiction', b'cat\\xc3\\xa9gorie', b'personnage', b'de', b'film', b'policier', b'cat\\xc3\\xa9gorie', b'personnage', b'de', b'fiction', b'fran\\xc3\\xa7ais', b'arsene', b'lupin']\n",
      "[b'un', b'algorithme', b'est', b'une', b'suite', b'finie', b'et', b'non', b'ambigu\\xc3\\xab', b'op\\xc3\\xa9rations', b'ou', b'instructions', b'permettant', b'de', b'r\\xc3\\xa9soudre', b'un', b'probl\\xc3\\xa8me', b'ou', b'obtenir', b'un', b'r\\xc3\\xa9sultat', b'le', b'mot', b'algorithme', b'vient', b'du', b'nom', b'latinis\\xc3\\xa9', b'du', b'math\\xc3\\xa9maticien', b'perse', b'al', b'khawarizmi', b'le', b'domaine', b'qui', b'\\xc3\\xa9tudie', b'les', b'algorithmes', b'est', b'appel\\xc3\\xa9', b'algorithmique', b'on', b'retrouve', b'aujourd', b'hui', b'des', b'algorithmes', b'dans', b'de', b'nombreuses', b'applications', b'telles', b'que', b'le', b'fonctionnement', b'des', b'ordinateurs', b'la', b'cryptographie', b'le', b'routage', b'informations', b'la', b'planification', b'et', b'utilisation', b'optimale', b'des', b'ressources', b'le', b'traitement', b'images', b'le', b'traitement', b'de', b'texte', b'la', b'bio', b'informatique', b'etc', b'd\\xc3\\xa9finition', b'g\\xc3\\xa9n\\xc3\\xa9rale', b'un', b'algorithme', b'est', b'une', b'm\\xc3\\xa9thode', b'g\\xc3\\xa9n\\xc3\\xa9rale', b'pour', b'r\\xc3\\xa9soudre', b'un', b'ensemble', b'de', b'probl\\xc3\\xa8mes', b'il', b'est', b'dit', b'correct', b'lorsque', b'pour', b'chaque', b'instance', b'du', b'probl\\xc3\\xa8me', b'il', b'se', b'termine', b'en', b'produisant', b'la', b'bonne', b'sortie', b'est', b'dire', b'qu', b'il', b'r\\xc3\\xa9sout', b'le', b'probl\\xc3\\xa8me', b'pos\\xc3\\xa9', b'on', b'mesure', b'efficacit\\xc3\\xa9', b'un', b'algorithme', b'notamment', b'par', b'sa', b'dur\\xc3\\xa9e', b'de', b'calcul', b'par', b'sa', b'consommation', b'de', b'm\\xc3\\xa9moire', b'ram', b'en', b'partant', b'du', b'principe', b'que', b'chaque', b'instruction', b'un', b'temps', b'ex\\xc3\\xa9cution', b'constant', b'par', b'la', b'pr\\xc3\\xa9cision', b'des', b'r\\xc3\\xa9sultats', b'obtenus', b'par', b'exemple', b'avec', b'utilisation', b'de', b'm\\xc3\\xa9thodes', b'probabilistes', b'comme', b'la', b'm\\xc3\\xa9thode', b'de', b'monte', b'carlo', b'sa', b'scalabilit\\xc3\\xa9', b'son', b'aptitude', b'\\xc3\\xaatre', b'efficacement', b'parall\\xc3\\xa9lis\\xc3\\xa9', b'etc', b'les', b'ordinateurs', b'sur', b'lesquels', b'ex\\xc3\\xa9cutent', b'ces', b'algorithmes', b'ne', b'sont', b'pas', b'infiniment', b'rapides', b'le', b'temps', b'de', b'machine', b'reste', b'une', b'ressource', b'limit\\xc3\\xa9e', b'malgr\\xc3\\xa9', b'une', b'augmentation', b'constante', b'des', b'performances', b'des', b'ordinateurs', b'un', b'algorithme', b'sera', b'donc', b'dit', b'performant', b'il', b'utilise', b'avec', b'parcimonie', b'les', b'ressources', b'dont', b'il', b'dispose', b'est', b'dire', b'le', b'temps', b'cpu', b'la', b'm\\xc3\\xa9moire', b'ram', b'et', b'aspect', b'objet', b'de', b'recherches', b'r\\xc3\\xa9centes', b'la', b'consommation', b'\\xc3\\xa9lectrique', b'analyse', b'de', b'la', b'complexit\\xc3\\xa9', b'algorithmique', b'permet', b'de', b'pr\\xc3\\xa9dire', b'\\xc3\\xa9volution', b'en', b'temps', b'calcul', b'n\\xc3\\xa9cessaire', b'pour', b'amener', b'un', b'algorithme', b'son', b'terme', b'en', b'fonction', b'de', b'la', b'quantit\\xc3\\xa9', b'de', b'donn\\xc3\\xa9es', b'traiter', b'quelques', b'd\\xc3\\xa9finitions', b'connexes', b'donald', b'knuth', b'lista', b'les', b'cinq', b'propri\\xc3\\xa9t\\xc3\\xa9s', b'suivantes', b'comme', b'\\xc3\\xa9tant', b'les', b'pr\\xc3\\xa9requis', b'un', b'algorithme', b'finitude', b'd\\xc3\\xa9finition', b'pr\\xc3\\xa9cise', b'entr\\xc3\\xa9es', b'sorties', b'rendement', b'george', b'boolos', b'philosophe', b'et', b'math\\xc3\\xa9maticien', b'proposa', b'la', b'd\\xc3\\xa9finition', b'suivante', b'g\\xc3\\xa9rard', b'berry', b'chercheur', b'en', b'science', b'informatique', b'en', b'donne', b'la', b'd\\xc3\\xa9finition', b'grand', b'public', b'suivante', b'algorithmes', b'num\\xc3\\xa9riques', b'les', b'algorithmes', b'sont', b'des', b'objets', b'historiquement', b'd\\xc3\\xa9di\\xc3\\xa9s', b'la', b'r\\xc3\\xa9solution', b'de', b'probl\\xc3\\xa8mes', b'arithm\\xc3\\xa9tiques', b'comme', b'la', b'multiplication', b'de', b'deux', b'nombres', b'ils', b'ont', b'\\xc3\\xa9t\\xc3\\xa9', b'formalis\\xc3\\xa9s', b'bien', b'plus', b'tard', b'avec', b'av\\xc3\\xa8nement', b'de', b'la', b'logique', b'math\\xc3\\xa9matique', b'et', b'\\xc3\\xa9mergence', b'des', b'machines', b'qui', b'permettaient', b'de', b'les', b'mettre', b'en', b'\\xc5\\x93uvre', b'savoir', b'les', b'ordinateurs', b'algorithmes', b'non', b'num\\xc3\\xa9riques', b'la', b'plupart', b'des', b'algorithmes', b'ne', b'sont', b'pas', b'num\\xc3\\xa9riques', b'on', b'peut', b'distinguer', b'des', b'algorithmes', b'g\\xc3\\xa9n\\xc3\\xa9ralistes', b'qui', b'appliquent', b'toute', b'donn\\xc3\\xa9e', b'num\\xc3\\xa9rique', b'ou', b'non', b'num\\xc3\\xa9rique', b'par', b'exemple', b'les', b'algorithmes', b'li\\xc3\\xa9es', b'au', b'chiffrement', b'ou', b'qui', b'permettent', b'de', b'les', b'm\\xc3\\xa9moriser', b'ou', b'de', b'les', b'transmettre', b'des', b'algorithmes', b'd\\xc3\\xa9di\\xc3\\xa9s', b'un', b'type', b'de', b'donn\\xc3\\xa9es', b'particulier', b'par', b'exemple', b'ceux', b'li\\xc3\\xa9s', b'au', b'traitement', b'images', b'voir', b'aussi', b'algorithmes', b'dans', b'la', b'vie', b'quotidienne', b'algorithmique', b'intervient', b'dans', b'la', b'vie', b'de', b'tous', b'les', b'jours', b'une', b'recette', b'de', b'cuisine', b'peut', b'\\xc3\\xaatre', b'r\\xc3\\xa9duite', b'un', b'algorithme', b'si', b'on', b'peut', b'r\\xc3\\xa9duire', b'sa', b'sp\\xc3\\xa9cification', b'aux', b'\\xc3\\xa9l\\xc3\\xa9ments', b'constitutifs', b'des', b'entr\\xc3\\xa9es', b'les', b'ingr\\xc3\\xa9dients', b'le', b'mat\\xc3\\xa9riel', b'utilis\\xc3\\xa9', b'des', b'instructions', b'\\xc3\\xa9l\\xc3\\xa9mentaires', b'simples', b'dont', b'ex\\xc3\\xa9cution', b'am\\xc3\\xa8ne', b'au', b'r\\xc3\\xa9sultat', b'voulu', b'un', b'r\\xc3\\xa9sultat', b'le', b'plat', b'pr\\xc3\\xa9par\\xc3\\xa9', b'cependant', b'les', b'recettes', b'de', b'cuisine', b'ne', b'sont', b'en', b'g\\xc3\\xa9n\\xc3\\xa9ral', b'pas', b'pr\\xc3\\xa9sent\\xc3\\xa9es', b'rigoureusement', b'sous', b'forme', b'non', b'ambigu\\xc3\\xab', b'il', b'est', b'usage', b'employer', b'des', b'termes', b'vagues', b'laissant', b'une', b'libert\\xc3\\xa9', b'appr\\xc3\\xa9ciation', b'ex\\xc3\\xa9cutant', b'alors', b'qu', b'un', b'algorithme', b'stricto', b'sensu', b'doit', b'\\xc3\\xaatre', b'pr\\xc3\\xa9cis', b'et', b'sans', b'ambigu\\xc3\\xaft\\xc3\\xa9', b'le', b'tissage', b'surtout', b'tel', b'qu', b'il', b'\\xc3\\xa9t\\xc3\\xa9', b'automatis\\xc3\\xa9', b'par', b'le', b'm\\xc3\\xa9tier', b'jacquard', b'est', b'une', b'activit\\xc3\\xa9', b'que', b'on', b'peut', b'dire', b'algorithmique', b'un', b'casse', b't\\xc3\\xaate', b'tel', b'le', b'rubik', b'cube', b'peut', b'\\xc3\\xaatre', b'r\\xc3\\xa9solu', b'de', b'fa\\xc3\\xa7on', b'syst\\xc3\\xa9matique', b'par', b'un', b'algorithme', b'qui', b'm\\xc3\\xa9canise', b'sa', b'r\\xc3\\xa9solution', b'en', b'sport', b'ex\\xc3\\xa9cution', b'de', b's\\xc3\\xa9quences', b'r\\xc3\\xa9pondant', b'des', b'finalit\\xc3\\xa9s', b'attaque', b'de', b'd\\xc3\\xa9fense', b'de', b'progression', b'correspond', b'des', b'algorithmes', b'dans', b'un', b'sens', b'assez', b'l\\xc3\\xa2che', b'du', b'terme', b'en', b'soins', b'infirmiers', b'le', b'jugement', b'clinique', b'est', b'un', b'algorithme', b'le', b'jugement', b'clinique', b'd\\xc3\\xa9signe', b'ensemble', b'des', b'processus', b'cognitifs', b'et', b'm\\xc3\\xa9tacognitifs', b'qui', b'aboutissent', b'au', b'diagnostic', b'infirmier', b'il', b'met', b'en', b'jeu', b'des', b'processus', b'de', b'pens\\xc3\\xa9e', b'et', b'de', b'prise', b'de', b'd\\xc3\\xa9cision', b'dans', b'le', b'but', b'am\\xc3\\xa9liorer', b'\\xc3\\xa9tat', b'de', b'sant\\xc3\\xa9', b'et', b'le', b'bien', b'\\xc3\\xaatre', b'des', b'personnes', b'que', b'les', b'soignants', b'accompagnent', b'notes', b'et', b'r\\xc3\\xa9f\\xc3\\xa9rences', b'annexes', b'articles', b'connexes', b'algorithmique', b'correction', b'un', b'algorithme', b'liens', b'externes', b'qu', b'est', b'ce', b'qu', b'un', b'algorithme', b'par', b'philippe', b'flajolet', b'et', b'\\xc3\\xa9tienne', b'parizot', b'sur', b'la', b'revue', b'en', b'ligne', b'interstices', b'd\\xc3\\xa9finition', b'du', b'terme', b'algorithme', b'par', b'les', b'auteurs', b'la', b'page', b'de', b'algorithme']\n",
      "[b'aux', b'couleurs', b'du', b'moyen', b'\\xc3\\xa2ge', b'est', b'un', b'ensemble', b'de', b'musique', b'm\\xc3\\xa9di\\xc3\\xa9vale', b'et', b'renaissance', b'qui', b'interpr\\xc3\\xa8te', b'chants', b'sacr\\xc3\\xa9s', b'et', b'profanes', b'ainsi', b'que', b'des', b'pi\\xc3\\xa8ces', b'instrumentales', b'sur', b'instruments', b'anciens', b'reconstitu\\xc3\\xa9s', b'son', b'r\\xc3\\xa9pertoire', b'va', b'du', b'au', b'discographie', b'comme', b'unicorne', b'sui', b'alle', b'psalite', b'par', b'monts', b'et', b'par', b'vaux', b'en', b'honneste', b'compainie', b'ciotat', b'joyosa', b'envol', b'du', b'ph\\xc3\\xa9nix', b'compilation', b'des', b'albums', b'alle', b'psallite', b'et', b'par', b'monts', b'et', b'par', b'vaux', b'terres', b'en', b'sienne', b'voir', b'aussi', b'liens', b'externes', b'le', b'site', b'officiel', b'le', b'blog', b'compl\\xc3\\xa9mentaire', b'au', b'site', b'officiel', b'cat\\xc3\\xa9gorie', b'groupe', b'de', b'musique', b'm\\xc3\\xa9di\\xc3\\xa9vale']\n"
     ]
    }
   ],
   "source": [
    "i=0\n",
    "for vec in wiki.get_texts():\n",
    "    print(vec)\n",
    "    i = i+1\n",
    "    if i >10 :\n",
    "        break;"
   ]
  },
  {
   "cell_type": "code",
   "execution_count": 41,
   "metadata": {},
   "outputs": [
    {
     "ename": "KeyboardInterrupt",
     "evalue": "",
     "output_type": "error",
     "traceback": [
      "\u001b[1;31m---------------------------------------------------------------------------\u001b[0m",
      "\u001b[1;31mKeyboardInterrupt\u001b[0m                         Traceback (most recent call last)",
      "\u001b[1;32m<ipython-input-41-c9ccbec13f59>\u001b[0m in \u001b[0;36m<module>\u001b[1;34m()\u001b[0m\n\u001b[0;32m      1\u001b[0m \u001b[1;32mfrom\u001b[0m \u001b[0mgensim\u001b[0m\u001b[1;33m.\u001b[0m\u001b[0mcorpora\u001b[0m\u001b[1;33m.\u001b[0m\u001b[0mmmcorpus\u001b[0m \u001b[1;32mimport\u001b[0m \u001b[0mMmCorpus\u001b[0m\u001b[1;33m\u001b[0m\u001b[0m\n\u001b[1;32m----> 2\u001b[1;33m \u001b[0mMmCorpus\u001b[0m\u001b[1;33m.\u001b[0m\u001b[0msave_corpus\u001b[0m\u001b[1;33m(\u001b[0m\u001b[1;34m'file.mm'\u001b[0m\u001b[1;33m,\u001b[0m \u001b[0mwiki\u001b[0m\u001b[1;33m)\u001b[0m\u001b[1;33m\u001b[0m\u001b[0m\n\u001b[0m",
      "\u001b[1;32mC:\\Anaconda3\\lib\\site-packages\\gensim\\corpora\\mmcorpus.py\u001b[0m in \u001b[0;36msave_corpus\u001b[1;34m(fname, corpus, id2word, progress_cnt, metadata)\u001b[0m\n\u001b[0;32m     47\u001b[0m         \u001b[0mlogger\u001b[0m\u001b[1;33m.\u001b[0m\u001b[0minfo\u001b[0m\u001b[1;33m(\u001b[0m\u001b[1;34m\"storing corpus in Matrix Market format to %s\"\u001b[0m \u001b[1;33m%\u001b[0m \u001b[0mfname\u001b[0m\u001b[1;33m)\u001b[0m\u001b[1;33m\u001b[0m\u001b[0m\n\u001b[0;32m     48\u001b[0m         \u001b[0mnum_terms\u001b[0m \u001b[1;33m=\u001b[0m \u001b[0mlen\u001b[0m\u001b[1;33m(\u001b[0m\u001b[0mid2word\u001b[0m\u001b[1;33m)\u001b[0m \u001b[1;32mif\u001b[0m \u001b[0mid2word\u001b[0m \u001b[1;32mis\u001b[0m \u001b[1;32mnot\u001b[0m \u001b[1;32mNone\u001b[0m \u001b[1;32melse\u001b[0m \u001b[1;32mNone\u001b[0m\u001b[1;33m\u001b[0m\u001b[0m\n\u001b[1;32m---> 49\u001b[1;33m         \u001b[1;32mreturn\u001b[0m \u001b[0mmatutils\u001b[0m\u001b[1;33m.\u001b[0m\u001b[0mMmWriter\u001b[0m\u001b[1;33m.\u001b[0m\u001b[0mwrite_corpus\u001b[0m\u001b[1;33m(\u001b[0m\u001b[0mfname\u001b[0m\u001b[1;33m,\u001b[0m \u001b[0mcorpus\u001b[0m\u001b[1;33m,\u001b[0m \u001b[0mnum_terms\u001b[0m\u001b[1;33m=\u001b[0m\u001b[0mnum_terms\u001b[0m\u001b[1;33m,\u001b[0m \u001b[0mindex\u001b[0m\u001b[1;33m=\u001b[0m\u001b[1;32mTrue\u001b[0m\u001b[1;33m,\u001b[0m \u001b[0mprogress_cnt\u001b[0m\u001b[1;33m=\u001b[0m\u001b[0mprogress_cnt\u001b[0m\u001b[1;33m,\u001b[0m \u001b[0mmetadata\u001b[0m\u001b[1;33m=\u001b[0m\u001b[0mmetadata\u001b[0m\u001b[1;33m)\u001b[0m\u001b[1;33m\u001b[0m\u001b[0m\n\u001b[0m\u001b[0;32m     50\u001b[0m \u001b[1;33m\u001b[0m\u001b[0m\n\u001b[0;32m     51\u001b[0m \u001b[1;31m# endclass MmCorpus\u001b[0m\u001b[1;33m\u001b[0m\u001b[1;33m\u001b[0m\u001b[0m\n",
      "\u001b[1;32mC:\\Anaconda3\\lib\\site-packages\\gensim\\matutils.py\u001b[0m in \u001b[0;36mwrite_corpus\u001b[1;34m(fname, corpus, progress_cnt, index, num_terms, metadata)\u001b[0m\n\u001b[0;32m    629\u001b[0m                 \u001b[0mlogger\u001b[0m\u001b[1;33m.\u001b[0m\u001b[0minfo\u001b[0m\u001b[1;33m(\u001b[0m\u001b[1;34m\"PROGRESS: saving document #%i\"\u001b[0m \u001b[1;33m%\u001b[0m \u001b[0mdocno\u001b[0m\u001b[1;33m)\u001b[0m\u001b[1;33m\u001b[0m\u001b[0m\n\u001b[0;32m    630\u001b[0m             \u001b[1;32mif\u001b[0m \u001b[0mindex\u001b[0m\u001b[1;33m:\u001b[0m\u001b[1;33m\u001b[0m\u001b[0m\n\u001b[1;32m--> 631\u001b[1;33m                 \u001b[0mposnow\u001b[0m \u001b[1;33m=\u001b[0m \u001b[0mmw\u001b[0m\u001b[1;33m.\u001b[0m\u001b[0mfout\u001b[0m\u001b[1;33m.\u001b[0m\u001b[0mtell\u001b[0m\u001b[1;33m(\u001b[0m\u001b[1;33m)\u001b[0m\u001b[1;33m\u001b[0m\u001b[0m\n\u001b[0m\u001b[0;32m    632\u001b[0m                 \u001b[1;32mif\u001b[0m \u001b[0mposnow\u001b[0m \u001b[1;33m==\u001b[0m \u001b[0mposlast\u001b[0m\u001b[1;33m:\u001b[0m\u001b[1;33m\u001b[0m\u001b[0m\n\u001b[0;32m    633\u001b[0m                     \u001b[0moffsets\u001b[0m\u001b[1;33m[\u001b[0m\u001b[1;33m-\u001b[0m\u001b[1;36m1\u001b[0m\u001b[1;33m]\u001b[0m \u001b[1;33m=\u001b[0m \u001b[1;33m-\u001b[0m\u001b[1;36m1\u001b[0m\u001b[1;33m\u001b[0m\u001b[0m\n",
      "\u001b[1;31mKeyboardInterrupt\u001b[0m: "
     ]
    }
   ],
   "source": [
    "from gensim.corpora.mmcorpus import MmCorpus\n",
    "MmCorpus.save_corpus('file.mm', wiki)"
   ]
  },
  {
   "cell_type": "code",
   "execution_count": null,
   "metadata": {
    "collapsed": true
   },
   "outputs": [],
   "source": []
  }
 ],
 "metadata": {
  "anaconda-cloud": {},
  "kernelspec": {
   "display_name": "Python 3",
   "language": "python",
   "name": "python3"
  },
  "language_info": {
   "codemirror_mode": {
    "name": "ipython",
    "version": 3
   },
   "file_extension": ".py",
   "mimetype": "text/x-python",
   "name": "python",
   "nbconvert_exporter": "python",
   "pygments_lexer": "ipython3",
   "version": "3.8.3"
  }
 },
 "nbformat": 4,
 "nbformat_minor": 1
}
